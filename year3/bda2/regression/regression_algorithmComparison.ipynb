{
 "cells": [
  {
   "cell_type": "markdown",
   "id": "4fa3e3ee-7303-4534-a1d8-f821901a2c38",
   "metadata": {},
   "source": [
    "# Comparison of Regression Algorithms\n",
    "## Overview\n",
    "A machine learning based regression algorithm determines the parameters of a functional in a way that the data is approximated w.r.t. to an loss function. The loss is minimized in a way, that the prediction error $e$ is as small as possible according to a given loss function, e.g.\n",
    "\n",
    "$\\sum_{i=1}^{n} e_i^2;\\;\\textrm{Sum of squared prediction errors}\\\\\n",
    "\\text{MSE}(y, \\hat{y}) = \\frac{1}{n_\\text{samples}} \\sum_{i=0}^{n_\\text{samples} - 1} (y_i - \\hat{y}_i)^2.\\\\\n",
    "\\sum_{i=1}^{n} |e_i|;\\;\\textrm{Sum of absolute prediction errors}\\\\\n",
    "\\text{MAE}(y, \\hat{y}) = \\frac{1}{n_{\\text{samples}}} \\sum_{i=0}^{n_{\\text{samples}}-1} \\left| y_i - \\hat{y}_i \\right|.\\\\\n",
    "$\n",
    "\n",
    "To estimate the $k$-parameters $\\beta$ of the function, a dataset of $M$ observations are taken.\n",
    "\n",
    "$ N := \\operatorname{card}(M) = \\begin{cases}N<k;\\;\\textrm{Parameters cannot be estimated}\\\\\n",
    "N=k;\\;\\textrm{Parameters can be definitely calculated}\\\\\n",
    "N>k;\\;\\textrm{Parameters can be calculated as overdetermined system}\\end{cases}$\n",
    "\n",
    "## Simple Case: Linear Regression\n",
    "Linear Regression finds the best matching line (or hyperplane in higher dimensional feature space).\n",
    "$Y := \\{ y_0, \\ldots , y_{n-1}\\};\\;\\textrm{Responses}\\\\\n",
    "X := \\{ X_0, \\ldots , X_{n-1}\\};\\;\\textrm{Vectors of explanatory variables}\\\\\n",
    "F_i := \\{ y_i, x_{i0}, \\ldots , x_{im-1}\\};\\;\\textrm{Feature Vector}\\\\ \n",
    "\\Rightarrow \\;\\textrm{Prediction Function with error term}\\\\\n",
    "y_i = \\alpha_0 + x_{i0}\\beta_0 + x_{i1}\\beta_1 + \\ldots + x_{im-1} \\beta_{m-1} + \\varepsilon_i$"
   ]
  },
  {
   "cell_type": "markdown",
   "id": "c36d0065-6519-4853-81a9-3f1e53609fc9",
   "metadata": {},
   "source": [
    "## Working example\n",
    "We compare multiple regression algorithms for a given set of observations"
   ]
  },
  {
   "cell_type": "code",
   "execution_count": 1,
   "id": "4200eaac-a8f4-4742-8534-b0930a6c6793",
   "metadata": {},
   "outputs": [],
   "source": [
    "import numpy as np\n",
    "import pandas as pd\n",
    "import random\n",
    "import matplotlib.pyplot as plt\n",
    "from sklearn.pipeline import make_pipeline\n",
    "from sklearn.preprocessing import PolynomialFeatures\n",
    "from sklearn.linear_model import LinearRegression\n",
    "from sklearn.model_selection import cross_val_score\n",
    "from sklearn.tree import DecisionTreeRegressor\n",
    "from sklearn import tree\n",
    "from sklearn.base import BaseEstimator, TransformerMixin\n",
    "from sklearn.metrics import mean_absolute_error\n",
    "from sklearn.metrics import mean_squared_error\n",
    "\n",
    "from sklearn.model_selection import cross_validate\n",
    "from sklearn.model_selection import train_test_split\n",
    "\n",
    "never = False"
   ]
  },
  {
   "cell_type": "code",
   "execution_count": 2,
   "id": "91311f15-b4ea-4238-85ae-85d01d8a6232",
   "metadata": {},
   "outputs": [],
   "source": [
    "import seaborn as sns\n",
    "sns.set()"
   ]
  },
  {
   "cell_type": "markdown",
   "id": "a24cfed8-a4bf-43ed-9586-7060f9cf1d74",
   "metadata": {},
   "source": [
    "## Create the input data\n",
    "This creates a set of observations "
   ]
  },
  {
   "cell_type": "code",
   "execution_count": 3,
   "id": "7bf7056f-a7a7-4f15-b1de-3038151102c7",
   "metadata": {},
   "outputs": [],
   "source": [
    "def true_func(X):\n",
    "    return np.cos(1.5 * np.pi * X)"
   ]
  },
  {
   "cell_type": "code",
   "execution_count": 4,
   "id": "2bc0c2da-0e0a-4bdc-b5b0-7acb1ffd3aee",
   "metadata": {},
   "outputs": [],
   "source": [
    "def sampled_func(X):\n",
    "    val = true_func(X)\n",
    "    return val+(0.5*(random.random()-0.25)*val)"
   ]
  },
  {
   "cell_type": "code",
   "execution_count": 5,
   "id": "caf16857-e464-4f56-85e9-5c0ea84e2627",
   "metadata": {},
   "outputs": [],
   "source": [
    "np.random.seed(0)\n",
    "\n",
    "n_samples = 100\n",
    "X = np.sort(10*np.random.rand(n_samples)-5, axis=0)\n",
    "X = X.reshape(n_samples, 1)\n",
    "y_true = true_func(X)\n",
    "y_sampled = sampled_func(X).ravel()\n"
   ]
  },
  {
   "cell_type": "markdown",
   "id": "88ddb042-695f-42c3-bba5-07372e286a3c",
   "metadata": {},
   "source": [
    "### Shuffle the data in order to make the training set contain values from the complete definition range\n",
    "The process of splitting the dataset into test and training set must ensure, that the test set is containing elements from the complete value range of observations. Hence, a simple percentage split of the (sorted) observations is not sufficient. Instead, data must be shuffled first"
   ]
  },
  {
   "cell_type": "code",
   "execution_count": 6,
   "id": "a9f21bd7-65f3-490f-ad62-9bbdaa3339cb",
   "metadata": {},
   "outputs": [
    {
     "name": "stdout",
     "output_type": "stream",
     "text": [
      "[[ 2.91725038]\n",
      " [ 0.2889492 ]\n",
      " [ 1.56329589]\n",
      " [-0.62412789]\n",
      " [-0.62968046]\n",
      " [-1.31274829]\n",
      " [-3.38690482]\n",
      " [ 2.74233689]\n",
      " [-4.03901592]\n",
      " [-4.95304524]\n",
      " [-3.68202138]\n",
      " [-2.34610509]\n",
      " [ 1.7063787 ]\n",
      " [-2.03859802]\n",
      " [ 3.91773001]\n",
      " [-4.60812208]\n",
      " [ 1.97631196]\n",
      " [ 2.15189366]\n",
      " [-3.97955189]\n",
      " [-2.17193037]]\n",
      "(20,)\n"
     ]
    }
   ],
   "source": [
    "X_train, X_test, y_train, y_test = train_test_split(X, y_sampled, test_size=0.20, random_state=42)\n",
    "#X_train, X_test, y_train, y_test = train_test_split(X, y_sampled, test_size=0.20)\n",
    "print(X_test)\n",
    "print(y_test.shape)"
   ]
  },
  {
   "cell_type": "markdown",
   "id": "ff16e730-766b-42b2-b424-62c135944d73",
   "metadata": {},
   "source": [
    "### Sort the test set again, to have proper drawing in the visualizations"
   ]
  },
  {
   "cell_type": "code",
   "execution_count": 7,
   "id": "0984f057-fc41-4a2e-8c95-612eeec0074c",
   "metadata": {},
   "outputs": [
    {
     "name": "stdout",
     "output_type": "stream",
     "text": [
      "[[ 9]\n",
      " [15]\n",
      " [ 8]\n",
      " [18]\n",
      " [10]\n",
      " [ 6]\n",
      " [11]\n",
      " [19]\n",
      " [13]\n",
      " [ 5]\n",
      " [ 4]\n",
      " [ 3]\n",
      " [ 1]\n",
      " [ 2]\n",
      " [12]\n",
      " [16]\n",
      " [17]\n",
      " [ 7]\n",
      " [ 0]\n",
      " [14]]\n",
      "[[-4.95304524]\n",
      " [-4.60812208]\n",
      " [-4.03901592]\n",
      " [-3.97955189]\n",
      " [-3.68202138]\n",
      " [-3.38690482]\n",
      " [-2.34610509]\n",
      " [-2.17193037]\n",
      " [-2.03859802]\n",
      " [-1.31274829]\n",
      " [-0.62968046]\n",
      " [-0.62412789]\n",
      " [ 0.2889492 ]\n",
      " [ 1.56329589]\n",
      " [ 1.7063787 ]\n",
      " [ 1.97631196]\n",
      " [ 2.15189366]\n",
      " [ 2.74233689]\n",
      " [ 2.91725038]\n",
      " [ 3.91773001]]\n",
      "[ 9 15  8 18 10  6 11 19 13  5  4  3  1  2 12 16 17  7  0 14]\n",
      "[-0.20230107213553702, -0.8869220004515714, 0.90624351819337, 0.9175034053167765, 0.0666393504044695, -0.8925622929970456, 0.05544426382856053, -0.6354301259048637, -0.906573632353251, 0.9174459878847154, -0.9078139356439201, -0.9033210991935573, 0.191392488074399, 0.431471836418558, -0.17149537489618039, -0.916042498463447, -0.6955566676424139, 0.8637935901082063, 0.350405897168072, 0.8533701201477835]\n"
     ]
    }
   ],
   "source": [
    "idx = np.argsort(X_test, axis=0)\n",
    "print(idx)\n",
    "X_test = np.sort(X_test, axis=0)\n",
    "print(X_test)\n",
    "print(idx.flatten())\n",
    "y_test = [y_test[i][0] for i in idx]\n",
    "print(y_test)"
   ]
  },
  {
   "cell_type": "code",
   "execution_count": 8,
   "id": "6611eb3a-b57d-4177-92bc-57600e579c0a",
   "metadata": {},
   "outputs": [
    {
     "data": {
      "text/plain": [
       "<seaborn.axisgrid.FacetGrid at 0x7f0c98ea9910>"
      ]
     },
     "execution_count": 8,
     "metadata": {},
     "output_type": "execute_result"
    },
    {
     "data": {
      "image/png": "[encoded data removed]",
      "text/plain": [
       "<Figure size 500x500 with 1 Axes>"
      ]
     },
     "metadata": {},
     "output_type": "display_data"
    }
   ],
   "source": [
    "df = pd.DataFrame(X)\n",
    "df[\"y_s\"] = y_sampled\n",
    "df = df.rename(columns={0: \"x\"})\n",
    "sns.lmplot(data = df, x =\"x\", y=\"y_s\")"
   ]
  },
  {
   "cell_type": "code",
   "execution_count": 9,
   "id": "4f55bc9d-55c6-4ed0-9659-495d8bbd2b71",
   "metadata": {},
   "outputs": [
    {
     "data": {
      "application/vnd.plotly.v1+json": {
       "config": {
        "plotlyServerURL": "https://plot.ly"
       },
       "data": [
        {
         "marker": {
          "color": "red"
         },
         "mode": "markers",
         "type": "scatter",
         "x": [
          0.48813503927324753,
          3.379449074988038,
          -2.896174389261591,
          -0.8533806000947646,
          1.5310832546539839,
          -3.8127228104575597,
          -1.1655848117422227,
          4.764594650133958,
          -4.060594892415583,
          1.6741037996368169,
          -4.0289872420693875,
          -0.4384966778345145,
          3.2099322984793517,
          -2.467083974602179,
          4.437480785146242,
          -4.397745283707302,
          1.176354970758771,
          1.1693399687475692,
          -1.8201682060602398,
          -3.798034387868311,
          -0.33689227143693756,
          -1.8457164907581616,
          -4.289639418021131,
          4.636627605010293,
          -2.5557440799839726,
          -3.618170486513862,
          2.7815675094985046,
          -2.911232439051653,
          1.027633760716439,
          -3.896248588356949,
          -3.034176383199465,
          -4.797816025596743,
          -3.710737023451467,
          -1.362892290573774,
          -4.1287070029845925,
          2.163272041185655,
          -4.358525036512156,
          1.1209572272242143,
          -1.8143104754867636,
          3.700121482468191,
          0.6660145420657511,
          4.883738380592263,
          0.4488318299689684,
          -0.7634520066109527,
          -0.31348798352298424,
          1.3992102132752384,
          -0.6139848653767963,
          1.4589411306665614,
          0.8651293481008313,
          4.767610881903371,
          2.3926357939830165,
          -0.8573700548533001,
          0.6843394886864846,
          -0.38520637747068154,
          4.786183422327641,
          0.6804456109393229,
          1.924721193700199,
          -2.105939070527989,
          4.446689170495839,
          0.7019677041787968,
          1.0484551974504601,
          2.9915856421672355,
          -1.40492099426214,
          -2.35444387895373,
          -4.812101995636448,
          0.2324805346669967,
          -3.4103041635448026,
          -4.798924538125064,
          -3.1680863799288317,
          3.32619845547938,
          4.25596638292661,
          1.818202991034834,
          3.2894002921736316,
          2.805291762864554,
          -3.566467125909536,
          0.7594649555617927,
          1.6676671544566766,
          -3.817255741310668,
          4.292961975762141,
          0.21848321750071698
         ],
         "y": [
          -0.6143535313290215,
          -0.9000990919977484,
          0.4332167551761442,
          -0.5874061665328514,
          0.549685018069313,
          0.5855185662032499,
          0.6484651566180188,
          -0.8253584438129918,
          0.8844546403313978,
          -0.03229868381098745,
          0.9131929911410002,
          -0.4383372002016275,
          -0.770268613364911,
          0.5432738613898138,
          -0.4344502470148324,
          -0.2755149867977508,
          0.680864843391054,
          0.6599557114978182,
          -0.6101316124197568,
          0.5348777205256164,
          -0.015458532485710315,
          -0.6887006294822239,
          0.18845865248748675,
          -0.9125596105402914,
          0.7986936218834125,
          -0.2088280247190597,
          0.7899267362726469,
          0.3744399881212074,
          0.11969611630282942,
          0.8137856990918325,
          -0.14781387949179275,
          -0.7512718553746767,
          0.19005899523167646,
          0.9128515000608995,
          0.7573691523664525,
          -0.662139367210163,
          -0.10917046678473769,
          0.4974198351657633,
          -0.5908285785665124,
          0.14471925944869637,
          -0.9217751689739828,
          -0.4801274332975997,
          -0.4772946681548537,
          -0.8275565149352919,
          0.08607830740074253,
          0.8777184794945754,
          -0.8935197343588184,
          0.7649617363875025,
          -0.5471965807310881,
          -0.8194414165236925,
          0.25425725264344284,
          -0.5739482142691144,
          -0.9185847477712582,
          -0.22308796833643507,
          -0.7794069309379541,
          -0.9198370322626952,
          -0.8643856409488557,
          -0.8092793933954915,
          -0.46930808904193766,
          -0.9090546762188104,
          0.20865462938467327,
          0.036540573091345493,
          0.8698238406037805,
          0.09154846716866769,
          -0.7136407194681118,
          0.4217763779218802,
          -0.8618052472685541,
          -0.7484715914079441,
          -0.6561426070310598,
          -0.9212585529510114,
          0.3286696025484323,
          -0.6037067174822098,
          -0.9020956689311181,
          0.7319938515600086,
          -0.41925125097878263,
          -0.8350379563256597,
          -0.004345886413372441,
          0.6005913386930608,
          0.17430851777523038,
          0.47488298168944854
         ]
        },
        {
         "marker": {
          "color": "blue"
         },
         "mode": "markers",
         "type": "scatter",
         "x": [
          -4.953045238074529,
          -4.608122077456793,
          -4.039015921060369,
          -3.9795518925197193,
          -3.6820213759560785,
          -3.386904821150037,
          -2.346105090605546,
          -2.171930374235904,
          -2.0385980247785507,
          -1.3127482933903591,
          -0.6296804620065855,
          -0.6241278873730751,
          0.28894919752904435,
          1.5632958946527342,
          1.706378696181594,
          1.9763119592726488,
          2.151893663724195,
          2.7423368943421664,
          2.917250380826646,
          3.917730007820797
         ],
         "y": [
          -0.20230107213553702,
          -0.8869220004515714,
          0.90624351819337,
          0.9175034053167765,
          0.0666393504044695,
          -0.8925622929970456,
          0.05544426382856053,
          -0.6354301259048637,
          -0.906573632353251,
          0.9174459878847154,
          -0.9078139356439201,
          -0.9033210991935573,
          0.191392488074399,
          0.431471836418558,
          -0.17149537489618039,
          -0.916042498463447,
          -0.6955566676424139,
          0.8637935901082063,
          0.350405897168072,
          0.8533701201477835
         ]
        }
       ],
       "layout": {
        "template": {
         "data": {
          "bar": [
           {
            "error_x": {
             "color": "#2a3f5f"
            },
            "error_y": {
             "color": "#2a3f5f"
            },
            "marker": {
             "line": {
              "color": "#E5ECF6",
              "width": 0.5
             },
             "pattern": {
              "fillmode": "overlay",
              "size": 10,
              "solidity": 0.2
             }
            },
            "type": "bar"
           }
          ],
          "barpolar": [
           {
            "marker": {
             "line": {
              "color": "#E5ECF6",
              "width": 0.5
             },
             "pattern": {
              "fillmode": "overlay",
              "size": 10,
              "solidity": 0.2
             }
            },
            "type": "barpolar"
           }
          ],
          "carpet": [
           {
            "aaxis": {
             "endlinecolor": "#2a3f5f",
             "gridcolor": "white",
             "linecolor": "white",
             "minorgridcolor": "white",
             "startlinecolor": "#2a3f5f"
            },
            "baxis": {
             "endlinecolor": "#2a3f5f",
             "gridcolor": "white",
             "linecolor": "white",
             "minorgridcolor": "white",
             "startlinecolor": "#2a3f5f"
            },
            "type": "carpet"
           }
          ],
          "choropleth": [
           {
            "colorbar": {
             "outlinewidth": 0,
             "ticks": ""
            },
            "type": "choropleth"
           }
          ],
          "contour": [
           {
            "colorbar": {
             "outlinewidth": 0,
             "ticks": ""
            },
            "colorscale": [
             [
              0,
              "#0d0887"
             ],
             [
              0.1111111111111111,
              "#46039f"
             ],
             [
              0.2222222222222222,
              "#7201a8"
             ],
             [
              0.3333333333333333,
              "#9c179e"
             ],
             [
              0.4444444444444444,
              "#bd3786"
             ],
             [
              0.5555555555555556,
              "#d8576b"
             ],
             [
              0.6666666666666666,
              "#ed7953"
             ],
             [
              0.7777777777777778,
              "#fb9f3a"
             ],
             [
              0.8888888888888888,
              "#fdca26"
             ],
             [
              1,
              "#f0f921"
             ]
            ],
            "type": "contour"
           }
          ],
          "contourcarpet": [
           {
            "colorbar": {
             "outlinewidth": 0,
             "ticks": ""
            },
            "type": "contourcarpet"
           }
          ],
          "heatmap": [
           {
            "colorbar": {
             "outlinewidth": 0,
             "ticks": ""
            },
            "colorscale": [
             [
              0,
              "#0d0887"
             ],
             [
              0.1111111111111111,
              "#46039f"
             ],
             [
              0.2222222222222222,
              "#7201a8"
             ],
             [
              0.3333333333333333,
              "#9c179e"
             ],
             [
              0.4444444444444444,
              "#bd3786"
             ],
             [
              0.5555555555555556,
              "#d8576b"
             ],
             [
              0.6666666666666666,
              "#ed7953"
             ],
             [
              0.7777777777777778,
              "#fb9f3a"
             ],
             [
              0.8888888888888888,
              "#fdca26"
             ],
             [
              1,
              "#f0f921"
             ]
            ],
            "type": "heatmap"
           }
          ],
          "heatmapgl": [
           {
            "colorbar": {
             "outlinewidth": 0,
             "ticks": ""
            },
            "colorscale": [
             [
              0,
              "#0d0887"
             ],
             [
              0.1111111111111111,
              "#46039f"
             ],
             [
              0.2222222222222222,
              "#7201a8"
             ],
             [
              0.3333333333333333,
              "#9c179e"
             ],
             [
              0.4444444444444444,
              "#bd3786"
             ],
             [
              0.5555555555555556,
              "#d8576b"
             ],
             [
              0.6666666666666666,
              "#ed7953"
             ],
             [
              0.7777777777777778,
              "#fb9f3a"
             ],
             [
              0.8888888888888888,
              "#fdca26"
             ],
             [
              1,
              "#f0f921"
             ]
            ],
            "type": "heatmapgl"
           }
          ],
          "histogram": [
           {
            "marker": {
             "pattern": {
              "fillmode": "overlay",
              "size": 10,
              "solidity": 0.2
             }
            },
            "type": "histogram"
           }
          ],
          "histogram2d": [
           {
            "colorbar": {
             "outlinewidth": 0,
             "ticks": ""
            },
            "colorscale": [
             [
              0,
              "#0d0887"
             ],
             [
              0.1111111111111111,
              "#46039f"
             ],
             [
              0.2222222222222222,
              "#7201a8"
             ],
             [
              0.3333333333333333,
              "#9c179e"
             ],
             [
              0.4444444444444444,
              "#bd3786"
             ],
             [
              0.5555555555555556,
              "#d8576b"
             ],
             [
              0.6666666666666666,
              "#ed7953"
             ],
             [
              0.7777777777777778,
              "#fb9f3a"
             ],
             [
              0.8888888888888888,
              "#fdca26"
             ],
             [
              1,
              "#f0f921"
             ]
            ],
            "type": "histogram2d"
           }
          ],
          "histogram2dcontour": [
           {
            "colorbar": {
             "outlinewidth": 0,
             "ticks": ""
            },
            "colorscale": [
             [
              0,
              "#0d0887"
             ],
             [
              0.1111111111111111,
              "#46039f"
             ],
             [
              0.2222222222222222,
              "#7201a8"
             ],
             [
              0.3333333333333333,
              "#9c179e"
             ],
             [
              0.4444444444444444,
              "#bd3786"
             ],
             [
              0.5555555555555556,
              "#d8576b"
             ],
             [
              0.6666666666666666,
              "#ed7953"
             ],
             [
              0.7777777777777778,
              "#fb9f3a"
             ],
             [
              0.8888888888888888,
              "#fdca26"
             ],
             [
              1,
              "#f0f921"
             ]
            ],
            "type": "histogram2dcontour"
           }
          ],
          "mesh3d": [
           {
            "colorbar": {
             "outlinewidth": 0,
             "ticks": ""
            },
            "type": "mesh3d"
           }
          ],
          "parcoords": [
           {
            "line": {
             "colorbar": {
              "outlinewidth": 0,
              "ticks": ""
             }
            },
            "type": "parcoords"
           }
          ],
          "pie": [
           {
            "automargin": true,
            "type": "pie"
           }
          ],
          "scatter": [
           {
            "fillpattern": {
             "fillmode": "overlay",
             "size": 10,
             "solidity": 0.2
            },
            "type": "scatter"
           }
          ],
          "scatter3d": [
           {
            "line": {
             "colorbar": {
              "outlinewidth": 0,
              "ticks": ""
             }
            },
            "marker": {
             "colorbar": {
              "outlinewidth": 0,
              "ticks": ""
             }
            },
            "type": "scatter3d"
           }
          ],
          "scattercarpet": [
           {
            "marker": {
             "colorbar": {
              "outlinewidth": 0,
              "ticks": ""
             }
            },
            "type": "scattercarpet"
           }
          ],
          "scattergeo": [
           {
            "marker": {
             "colorbar": {
              "outlinewidth": 0,
              "ticks": ""
             }
            },
            "type": "scattergeo"
           }
          ],
          "scattergl": [
           {
            "marker": {
             "colorbar": {
              "outlinewidth": 0,
              "ticks": ""
             }
            },
            "type": "scattergl"
           }
          ],
          "scattermapbox": [
           {
            "marker": {
             "colorbar": {
              "outlinewidth": 0,
              "ticks": ""
             }
            },
            "type": "scattermapbox"
           }
          ],
          "scatterpolar": [
           {
            "marker": {
             "colorbar": {
              "outlinewidth": 0,
              "ticks": ""
             }
            },
            "type": "scatterpolar"
           }
          ],
          "scatterpolargl": [
           {
            "marker": {
             "colorbar": {
              "outlinewidth": 0,
              "ticks": ""
             }
            },
            "type": "scatterpolargl"
           }
          ],
          "scatterternary": [
           {
            "marker": {
             "colorbar": {
              "outlinewidth": 0,
              "ticks": ""
             }
            },
            "type": "scatterternary"
           }
          ],
          "surface": [
           {
            "colorbar": {
             "outlinewidth": 0,
             "ticks": ""
            },
            "colorscale": [
             [
              0,
              "#0d0887"
             ],
             [
              0.1111111111111111,
              "#46039f"
             ],
             [
              0.2222222222222222,
              "#7201a8"
             ],
             [
              0.3333333333333333,
              "#9c179e"
             ],
             [
              0.4444444444444444,
              "#bd3786"
             ],
             [
              0.5555555555555556,
              "#d8576b"
             ],
             [
              0.6666666666666666,
              "#ed7953"
             ],
             [
              0.7777777777777778,
              "#fb9f3a"
             ],
             [
              0.8888888888888888,
              "#fdca26"
             ],
             [
              1,
              "#f0f921"
             ]
            ],
            "type": "surface"
           }
          ],
          "table": [
           {
            "cells": {
             "fill": {
              "color": "#EBF0F8"
             },
             "line": {
              "color": "white"
             }
            },
            "header": {
             "fill": {
              "color": "#C8D4E3"
             },
             "line": {
              "color": "white"
             }
            },
            "type": "table"
           }
          ]
         },
         "layout": {
          "annotationdefaults": {
           "arrowcolor": "#2a3f5f",
           "arrowhead": 0,
           "arrowwidth": 1
          },
          "autotypenumbers": "strict",
          "coloraxis": {
           "colorbar": {
            "outlinewidth": 0,
            "ticks": ""
           }
          },
          "colorscale": {
           "diverging": [
            [
             0,
             "#8e0152"
            ],
            [
             0.1,
             "#c51b7d"
            ],
            [
             0.2,
             "#de77ae"
            ],
            [
             0.3,
             "#f1b6da"
            ],
            [
             0.4,
             "#fde0ef"
            ],
            [
             0.5,
             "#f7f7f7"
            ],
            [
             0.6,
             "#e6f5d0"
            ],
            [
             0.7,
             "#b8e186"
            ],
            [
             0.8,
             "#7fbc41"
            ],
            [
             0.9,
             "#4d9221"
            ],
            [
             1,
             "#276419"
            ]
           ],
           "sequential": [
            [
             0,
             "#0d0887"
            ],
            [
             0.1111111111111111,
             "#46039f"
            ],
            [
             0.2222222222222222,
             "#7201a8"
            ],
            [
             0.3333333333333333,
             "#9c179e"
            ],
            [
             0.4444444444444444,
             "#bd3786"
            ],
            [
             0.5555555555555556,
             "#d8576b"
            ],
            [
             0.6666666666666666,
             "#ed7953"
            ],
            [
             0.7777777777777778,
             "#fb9f3a"
            ],
            [
             0.8888888888888888,
             "#fdca26"
            ],
            [
             1,
             "#f0f921"
            ]
           ],
           "sequentialminus": [
            [
             0,
             "#0d0887"
            ],
            [
             0.1111111111111111,
             "#46039f"
            ],
            [
             0.2222222222222222,
             "#7201a8"
            ],
            [
             0.3333333333333333,
             "#9c179e"
            ],
            [
             0.4444444444444444,
             "#bd3786"
            ],
            [
             0.5555555555555556,
             "#d8576b"
            ],
            [
             0.6666666666666666,
             "#ed7953"
            ],
            [
             0.7777777777777778,
             "#fb9f3a"
            ],
            [
             0.8888888888888888,
             "#fdca26"
            ],
            [
             1,
             "#f0f921"
            ]
           ]
          },
          "colorway": [
           "#636efa",
           "#EF553B",
           "#00cc96",
           "#ab63fa",
           "#FFA15A",
           "#19d3f3",
           "#FF6692",
           "#B6E880",
           "#FF97FF",
           "#FECB52"
          ],
          "font": {
           "color": "#2a3f5f"
          },
          "geo": {
           "bgcolor": "white",
           "lakecolor": "white",
           "landcolor": "#E5ECF6",
           "showlakes": true,
           "showland": true,
           "subunitcolor": "white"
          },
          "hoverlabel": {
           "align": "left"
          },
          "hovermode": "closest",
          "mapbox": {
           "style": "light"
          },
          "paper_bgcolor": "white",
          "plot_bgcolor": "#E5ECF6",
          "polar": {
           "angularaxis": {
            "gridcolor": "white",
            "linecolor": "white",
            "ticks": ""
           },
           "bgcolor": "#E5ECF6",
           "radialaxis": {
            "gridcolor": "white",
            "linecolor": "white",
            "ticks": ""
           }
          },
          "scene": {
           "xaxis": {
            "backgroundcolor": "#E5ECF6",
            "gridcolor": "white",
            "gridwidth": 2,
            "linecolor": "white",
            "showbackground": true,
            "ticks": "",
            "zerolinecolor": "white"
           },
           "yaxis": {
            "backgroundcolor": "#E5ECF6",
            "gridcolor": "white",
            "gridwidth": 2,
            "linecolor": "white",
            "showbackground": true,
            "ticks": "",
            "zerolinecolor": "white"
           },
           "zaxis": {
            "backgroundcolor": "#E5ECF6",
            "gridcolor": "white",
            "gridwidth": 2,
            "linecolor": "white",
            "showbackground": true,
            "ticks": "",
            "zerolinecolor": "white"
           }
          },
          "shapedefaults": {
           "line": {
            "color": "#2a3f5f"
           }
          },
          "ternary": {
           "aaxis": {
            "gridcolor": "white",
            "linecolor": "white",
            "ticks": ""
           },
           "baxis": {
            "gridcolor": "white",
            "linecolor": "white",
            "ticks": ""
           },
           "bgcolor": "#E5ECF6",
           "caxis": {
            "gridcolor": "white",
            "linecolor": "white",
            "ticks": ""
           }
          },
          "title": {
           "x": 0.05
          },
          "xaxis": {
           "automargin": true,
           "gridcolor": "white",
           "linecolor": "white",
           "ticks": "",
           "title": {
            "standoff": 15
           },
           "zerolinecolor": "white",
           "zerolinewidth": 2
          },
          "yaxis": {
           "automargin": true,
           "gridcolor": "white",
           "linecolor": "white",
           "ticks": "",
           "title": {
            "standoff": 15
           },
           "zerolinecolor": "white",
           "zerolinewidth": 2
          }
         }
        }
       }
      }
     },
     "metadata": {},
     "output_type": "display_data"
    }
   ],
   "source": [
    "import plotly.graph_objects as go\n",
    "fig = go.Figure()\n",
    "fig.add_traces(go.Scatter(x=X_train.ravel(), y=y_train,\n",
    "                          mode = 'markers',\n",
    "                          marker = {'color' : 'red'}\n",
    "                         ))\n",
    "fig.add_traces(go.Scatter(x=X_test.ravel(), y=y_test,\n",
    "                          mode = 'markers',\n",
    "                          marker = {'color' : 'blue'}\n",
    "                         ))\n",
    "fig.show()"
   ]
  },
  {
   "cell_type": "markdown",
   "id": "4b58ff6d-f758-4e02-bc07-85206c9275bb",
   "metadata": {},
   "source": [
    "## Train a regression tree with a depth of your choice and check the prediction performance"
   ]
  },
  {
   "cell_type": "code",
   "execution_count": 10,
   "id": "73abc028-f3ac-45ff-b764-a5d7e4c70477",
   "metadata": {},
   "outputs": [],
   "source": [
    "dtree = DecisionTreeRegressor(max_depth=15)"
   ]
  },
  {
   "cell_type": "code",
   "execution_count": 11,
   "id": "92003724-bd66-493a-9eba-7540e3a6fc29",
   "metadata": {},
   "outputs": [
    {
     "data": {
      "text/html": [
       "<style>#sk-container-id-1 {color: black;}#sk-container-id-1 pre{padding: 0;}#sk-container-id-1 div.sk-toggleable {background-color: white;}#sk-container-id-1 label.sk-toggleable__label {cursor: pointer;display: block;width: 100%;margin-bottom: 0;padding: 0.3em;box-sizing: border-box;text-align: center;}#sk-container-id-1 label.sk-toggleable__label-arrow:before {content: \"▸\";float: left;margin-right: 0.25em;color: #696969;}#sk-container-id-1 label.sk-toggleable__label-arrow:hover:before {color: black;}#sk-container-id-1 div.sk-estimator:hover label.sk-toggleable__label-arrow:before {color: black;}#sk-container-id-1 div.sk-toggleable__content {max-height: 0;max-width: 0;overflow: hidden;text-align: left;background-color: #f0f8ff;}#sk-container-id-1 div.sk-toggleable__content pre {margin: 0.2em;color: black;border-radius: 0.25em;background-color: #f0f8ff;}#sk-container-id-1 input.sk-toggleable__control:checked~div.sk-toggleable__content {max-height: 200px;max-width: 100%;overflow: auto;}#sk-container-id-1 input.sk-toggleable__control:checked~label.sk-toggleable__label-arrow:before {content: \"▾\";}#sk-container-id-1 div.sk-estimator input.sk-toggleable__control:checked~label.sk-toggleable__label {background-color: #d4ebff;}#sk-container-id-1 div.sk-label input.sk-toggleable__control:checked~label.sk-toggleable__label {background-color: #d4ebff;}#sk-container-id-1 input.sk-hidden--visually {border: 0;clip: rect(1px 1px 1px 1px);clip: rect(1px, 1px, 1px, 1px);height: 1px;margin: -1px;overflow: hidden;padding: 0;position: absolute;width: 1px;}#sk-container-id-1 div.sk-estimator {font-family: monospace;background-color: #f0f8ff;border: 1px dotted black;border-radius: 0.25em;box-sizing: border-box;margin-bottom: 0.5em;}#sk-container-id-1 div.sk-estimator:hover {background-color: #d4ebff;}#sk-container-id-1 div.sk-parallel-item::after {content: \"\";width: 100%;border-bottom: 1px solid gray;flex-grow: 1;}#sk-container-id-1 div.sk-label:hover label.sk-toggleable__label {background-color: #d4ebff;}#sk-container-id-1 div.sk-serial::before {content: \"\";position: absolute;border-left: 1px solid gray;box-sizing: border-box;top: 0;bottom: 0;left: 50%;z-index: 0;}#sk-container-id-1 div.sk-serial {display: flex;flex-direction: column;align-items: center;background-color: white;padding-right: 0.2em;padding-left: 0.2em;position: relative;}#sk-container-id-1 div.sk-item {position: relative;z-index: 1;}#sk-container-id-1 div.sk-parallel {display: flex;align-items: stretch;justify-content: center;background-color: white;position: relative;}#sk-container-id-1 div.sk-item::before, #sk-container-id-1 div.sk-parallel-item::before {content: \"\";position: absolute;border-left: 1px solid gray;box-sizing: border-box;top: 0;bottom: 0;left: 50%;z-index: -1;}#sk-container-id-1 div.sk-parallel-item {display: flex;flex-direction: column;z-index: 1;position: relative;background-color: white;}#sk-container-id-1 div.sk-parallel-item:first-child::after {align-self: flex-end;width: 50%;}#sk-container-id-1 div.sk-parallel-item:last-child::after {align-self: flex-start;width: 50%;}#sk-container-id-1 div.sk-parallel-item:only-child::after {width: 0;}#sk-container-id-1 div.sk-dashed-wrapped {border: 1px dashed gray;margin: 0 0.4em 0.5em 0.4em;box-sizing: border-box;padding-bottom: 0.4em;background-color: white;}#sk-container-id-1 div.sk-label label {font-family: monospace;font-weight: bold;display: inline-block;line-height: 1.2em;}#sk-container-id-1 div.sk-label-container {text-align: center;}#sk-container-id-1 div.sk-container {/* jupyter's `normalize.less` sets `[hidden] { display: none; }` but bootstrap.min.css set `[hidden] { display: none !important; }` so we also need the `!important` here to be able to override the default hidden behavior on the sphinx rendered scikit-learn.org. See: https://github.com/scikit-learn/scikit-learn/issues/21755 */display: inline-block !important;position: relative;}#sk-container-id-1 div.sk-text-repr-fallback {display: none;}</style><div id=\"sk-container-id-1\" class=\"sk-top-container\"><div class=\"sk-text-repr-fallback\"><pre>DecisionTreeRegressor(max_depth=15)</pre><b>In a Jupyter environment, please rerun this cell to show the HTML representation or trust the notebook. <br />On GitHub, the HTML representation is unable to render, please try loading this page with nbviewer.org.</b></div><div class=\"sk-container\" hidden><div class=\"sk-item\"><div class=\"sk-estimator sk-toggleable\"><input class=\"sk-toggleable__control sk-hidden--visually\" id=\"sk-estimator-id-1\" type=\"checkbox\" checked><label for=\"sk-estimator-id-1\" class=\"sk-toggleable__label sk-toggleable__label-arrow\">DecisionTreeRegressor</label><div class=\"sk-toggleable__content\"><pre>DecisionTreeRegressor(max_depth=15)</pre></div></div></div></div></div>"
      ],
      "text/plain": [
       "DecisionTreeRegressor(max_depth=15)"
      ]
     },
     "execution_count": 11,
     "metadata": {},
     "output_type": "execute_result"
    }
   ],
   "source": [
    "dtree.fit(X_train, y_train)"
   ]
  },
  {
   "cell_type": "code",
   "execution_count": 12,
   "id": "d7d28ab7-048c-4494-9979-3efda6edb969",
   "metadata": {},
   "outputs": [],
   "source": [
    "cv_results = cross_validate(dtree, X_train, y_train, cv=3, n_jobs=-1, return_estimator=True)"
   ]
  },
  {
   "cell_type": "code",
   "execution_count": 13,
   "id": "a8598cae-83d7-4b8e-a135-57ed32314642",
   "metadata": {},
   "outputs": [],
   "source": [
    "best_clf = cv_results[\"estimator\"][cv_results[\"test_score\"].argmax()]"
   ]
  },
  {
   "cell_type": "markdown",
   "id": "061df662-294b-40b7-8444-417fd017932e",
   "metadata": {},
   "source": [
    "## Predict the test data and measure the performance"
   ]
  },
  {
   "cell_type": "code",
   "execution_count": 14,
   "id": "f9b5dac4-9b13-4f79-b8a1-3487b489ae1e",
   "metadata": {},
   "outputs": [],
   "source": [
    "y_pred = best_clf.predict(X_test)"
   ]
  },
  {
   "cell_type": "code",
   "execution_count": 15,
   "id": "e1350dd3-4bf8-48bf-9afc-392a72b8df84",
   "metadata": {
    "tags": []
   },
   "outputs": [],
   "source": [
    "y_mse_tree = mean_squared_error(y_test, y_pred)\n",
    "y_mae_tree = mean_absolute_error(y_test, y_pred)"
   ]
  },
  {
   "cell_type": "code",
   "execution_count": 16,
   "id": "64316e02-4337-4677-8cc1-f3ee81cca193",
   "metadata": {},
   "outputs": [
    {
     "name": "stdout",
     "output_type": "stream",
     "text": [
      "mse = 0.05921841474295595\n",
      "mae = 0.1680054839159634\n"
     ]
    }
   ],
   "source": [
    "print(f\"mse = {y_mse_tree}\\nmae = {y_mae_tree}\")"
   ]
  },
  {
   "cell_type": "code",
   "execution_count": 17,
   "id": "52d3a51a-6b20-44af-9a50-5adbb5d3a993",
   "metadata": {},
   "outputs": [
    {
     "data": {
      "image/png": "[encoded data removed]",
      "text/plain": [
       "<Figure size 1600x1000 with 1 Axes>"
      ]
     },
     "metadata": {},
     "output_type": "display_data"
    }
   ],
   "source": [
    "y_pred2 = dtree.predict(X_test)\n",
    "fig, ax = plt.subplots(figsize=(16,10))\n",
    "plt.scatter(X, y_sampled, s=20, edgecolor=\"black\",\n",
    "                c=\"darkorange\", label=\"sampled\")\n",
    "plt.scatter(X, y_true, s=20, edgecolor=\"black\",\n",
    "                c=\"yellow\", label=\"true\")\n",
    "plt.plot(X_test, y_pred2, color=\"cornflowerblue\",\n",
    "             label=\"predicted\", linewidth=2)\n",
    "plt.xlabel(\"x\")\n",
    "plt.ylabel(\"y\")\n",
    "ax.legend(loc=\"lower left\")\n",
    "plt.show()"
   ]
  },
  {
   "cell_type": "code",
   "execution_count": 18,
   "id": "8200ffa6-f115-46ac-94a0-4e43ee5025ff",
   "metadata": {},
   "outputs": [
    {
     "data": {
      "image/png": "[encoded data removed]",
      "text/plain": [
       "<Figure size 3200x2000 with 1 Axes>"
      ]
     },
     "metadata": {},
     "output_type": "display_data"
    }
   ],
   "source": [
    "plt.figure(figsize =(32, 20))\n",
    "res = tree.plot_tree(dtree)"
   ]
  },
  {
   "cell_type": "markdown",
   "id": "9be73b4e-e067-46e9-aafd-a1f61f7702c3",
   "metadata": {},
   "source": [
    "## Train a linear regressor, predict and measure the performance"
   ]
  },
  {
   "cell_type": "code",
   "execution_count": 19,
   "id": "8d1723e6-385e-4420-99fe-151186abd0b2",
   "metadata": {},
   "outputs": [],
   "source": [
    "regr = LinearRegression()\n",
    "regr.fit(X_train, y_train)\n",
    "y_pred = regr.predict(X_test)"
   ]
  },
  {
   "cell_type": "code",
   "execution_count": 20,
   "id": "41ba8988-9347-4686-94bf-03298bf4b443",
   "metadata": {},
   "outputs": [],
   "source": [
    "y_mse_lin = mean_squared_error(y_test, y_pred)\n",
    "y_mae_lin = mean_absolute_error(y_test, y_pred)"
   ]
  },
  {
   "cell_type": "code",
   "execution_count": 21,
   "id": "504291d9-959c-460d-9b58-34488554f2ed",
   "metadata": {},
   "outputs": [
    {
     "name": "stdout",
     "output_type": "stream",
     "text": [
      "mse = 0.5513389948566234\n",
      "mae = 0.6589285268897602\n"
     ]
    }
   ],
   "source": [
    "print(f\"mse = {y_mse_lin}\\nmae = {y_mae_lin}\")"
   ]
  },
  {
   "cell_type": "markdown",
   "id": "254ef5f3-8392-4cf5-b374-5ad44ba84c6b",
   "metadata": {},
   "source": [
    "## Train a polynomial regressor, predict and measure performance"
   ]
  },
  {
   "cell_type": "markdown",
   "id": "e4deeddb-6a15-476c-b1a4-95f0eccf9b0d",
   "metadata": {},
   "source": [
    "### Blind Shot: Select a polynomial degree and try"
   ]
  },
  {
   "cell_type": "code",
   "execution_count": 22,
   "id": "f55150b7-4f92-4e2c-a1c8-a9c46cb224f6",
   "metadata": {},
   "outputs": [],
   "source": [
    "regrPoly = make_pipeline(PolynomialFeatures(7), LinearRegression())\n",
    "regrPoly.fit(X_train, y_train)\n",
    "y_pred_poly = regrPoly.predict(X_test)"
   ]
  },
  {
   "cell_type": "code",
   "execution_count": 23,
   "id": "1aca067e-c002-4704-a803-3a3e11d5095b",
   "metadata": {},
   "outputs": [],
   "source": [
    "y_mse_poly = mean_squared_error(y_test, y_pred_poly)\n",
    "y_mae_poly = mean_absolute_error(y_test, y_pred_poly)"
   ]
  },
  {
   "cell_type": "code",
   "execution_count": 24,
   "id": "91e9a97a-c882-431c-8b5e-5a4c5c731a41",
   "metadata": {},
   "outputs": [
    {
     "name": "stdout",
     "output_type": "stream",
     "text": [
      "mse = 0.5226803341155036\n",
      "mae = 0.654805329874328\n"
     ]
    }
   ],
   "source": [
    "print(f\"mse = {y_mse_poly}\\nmae = {y_mae_poly}\")"
   ]
  },
  {
   "cell_type": "markdown",
   "id": "f98f6f9e-1ec8-440e-82e1-99f1d6d8c0ec",
   "metadata": {},
   "source": [
    "### Better approach: Let Python find a good degree"
   ]
  },
  {
   "cell_type": "code",
   "execution_count": 25,
   "id": "8c5b0085-3c6a-4f6d-bfd2-b8b704ed3663",
   "metadata": {},
   "outputs": [
    {
     "data": {
      "image/png": "[encoded data removed]",
      "text/plain": [
       "<Figure size 1600x1000 with 1 Axes>"
      ]
     },
     "metadata": {},
     "output_type": "display_data"
    }
   ],
   "source": [
    "# plot function\n",
    "fig, ax = plt.subplots(figsize=(16,10))\n",
    "ax.set_prop_cycle(\n",
    "    color=[\"black\", \"teal\", \"yellowgreen\", \"gold\", \"darkorange\", \"tomato\"]\n",
    ")\n",
    "\n",
    "# plot training points\n",
    "ax.scatter(X_train, y_train, label=\"training points\")\n",
    "ax.scatter(X_test, y_test, label=\"test points\")\n",
    "\n",
    "mse_poly_train = []\n",
    "mse_poly_test = []\n",
    "# polynomial features\n",
    "#for degree in [1, 2, 3, 4, 5, 6, 7, 8, 9]:\n",
    "for degree in [1, 5, 6, 7, 8, 9, 11, 13, 15, 19, 21]:\n",
    "    model = make_pipeline(PolynomialFeatures(degree), LinearRegression())\n",
    "    model.fit(X_train, y_train)\n",
    "    y_plot = model.predict(X_test)\n",
    "    mse_poly_train.append(mean_squared_error(y_train, model.predict(X_train)))\n",
    "    mse_poly_test.append(mean_squared_error(y_test, model.predict(X_test)))\n",
    "    ax.plot(X_test, y_plot, label=f\"degree {degree}\")\n",
    "ax.legend(loc=\"lower left\")\n",
    "plt.show()"
   ]
  },
  {
   "cell_type": "code",
   "execution_count": 26,
   "id": "43c8baef-6071-4484-ae82-9c266dece9ba",
   "metadata": {},
   "outputs": [
    {
     "data": {
      "text/plain": [
       "[<matplotlib.lines.Line2D at 0x7f0c6fd0f110>]"
      ]
     },
     "execution_count": 26,
     "metadata": {},
     "output_type": "execute_result"
    },
    {
     "data": {
      "image/png": "[encoded data removed]",
      "text/plain": [
       "<Figure size 640x480 with 1 Axes>"
      ]
     },
     "metadata": {},
     "output_type": "display_data"
    }
   ],
   "source": [
    "plt.plot(mse_poly_test, color=\"r\")\n",
    "plt.plot(mse_poly_train, color=\"g\")"
   ]
  },
  {
   "cell_type": "code",
   "execution_count": 27,
   "id": "ea0aaa04-47e3-45b7-9968-96e21e1cec26",
   "metadata": {},
   "outputs": [
    {
     "name": "stdout",
     "output_type": "stream",
     "text": [
      "[0.5513389948566234, 0.5309244276553745, 0.517586856192819, 0.5226803341155036, 0.6509281991291773, 0.6382650128324288, 0.5559500820375942, 1.083568490195185, 12.708497021662758, 46.193365543378846, 60.9267041484155]\n"
     ]
    }
   ],
   "source": [
    "print(mse_poly_test)"
   ]
  },
  {
   "cell_type": "markdown",
   "id": "b4762702-e5a6-4e80-a9a8-79b39f88541d",
   "metadata": {},
   "source": [
    "## Perform a gaussian regression"
   ]
  },
  {
   "cell_type": "code",
   "execution_count": 28,
   "id": "e5383c50-f879-4aac-ac9c-4823f5cbf656",
   "metadata": {},
   "outputs": [],
   "source": [
    "class GaussianFeatures(BaseEstimator, TransformerMixin):\n",
    "    \"\"\"\n",
    "    Transforms a given interval from the one-dimensional input space X\n",
    "    into a uniformly spaced Gaussian features distribution.\n",
    "    The X must be an np.array-like in rows first shape X.shape(n_samples, 1)\n",
    "    see: https://github.com/jakevdp/PythonDataScienceHandbook/blob/master/notebooks/05.06-Linear-Regression.ipynb\n",
    "         for more details on kernel definition (code was partially taken from there)\n",
    "    \"\"\"\n",
    "    \n",
    "    def __init__(self, N, width_factor=2.0):\n",
    "        if (N<2):\n",
    "            raise ValueError(\"Number of Gaussian Kernels must be at least 2\")\n",
    "        self.N = N # N is the number of kernels\n",
    "        self.width_factor = width_factor # the width of the kernel\n",
    "    \n",
    "    @staticmethod\n",
    "    def _gauss_basis(x, y, width, axis=None):\n",
    "        # effectively computes 1/2*exp(SUM_i(x_i-center)^2/width^2) \n",
    "        # where x_i is a feature in a sample vector x\n",
    "        # hence the gaussian kernel is placed at center position y in \n",
    "        # every dimension having identical std_dev in every dimension\n",
    "        arg = (x - y) / width\n",
    "        return np.exp(-0.5 * np.sum(arg ** 2, axis))\n",
    "        \n",
    "    def fit(self, X, y=None):\n",
    "        # create N centers spread along the data range\n",
    "        self.centers_ = np.linspace(X.min(), X.max(), self.N)\n",
    "        print(self.centers_)\n",
    "        # scale std deviation of gaussian kernels according to distance between kernels\n",
    "        self.width_ = self.width_factor * (self.centers_[1] - self.centers_[0])\n",
    "        return self\n",
    "        \n",
    "    def transform(self, X):\n",
    "        # transforms the 2D festure matrix into a 3D matrix\n",
    "        return self._gauss_basis(X[:, :, np.newaxis], self.centers_,\n",
    "                                 self.width_, axis=1)\n",
    "        "
   ]
  },
  {
   "cell_type": "code",
   "execution_count": 29,
   "id": "c5c7558d-8d87-4dd8-9f7e-467ebdffd5ae",
   "metadata": {},
   "outputs": [],
   "source": [
    "regrRBF = make_pipeline(GaussianFeatures(13), LinearRegression())"
   ]
  },
  {
   "cell_type": "code",
   "execution_count": 30,
   "id": "5f0a17cf-0cb1-48a9-8663-e007d22f37c9",
   "metadata": {},
   "outputs": [
    {
     "name": "stdout",
     "output_type": "stream",
     "text": [
      "[-4.812102   -4.0041153  -3.1961286  -2.3881419  -1.5801552  -0.77216851\n",
      "  0.03581819  0.84380489  1.65179159  2.45977829  3.26776498  4.07575168\n",
      "  4.88373838]\n"
     ]
    }
   ],
   "source": [
    "regrRBF.fit(X_train, y_train)\n",
    "y_pred_RBF = regrRBF.predict(np.array(X_test))"
   ]
  },
  {
   "cell_type": "code",
   "execution_count": 31,
   "id": "049d7e3b-3793-4966-93e7-065932836e2a",
   "metadata": {},
   "outputs": [
    {
     "data": {
      "text/plain": [
       "0.48759882203755656"
      ]
     },
     "execution_count": 31,
     "metadata": {},
     "output_type": "execute_result"
    }
   ],
   "source": [
    "mean_squared_error(y_test, y_pred_RBF)"
   ]
  },
  {
   "cell_type": "code",
   "execution_count": 32,
   "id": "555fe16b-6b05-4afc-9e24-93453970dbec",
   "metadata": {},
   "outputs": [
    {
     "data": {
      "text/plain": [
       "[0.5513389948566234,\n",
       " 0.5309244276553745,\n",
       " 0.517586856192819,\n",
       " 0.5226803341155036,\n",
       " 0.6509281991291773,\n",
       " 0.6382650128324288,\n",
       " 0.5559500820375942,\n",
       " 1.083568490195185,\n",
       " 12.708497021662758,\n",
       " 46.193365543378846,\n",
       " 60.9267041484155]"
      ]
     },
     "execution_count": 32,
     "metadata": {},
     "output_type": "execute_result"
    }
   ],
   "source": [
    "mse_poly_test"
   ]
  },
  {
   "cell_type": "markdown",
   "id": "fa0cc0d8-7e45-4494-b5dc-f713e585a626",
   "metadata": {},
   "source": [
    "## Perform Kernel Ridge Regression with Hyperparameter Optimization"
   ]
  },
  {
   "cell_type": "code",
   "execution_count": 33,
   "id": "ae8f728c-fe98-438d-b7b5-cdfd72207d86",
   "metadata": {},
   "outputs": [],
   "source": [
    "from sklearn.model_selection import GridSearchCV\n",
    "from sklearn.kernel_ridge import KernelRidge"
   ]
  },
  {
   "cell_type": "code",
   "execution_count": 34,
   "id": "48bc51f1-5353-49dd-9efd-c99dedcefe62",
   "metadata": {},
   "outputs": [
    {
     "name": "stdout",
     "output_type": "stream",
     "text": [
      "Fitting 5 folds for each of 300 candidates, totalling 1500 fits\n",
      "[CV] END ........alpha=1.0, degree=7, gamma=0.01, kernel=rbf; total time=   0.0s\n",
      "[CV] END ........alpha=1.0, degree=7, gamma=0.01, kernel=rbf; total time=   0.0s\n",
      "[CV] END ........alpha=1.0, degree=7, gamma=0.01, kernel=rbf; total time=   0.0s\n",
      "[CV] END ........alpha=1.0, degree=7, gamma=0.01, kernel=rbf; total time=   0.0s\n",
      "[CV] END ........alpha=1.0, degree=7, gamma=0.01, kernel=rbf; total time=   0.0s\n",
      "[CV] END .alpha=1.0, degree=7, gamma=0.01, kernel=polynomial; total time=   0.0s\n",
      "[CV] END .alpha=1.0, degree=7, gamma=0.01, kernel=polynomial; total time=   0.0s\n",
      "[CV] END .alpha=1.0, degree=7, gamma=0.01, kernel=polynomial; total time=   0.0s\n",
      "[CV] END .alpha=1.0, degree=7, gamma=0.01, kernel=polynomial; total time=   0.0s\n",
      "[CV] END .alpha=1.0, degree=7, gamma=0.01, kernel=polynomial; total time=   0.0s\n",
      "[CV] END .....alpha=1.0, degree=7, gamma=0.01, kernel=cosine; total time=   0.0s\n",
      "[CV] END .....alpha=1.0, degree=7, gamma=0.01, kernel=cosine; total time=   0.0s\n",
      "[CV] END .....alpha=1.0, degree=7, gamma=0.01, kernel=cosine; total time=   0.0s\n",
      "[CV] END .....alpha=1.0, degree=7, gamma=0.01, kernel=cosine; total time=   0.0s\n",
      "[CV] END .....alpha=1.0, degree=7, gamma=0.01, kernel=cosine; total time=   0.0s\n",
      "[CV] END .........alpha=1.0, degree=7, gamma=0.1, kernel=rbf; total time=   0.0s\n",
      "[CV] END .........alpha=1.0, degree=7, gamma=0.1, kernel=rbf; total time=   0.0s\n",
      "[CV] END .........alpha=1.0, degree=7, gamma=0.1, kernel=rbf; total time=   0.0s\n",
      "[CV] END .........alpha=1.0, degree=7, gamma=0.1, kernel=rbf; total time=   0.0s\n",
      "[CV] END .........alpha=1.0, degree=7, gamma=0.1, kernel=rbf; total time=   0.0s\n",
      "[CV] END ..alpha=1.0, degree=7, gamma=0.1, kernel=polynomial; total time=   0.0s\n",
      "[CV] END ..alpha=1.0, degree=7, gamma=0.1, kernel=polynomial; total time=   0.0s\n",
      "[CV] END ..alpha=1.0, degree=7, gamma=0.1, kernel=polynomial; total time=   0.0s\n",
      "[CV] END ..alpha=1.0, degree=7, gamma=0.1, kernel=polynomial; total time=   0.0s\n",
      "[CV] END ..alpha=1.0, degree=7, gamma=0.1, kernel=polynomial; total time=   0.0s\n",
      "[CV] END ......alpha=1.0, degree=7, gamma=0.1, kernel=cosine; total time=   0.0s\n",
      "[CV] END ......alpha=1.0, degree=7, gamma=0.1, kernel=cosine; total time=   0.0s\n",
      "[CV] END ......alpha=1.0, degree=7, gamma=0.1, kernel=cosine; total time=   0.0s\n",
      "[CV] END ......alpha=1.0, degree=7, gamma=0.1, kernel=cosine; total time=   0.0s\n",
      "[CV] END ......alpha=1.0, degree=7, gamma=0.1, kernel=cosine; total time=   0.0s\n",
      "[CV] END .........alpha=1.0, degree=7, gamma=1.0, kernel=rbf; total time=   0.0s\n",
      "[CV] END .........alpha=1.0, degree=7, gamma=1.0, kernel=rbf; total time=   0.0s\n",
      "[CV] END .........alpha=1.0, degree=7, gamma=1.0, kernel=rbf; total time=   0.0s\n",
      "[CV] END .........alpha=1.0, degree=7, gamma=1.0, kernel=rbf; total time=   0.0s\n",
      "[CV] END .........alpha=1.0, degree=7, gamma=1.0, kernel=rbf; total time=   0.0s\n",
      "[CV] END ..alpha=1.0, degree=7, gamma=1.0, kernel=polynomial; total time=   0.0s\n",
      "[CV] END ..alpha=1.0, degree=7, gamma=1.0, kernel=polynomial; total time=   0.0s\n",
      "[CV] END ..alpha=1.0, degree=7, gamma=1.0, kernel=polynomial; total time=   0.0s\n",
      "[CV] END ..alpha=1.0, degree=7, gamma=1.0, kernel=polynomial; total time=   0.0s\n",
      "[CV] END ..alpha=1.0, degree=7, gamma=1.0, kernel=polynomial; total time=   0.0s\n",
      "[CV] END ......alpha=1.0, degree=7, gamma=1.0, kernel=cosine; total time=   0.0s\n",
      "[CV] END ......alpha=1.0, degree=7, gamma=1.0, kernel=cosine; total time=   0.0s\n",
      "[CV] END ......alpha=1.0, degree=7, gamma=1.0, kernel=cosine; total time=   0.0s\n",
      "[CV] END ......alpha=1.0, degree=7, gamma=1.0, kernel=cosine; total time=   0.0s\n",
      "[CV] END ......alpha=1.0, degree=7, gamma=1.0, kernel=cosine; total time=   0.0s\n",
      "[CV] END ........alpha=1.0, degree=7, gamma=10.0, kernel=rbf; total time=   0.0s\n",
      "[CV] END ........alpha=1.0, degree=7, gamma=10.0, kernel=rbf; total time=   0.0s\n",
      "[CV] END ........alpha=1.0, degree=7, gamma=10.0, kernel=rbf; total time=   0.0s\n",
      "[CV] END ........alpha=1.0, degree=7, gamma=10.0, kernel=rbf; total time=   0.0s\n",
      "[CV] END ........alpha=1.0, degree=7, gamma=10.0, kernel=rbf; total time=   0.0s\n",
      "[CV] END .alpha=1.0, degree=7, gamma=10.0, kernel=polynomial; total time=   0.0s\n",
      "[CV] END .alpha=1.0, degree=7, gamma=10.0, kernel=polynomial; total time=   0.0s\n",
      "[CV] END .alpha=1.0, degree=7, gamma=10.0, kernel=polynomial; total time=   0.0s\n",
      "[CV] END .alpha=1.0, degree=7, gamma=10.0, kernel=polynomial; total time=   0.0s\n",
      "[CV] END .alpha=1.0, degree=7, gamma=10.0, kernel=polynomial; total time=   0.0s\n",
      "[CV] END .....alpha=1.0, degree=7, gamma=10.0, kernel=cosine; total time=   0.0s\n",
      "[CV] END .....alpha=1.0, degree=7, gamma=10.0, kernel=cosine; total time=   0.0s\n",
      "[CV] END .....alpha=1.0, degree=7, gamma=10.0, kernel=cosine; total time=   0.0s\n",
      "[CV] END .....alpha=1.0, degree=7, gamma=10.0, kernel=cosine; total time=   0.0s\n",
      "[CV] END .....alpha=1.0, degree=7, gamma=10.0, kernel=cosine; total time=   0.0s\n",
      "[CV] END .......alpha=1.0, degree=7, gamma=100.0, kernel=rbf; total time=   0.0s\n",
      "[CV] END .......alpha=1.0, degree=7, gamma=100.0, kernel=rbf; total time=   0.0s\n",
      "[CV] END .......alpha=1.0, degree=7, gamma=100.0, kernel=rbf; total time=   0.0s\n",
      "[CV] END .......alpha=1.0, degree=7, gamma=100.0, kernel=rbf; total time=   0.0s\n",
      "[CV] END .......alpha=1.0, degree=7, gamma=100.0, kernel=rbf; total time=   0.0s\n",
      "[CV] END alpha=1.0, degree=7, gamma=100.0, kernel=polynomial; total time=   0.0s\n",
      "[CV] END alpha=1.0, degree=7, gamma=100.0, kernel=polynomial; total time=   0.0s\n",
      "[CV] END alpha=1.0, degree=7, gamma=100.0, kernel=polynomial; total time=   0.0s\n",
      "[CV] END alpha=1.0, degree=7, gamma=100.0, kernel=polynomial; total time=   0.0s\n",
      "[CV] END alpha=1.0, degree=7, gamma=100.0, kernel=polynomial; total time=   0.0s\n"
     ]
    },
    {
     "name": "stderr",
     "output_type": "stream",
     "text": [
      "/home/chris/.local/lib/python3.11/site-packages/sklearn/linear_model/_ridge.py:239: UserWarning:\n",
      "\n",
      "Singular matrix in solving dual problem. Using least-squares solution instead.\n",
      "\n",
      "/home/chris/.local/lib/python3.11/site-packages/sklearn/linear_model/_ridge.py:239: UserWarning:\n",
      "\n",
      "Singular matrix in solving dual problem. Using least-squares solution instead.\n",
      "\n",
      "/home/chris/.local/lib/python3.11/site-packages/sklearn/linear_model/_ridge.py:239: UserWarning:\n",
      "\n",
      "Singular matrix in solving dual problem. Using least-squares solution instead.\n",
      "\n",
      "/home/chris/.local/lib/python3.11/site-packages/sklearn/linear_model/_ridge.py:239: UserWarning:\n",
      "\n",
      "Singular matrix in solving dual problem. Using least-squares solution instead.\n",
      "\n",
      "/home/chris/.local/lib/python3.11/site-packages/sklearn/linear_model/_ridge.py:239: UserWarning:\n",
      "\n",
      "Singular matrix in solving dual problem. Using least-squares solution instead.\n",
      "\n",
      "/home/chris/.local/lib/python3.11/site-packages/sklearn/linear_model/_ridge.py:239: UserWarning:\n",
      "\n",
      "Singular matrix in solving dual problem. Using least-squares solution instead.\n",
      "\n",
      "/home/chris/.local/lib/python3.11/site-packages/sklearn/linear_model/_ridge.py:239: UserWarning:\n",
      "\n",
      "Singular matrix in solving dual problem. Using least-squares solution instead.\n",
      "\n",
      "/home/chris/.local/lib/python3.11/site-packages/sklearn/linear_model/_ridge.py:239: UserWarning:\n",
      "\n",
      "Singular matrix in solving dual problem. Using least-squares solution instead.\n",
      "\n",
      "/home/chris/.local/lib/python3.11/site-packages/sklearn/linear_model/_ridge.py:239: UserWarning:\n",
      "\n",
      "Singular matrix in solving dual problem. Using least-squares solution instead.\n",
      "\n",
      "/home/chris/.local/lib/python3.11/site-packages/sklearn/linear_model/_ridge.py:239: UserWarning:\n",
      "\n",
      "Singular matrix in solving dual problem. Using least-squares solution instead.\n",
      "\n",
      "/home/chris/.local/lib/python3.11/site-packages/sklearn/linear_model/_ridge.py:239: UserWarning:\n",
      "\n",
      "Singular matrix in solving dual problem. Using least-squares solution instead.\n",
      "\n",
      "/home/chris/.local/lib/python3.11/site-packages/sklearn/linear_model/_ridge.py:239: UserWarning:\n",
      "\n",
      "Singular matrix in solving dual problem. Using least-squares solution instead.\n",
      "\n",
      "/home/chris/.local/lib/python3.11/site-packages/sklearn/linear_model/_ridge.py:239: UserWarning:\n",
      "\n",
      "Singular matrix in solving dual problem. Using least-squares solution instead.\n",
      "\n",
      "/home/chris/.local/lib/python3.11/site-packages/sklearn/linear_model/_ridge.py:239: UserWarning:\n",
      "\n",
      "Singular matrix in solving dual problem. Using least-squares solution instead.\n",
      "\n",
      "/home/chris/.local/lib/python3.11/site-packages/sklearn/linear_model/_ridge.py:239: UserWarning:\n",
      "\n",
      "Singular matrix in solving dual problem. Using least-squares solution instead.\n",
      "\n"
     ]
    },
    {
     "name": "stdout",
     "output_type": "stream",
     "text": [
      "[CV] END ....alpha=1.0, degree=7, gamma=100.0, kernel=cosine; total time=   0.0s\n",
      "[CV] END ....alpha=1.0, degree=7, gamma=100.0, kernel=cosine; total time=   0.0s\n",
      "[CV] END ....alpha=1.0, degree=7, gamma=100.0, kernel=cosine; total time=   0.0s\n",
      "[CV] END ....alpha=1.0, degree=7, gamma=100.0, kernel=cosine; total time=   0.0s\n",
      "[CV] END ....alpha=1.0, degree=7, gamma=100.0, kernel=cosine; total time=   0.0s\n",
      "[CV] END ........alpha=1.0, degree=9, gamma=0.01, kernel=rbf; total time=   0.0s\n",
      "[CV] END ........alpha=1.0, degree=9, gamma=0.01, kernel=rbf; total time=   0.0s\n",
      "[CV] END ........alpha=1.0, degree=9, gamma=0.01, kernel=rbf; total time=   0.0s\n",
      "[CV] END ........alpha=1.0, degree=9, gamma=0.01, kernel=rbf; total time=   0.0s\n",
      "[CV] END ........alpha=1.0, degree=9, gamma=0.01, kernel=rbf; total time=   0.0s\n",
      "[CV] END .alpha=1.0, degree=9, gamma=0.01, kernel=polynomial; total time=   0.0s\n",
      "[CV] END .alpha=1.0, degree=9, gamma=0.01, kernel=polynomial; total time=   0.0s\n",
      "[CV] END .alpha=1.0, degree=9, gamma=0.01, kernel=polynomial; total time=   0.0s\n",
      "[CV] END .alpha=1.0, degree=9, gamma=0.01, kernel=polynomial; total time=   0.0s\n",
      "[CV] END .alpha=1.0, degree=9, gamma=0.01, kernel=polynomial; total time=   0.0s\n",
      "[CV] END .....alpha=1.0, degree=9, gamma=0.01, kernel=cosine; total time=   0.0s\n",
      "[CV] END .....alpha=1.0, degree=9, gamma=0.01, kernel=cosine; total time=   0.0s\n",
      "[CV] END .....alpha=1.0, degree=9, gamma=0.01, kernel=cosine; total time=   0.0s\n",
      "[CV] END .....alpha=1.0, degree=9, gamma=0.01, kernel=cosine; total time=   0.0s\n",
      "[CV] END .....alpha=1.0, degree=9, gamma=0.01, kernel=cosine; total time=   0.0s\n",
      "[CV] END .........alpha=1.0, degree=9, gamma=0.1, kernel=rbf; total time=   0.0s\n",
      "[CV] END .........alpha=1.0, degree=9, gamma=0.1, kernel=rbf; total time=   0.0s\n",
      "[CV] END .........alpha=1.0, degree=9, gamma=0.1, kernel=rbf; total time=   0.0s\n",
      "[CV] END .........alpha=1.0, degree=9, gamma=0.1, kernel=rbf; total time=   0.0s\n",
      "[CV] END .........alpha=1.0, degree=9, gamma=0.1, kernel=rbf; total time=   0.0s\n",
      "[CV] END ..alpha=1.0, degree=9, gamma=0.1, kernel=polynomial; total time=   0.0s\n",
      "[CV] END ..alpha=1.0, degree=9, gamma=0.1, kernel=polynomial; total time=   0.0s\n",
      "[CV] END ..alpha=1.0, degree=9, gamma=0.1, kernel=polynomial; total time=   0.0s\n",
      "[CV] END ..alpha=1.0, degree=9, gamma=0.1, kernel=polynomial; total time=   0.0s\n",
      "[CV] END ..alpha=1.0, degree=9, gamma=0.1, kernel=polynomial; total time=   0.0s\n",
      "[CV] END ......alpha=1.0, degree=9, gamma=0.1, kernel=cosine; total time=   0.0s\n",
      "[CV] END ......alpha=1.0, degree=9, gamma=0.1, kernel=cosine; total time=   0.0s\n",
      "[CV] END ......alpha=1.0, degree=9, gamma=0.1, kernel=cosine; total time=   0.0s\n",
      "[CV] END ......alpha=1.0, degree=9, gamma=0.1, kernel=cosine; total time=   0.0s\n",
      "[CV] END ......alpha=1.0, degree=9, gamma=0.1, kernel=cosine; total time=   0.0s\n",
      "[CV] END .........alpha=1.0, degree=9, gamma=1.0, kernel=rbf; total time=   0.0s\n",
      "[CV] END .........alpha=1.0, degree=9, gamma=1.0, kernel=rbf; total time=   0.0s\n",
      "[CV] END .........alpha=1.0, degree=9, gamma=1.0, kernel=rbf; total time=   0.0s\n",
      "[CV] END .........alpha=1.0, degree=9, gamma=1.0, kernel=rbf; total time=   0.0s\n",
      "[CV] END .........alpha=1.0, degree=9, gamma=1.0, kernel=rbf; total time=   0.0s\n",
      "[CV] END ..alpha=1.0, degree=9, gamma=1.0, kernel=polynomial; total time=   0.0s\n",
      "[CV] END ..alpha=1.0, degree=9, gamma=1.0, kernel=polynomial; total time=   0.0s\n",
      "[CV] END ..alpha=1.0, degree=9, gamma=1.0, kernel=polynomial; total time=   0.0s\n",
      "[CV] END ..alpha=1.0, degree=9, gamma=1.0, kernel=polynomial; total time=   0.0s\n",
      "[CV] END ..alpha=1.0, degree=9, gamma=1.0, kernel=polynomial; total time=   0.0s\n",
      "[CV] END ......alpha=1.0, degree=9, gamma=1.0, kernel=cosine; total time=   0.0s\n",
      "[CV] END ......alpha=1.0, degree=9, gamma=1.0, kernel=cosine; total time=   0.0s\n",
      "[CV] END ......alpha=1.0, degree=9, gamma=1.0, kernel=cosine; total time=   0.0s\n",
      "[CV] END ......alpha=1.0, degree=9, gamma=1.0, kernel=cosine; total time=   0.0s\n",
      "[CV] END ......alpha=1.0, degree=9, gamma=1.0, kernel=cosine; total time=   0.0s\n",
      "[CV] END ........alpha=1.0, degree=9, gamma=10.0, kernel=rbf; total time=   0.0s\n",
      "[CV] END ........alpha=1.0, degree=9, gamma=10.0, kernel=rbf; total time=   0.0s\n",
      "[CV] END ........alpha=1.0, degree=9, gamma=10.0, kernel=rbf; total time=   0.0s\n",
      "[CV] END ........alpha=1.0, degree=9, gamma=10.0, kernel=rbf; total time=   0.0s\n",
      "[CV] END ........alpha=1.0, degree=9, gamma=10.0, kernel=rbf; total time=   0.0s\n",
      "[CV] END .alpha=1.0, degree=9, gamma=10.0, kernel=polynomial; total time=   0.0s\n",
      "[CV] END .alpha=1.0, degree=9, gamma=10.0, kernel=polynomial; total time=   0.0s\n",
      "[CV] END .alpha=1.0, degree=9, gamma=10.0, kernel=polynomial; total time=   0.0s\n",
      "[CV] END .alpha=1.0, degree=9, gamma=10.0, kernel=polynomial; total time=   0.0s\n",
      "[CV] END .alpha=1.0, degree=9, gamma=10.0, kernel=polynomial; total time=   0.0s\n",
      "[CV] END .....alpha=1.0, degree=9, gamma=10.0, kernel=cosine; total time=   0.0s\n",
      "[CV] END .....alpha=1.0, degree=9, gamma=10.0, kernel=cosine; total time=   0.0s\n",
      "[CV] END .....alpha=1.0, degree=9, gamma=10.0, kernel=cosine; total time=   0.0s\n",
      "[CV] END .....alpha=1.0, degree=9, gamma=10.0, kernel=cosine; total time=   0.0s\n",
      "[CV] END .....alpha=1.0, degree=9, gamma=10.0, kernel=cosine; total time=   0.0s\n",
      "[CV] END .......alpha=1.0, degree=9, gamma=100.0, kernel=rbf; total time=   0.0s\n",
      "[CV] END .......alpha=1.0, degree=9, gamma=100.0, kernel=rbf; total time=   0.0s\n",
      "[CV] END .......alpha=1.0, degree=9, gamma=100.0, kernel=rbf; total time=   0.0s\n",
      "[CV] END .......alpha=1.0, degree=9, gamma=100.0, kernel=rbf; total time=   0.0s\n",
      "[CV] END .......alpha=1.0, degree=9, gamma=100.0, kernel=rbf; total time=   0.0s\n",
      "[CV] END alpha=1.0, degree=9, gamma=100.0, kernel=polynomial; total time=   0.0s\n",
      "[CV] END alpha=1.0, degree=9, gamma=100.0, kernel=polynomial; total time=   0.0s\n",
      "[CV] END alpha=1.0, degree=9, gamma=100.0, kernel=polynomial; total time=   0.0s\n",
      "[CV] END alpha=1.0, degree=9, gamma=100.0, kernel=polynomial; total time=   0.0s\n",
      "[CV] END alpha=1.0, degree=9, gamma=100.0, kernel=polynomial; total time=   0.0s\n"
     ]
    },
    {
     "name": "stderr",
     "output_type": "stream",
     "text": [
      "/home/chris/.local/lib/python3.11/site-packages/sklearn/linear_model/_ridge.py:239: UserWarning:\n",
      "\n",
      "Singular matrix in solving dual problem. Using least-squares solution instead.\n",
      "\n",
      "/home/chris/.local/lib/python3.11/site-packages/sklearn/linear_model/_ridge.py:239: UserWarning:\n",
      "\n",
      "Singular matrix in solving dual problem. Using least-squares solution instead.\n",
      "\n",
      "/home/chris/.local/lib/python3.11/site-packages/sklearn/linear_model/_ridge.py:239: UserWarning:\n",
      "\n",
      "Singular matrix in solving dual problem. Using least-squares solution instead.\n",
      "\n",
      "/home/chris/.local/lib/python3.11/site-packages/sklearn/linear_model/_ridge.py:239: UserWarning:\n",
      "\n",
      "Singular matrix in solving dual problem. Using least-squares solution instead.\n",
      "\n",
      "/home/chris/.local/lib/python3.11/site-packages/sklearn/linear_model/_ridge.py:239: UserWarning:\n",
      "\n",
      "Singular matrix in solving dual problem. Using least-squares solution instead.\n",
      "\n",
      "/home/chris/.local/lib/python3.11/site-packages/sklearn/linear_model/_ridge.py:239: UserWarning:\n",
      "\n",
      "Singular matrix in solving dual problem. Using least-squares solution instead.\n",
      "\n",
      "/home/chris/.local/lib/python3.11/site-packages/sklearn/linear_model/_ridge.py:239: UserWarning:\n",
      "\n",
      "Singular matrix in solving dual problem. Using least-squares solution instead.\n",
      "\n",
      "/home/chris/.local/lib/python3.11/site-packages/sklearn/linear_model/_ridge.py:239: UserWarning:\n",
      "\n",
      "Singular matrix in solving dual problem. Using least-squares solution instead.\n",
      "\n",
      "/home/chris/.local/lib/python3.11/site-packages/sklearn/linear_model/_ridge.py:239: UserWarning:\n",
      "\n",
      "Singular matrix in solving dual problem. Using least-squares solution instead.\n",
      "\n",
      "/home/chris/.local/lib/python3.11/site-packages/sklearn/linear_model/_ridge.py:239: UserWarning:\n",
      "\n",
      "Singular matrix in solving dual problem. Using least-squares solution instead.\n",
      "\n",
      "/home/chris/.local/lib/python3.11/site-packages/sklearn/linear_model/_ridge.py:239: UserWarning:\n",
      "\n",
      "Singular matrix in solving dual problem. Using least-squares solution instead.\n",
      "\n",
      "/home/chris/.local/lib/python3.11/site-packages/sklearn/linear_model/_ridge.py:239: UserWarning:\n",
      "\n",
      "Singular matrix in solving dual problem. Using least-squares solution instead.\n",
      "\n",
      "/home/chris/.local/lib/python3.11/site-packages/sklearn/linear_model/_ridge.py:239: UserWarning:\n",
      "\n",
      "Singular matrix in solving dual problem. Using least-squares solution instead.\n",
      "\n",
      "/home/chris/.local/lib/python3.11/site-packages/sklearn/linear_model/_ridge.py:239: UserWarning:\n",
      "\n",
      "Singular matrix in solving dual problem. Using least-squares solution instead.\n",
      "\n",
      "/home/chris/.local/lib/python3.11/site-packages/sklearn/linear_model/_ridge.py:239: UserWarning:\n",
      "\n",
      "Singular matrix in solving dual problem. Using least-squares solution instead.\n",
      "\n",
      "/home/chris/.local/lib/python3.11/site-packages/sklearn/linear_model/_ridge.py:239: UserWarning:\n",
      "\n",
      "Singular matrix in solving dual problem. Using least-squares solution instead.\n",
      "\n",
      "/home/chris/.local/lib/python3.11/site-packages/sklearn/linear_model/_ridge.py:239: UserWarning:\n",
      "\n",
      "Singular matrix in solving dual problem. Using least-squares solution instead.\n",
      "\n",
      "/home/chris/.local/lib/python3.11/site-packages/sklearn/linear_model/_ridge.py:239: UserWarning:\n",
      "\n",
      "Singular matrix in solving dual problem. Using least-squares solution instead.\n",
      "\n",
      "/home/chris/.local/lib/python3.11/site-packages/sklearn/linear_model/_ridge.py:239: UserWarning:\n",
      "\n",
      "Singular matrix in solving dual problem. Using least-squares solution instead.\n",
      "\n",
      "/home/chris/.local/lib/python3.11/site-packages/sklearn/linear_model/_ridge.py:239: UserWarning:\n",
      "\n",
      "Singular matrix in solving dual problem. Using least-squares solution instead.\n",
      "\n"
     ]
    },
    {
     "name": "stdout",
     "output_type": "stream",
     "text": [
      "[CV] END ....alpha=1.0, degree=9, gamma=100.0, kernel=cosine; total time=   0.0s\n",
      "[CV] END ....alpha=1.0, degree=9, gamma=100.0, kernel=cosine; total time=   0.0s\n",
      "[CV] END ....alpha=1.0, degree=9, gamma=100.0, kernel=cosine; total time=   0.0s\n",
      "[CV] END ....alpha=1.0, degree=9, gamma=100.0, kernel=cosine; total time=   0.0s\n",
      "[CV] END ....alpha=1.0, degree=9, gamma=100.0, kernel=cosine; total time=   0.0s\n",
      "[CV] END .......alpha=1.0, degree=11, gamma=0.01, kernel=rbf; total time=   0.0s\n",
      "[CV] END .......alpha=1.0, degree=11, gamma=0.01, kernel=rbf; total time=   0.0s\n",
      "[CV] END .......alpha=1.0, degree=11, gamma=0.01, kernel=rbf; total time=   0.0s\n",
      "[CV] END .......alpha=1.0, degree=11, gamma=0.01, kernel=rbf; total time=   0.0s\n",
      "[CV] END .......alpha=1.0, degree=11, gamma=0.01, kernel=rbf; total time=   0.0s\n",
      "[CV] END alpha=1.0, degree=11, gamma=0.01, kernel=polynomial; total time=   0.0s\n",
      "[CV] END alpha=1.0, degree=11, gamma=0.01, kernel=polynomial; total time=   0.0s\n",
      "[CV] END alpha=1.0, degree=11, gamma=0.01, kernel=polynomial; total time=   0.0s\n",
      "[CV] END alpha=1.0, degree=11, gamma=0.01, kernel=polynomial; total time=   0.0s\n",
      "[CV] END alpha=1.0, degree=11, gamma=0.01, kernel=polynomial; total time=   0.0s\n",
      "[CV] END ....alpha=1.0, degree=11, gamma=0.01, kernel=cosine; total time=   0.0s\n",
      "[CV] END ....alpha=1.0, degree=11, gamma=0.01, kernel=cosine; total time=   0.0s\n",
      "[CV] END ....alpha=1.0, degree=11, gamma=0.01, kernel=cosine; total time=   0.0s\n",
      "[CV] END ....alpha=1.0, degree=11, gamma=0.01, kernel=cosine; total time=   0.0s\n",
      "[CV] END ....alpha=1.0, degree=11, gamma=0.01, kernel=cosine; total time=   0.0s\n",
      "[CV] END ........alpha=1.0, degree=11, gamma=0.1, kernel=rbf; total time=   0.0s\n",
      "[CV] END ........alpha=1.0, degree=11, gamma=0.1, kernel=rbf; total time=   0.0s\n",
      "[CV] END ........alpha=1.0, degree=11, gamma=0.1, kernel=rbf; total time=   0.0s\n",
      "[CV] END ........alpha=1.0, degree=11, gamma=0.1, kernel=rbf; total time=   0.0s\n",
      "[CV] END ........alpha=1.0, degree=11, gamma=0.1, kernel=rbf; total time=   0.0s\n",
      "[CV] END .alpha=1.0, degree=11, gamma=0.1, kernel=polynomial; total time=   0.0s\n",
      "[CV] END .alpha=1.0, degree=11, gamma=0.1, kernel=polynomial; total time=   0.0s\n",
      "[CV] END .alpha=1.0, degree=11, gamma=0.1, kernel=polynomial; total time=   0.0s\n",
      "[CV] END .alpha=1.0, degree=11, gamma=0.1, kernel=polynomial; total time=   0.0s\n",
      "[CV] END .alpha=1.0, degree=11, gamma=0.1, kernel=polynomial; total time=   0.0s\n",
      "[CV] END .....alpha=1.0, degree=11, gamma=0.1, kernel=cosine; total time=   0.0s\n",
      "[CV] END .....alpha=1.0, degree=11, gamma=0.1, kernel=cosine; total time=   0.0s\n",
      "[CV] END .....alpha=1.0, degree=11, gamma=0.1, kernel=cosine; total time=   0.0s\n",
      "[CV] END .....alpha=1.0, degree=11, gamma=0.1, kernel=cosine; total time=   0.0s\n",
      "[CV] END .....alpha=1.0, degree=11, gamma=0.1, kernel=cosine; total time=   0.0s\n",
      "[CV] END ........alpha=1.0, degree=11, gamma=1.0, kernel=rbf; total time=   0.0s\n",
      "[CV] END ........alpha=1.0, degree=11, gamma=1.0, kernel=rbf; total time=   0.0s\n",
      "[CV] END ........alpha=1.0, degree=11, gamma=1.0, kernel=rbf; total time=   0.0s\n",
      "[CV] END ........alpha=1.0, degree=11, gamma=1.0, kernel=rbf; total time=   0.0s\n",
      "[CV] END ........alpha=1.0, degree=11, gamma=1.0, kernel=rbf; total time=   0.0s\n",
      "[CV] END .alpha=1.0, degree=11, gamma=1.0, kernel=polynomial; total time=   0.0s\n",
      "[CV] END .alpha=1.0, degree=11, gamma=1.0, kernel=polynomial; total time=   0.0s\n",
      "[CV] END .alpha=1.0, degree=11, gamma=1.0, kernel=polynomial; total time=   0.0s\n",
      "[CV] END .alpha=1.0, degree=11, gamma=1.0, kernel=polynomial; total time=   0.0s\n",
      "[CV] END .alpha=1.0, degree=11, gamma=1.0, kernel=polynomial; total time=   0.0s\n",
      "[CV] END .....alpha=1.0, degree=11, gamma=1.0, kernel=cosine; total time=   0.0s\n",
      "[CV] END .....alpha=1.0, degree=11, gamma=1.0, kernel=cosine; total time=   0.0s\n",
      "[CV] END .....alpha=1.0, degree=11, gamma=1.0, kernel=cosine; total time=   0.0s\n",
      "[CV] END .....alpha=1.0, degree=11, gamma=1.0, kernel=cosine; total time=   0.0s\n",
      "[CV] END .....alpha=1.0, degree=11, gamma=1.0, kernel=cosine; total time=   0.0s\n",
      "[CV] END .......alpha=1.0, degree=11, gamma=10.0, kernel=rbf; total time=   0.0s\n",
      "[CV] END .......alpha=1.0, degree=11, gamma=10.0, kernel=rbf; total time=   0.0s\n",
      "[CV] END .......alpha=1.0, degree=11, gamma=10.0, kernel=rbf; total time=   0.0s\n",
      "[CV] END .......alpha=1.0, degree=11, gamma=10.0, kernel=rbf; total time=   0.0s\n",
      "[CV] END .......alpha=1.0, degree=11, gamma=10.0, kernel=rbf; total time=   0.0s\n",
      "[CV] END alpha=1.0, degree=11, gamma=10.0, kernel=polynomial; total time=   0.0s\n",
      "[CV] END alpha=1.0, degree=11, gamma=10.0, kernel=polynomial; total time=   0.0s\n",
      "[CV] END alpha=1.0, degree=11, gamma=10.0, kernel=polynomial; total time=   0.0s\n",
      "[CV] END alpha=1.0, degree=11, gamma=10.0, kernel=polynomial; total time=   0.0s\n",
      "[CV] END alpha=1.0, degree=11, gamma=10.0, kernel=polynomial; total time=   0.0s\n",
      "[CV] END ....alpha=1.0, degree=11, gamma=10.0, kernel=cosine; total time=   0.0s\n",
      "[CV] END ....alpha=1.0, degree=11, gamma=10.0, kernel=cosine; total time=   0.0s\n",
      "[CV] END ....alpha=1.0, degree=11, gamma=10.0, kernel=cosine; total time=   0.0s\n",
      "[CV] END ....alpha=1.0, degree=11, gamma=10.0, kernel=cosine; total time=   0.0s\n",
      "[CV] END ....alpha=1.0, degree=11, gamma=10.0, kernel=cosine; total time=   0.0s\n",
      "[CV] END ......alpha=1.0, degree=11, gamma=100.0, kernel=rbf; total time=   0.0s\n",
      "[CV] END ......alpha=1.0, degree=11, gamma=100.0, kernel=rbf; total time=   0.0s\n",
      "[CV] END ......alpha=1.0, degree=11, gamma=100.0, kernel=rbf; total time=   0.0s\n",
      "[CV] END ......alpha=1.0, degree=11, gamma=100.0, kernel=rbf; total time=   0.0s\n",
      "[CV] END ......alpha=1.0, degree=11, gamma=100.0, kernel=rbf; total time=   0.0s\n",
      "[CV] END alpha=1.0, degree=11, gamma=100.0, kernel=polynomial; total time=   0.0s\n",
      "[CV] END alpha=1.0, degree=11, gamma=100.0, kernel=polynomial; total time=   0.0s\n",
      "[CV] END alpha=1.0, degree=11, gamma=100.0, kernel=polynomial; total time=   0.0s\n",
      "[CV] END alpha=1.0, degree=11, gamma=100.0, kernel=polynomial; total time=   0.0s\n",
      "[CV] END alpha=1.0, degree=11, gamma=100.0, kernel=polynomial; total time=   0.0s\n",
      "[CV] END ...alpha=1.0, degree=11, gamma=100.0, kernel=cosine; total time=   0.0s\n",
      "[CV] END ...alpha=1.0, degree=11, gamma=100.0, kernel=cosine; total time=   0.0s\n",
      "[CV] END ...alpha=1.0, degree=11, gamma=100.0, kernel=cosine; total time=   0.0s\n",
      "[CV] END ...alpha=1.0, degree=11, gamma=100.0, kernel=cosine; total time=   0.0s\n",
      "[CV] END ...alpha=1.0, degree=11, gamma=100.0, kernel=cosine; total time=   0.0s\n",
      "[CV] END .......alpha=1.0, degree=15, gamma=0.01, kernel=rbf; total time=   0.0s\n",
      "[CV] END .......alpha=1.0, degree=15, gamma=0.01, kernel=rbf; total time=   0.0s\n",
      "[CV] END .......alpha=1.0, degree=15, gamma=0.01, kernel=rbf; total time=   0.0s\n",
      "[CV] END .......alpha=1.0, degree=15, gamma=0.01, kernel=rbf; total time=   0.0s\n",
      "[CV] END .......alpha=1.0, degree=15, gamma=0.01, kernel=rbf; total time=   0.0s\n",
      "[CV] END alpha=1.0, degree=15, gamma=0.01, kernel=polynomial; total time=   0.0s\n",
      "[CV] END alpha=1.0, degree=15, gamma=0.01, kernel=polynomial; total time=   0.0s\n",
      "[CV] END alpha=1.0, degree=15, gamma=0.01, kernel=polynomial; total time=   0.0s\n",
      "[CV] END alpha=1.0, degree=15, gamma=0.01, kernel=polynomial; total time=   0.0s\n",
      "[CV] END alpha=1.0, degree=15, gamma=0.01, kernel=polynomial; total time=   0.0s\n",
      "[CV] END ....alpha=1.0, degree=15, gamma=0.01, kernel=cosine; total time=   0.0s\n",
      "[CV] END ....alpha=1.0, degree=15, gamma=0.01, kernel=cosine; total time=   0.0s\n",
      "[CV] END ....alpha=1.0, degree=15, gamma=0.01, kernel=cosine; total time=   0.0s\n",
      "[CV] END ....alpha=1.0, degree=15, gamma=0.01, kernel=cosine; total time=   0.0s\n",
      "[CV] END ....alpha=1.0, degree=15, gamma=0.01, kernel=cosine; total time=   0.0s\n",
      "[CV] END ........alpha=1.0, degree=15, gamma=0.1, kernel=rbf; total time=   0.0s\n",
      "[CV] END ........alpha=1.0, degree=15, gamma=0.1, kernel=rbf; total time=   0.0s\n",
      "[CV] END ........alpha=1.0, degree=15, gamma=0.1, kernel=rbf; total time=   0.0s\n",
      "[CV] END ........alpha=1.0, degree=15, gamma=0.1, kernel=rbf; total time=   0.0s\n",
      "[CV] END ........alpha=1.0, degree=15, gamma=0.1, kernel=rbf; total time=   0.0s\n",
      "[CV] END .alpha=1.0, degree=15, gamma=0.1, kernel=polynomial; total time=   0.0s\n",
      "[CV] END .alpha=1.0, degree=15, gamma=0.1, kernel=polynomial; total time=   0.0s\n",
      "[CV] END .alpha=1.0, degree=15, gamma=0.1, kernel=polynomial; total time=   0.0s\n",
      "[CV] END .alpha=1.0, degree=15, gamma=0.1, kernel=polynomial; total time=   0.0s\n",
      "[CV] END .alpha=1.0, degree=15, gamma=0.1, kernel=polynomial; total time=   0.0s\n",
      "[CV] END .....alpha=1.0, degree=15, gamma=0.1, kernel=cosine; total time=   0.0s\n",
      "[CV] END .....alpha=1.0, degree=15, gamma=0.1, kernel=cosine; total time=   0.0s\n",
      "[CV] END .....alpha=1.0, degree=15, gamma=0.1, kernel=cosine; total time=   0.0s\n",
      "[CV] END .....alpha=1.0, degree=15, gamma=0.1, kernel=cosine; total time=   0.0s\n",
      "[CV] END .....alpha=1.0, degree=15, gamma=0.1, kernel=cosine; total time=   0.0s\n",
      "[CV] END ........alpha=1.0, degree=15, gamma=1.0, kernel=rbf; total time=   0.0s\n",
      "[CV] END ........alpha=1.0, degree=15, gamma=1.0, kernel=rbf; total time=   0.0s\n",
      "[CV] END ........alpha=1.0, degree=15, gamma=1.0, kernel=rbf; total time=   0.0s\n",
      "[CV] END ........alpha=1.0, degree=15, gamma=1.0, kernel=rbf; total time=   0.0s\n",
      "[CV] END ........alpha=1.0, degree=15, gamma=1.0, kernel=rbf; total time=   0.0s\n",
      "[CV] END .alpha=1.0, degree=15, gamma=1.0, kernel=polynomial; total time=   0.0s\n",
      "[CV] END .alpha=1.0, degree=15, gamma=1.0, kernel=polynomial; total time=   0.0s\n",
      "[CV] END .alpha=1.0, degree=15, gamma=1.0, kernel=polynomial; total time=   0.0s\n",
      "[CV] END .alpha=1.0, degree=15, gamma=1.0, kernel=polynomial; total time=   0.0s\n",
      "[CV] END .alpha=1.0, degree=15, gamma=1.0, kernel=polynomial; total time=   0.0s\n",
      "[CV] END .....alpha=1.0, degree=15, gamma=1.0, kernel=cosine; total time=   0.0s\n",
      "[CV] END .....alpha=1.0, degree=15, gamma=1.0, kernel=cosine; total time=   0.0s\n",
      "[CV] END .....alpha=1.0, degree=15, gamma=1.0, kernel=cosine; total time=   0.0s\n",
      "[CV] END .....alpha=1.0, degree=15, gamma=1.0, kernel=cosine; total time=   0.0s\n",
      "[CV] END .....alpha=1.0, degree=15, gamma=1.0, kernel=cosine; total time=   0.0s\n",
      "[CV] END .......alpha=1.0, degree=15, gamma=10.0, kernel=rbf; total time=   0.0s\n",
      "[CV] END .......alpha=1.0, degree=15, gamma=10.0, kernel=rbf; total time=   0.0s\n",
      "[CV] END .......alpha=1.0, degree=15, gamma=10.0, kernel=rbf; total time=   0.0s\n",
      "[CV] END .......alpha=1.0, degree=15, gamma=10.0, kernel=rbf; total time=   0.0s\n",
      "[CV] END .......alpha=1.0, degree=15, gamma=10.0, kernel=rbf; total time=   0.0s\n",
      "[CV] END alpha=1.0, degree=15, gamma=10.0, kernel=polynomial; total time=   0.0s\n",
      "[CV] END alpha=1.0, degree=15, gamma=10.0, kernel=polynomial; total time=   0.0s\n",
      "[CV] END alpha=1.0, degree=15, gamma=10.0, kernel=polynomial; total time=   0.0s\n",
      "[CV] END alpha=1.0, degree=15, gamma=10.0, kernel=polynomial; total time=   0.0s\n",
      "[CV] END alpha=1.0, degree=15, gamma=10.0, kernel=polynomial; total time=   0.0s\n"
     ]
    },
    {
     "name": "stderr",
     "output_type": "stream",
     "text": [
      "/home/chris/.local/lib/python3.11/site-packages/sklearn/linear_model/_ridge.py:239: UserWarning:\n",
      "\n",
      "Singular matrix in solving dual problem. Using least-squares solution instead.\n",
      "\n",
      "/home/chris/.local/lib/python3.11/site-packages/sklearn/linear_model/_ridge.py:239: UserWarning:\n",
      "\n",
      "Singular matrix in solving dual problem. Using least-squares solution instead.\n",
      "\n",
      "/home/chris/.local/lib/python3.11/site-packages/sklearn/linear_model/_ridge.py:239: UserWarning:\n",
      "\n",
      "Singular matrix in solving dual problem. Using least-squares solution instead.\n",
      "\n",
      "/home/chris/.local/lib/python3.11/site-packages/sklearn/linear_model/_ridge.py:239: UserWarning:\n",
      "\n",
      "Singular matrix in solving dual problem. Using least-squares solution instead.\n",
      "\n",
      "/home/chris/.local/lib/python3.11/site-packages/sklearn/linear_model/_ridge.py:239: UserWarning:\n",
      "\n",
      "Singular matrix in solving dual problem. Using least-squares solution instead.\n",
      "\n",
      "/home/chris/.local/lib/python3.11/site-packages/sklearn/linear_model/_ridge.py:239: UserWarning:\n",
      "\n",
      "Singular matrix in solving dual problem. Using least-squares solution instead.\n",
      "\n",
      "/home/chris/.local/lib/python3.11/site-packages/sklearn/linear_model/_ridge.py:239: UserWarning:\n",
      "\n",
      "Singular matrix in solving dual problem. Using least-squares solution instead.\n",
      "\n",
      "/home/chris/.local/lib/python3.11/site-packages/sklearn/linear_model/_ridge.py:239: UserWarning:\n",
      "\n",
      "Singular matrix in solving dual problem. Using least-squares solution instead.\n",
      "\n",
      "/home/chris/.local/lib/python3.11/site-packages/sklearn/linear_model/_ridge.py:239: UserWarning:\n",
      "\n",
      "Singular matrix in solving dual problem. Using least-squares solution instead.\n",
      "\n",
      "/home/chris/.local/lib/python3.11/site-packages/sklearn/linear_model/_ridge.py:239: UserWarning:\n",
      "\n",
      "Singular matrix in solving dual problem. Using least-squares solution instead.\n",
      "\n",
      "/home/chris/.local/lib/python3.11/site-packages/sklearn/linear_model/_ridge.py:239: UserWarning:\n",
      "\n",
      "Singular matrix in solving dual problem. Using least-squares solution instead.\n",
      "\n",
      "/home/chris/.local/lib/python3.11/site-packages/sklearn/linear_model/_ridge.py:239: UserWarning:\n",
      "\n",
      "Singular matrix in solving dual problem. Using least-squares solution instead.\n",
      "\n",
      "/home/chris/.local/lib/python3.11/site-packages/sklearn/linear_model/_ridge.py:239: UserWarning:\n",
      "\n",
      "Singular matrix in solving dual problem. Using least-squares solution instead.\n",
      "\n",
      "/home/chris/.local/lib/python3.11/site-packages/sklearn/linear_model/_ridge.py:239: UserWarning:\n",
      "\n",
      "Singular matrix in solving dual problem. Using least-squares solution instead.\n",
      "\n",
      "/home/chris/.local/lib/python3.11/site-packages/sklearn/linear_model/_ridge.py:239: UserWarning:\n",
      "\n",
      "Singular matrix in solving dual problem. Using least-squares solution instead.\n",
      "\n",
      "/home/chris/.local/lib/python3.11/site-packages/sklearn/linear_model/_ridge.py:239: UserWarning:\n",
      "\n",
      "Singular matrix in solving dual problem. Using least-squares solution instead.\n",
      "\n",
      "/home/chris/.local/lib/python3.11/site-packages/sklearn/linear_model/_ridge.py:239: UserWarning:\n",
      "\n",
      "Singular matrix in solving dual problem. Using least-squares solution instead.\n",
      "\n",
      "/home/chris/.local/lib/python3.11/site-packages/sklearn/linear_model/_ridge.py:239: UserWarning:\n",
      "\n",
      "Singular matrix in solving dual problem. Using least-squares solution instead.\n",
      "\n",
      "/home/chris/.local/lib/python3.11/site-packages/sklearn/linear_model/_ridge.py:239: UserWarning:\n",
      "\n",
      "Singular matrix in solving dual problem. Using least-squares solution instead.\n",
      "\n",
      "/home/chris/.local/lib/python3.11/site-packages/sklearn/linear_model/_ridge.py:239: UserWarning:\n",
      "\n",
      "Singular matrix in solving dual problem. Using least-squares solution instead.\n",
      "\n",
      "/home/chris/.local/lib/python3.11/site-packages/sklearn/linear_model/_ridge.py:239: UserWarning:\n",
      "\n",
      "Singular matrix in solving dual problem. Using least-squares solution instead.\n",
      "\n",
      "/home/chris/.local/lib/python3.11/site-packages/sklearn/linear_model/_ridge.py:239: UserWarning:\n",
      "\n",
      "Singular matrix in solving dual problem. Using least-squares solution instead.\n",
      "\n",
      "/home/chris/.local/lib/python3.11/site-packages/sklearn/linear_model/_ridge.py:239: UserWarning:\n",
      "\n",
      "Singular matrix in solving dual problem. Using least-squares solution instead.\n",
      "\n",
      "/home/chris/.local/lib/python3.11/site-packages/sklearn/linear_model/_ridge.py:239: UserWarning:\n",
      "\n",
      "Singular matrix in solving dual problem. Using least-squares solution instead.\n",
      "\n",
      "/home/chris/.local/lib/python3.11/site-packages/sklearn/linear_model/_ridge.py:239: UserWarning:\n",
      "\n",
      "Singular matrix in solving dual problem. Using least-squares solution instead.\n",
      "\n"
     ]
    },
    {
     "name": "stdout",
     "output_type": "stream",
     "text": [
      "[CV] END ....alpha=1.0, degree=15, gamma=10.0, kernel=cosine; total time=   0.0s\n",
      "[CV] END ....alpha=1.0, degree=15, gamma=10.0, kernel=cosine; total time=   0.0s\n",
      "[CV] END ....alpha=1.0, degree=15, gamma=10.0, kernel=cosine; total time=   0.0s\n",
      "[CV] END ....alpha=1.0, degree=15, gamma=10.0, kernel=cosine; total time=   0.0s\n",
      "[CV] END ....alpha=1.0, degree=15, gamma=10.0, kernel=cosine; total time=   0.0s\n",
      "[CV] END ......alpha=1.0, degree=15, gamma=100.0, kernel=rbf; total time=   0.0s\n",
      "[CV] END ......alpha=1.0, degree=15, gamma=100.0, kernel=rbf; total time=   0.0s\n",
      "[CV] END ......alpha=1.0, degree=15, gamma=100.0, kernel=rbf; total time=   0.0s\n",
      "[CV] END ......alpha=1.0, degree=15, gamma=100.0, kernel=rbf; total time=   0.0s\n",
      "[CV] END ......alpha=1.0, degree=15, gamma=100.0, kernel=rbf; total time=   0.0s\n",
      "[CV] END alpha=1.0, degree=15, gamma=100.0, kernel=polynomial; total time=   0.0s\n",
      "[CV] END alpha=1.0, degree=15, gamma=100.0, kernel=polynomial; total time=   0.0s\n",
      "[CV] END alpha=1.0, degree=15, gamma=100.0, kernel=polynomial; total time=   0.0s\n",
      "[CV] END alpha=1.0, degree=15, gamma=100.0, kernel=polynomial; total time=   0.0s\n",
      "[CV] END alpha=1.0, degree=15, gamma=100.0, kernel=polynomial; total time=   0.0s\n",
      "[CV] END ...alpha=1.0, degree=15, gamma=100.0, kernel=cosine; total time=   0.0s\n",
      "[CV] END ...alpha=1.0, degree=15, gamma=100.0, kernel=cosine; total time=   0.0s\n",
      "[CV] END ...alpha=1.0, degree=15, gamma=100.0, kernel=cosine; total time=   0.0s\n",
      "[CV] END ...alpha=1.0, degree=15, gamma=100.0, kernel=cosine; total time=   0.0s\n",
      "[CV] END ...alpha=1.0, degree=15, gamma=100.0, kernel=cosine; total time=   0.0s\n",
      "[CV] END .......alpha=1.0, degree=21, gamma=0.01, kernel=rbf; total time=   0.0s\n",
      "[CV] END .......alpha=1.0, degree=21, gamma=0.01, kernel=rbf; total time=   0.0s\n",
      "[CV] END .......alpha=1.0, degree=21, gamma=0.01, kernel=rbf; total time=   0.0s\n",
      "[CV] END .......alpha=1.0, degree=21, gamma=0.01, kernel=rbf; total time=   0.0s\n",
      "[CV] END .......alpha=1.0, degree=21, gamma=0.01, kernel=rbf; total time=   0.0s\n",
      "[CV] END alpha=1.0, degree=21, gamma=0.01, kernel=polynomial; total time=   0.0s\n",
      "[CV] END alpha=1.0, degree=21, gamma=0.01, kernel=polynomial; total time=   0.0s\n",
      "[CV] END alpha=1.0, degree=21, gamma=0.01, kernel=polynomial; total time=   0.0s\n",
      "[CV] END alpha=1.0, degree=21, gamma=0.01, kernel=polynomial; total time=   0.0s\n",
      "[CV] END alpha=1.0, degree=21, gamma=0.01, kernel=polynomial; total time=   0.0s\n",
      "[CV] END ....alpha=1.0, degree=21, gamma=0.01, kernel=cosine; total time=   0.0s\n",
      "[CV] END ....alpha=1.0, degree=21, gamma=0.01, kernel=cosine; total time=   0.0s\n",
      "[CV] END ....alpha=1.0, degree=21, gamma=0.01, kernel=cosine; total time=   0.0s\n",
      "[CV] END ....alpha=1.0, degree=21, gamma=0.01, kernel=cosine; total time=   0.0s\n",
      "[CV] END ....alpha=1.0, degree=21, gamma=0.01, kernel=cosine; total time=   0.0s\n",
      "[CV] END ........alpha=1.0, degree=21, gamma=0.1, kernel=rbf; total time=   0.0s\n",
      "[CV] END ........alpha=1.0, degree=21, gamma=0.1, kernel=rbf; total time=   0.0s\n",
      "[CV] END ........alpha=1.0, degree=21, gamma=0.1, kernel=rbf; total time=   0.0s\n",
      "[CV] END ........alpha=1.0, degree=21, gamma=0.1, kernel=rbf; total time=   0.0s\n",
      "[CV] END ........alpha=1.0, degree=21, gamma=0.1, kernel=rbf; total time=   0.0s\n",
      "[CV] END .alpha=1.0, degree=21, gamma=0.1, kernel=polynomial; total time=   0.0s\n",
      "[CV] END .alpha=1.0, degree=21, gamma=0.1, kernel=polynomial; total time=   0.0s\n",
      "[CV] END .alpha=1.0, degree=21, gamma=0.1, kernel=polynomial; total time=   0.0s\n",
      "[CV] END .alpha=1.0, degree=21, gamma=0.1, kernel=polynomial; total time=   0.0s\n",
      "[CV] END .alpha=1.0, degree=21, gamma=0.1, kernel=polynomial; total time=   0.0s\n",
      "[CV] END .....alpha=1.0, degree=21, gamma=0.1, kernel=cosine; total time=   0.0s\n",
      "[CV] END .....alpha=1.0, degree=21, gamma=0.1, kernel=cosine; total time=   0.0s\n",
      "[CV] END .....alpha=1.0, degree=21, gamma=0.1, kernel=cosine; total time=   0.0s\n",
      "[CV] END .....alpha=1.0, degree=21, gamma=0.1, kernel=cosine; total time=   0.0s\n",
      "[CV] END .....alpha=1.0, degree=21, gamma=0.1, kernel=cosine; total time=   0.0s\n",
      "[CV] END ........alpha=1.0, degree=21, gamma=1.0, kernel=rbf; total time=   0.0s\n",
      "[CV] END ........alpha=1.0, degree=21, gamma=1.0, kernel=rbf; total time=   0.0s\n",
      "[CV] END ........alpha=1.0, degree=21, gamma=1.0, kernel=rbf; total time=   0.0s\n",
      "[CV] END ........alpha=1.0, degree=21, gamma=1.0, kernel=rbf; total time=   0.0s\n",
      "[CV] END ........alpha=1.0, degree=21, gamma=1.0, kernel=rbf; total time=   0.0s\n",
      "[CV] END .alpha=1.0, degree=21, gamma=1.0, kernel=polynomial; total time=   0.0s\n",
      "[CV] END .alpha=1.0, degree=21, gamma=1.0, kernel=polynomial; total time=   0.0s\n",
      "[CV] END .alpha=1.0, degree=21, gamma=1.0, kernel=polynomial; total time=   0.0s\n",
      "[CV] END .alpha=1.0, degree=21, gamma=1.0, kernel=polynomial; total time=   0.0s\n",
      "[CV] END .alpha=1.0, degree=21, gamma=1.0, kernel=polynomial; total time=   0.0s\n",
      "[CV] END .....alpha=1.0, degree=21, gamma=1.0, kernel=cosine; total time=   0.0s\n",
      "[CV] END .....alpha=1.0, degree=21, gamma=1.0, kernel=cosine; total time=   0.0s\n",
      "[CV] END .....alpha=1.0, degree=21, gamma=1.0, kernel=cosine; total time=   0.0s\n",
      "[CV] END .....alpha=1.0, degree=21, gamma=1.0, kernel=cosine; total time=   0.0s\n",
      "[CV] END .....alpha=1.0, degree=21, gamma=1.0, kernel=cosine; total time=   0.0s\n",
      "[CV] END .......alpha=1.0, degree=21, gamma=10.0, kernel=rbf; total time=   0.0s\n",
      "[CV] END .......alpha=1.0, degree=21, gamma=10.0, kernel=rbf; total time=   0.0s\n",
      "[CV] END .......alpha=1.0, degree=21, gamma=10.0, kernel=rbf; total time=   0.0s\n",
      "[CV] END .......alpha=1.0, degree=21, gamma=10.0, kernel=rbf; total time=   0.0s\n",
      "[CV] END .......alpha=1.0, degree=21, gamma=10.0, kernel=rbf; total time=   0.0s\n",
      "[CV] END alpha=1.0, degree=21, gamma=10.0, kernel=polynomial; total time=   0.0s\n",
      "[CV] END alpha=1.0, degree=21, gamma=10.0, kernel=polynomial; total time=   0.0s\n",
      "[CV] END alpha=1.0, degree=21, gamma=10.0, kernel=polynomial; total time=   0.0s\n",
      "[CV] END alpha=1.0, degree=21, gamma=10.0, kernel=polynomial; total time=   0.0s\n",
      "[CV] END alpha=1.0, degree=21, gamma=10.0, kernel=polynomial; total time=   0.0s\n",
      "[CV] END ....alpha=1.0, degree=21, gamma=10.0, kernel=cosine; total time=   0.0s\n",
      "[CV] END ....alpha=1.0, degree=21, gamma=10.0, kernel=cosine; total time=   0.0s\n",
      "[CV] END ....alpha=1.0, degree=21, gamma=10.0, kernel=cosine; total time=   0.0s\n",
      "[CV] END ....alpha=1.0, degree=21, gamma=10.0, kernel=cosine; total time=   0.0s\n",
      "[CV] END ....alpha=1.0, degree=21, gamma=10.0, kernel=cosine; total time=   0.0s\n",
      "[CV] END ......alpha=1.0, degree=21, gamma=100.0, kernel=rbf; total time=   0.0s\n",
      "[CV] END ......alpha=1.0, degree=21, gamma=100.0, kernel=rbf; total time=   0.0s\n",
      "[CV] END ......alpha=1.0, degree=21, gamma=100.0, kernel=rbf; total time=   0.0s\n",
      "[CV] END ......alpha=1.0, degree=21, gamma=100.0, kernel=rbf; total time=   0.0s\n",
      "[CV] END ......alpha=1.0, degree=21, gamma=100.0, kernel=rbf; total time=   0.0s\n",
      "[CV] END alpha=1.0, degree=21, gamma=100.0, kernel=polynomial; total time=   0.0s\n",
      "[CV] END alpha=1.0, degree=21, gamma=100.0, kernel=polynomial; total time=   0.0s\n",
      "[CV] END alpha=1.0, degree=21, gamma=100.0, kernel=polynomial; total time=   0.0s\n",
      "[CV] END alpha=1.0, degree=21, gamma=100.0, kernel=polynomial; total time=   0.0s\n",
      "[CV] END alpha=1.0, degree=21, gamma=100.0, kernel=polynomial; total time=   0.0s\n",
      "[CV] END ...alpha=1.0, degree=21, gamma=100.0, kernel=cosine; total time=   0.0s\n",
      "[CV] END ...alpha=1.0, degree=21, gamma=100.0, kernel=cosine; total time=   0.0s\n",
      "[CV] END ...alpha=1.0, degree=21, gamma=100.0, kernel=cosine; total time=   0.0s\n",
      "[CV] END ...alpha=1.0, degree=21, gamma=100.0, kernel=cosine; total time=   0.0s\n",
      "[CV] END ...alpha=1.0, degree=21, gamma=100.0, kernel=cosine; total time=   0.0s\n",
      "[CV] END ........alpha=0.1, degree=7, gamma=0.01, kernel=rbf; total time=   0.0s\n",
      "[CV] END ........alpha=0.1, degree=7, gamma=0.01, kernel=rbf; total time=   0.0s\n",
      "[CV] END ........alpha=0.1, degree=7, gamma=0.01, kernel=rbf; total time=   0.0s\n",
      "[CV] END ........alpha=0.1, degree=7, gamma=0.01, kernel=rbf; total time=   0.0s\n",
      "[CV] END ........alpha=0.1, degree=7, gamma=0.01, kernel=rbf; total time=   0.0s\n",
      "[CV] END .alpha=0.1, degree=7, gamma=0.01, kernel=polynomial; total time=   0.0s\n",
      "[CV] END .alpha=0.1, degree=7, gamma=0.01, kernel=polynomial; total time=   0.0s\n",
      "[CV] END .alpha=0.1, degree=7, gamma=0.01, kernel=polynomial; total time=   0.0s\n",
      "[CV] END .alpha=0.1, degree=7, gamma=0.01, kernel=polynomial; total time=   0.0s\n",
      "[CV] END .alpha=0.1, degree=7, gamma=0.01, kernel=polynomial; total time=   0.0s\n",
      "[CV] END .....alpha=0.1, degree=7, gamma=0.01, kernel=cosine; total time=   0.0s\n",
      "[CV] END .....alpha=0.1, degree=7, gamma=0.01, kernel=cosine; total time=   0.0s\n"
     ]
    },
    {
     "name": "stderr",
     "output_type": "stream",
     "text": [
      "/home/chris/.local/lib/python3.11/site-packages/sklearn/linear_model/_ridge.py:239: UserWarning:\n",
      "\n",
      "Singular matrix in solving dual problem. Using least-squares solution instead.\n",
      "\n",
      "/home/chris/.local/lib/python3.11/site-packages/sklearn/linear_model/_ridge.py:239: UserWarning:\n",
      "\n",
      "Singular matrix in solving dual problem. Using least-squares solution instead.\n",
      "\n",
      "/home/chris/.local/lib/python3.11/site-packages/sklearn/linear_model/_ridge.py:239: UserWarning:\n",
      "\n",
      "Singular matrix in solving dual problem. Using least-squares solution instead.\n",
      "\n",
      "/home/chris/.local/lib/python3.11/site-packages/sklearn/linear_model/_ridge.py:239: UserWarning:\n",
      "\n",
      "Singular matrix in solving dual problem. Using least-squares solution instead.\n",
      "\n",
      "/home/chris/.local/lib/python3.11/site-packages/sklearn/linear_model/_ridge.py:239: UserWarning:\n",
      "\n",
      "Singular matrix in solving dual problem. Using least-squares solution instead.\n",
      "\n",
      "/home/chris/.local/lib/python3.11/site-packages/sklearn/linear_model/_ridge.py:239: UserWarning:\n",
      "\n",
      "Singular matrix in solving dual problem. Using least-squares solution instead.\n",
      "\n",
      "/home/chris/.local/lib/python3.11/site-packages/sklearn/linear_model/_ridge.py:239: UserWarning:\n",
      "\n",
      "Singular matrix in solving dual problem. Using least-squares solution instead.\n",
      "\n",
      "/home/chris/.local/lib/python3.11/site-packages/sklearn/linear_model/_ridge.py:239: UserWarning:\n",
      "\n",
      "Singular matrix in solving dual problem. Using least-squares solution instead.\n",
      "\n",
      "/home/chris/.local/lib/python3.11/site-packages/sklearn/linear_model/_ridge.py:239: UserWarning:\n",
      "\n",
      "Singular matrix in solving dual problem. Using least-squares solution instead.\n",
      "\n",
      "/home/chris/.local/lib/python3.11/site-packages/sklearn/linear_model/_ridge.py:239: UserWarning:\n",
      "\n",
      "Singular matrix in solving dual problem. Using least-squares solution instead.\n",
      "\n",
      "/home/chris/.local/lib/python3.11/site-packages/sklearn/linear_model/_ridge.py:239: UserWarning:\n",
      "\n",
      "Singular matrix in solving dual problem. Using least-squares solution instead.\n",
      "\n",
      "/home/chris/.local/lib/python3.11/site-packages/sklearn/linear_model/_ridge.py:239: UserWarning:\n",
      "\n",
      "Singular matrix in solving dual problem. Using least-squares solution instead.\n",
      "\n",
      "/home/chris/.local/lib/python3.11/site-packages/sklearn/linear_model/_ridge.py:239: UserWarning:\n",
      "\n",
      "Singular matrix in solving dual problem. Using least-squares solution instead.\n",
      "\n",
      "/home/chris/.local/lib/python3.11/site-packages/sklearn/linear_model/_ridge.py:239: UserWarning:\n",
      "\n",
      "Singular matrix in solving dual problem. Using least-squares solution instead.\n",
      "\n",
      "/home/chris/.local/lib/python3.11/site-packages/sklearn/linear_model/_ridge.py:239: UserWarning:\n",
      "\n",
      "Singular matrix in solving dual problem. Using least-squares solution instead.\n",
      "\n"
     ]
    },
    {
     "name": "stdout",
     "output_type": "stream",
     "text": [
      "[CV] END .....alpha=0.1, degree=7, gamma=0.01, kernel=cosine; total time=   0.0s\n",
      "[CV] END .....alpha=0.1, degree=7, gamma=0.01, kernel=cosine; total time=   0.0s\n",
      "[CV] END .....alpha=0.1, degree=7, gamma=0.01, kernel=cosine; total time=   0.0s\n",
      "[CV] END .........alpha=0.1, degree=7, gamma=0.1, kernel=rbf; total time=   0.0s\n",
      "[CV] END .........alpha=0.1, degree=7, gamma=0.1, kernel=rbf; total time=   0.0s\n",
      "[CV] END .........alpha=0.1, degree=7, gamma=0.1, kernel=rbf; total time=   0.0s\n",
      "[CV] END .........alpha=0.1, degree=7, gamma=0.1, kernel=rbf; total time=   0.0s\n",
      "[CV] END .........alpha=0.1, degree=7, gamma=0.1, kernel=rbf; total time=   0.0s\n",
      "[CV] END ..alpha=0.1, degree=7, gamma=0.1, kernel=polynomial; total time=   0.0s\n",
      "[CV] END ..alpha=0.1, degree=7, gamma=0.1, kernel=polynomial; total time=   0.0s\n",
      "[CV] END ..alpha=0.1, degree=7, gamma=0.1, kernel=polynomial; total time=   0.0s\n",
      "[CV] END ..alpha=0.1, degree=7, gamma=0.1, kernel=polynomial; total time=   0.0s\n",
      "[CV] END ..alpha=0.1, degree=7, gamma=0.1, kernel=polynomial; total time=   0.0s\n",
      "[CV] END ......alpha=0.1, degree=7, gamma=0.1, kernel=cosine; total time=   0.0s\n",
      "[CV] END ......alpha=0.1, degree=7, gamma=0.1, kernel=cosine; total time=   0.0s\n",
      "[CV] END ......alpha=0.1, degree=7, gamma=0.1, kernel=cosine; total time=   0.0s\n",
      "[CV] END ......alpha=0.1, degree=7, gamma=0.1, kernel=cosine; total time=   0.0s\n",
      "[CV] END ......alpha=0.1, degree=7, gamma=0.1, kernel=cosine; total time=   0.0s\n",
      "[CV] END .........alpha=0.1, degree=7, gamma=1.0, kernel=rbf; total time=   0.0s\n",
      "[CV] END .........alpha=0.1, degree=7, gamma=1.0, kernel=rbf; total time=   0.0s\n",
      "[CV] END .........alpha=0.1, degree=7, gamma=1.0, kernel=rbf; total time=   0.0s\n",
      "[CV] END .........alpha=0.1, degree=7, gamma=1.0, kernel=rbf; total time=   0.0s\n",
      "[CV] END .........alpha=0.1, degree=7, gamma=1.0, kernel=rbf; total time=   0.0s\n",
      "[CV] END ..alpha=0.1, degree=7, gamma=1.0, kernel=polynomial; total time=   0.0s\n",
      "[CV] END ..alpha=0.1, degree=7, gamma=1.0, kernel=polynomial; total time=   0.0s\n",
      "[CV] END ..alpha=0.1, degree=7, gamma=1.0, kernel=polynomial; total time=   0.0s\n",
      "[CV] END ..alpha=0.1, degree=7, gamma=1.0, kernel=polynomial; total time=   0.0s\n",
      "[CV] END ..alpha=0.1, degree=7, gamma=1.0, kernel=polynomial; total time=   0.0s\n",
      "[CV] END ......alpha=0.1, degree=7, gamma=1.0, kernel=cosine; total time=   0.0s\n",
      "[CV] END ......alpha=0.1, degree=7, gamma=1.0, kernel=cosine; total time=   0.0s\n",
      "[CV] END ......alpha=0.1, degree=7, gamma=1.0, kernel=cosine; total time=   0.0s\n",
      "[CV] END ......alpha=0.1, degree=7, gamma=1.0, kernel=cosine; total time=   0.0s\n",
      "[CV] END ......alpha=0.1, degree=7, gamma=1.0, kernel=cosine; total time=   0.0s\n",
      "[CV] END ........alpha=0.1, degree=7, gamma=10.0, kernel=rbf; total time=   0.0s\n",
      "[CV] END ........alpha=0.1, degree=7, gamma=10.0, kernel=rbf; total time=   0.0s\n",
      "[CV] END ........alpha=0.1, degree=7, gamma=10.0, kernel=rbf; total time=   0.0s\n",
      "[CV] END ........alpha=0.1, degree=7, gamma=10.0, kernel=rbf; total time=   0.0s\n",
      "[CV] END ........alpha=0.1, degree=7, gamma=10.0, kernel=rbf; total time=   0.0s\n",
      "[CV] END .alpha=0.1, degree=7, gamma=10.0, kernel=polynomial; total time=   0.0s\n",
      "[CV] END .alpha=0.1, degree=7, gamma=10.0, kernel=polynomial; total time=   0.0s\n",
      "[CV] END .alpha=0.1, degree=7, gamma=10.0, kernel=polynomial; total time=   0.0s\n",
      "[CV] END .alpha=0.1, degree=7, gamma=10.0, kernel=polynomial; total time=   0.0s\n",
      "[CV] END .alpha=0.1, degree=7, gamma=10.0, kernel=polynomial; total time=   0.0s\n",
      "[CV] END .....alpha=0.1, degree=7, gamma=10.0, kernel=cosine; total time=   0.0s\n",
      "[CV] END .....alpha=0.1, degree=7, gamma=10.0, kernel=cosine; total time=   0.0s\n",
      "[CV] END .....alpha=0.1, degree=7, gamma=10.0, kernel=cosine; total time=   0.0s\n",
      "[CV] END .....alpha=0.1, degree=7, gamma=10.0, kernel=cosine; total time=   0.0s\n",
      "[CV] END .....alpha=0.1, degree=7, gamma=10.0, kernel=cosine; total time=   0.0s\n",
      "[CV] END .......alpha=0.1, degree=7, gamma=100.0, kernel=rbf; total time=   0.0s\n",
      "[CV] END .......alpha=0.1, degree=7, gamma=100.0, kernel=rbf; total time=   0.0s\n",
      "[CV] END .......alpha=0.1, degree=7, gamma=100.0, kernel=rbf; total time=   0.0s\n",
      "[CV] END .......alpha=0.1, degree=7, gamma=100.0, kernel=rbf; total time=   0.0s\n",
      "[CV] END .......alpha=0.1, degree=7, gamma=100.0, kernel=rbf; total time=   0.0s\n",
      "[CV] END alpha=0.1, degree=7, gamma=100.0, kernel=polynomial; total time=   0.0s\n",
      "[CV] END alpha=0.1, degree=7, gamma=100.0, kernel=polynomial; total time=   0.0s\n",
      "[CV] END alpha=0.1, degree=7, gamma=100.0, kernel=polynomial; total time=   0.0s\n",
      "[CV] END alpha=0.1, degree=7, gamma=100.0, kernel=polynomial; total time=   0.0s\n",
      "[CV] END alpha=0.1, degree=7, gamma=100.0, kernel=polynomial; total time=   0.0s\n",
      "[CV] END ....alpha=0.1, degree=7, gamma=100.0, kernel=cosine; total time=   0.0s\n",
      "[CV] END ....alpha=0.1, degree=7, gamma=100.0, kernel=cosine; total time=   0.0s\n",
      "[CV] END ....alpha=0.1, degree=7, gamma=100.0, kernel=cosine; total time=   0.0s\n",
      "[CV] END ....alpha=0.1, degree=7, gamma=100.0, kernel=cosine; total time=   0.0s\n",
      "[CV] END ....alpha=0.1, degree=7, gamma=100.0, kernel=cosine; total time=   0.0s\n",
      "[CV] END ........alpha=0.1, degree=9, gamma=0.01, kernel=rbf; total time=   0.0s\n",
      "[CV] END ........alpha=0.1, degree=9, gamma=0.01, kernel=rbf; total time=   0.0s\n",
      "[CV] END ........alpha=0.1, degree=9, gamma=0.01, kernel=rbf; total time=   0.0s\n",
      "[CV] END ........alpha=0.1, degree=9, gamma=0.01, kernel=rbf; total time=   0.0s\n",
      "[CV] END ........alpha=0.1, degree=9, gamma=0.01, kernel=rbf; total time=   0.0s\n",
      "[CV] END .alpha=0.1, degree=9, gamma=0.01, kernel=polynomial; total time=   0.0s\n",
      "[CV] END .alpha=0.1, degree=9, gamma=0.01, kernel=polynomial; total time=   0.0s\n",
      "[CV] END .alpha=0.1, degree=9, gamma=0.01, kernel=polynomial; total time=   0.0s\n",
      "[CV] END .alpha=0.1, degree=9, gamma=0.01, kernel=polynomial; total time=   0.0s\n",
      "[CV] END .alpha=0.1, degree=9, gamma=0.01, kernel=polynomial; total time=   0.0s\n",
      "[CV] END .....alpha=0.1, degree=9, gamma=0.01, kernel=cosine; total time=   0.0s\n",
      "[CV] END .....alpha=0.1, degree=9, gamma=0.01, kernel=cosine; total time=   0.0s\n",
      "[CV] END .....alpha=0.1, degree=9, gamma=0.01, kernel=cosine; total time=   0.0s\n",
      "[CV] END .....alpha=0.1, degree=9, gamma=0.01, kernel=cosine; total time=   0.0s\n",
      "[CV] END .....alpha=0.1, degree=9, gamma=0.01, kernel=cosine; total time=   0.0s\n",
      "[CV] END .........alpha=0.1, degree=9, gamma=0.1, kernel=rbf; total time=   0.0s\n",
      "[CV] END .........alpha=0.1, degree=9, gamma=0.1, kernel=rbf; total time=   0.0s\n",
      "[CV] END .........alpha=0.1, degree=9, gamma=0.1, kernel=rbf; total time=   0.0s\n",
      "[CV] END .........alpha=0.1, degree=9, gamma=0.1, kernel=rbf; total time=   0.0s\n",
      "[CV] END .........alpha=0.1, degree=9, gamma=0.1, kernel=rbf; total time=   0.0s\n",
      "[CV] END ..alpha=0.1, degree=9, gamma=0.1, kernel=polynomial; total time=   0.0s\n",
      "[CV] END ..alpha=0.1, degree=9, gamma=0.1, kernel=polynomial; total time=   0.0s\n",
      "[CV] END ..alpha=0.1, degree=9, gamma=0.1, kernel=polynomial; total time=   0.0s\n",
      "[CV] END ..alpha=0.1, degree=9, gamma=0.1, kernel=polynomial; total time=   0.0s\n",
      "[CV] END ..alpha=0.1, degree=9, gamma=0.1, kernel=polynomial; total time=   0.0s\n",
      "[CV] END ......alpha=0.1, degree=9, gamma=0.1, kernel=cosine; total time=   0.0s\n",
      "[CV] END ......alpha=0.1, degree=9, gamma=0.1, kernel=cosine; total time=   0.0s\n",
      "[CV] END ......alpha=0.1, degree=9, gamma=0.1, kernel=cosine; total time=   0.0s\n",
      "[CV] END ......alpha=0.1, degree=9, gamma=0.1, kernel=cosine; total time=   0.0s\n",
      "[CV] END ......alpha=0.1, degree=9, gamma=0.1, kernel=cosine; total time=   0.0s\n",
      "[CV] END .........alpha=0.1, degree=9, gamma=1.0, kernel=rbf; total time=   0.0s\n",
      "[CV] END .........alpha=0.1, degree=9, gamma=1.0, kernel=rbf; total time=   0.0s\n",
      "[CV] END .........alpha=0.1, degree=9, gamma=1.0, kernel=rbf; total time=   0.0s\n",
      "[CV] END .........alpha=0.1, degree=9, gamma=1.0, kernel=rbf; total time=   0.0s\n",
      "[CV] END .........alpha=0.1, degree=9, gamma=1.0, kernel=rbf; total time=   0.0s\n",
      "[CV] END ..alpha=0.1, degree=9, gamma=1.0, kernel=polynomial; total time=   0.0s\n",
      "[CV] END ..alpha=0.1, degree=9, gamma=1.0, kernel=polynomial; total time=   0.0s\n",
      "[CV] END ..alpha=0.1, degree=9, gamma=1.0, kernel=polynomial; total time=   0.0s\n",
      "[CV] END ..alpha=0.1, degree=9, gamma=1.0, kernel=polynomial; total time=   0.0s\n",
      "[CV] END ..alpha=0.1, degree=9, gamma=1.0, kernel=polynomial; total time=   0.0s\n",
      "[CV] END ......alpha=0.1, degree=9, gamma=1.0, kernel=cosine; total time=   0.0s\n",
      "[CV] END ......alpha=0.1, degree=9, gamma=1.0, kernel=cosine; total time=   0.0s\n",
      "[CV] END ......alpha=0.1, degree=9, gamma=1.0, kernel=cosine; total time=   0.0s\n",
      "[CV] END ......alpha=0.1, degree=9, gamma=1.0, kernel=cosine; total time=   0.0s\n",
      "[CV] END ......alpha=0.1, degree=9, gamma=1.0, kernel=cosine; total time=   0.0s\n",
      "[CV] END ........alpha=0.1, degree=9, gamma=10.0, kernel=rbf; total time=   0.0s\n",
      "[CV] END ........alpha=0.1, degree=9, gamma=10.0, kernel=rbf; total time=   0.0s\n",
      "[CV] END ........alpha=0.1, degree=9, gamma=10.0, kernel=rbf; total time=   0.0s\n",
      "[CV] END ........alpha=0.1, degree=9, gamma=10.0, kernel=rbf; total time=   0.0s\n",
      "[CV] END ........alpha=0.1, degree=9, gamma=10.0, kernel=rbf; total time=   0.0s\n",
      "[CV] END .alpha=0.1, degree=9, gamma=10.0, kernel=polynomial; total time=   0.0s\n",
      "[CV] END .alpha=0.1, degree=9, gamma=10.0, kernel=polynomial; total time=   0.0s\n",
      "[CV] END .alpha=0.1, degree=9, gamma=10.0, kernel=polynomial; total time=   0.0s\n",
      "[CV] END .alpha=0.1, degree=9, gamma=10.0, kernel=polynomial; total time=   0.0s\n",
      "[CV] END .alpha=0.1, degree=9, gamma=10.0, kernel=polynomial; total time=   0.0s\n",
      "[CV] END .....alpha=0.1, degree=9, gamma=10.0, kernel=cosine; total time=   0.0s\n",
      "[CV] END .....alpha=0.1, degree=9, gamma=10.0, kernel=cosine; total time=   0.0s\n",
      "[CV] END .....alpha=0.1, degree=9, gamma=10.0, kernel=cosine; total time=   0.0s\n",
      "[CV] END .....alpha=0.1, degree=9, gamma=10.0, kernel=cosine; total time=   0.0s\n",
      "[CV] END .....alpha=0.1, degree=9, gamma=10.0, kernel=cosine; total time=   0.0s\n",
      "[CV] END .......alpha=0.1, degree=9, gamma=100.0, kernel=rbf; total time=   0.0s\n",
      "[CV] END .......alpha=0.1, degree=9, gamma=100.0, kernel=rbf; total time=   0.0s\n",
      "[CV] END .......alpha=0.1, degree=9, gamma=100.0, kernel=rbf; total time=   0.0s\n",
      "[CV] END .......alpha=0.1, degree=9, gamma=100.0, kernel=rbf; total time=   0.0s\n",
      "[CV] END .......alpha=0.1, degree=9, gamma=100.0, kernel=rbf; total time=   0.0s\n",
      "[CV] END alpha=0.1, degree=9, gamma=100.0, kernel=polynomial; total time=   0.0s\n",
      "[CV] END alpha=0.1, degree=9, gamma=100.0, kernel=polynomial; total time=   0.0s\n",
      "[CV] END alpha=0.1, degree=9, gamma=100.0, kernel=polynomial; total time=   0.0s\n",
      "[CV] END alpha=0.1, degree=9, gamma=100.0, kernel=polynomial; total time=   0.0s\n",
      "[CV] END alpha=0.1, degree=9, gamma=100.0, kernel=polynomial; total time=   0.0s\n",
      "[CV] END ....alpha=0.1, degree=9, gamma=100.0, kernel=cosine; total time=   0.0s\n",
      "[CV] END ....alpha=0.1, degree=9, gamma=100.0, kernel=cosine; total time=   0.0s\n",
      "[CV] END ....alpha=0.1, degree=9, gamma=100.0, kernel=cosine; total time=   0.0s\n",
      "[CV] END ....alpha=0.1, degree=9, gamma=100.0, kernel=cosine; total time=   0.0s\n",
      "[CV] END ....alpha=0.1, degree=9, gamma=100.0, kernel=cosine; total time=   0.0s\n",
      "[CV] END .......alpha=0.1, degree=11, gamma=0.01, kernel=rbf; total time=   0.0s\n",
      "[CV] END .......alpha=0.1, degree=11, gamma=0.01, kernel=rbf; total time=   0.0s\n",
      "[CV] END .......alpha=0.1, degree=11, gamma=0.01, kernel=rbf; total time=   0.0s\n",
      "[CV] END .......alpha=0.1, degree=11, gamma=0.01, kernel=rbf; total time=   0.0s\n",
      "[CV] END .......alpha=0.1, degree=11, gamma=0.01, kernel=rbf; total time=   0.0s\n",
      "[CV] END alpha=0.1, degree=11, gamma=0.01, kernel=polynomial; total time=   0.0s\n",
      "[CV] END alpha=0.1, degree=11, gamma=0.01, kernel=polynomial; total time=   0.0s\n",
      "[CV] END alpha=0.1, degree=11, gamma=0.01, kernel=polynomial; total time=   0.0s\n",
      "[CV] END alpha=0.1, degree=11, gamma=0.01, kernel=polynomial; total time=   0.0s\n",
      "[CV] END alpha=0.1, degree=11, gamma=0.01, kernel=polynomial; total time=   0.0s\n",
      "[CV] END ....alpha=0.1, degree=11, gamma=0.01, kernel=cosine; total time=   0.0s\n",
      "[CV] END ....alpha=0.1, degree=11, gamma=0.01, kernel=cosine; total time=   0.0s\n",
      "[CV] END ....alpha=0.1, degree=11, gamma=0.01, kernel=cosine; total time=   0.0s\n",
      "[CV] END ....alpha=0.1, degree=11, gamma=0.01, kernel=cosine; total time=   0.0s\n",
      "[CV] END ....alpha=0.1, degree=11, gamma=0.01, kernel=cosine; total time=   0.0s\n",
      "[CV] END ........alpha=0.1, degree=11, gamma=0.1, kernel=rbf; total time=   0.0s\n",
      "[CV] END ........alpha=0.1, degree=11, gamma=0.1, kernel=rbf; total time=   0.0s\n",
      "[CV] END ........alpha=0.1, degree=11, gamma=0.1, kernel=rbf; total time=   0.0s\n",
      "[CV] END ........alpha=0.1, degree=11, gamma=0.1, kernel=rbf; total time=   0.0s\n",
      "[CV] END ........alpha=0.1, degree=11, gamma=0.1, kernel=rbf; total time=   0.0s\n",
      "[CV] END .alpha=0.1, degree=11, gamma=0.1, kernel=polynomial; total time=   0.0s\n",
      "[CV] END .alpha=0.1, degree=11, gamma=0.1, kernel=polynomial; total time=   0.0s\n",
      "[CV] END .alpha=0.1, degree=11, gamma=0.1, kernel=polynomial; total time=   0.0s\n",
      "[CV] END .alpha=0.1, degree=11, gamma=0.1, kernel=polynomial; total time=   0.0s\n",
      "[CV] END .alpha=0.1, degree=11, gamma=0.1, kernel=polynomial; total time=   0.0s\n",
      "[CV] END .....alpha=0.1, degree=11, gamma=0.1, kernel=cosine; total time=   0.0s\n",
      "[CV] END .....alpha=0.1, degree=11, gamma=0.1, kernel=cosine; total time=   0.0s\n",
      "[CV] END .....alpha=0.1, degree=11, gamma=0.1, kernel=cosine; total time=   0.0s\n",
      "[CV] END .....alpha=0.1, degree=11, gamma=0.1, kernel=cosine; total time=   0.0s\n",
      "[CV] END .....alpha=0.1, degree=11, gamma=0.1, kernel=cosine; total time=   0.0s\n",
      "[CV] END ........alpha=0.1, degree=11, gamma=1.0, kernel=rbf; total time=   0.0s\n",
      "[CV] END ........alpha=0.1, degree=11, gamma=1.0, kernel=rbf; total time=   0.0s\n",
      "[CV] END ........alpha=0.1, degree=11, gamma=1.0, kernel=rbf; total time=   0.0s\n",
      "[CV] END ........alpha=0.1, degree=11, gamma=1.0, kernel=rbf; total time=   0.0s\n",
      "[CV] END ........alpha=0.1, degree=11, gamma=1.0, kernel=rbf; total time=   0.0s\n",
      "[CV] END .alpha=0.1, degree=11, gamma=1.0, kernel=polynomial; total time=   0.0s\n",
      "[CV] END .alpha=0.1, degree=11, gamma=1.0, kernel=polynomial; total time=   0.0s\n",
      "[CV] END .alpha=0.1, degree=11, gamma=1.0, kernel=polynomial; total time=   0.0s\n",
      "[CV] END .alpha=0.1, degree=11, gamma=1.0, kernel=polynomial; total time=   0.0s\n",
      "[CV] END .alpha=0.1, degree=11, gamma=1.0, kernel=polynomial; total time=   0.0s\n",
      "[CV] END .....alpha=0.1, degree=11, gamma=1.0, kernel=cosine; total time=   0.0s\n",
      "[CV] END .....alpha=0.1, degree=11, gamma=1.0, kernel=cosine; total time=   0.0s\n",
      "[CV] END .....alpha=0.1, degree=11, gamma=1.0, kernel=cosine; total time=   0.0s\n",
      "[CV] END .....alpha=0.1, degree=11, gamma=1.0, kernel=cosine; total time=   0.0s\n",
      "[CV] END .....alpha=0.1, degree=11, gamma=1.0, kernel=cosine; total time=   0.0s\n",
      "[CV] END .......alpha=0.1, degree=11, gamma=10.0, kernel=rbf; total time=   0.0s\n",
      "[CV] END .......alpha=0.1, degree=11, gamma=10.0, kernel=rbf; total time=   0.0s\n",
      "[CV] END .......alpha=0.1, degree=11, gamma=10.0, kernel=rbf; total time=   0.0s\n",
      "[CV] END .......alpha=0.1, degree=11, gamma=10.0, kernel=rbf; total time=   0.0s\n",
      "[CV] END .......alpha=0.1, degree=11, gamma=10.0, kernel=rbf; total time=   0.0s\n",
      "[CV] END alpha=0.1, degree=11, gamma=10.0, kernel=polynomial; total time=   0.0s\n",
      "[CV] END alpha=0.1, degree=11, gamma=10.0, kernel=polynomial; total time=   0.0s\n",
      "[CV] END alpha=0.1, degree=11, gamma=10.0, kernel=polynomial; total time=   0.0s\n",
      "[CV] END alpha=0.1, degree=11, gamma=10.0, kernel=polynomial; total time=   0.0s\n",
      "[CV] END alpha=0.1, degree=11, gamma=10.0, kernel=polynomial; total time=   0.0s\n",
      "[CV] END ....alpha=0.1, degree=11, gamma=10.0, kernel=cosine; total time=   0.0s\n",
      "[CV] END ....alpha=0.1, degree=11, gamma=10.0, kernel=cosine; total time=   0.0s\n",
      "[CV] END ....alpha=0.1, degree=11, gamma=10.0, kernel=cosine; total time=   0.0s\n",
      "[CV] END ....alpha=0.1, degree=11, gamma=10.0, kernel=cosine; total time=   0.0s\n",
      "[CV] END ....alpha=0.1, degree=11, gamma=10.0, kernel=cosine; total time=   0.0s\n"
     ]
    },
    {
     "name": "stderr",
     "output_type": "stream",
     "text": [
      "/home/chris/.local/lib/python3.11/site-packages/sklearn/linear_model/_ridge.py:239: UserWarning:\n",
      "\n",
      "Singular matrix in solving dual problem. Using least-squares solution instead.\n",
      "\n",
      "/home/chris/.local/lib/python3.11/site-packages/sklearn/linear_model/_ridge.py:239: UserWarning:\n",
      "\n",
      "Singular matrix in solving dual problem. Using least-squares solution instead.\n",
      "\n",
      "/home/chris/.local/lib/python3.11/site-packages/sklearn/linear_model/_ridge.py:239: UserWarning:\n",
      "\n",
      "Singular matrix in solving dual problem. Using least-squares solution instead.\n",
      "\n",
      "/home/chris/.local/lib/python3.11/site-packages/sklearn/linear_model/_ridge.py:239: UserWarning:\n",
      "\n",
      "Singular matrix in solving dual problem. Using least-squares solution instead.\n",
      "\n",
      "/home/chris/.local/lib/python3.11/site-packages/sklearn/linear_model/_ridge.py:239: UserWarning:\n",
      "\n",
      "Singular matrix in solving dual problem. Using least-squares solution instead.\n",
      "\n",
      "/home/chris/.local/lib/python3.11/site-packages/sklearn/linear_model/_ridge.py:239: UserWarning:\n",
      "\n",
      "Singular matrix in solving dual problem. Using least-squares solution instead.\n",
      "\n",
      "/home/chris/.local/lib/python3.11/site-packages/sklearn/linear_model/_ridge.py:239: UserWarning:\n",
      "\n",
      "Singular matrix in solving dual problem. Using least-squares solution instead.\n",
      "\n",
      "/home/chris/.local/lib/python3.11/site-packages/sklearn/linear_model/_ridge.py:239: UserWarning:\n",
      "\n",
      "Singular matrix in solving dual problem. Using least-squares solution instead.\n",
      "\n",
      "/home/chris/.local/lib/python3.11/site-packages/sklearn/linear_model/_ridge.py:239: UserWarning:\n",
      "\n",
      "Singular matrix in solving dual problem. Using least-squares solution instead.\n",
      "\n",
      "/home/chris/.local/lib/python3.11/site-packages/sklearn/linear_model/_ridge.py:239: UserWarning:\n",
      "\n",
      "Singular matrix in solving dual problem. Using least-squares solution instead.\n",
      "\n",
      "/home/chris/.local/lib/python3.11/site-packages/sklearn/linear_model/_ridge.py:239: UserWarning:\n",
      "\n",
      "Singular matrix in solving dual problem. Using least-squares solution instead.\n",
      "\n",
      "/home/chris/.local/lib/python3.11/site-packages/sklearn/linear_model/_ridge.py:239: UserWarning:\n",
      "\n",
      "Singular matrix in solving dual problem. Using least-squares solution instead.\n",
      "\n",
      "/home/chris/.local/lib/python3.11/site-packages/sklearn/linear_model/_ridge.py:239: UserWarning:\n",
      "\n",
      "Singular matrix in solving dual problem. Using least-squares solution instead.\n",
      "\n",
      "/home/chris/.local/lib/python3.11/site-packages/sklearn/linear_model/_ridge.py:239: UserWarning:\n",
      "\n",
      "Singular matrix in solving dual problem. Using least-squares solution instead.\n",
      "\n",
      "/home/chris/.local/lib/python3.11/site-packages/sklearn/linear_model/_ridge.py:239: UserWarning:\n",
      "\n",
      "Singular matrix in solving dual problem. Using least-squares solution instead.\n",
      "\n",
      "/home/chris/.local/lib/python3.11/site-packages/sklearn/linear_model/_ridge.py:239: UserWarning:\n",
      "\n",
      "Singular matrix in solving dual problem. Using least-squares solution instead.\n",
      "\n",
      "/home/chris/.local/lib/python3.11/site-packages/sklearn/linear_model/_ridge.py:239: UserWarning:\n",
      "\n",
      "Singular matrix in solving dual problem. Using least-squares solution instead.\n",
      "\n",
      "/home/chris/.local/lib/python3.11/site-packages/sklearn/linear_model/_ridge.py:239: UserWarning:\n",
      "\n",
      "Singular matrix in solving dual problem. Using least-squares solution instead.\n",
      "\n",
      "/home/chris/.local/lib/python3.11/site-packages/sklearn/linear_model/_ridge.py:239: UserWarning:\n",
      "\n",
      "Singular matrix in solving dual problem. Using least-squares solution instead.\n",
      "\n",
      "/home/chris/.local/lib/python3.11/site-packages/sklearn/linear_model/_ridge.py:239: UserWarning:\n",
      "\n",
      "Singular matrix in solving dual problem. Using least-squares solution instead.\n",
      "\n",
      "/home/chris/.local/lib/python3.11/site-packages/sklearn/linear_model/_ridge.py:239: UserWarning:\n",
      "\n",
      "Singular matrix in solving dual problem. Using least-squares solution instead.\n",
      "\n",
      "/home/chris/.local/lib/python3.11/site-packages/sklearn/linear_model/_ridge.py:239: UserWarning:\n",
      "\n",
      "Singular matrix in solving dual problem. Using least-squares solution instead.\n",
      "\n",
      "/home/chris/.local/lib/python3.11/site-packages/sklearn/linear_model/_ridge.py:239: UserWarning:\n",
      "\n",
      "Singular matrix in solving dual problem. Using least-squares solution instead.\n",
      "\n",
      "/home/chris/.local/lib/python3.11/site-packages/sklearn/linear_model/_ridge.py:239: UserWarning:\n",
      "\n",
      "Singular matrix in solving dual problem. Using least-squares solution instead.\n",
      "\n",
      "/home/chris/.local/lib/python3.11/site-packages/sklearn/linear_model/_ridge.py:239: UserWarning:\n",
      "\n",
      "Singular matrix in solving dual problem. Using least-squares solution instead.\n",
      "\n"
     ]
    },
    {
     "name": "stdout",
     "output_type": "stream",
     "text": [
      "[CV] END ......alpha=0.1, degree=11, gamma=100.0, kernel=rbf; total time=   0.0s\n",
      "[CV] END ......alpha=0.1, degree=11, gamma=100.0, kernel=rbf; total time=   0.0s\n",
      "[CV] END ......alpha=0.1, degree=11, gamma=100.0, kernel=rbf; total time=   0.0s\n",
      "[CV] END ......alpha=0.1, degree=11, gamma=100.0, kernel=rbf; total time=   0.0s\n",
      "[CV] END ......alpha=0.1, degree=11, gamma=100.0, kernel=rbf; total time=   0.0s\n",
      "[CV] END alpha=0.1, degree=11, gamma=100.0, kernel=polynomial; total time=   0.0s\n",
      "[CV] END alpha=0.1, degree=11, gamma=100.0, kernel=polynomial; total time=   0.0s\n",
      "[CV] END alpha=0.1, degree=11, gamma=100.0, kernel=polynomial; total time=   0.0s\n",
      "[CV] END alpha=0.1, degree=11, gamma=100.0, kernel=polynomial; total time=   0.0s\n",
      "[CV] END alpha=0.1, degree=11, gamma=100.0, kernel=polynomial; total time=   0.0s\n",
      "[CV] END ...alpha=0.1, degree=11, gamma=100.0, kernel=cosine; total time=   0.0s\n",
      "[CV] END ...alpha=0.1, degree=11, gamma=100.0, kernel=cosine; total time=   0.0s\n",
      "[CV] END ...alpha=0.1, degree=11, gamma=100.0, kernel=cosine; total time=   0.0s\n",
      "[CV] END ...alpha=0.1, degree=11, gamma=100.0, kernel=cosine; total time=   0.0s\n",
      "[CV] END ...alpha=0.1, degree=11, gamma=100.0, kernel=cosine; total time=   0.0s\n",
      "[CV] END .......alpha=0.1, degree=15, gamma=0.01, kernel=rbf; total time=   0.0s\n",
      "[CV] END .......alpha=0.1, degree=15, gamma=0.01, kernel=rbf; total time=   0.0s\n",
      "[CV] END .......alpha=0.1, degree=15, gamma=0.01, kernel=rbf; total time=   0.0s\n",
      "[CV] END .......alpha=0.1, degree=15, gamma=0.01, kernel=rbf; total time=   0.0s\n",
      "[CV] END .......alpha=0.1, degree=15, gamma=0.01, kernel=rbf; total time=   0.0s\n",
      "[CV] END alpha=0.1, degree=15, gamma=0.01, kernel=polynomial; total time=   0.0s\n",
      "[CV] END alpha=0.1, degree=15, gamma=0.01, kernel=polynomial; total time=   0.0s\n",
      "[CV] END alpha=0.1, degree=15, gamma=0.01, kernel=polynomial; total time=   0.0s\n",
      "[CV] END alpha=0.1, degree=15, gamma=0.01, kernel=polynomial; total time=   0.0s\n",
      "[CV] END alpha=0.1, degree=15, gamma=0.01, kernel=polynomial; total time=   0.0s\n",
      "[CV] END ....alpha=0.1, degree=15, gamma=0.01, kernel=cosine; total time=   0.0s\n",
      "[CV] END ....alpha=0.1, degree=15, gamma=0.01, kernel=cosine; total time=   0.0s\n",
      "[CV] END ....alpha=0.1, degree=15, gamma=0.01, kernel=cosine; total time=   0.0s\n",
      "[CV] END ....alpha=0.1, degree=15, gamma=0.01, kernel=cosine; total time=   0.0s\n",
      "[CV] END ....alpha=0.1, degree=15, gamma=0.01, kernel=cosine; total time=   0.0s\n",
      "[CV] END ........alpha=0.1, degree=15, gamma=0.1, kernel=rbf; total time=   0.0s\n",
      "[CV] END ........alpha=0.1, degree=15, gamma=0.1, kernel=rbf; total time=   0.0s\n",
      "[CV] END ........alpha=0.1, degree=15, gamma=0.1, kernel=rbf; total time=   0.0s\n",
      "[CV] END ........alpha=0.1, degree=15, gamma=0.1, kernel=rbf; total time=   0.0s\n",
      "[CV] END ........alpha=0.1, degree=15, gamma=0.1, kernel=rbf; total time=   0.0s\n",
      "[CV] END .alpha=0.1, degree=15, gamma=0.1, kernel=polynomial; total time=   0.0s\n",
      "[CV] END .alpha=0.1, degree=15, gamma=0.1, kernel=polynomial; total time=   0.0s\n",
      "[CV] END .alpha=0.1, degree=15, gamma=0.1, kernel=polynomial; total time=   0.0s\n",
      "[CV] END .alpha=0.1, degree=15, gamma=0.1, kernel=polynomial; total time=   0.0s\n",
      "[CV] END .alpha=0.1, degree=15, gamma=0.1, kernel=polynomial; total time=   0.0s\n",
      "[CV] END .....alpha=0.1, degree=15, gamma=0.1, kernel=cosine; total time=   0.0s\n",
      "[CV] END .....alpha=0.1, degree=15, gamma=0.1, kernel=cosine; total time=   0.0s\n",
      "[CV] END .....alpha=0.1, degree=15, gamma=0.1, kernel=cosine; total time=   0.0s\n",
      "[CV] END .....alpha=0.1, degree=15, gamma=0.1, kernel=cosine; total time=   0.0s\n",
      "[CV] END .....alpha=0.1, degree=15, gamma=0.1, kernel=cosine; total time=   0.0s\n",
      "[CV] END ........alpha=0.1, degree=15, gamma=1.0, kernel=rbf; total time=   0.0s\n",
      "[CV] END ........alpha=0.1, degree=15, gamma=1.0, kernel=rbf; total time=   0.0s\n",
      "[CV] END ........alpha=0.1, degree=15, gamma=1.0, kernel=rbf; total time=   0.0s\n",
      "[CV] END ........alpha=0.1, degree=15, gamma=1.0, kernel=rbf; total time=   0.0s\n",
      "[CV] END ........alpha=0.1, degree=15, gamma=1.0, kernel=rbf; total time=   0.0s\n",
      "[CV] END .alpha=0.1, degree=15, gamma=1.0, kernel=polynomial; total time=   0.0s\n",
      "[CV] END .alpha=0.1, degree=15, gamma=1.0, kernel=polynomial; total time=   0.0s\n",
      "[CV] END .alpha=0.1, degree=15, gamma=1.0, kernel=polynomial; total time=   0.0s\n",
      "[CV] END .alpha=0.1, degree=15, gamma=1.0, kernel=polynomial; total time=   0.0s\n",
      "[CV] END .alpha=0.1, degree=15, gamma=1.0, kernel=polynomial; total time=   0.0s\n",
      "[CV] END .....alpha=0.1, degree=15, gamma=1.0, kernel=cosine; total time=   0.0s\n",
      "[CV] END .....alpha=0.1, degree=15, gamma=1.0, kernel=cosine; total time=   0.0s\n",
      "[CV] END .....alpha=0.1, degree=15, gamma=1.0, kernel=cosine; total time=   0.0s\n",
      "[CV] END .....alpha=0.1, degree=15, gamma=1.0, kernel=cosine; total time=   0.0s\n",
      "[CV] END .....alpha=0.1, degree=15, gamma=1.0, kernel=cosine; total time=   0.0s\n",
      "[CV] END .......alpha=0.1, degree=15, gamma=10.0, kernel=rbf; total time=   0.0s\n",
      "[CV] END .......alpha=0.1, degree=15, gamma=10.0, kernel=rbf; total time=   0.0s\n",
      "[CV] END .......alpha=0.1, degree=15, gamma=10.0, kernel=rbf; total time=   0.0s\n",
      "[CV] END .......alpha=0.1, degree=15, gamma=10.0, kernel=rbf; total time=   0.0s\n",
      "[CV] END .......alpha=0.1, degree=15, gamma=10.0, kernel=rbf; total time=   0.0s\n",
      "[CV] END alpha=0.1, degree=15, gamma=10.0, kernel=polynomial; total time=   0.0s\n",
      "[CV] END alpha=0.1, degree=15, gamma=10.0, kernel=polynomial; total time=   0.0s\n",
      "[CV] END alpha=0.1, degree=15, gamma=10.0, kernel=polynomial; total time=   0.0s\n",
      "[CV] END alpha=0.1, degree=15, gamma=10.0, kernel=polynomial; total time=   0.0s\n",
      "[CV] END alpha=0.1, degree=15, gamma=10.0, kernel=polynomial; total time=   0.0s\n",
      "[CV] END ....alpha=0.1, degree=15, gamma=10.0, kernel=cosine; total time=   0.0s\n",
      "[CV] END ....alpha=0.1, degree=15, gamma=10.0, kernel=cosine; total time=   0.0s\n",
      "[CV] END ....alpha=0.1, degree=15, gamma=10.0, kernel=cosine; total time=   0.0s\n",
      "[CV] END ....alpha=0.1, degree=15, gamma=10.0, kernel=cosine; total time=   0.0s\n",
      "[CV] END ....alpha=0.1, degree=15, gamma=10.0, kernel=cosine; total time=   0.0s\n",
      "[CV] END ......alpha=0.1, degree=15, gamma=100.0, kernel=rbf; total time=   0.0s\n",
      "[CV] END ......alpha=0.1, degree=15, gamma=100.0, kernel=rbf; total time=   0.0s\n",
      "[CV] END ......alpha=0.1, degree=15, gamma=100.0, kernel=rbf; total time=   0.0s\n",
      "[CV] END ......alpha=0.1, degree=15, gamma=100.0, kernel=rbf; total time=   0.0s\n",
      "[CV] END ......alpha=0.1, degree=15, gamma=100.0, kernel=rbf; total time=   0.0s\n",
      "[CV] END alpha=0.1, degree=15, gamma=100.0, kernel=polynomial; total time=   0.0s\n",
      "[CV] END alpha=0.1, degree=15, gamma=100.0, kernel=polynomial; total time=   0.0s\n",
      "[CV] END alpha=0.1, degree=15, gamma=100.0, kernel=polynomial; total time=   0.0s\n",
      "[CV] END alpha=0.1, degree=15, gamma=100.0, kernel=polynomial; total time=   0.0s\n",
      "[CV] END alpha=0.1, degree=15, gamma=100.0, kernel=polynomial; total time=   0.0s\n",
      "[CV] END ...alpha=0.1, degree=15, gamma=100.0, kernel=cosine; total time=   0.0s\n",
      "[CV] END ...alpha=0.1, degree=15, gamma=100.0, kernel=cosine; total time=   0.0s\n",
      "[CV] END ...alpha=0.1, degree=15, gamma=100.0, kernel=cosine; total time=   0.0s\n",
      "[CV] END ...alpha=0.1, degree=15, gamma=100.0, kernel=cosine; total time=   0.0s\n",
      "[CV] END ...alpha=0.1, degree=15, gamma=100.0, kernel=cosine; total time=   0.0s\n",
      "[CV] END .......alpha=0.1, degree=21, gamma=0.01, kernel=rbf; total time=   0.0s\n",
      "[CV] END .......alpha=0.1, degree=21, gamma=0.01, kernel=rbf; total time=   0.0s\n",
      "[CV] END .......alpha=0.1, degree=21, gamma=0.01, kernel=rbf; total time=   0.0s\n",
      "[CV] END .......alpha=0.1, degree=21, gamma=0.01, kernel=rbf; total time=   0.0s\n",
      "[CV] END .......alpha=0.1, degree=21, gamma=0.01, kernel=rbf; total time=   0.0s\n",
      "[CV] END alpha=0.1, degree=21, gamma=0.01, kernel=polynomial; total time=   0.0s\n",
      "[CV] END alpha=0.1, degree=21, gamma=0.01, kernel=polynomial; total time=   0.0s\n",
      "[CV] END alpha=0.1, degree=21, gamma=0.01, kernel=polynomial; total time=   0.0s\n",
      "[CV] END alpha=0.1, degree=21, gamma=0.01, kernel=polynomial; total time=   0.0s\n",
      "[CV] END alpha=0.1, degree=21, gamma=0.01, kernel=polynomial; total time=   0.0s\n",
      "[CV] END ....alpha=0.1, degree=21, gamma=0.01, kernel=cosine; total time=   0.0s\n",
      "[CV] END ....alpha=0.1, degree=21, gamma=0.01, kernel=cosine; total time=   0.0s\n",
      "[CV] END ....alpha=0.1, degree=21, gamma=0.01, kernel=cosine; total time=   0.0s\n",
      "[CV] END ....alpha=0.1, degree=21, gamma=0.01, kernel=cosine; total time=   0.0s\n"
     ]
    },
    {
     "name": "stderr",
     "output_type": "stream",
     "text": [
      "/home/chris/.local/lib/python3.11/site-packages/sklearn/linear_model/_ridge.py:239: UserWarning:\n",
      "\n",
      "Singular matrix in solving dual problem. Using least-squares solution instead.\n",
      "\n",
      "/home/chris/.local/lib/python3.11/site-packages/sklearn/linear_model/_ridge.py:239: UserWarning:\n",
      "\n",
      "Singular matrix in solving dual problem. Using least-squares solution instead.\n",
      "\n",
      "/home/chris/.local/lib/python3.11/site-packages/sklearn/linear_model/_ridge.py:239: UserWarning:\n",
      "\n",
      "Singular matrix in solving dual problem. Using least-squares solution instead.\n",
      "\n",
      "/home/chris/.local/lib/python3.11/site-packages/sklearn/linear_model/_ridge.py:239: UserWarning:\n",
      "\n",
      "Singular matrix in solving dual problem. Using least-squares solution instead.\n",
      "\n",
      "/home/chris/.local/lib/python3.11/site-packages/sklearn/linear_model/_ridge.py:239: UserWarning:\n",
      "\n",
      "Singular matrix in solving dual problem. Using least-squares solution instead.\n",
      "\n",
      "/home/chris/.local/lib/python3.11/site-packages/sklearn/linear_model/_ridge.py:239: UserWarning:\n",
      "\n",
      "Singular matrix in solving dual problem. Using least-squares solution instead.\n",
      "\n",
      "/home/chris/.local/lib/python3.11/site-packages/sklearn/linear_model/_ridge.py:239: UserWarning:\n",
      "\n",
      "Singular matrix in solving dual problem. Using least-squares solution instead.\n",
      "\n",
      "/home/chris/.local/lib/python3.11/site-packages/sklearn/linear_model/_ridge.py:239: UserWarning:\n",
      "\n",
      "Singular matrix in solving dual problem. Using least-squares solution instead.\n",
      "\n",
      "/home/chris/.local/lib/python3.11/site-packages/sklearn/linear_model/_ridge.py:239: UserWarning:\n",
      "\n",
      "Singular matrix in solving dual problem. Using least-squares solution instead.\n",
      "\n",
      "/home/chris/.local/lib/python3.11/site-packages/sklearn/linear_model/_ridge.py:239: UserWarning:\n",
      "\n",
      "Singular matrix in solving dual problem. Using least-squares solution instead.\n",
      "\n",
      "/home/chris/.local/lib/python3.11/site-packages/sklearn/linear_model/_ridge.py:239: UserWarning:\n",
      "\n",
      "Singular matrix in solving dual problem. Using least-squares solution instead.\n",
      "\n",
      "/home/chris/.local/lib/python3.11/site-packages/sklearn/linear_model/_ridge.py:239: UserWarning:\n",
      "\n",
      "Singular matrix in solving dual problem. Using least-squares solution instead.\n",
      "\n",
      "/home/chris/.local/lib/python3.11/site-packages/sklearn/linear_model/_ridge.py:239: UserWarning:\n",
      "\n",
      "Singular matrix in solving dual problem. Using least-squares solution instead.\n",
      "\n",
      "/home/chris/.local/lib/python3.11/site-packages/sklearn/linear_model/_ridge.py:239: UserWarning:\n",
      "\n",
      "Singular matrix in solving dual problem. Using least-squares solution instead.\n",
      "\n",
      "/home/chris/.local/lib/python3.11/site-packages/sklearn/linear_model/_ridge.py:239: UserWarning:\n",
      "\n",
      "Singular matrix in solving dual problem. Using least-squares solution instead.\n",
      "\n",
      "/home/chris/.local/lib/python3.11/site-packages/sklearn/linear_model/_ridge.py:239: UserWarning:\n",
      "\n",
      "Singular matrix in solving dual problem. Using least-squares solution instead.\n",
      "\n",
      "/home/chris/.local/lib/python3.11/site-packages/sklearn/linear_model/_ridge.py:239: UserWarning:\n",
      "\n",
      "Singular matrix in solving dual problem. Using least-squares solution instead.\n",
      "\n",
      "/home/chris/.local/lib/python3.11/site-packages/sklearn/linear_model/_ridge.py:239: UserWarning:\n",
      "\n",
      "Singular matrix in solving dual problem. Using least-squares solution instead.\n",
      "\n",
      "/home/chris/.local/lib/python3.11/site-packages/sklearn/linear_model/_ridge.py:239: UserWarning:\n",
      "\n",
      "Singular matrix in solving dual problem. Using least-squares solution instead.\n",
      "\n",
      "/home/chris/.local/lib/python3.11/site-packages/sklearn/linear_model/_ridge.py:239: UserWarning:\n",
      "\n",
      "Singular matrix in solving dual problem. Using least-squares solution instead.\n",
      "\n",
      "/home/chris/.local/lib/python3.11/site-packages/sklearn/linear_model/_ridge.py:239: UserWarning:\n",
      "\n",
      "Singular matrix in solving dual problem. Using least-squares solution instead.\n",
      "\n",
      "/home/chris/.local/lib/python3.11/site-packages/sklearn/linear_model/_ridge.py:239: UserWarning:\n",
      "\n",
      "Singular matrix in solving dual problem. Using least-squares solution instead.\n",
      "\n",
      "/home/chris/.local/lib/python3.11/site-packages/sklearn/linear_model/_ridge.py:239: UserWarning:\n",
      "\n",
      "Singular matrix in solving dual problem. Using least-squares solution instead.\n",
      "\n",
      "/home/chris/.local/lib/python3.11/site-packages/sklearn/linear_model/_ridge.py:239: UserWarning:\n",
      "\n",
      "Singular matrix in solving dual problem. Using least-squares solution instead.\n",
      "\n",
      "/home/chris/.local/lib/python3.11/site-packages/sklearn/linear_model/_ridge.py:239: UserWarning:\n",
      "\n",
      "Singular matrix in solving dual problem. Using least-squares solution instead.\n",
      "\n",
      "/home/chris/.local/lib/python3.11/site-packages/sklearn/linear_model/_ridge.py:239: UserWarning:\n",
      "\n",
      "Singular matrix in solving dual problem. Using least-squares solution instead.\n",
      "\n",
      "/home/chris/.local/lib/python3.11/site-packages/sklearn/linear_model/_ridge.py:239: UserWarning:\n",
      "\n",
      "Singular matrix in solving dual problem. Using least-squares solution instead.\n",
      "\n",
      "/home/chris/.local/lib/python3.11/site-packages/sklearn/linear_model/_ridge.py:239: UserWarning:\n",
      "\n",
      "Singular matrix in solving dual problem. Using least-squares solution instead.\n",
      "\n",
      "/home/chris/.local/lib/python3.11/site-packages/sklearn/linear_model/_ridge.py:239: UserWarning:\n",
      "\n",
      "Singular matrix in solving dual problem. Using least-squares solution instead.\n",
      "\n",
      "/home/chris/.local/lib/python3.11/site-packages/sklearn/linear_model/_ridge.py:239: UserWarning:\n",
      "\n",
      "Singular matrix in solving dual problem. Using least-squares solution instead.\n",
      "\n"
     ]
    },
    {
     "name": "stdout",
     "output_type": "stream",
     "text": [
      "[CV] END ....alpha=0.1, degree=21, gamma=0.01, kernel=cosine; total time=   0.0s\n",
      "[CV] END ........alpha=0.1, degree=21, gamma=0.1, kernel=rbf; total time=   0.0s\n",
      "[CV] END ........alpha=0.1, degree=21, gamma=0.1, kernel=rbf; total time=   0.0s\n",
      "[CV] END ........alpha=0.1, degree=21, gamma=0.1, kernel=rbf; total time=   0.0s\n",
      "[CV] END ........alpha=0.1, degree=21, gamma=0.1, kernel=rbf; total time=   0.0s\n",
      "[CV] END ........alpha=0.1, degree=21, gamma=0.1, kernel=rbf; total time=   0.0s\n",
      "[CV] END .alpha=0.1, degree=21, gamma=0.1, kernel=polynomial; total time=   0.0s\n",
      "[CV] END .alpha=0.1, degree=21, gamma=0.1, kernel=polynomial; total time=   0.0s\n",
      "[CV] END .alpha=0.1, degree=21, gamma=0.1, kernel=polynomial; total time=   0.0s\n",
      "[CV] END .alpha=0.1, degree=21, gamma=0.1, kernel=polynomial; total time=   0.0s\n",
      "[CV] END .alpha=0.1, degree=21, gamma=0.1, kernel=polynomial; total time=   0.0s\n",
      "[CV] END .....alpha=0.1, degree=21, gamma=0.1, kernel=cosine; total time=   0.0s\n",
      "[CV] END .....alpha=0.1, degree=21, gamma=0.1, kernel=cosine; total time=   0.0s\n",
      "[CV] END .....alpha=0.1, degree=21, gamma=0.1, kernel=cosine; total time=   0.0s\n",
      "[CV] END .....alpha=0.1, degree=21, gamma=0.1, kernel=cosine; total time=   0.0s\n",
      "[CV] END .....alpha=0.1, degree=21, gamma=0.1, kernel=cosine; total time=   0.0s\n",
      "[CV] END ........alpha=0.1, degree=21, gamma=1.0, kernel=rbf; total time=   0.0s\n",
      "[CV] END ........alpha=0.1, degree=21, gamma=1.0, kernel=rbf; total time=   0.0s\n",
      "[CV] END ........alpha=0.1, degree=21, gamma=1.0, kernel=rbf; total time=   0.0s\n",
      "[CV] END ........alpha=0.1, degree=21, gamma=1.0, kernel=rbf; total time=   0.0s\n",
      "[CV] END ........alpha=0.1, degree=21, gamma=1.0, kernel=rbf; total time=   0.0s\n",
      "[CV] END .alpha=0.1, degree=21, gamma=1.0, kernel=polynomial; total time=   0.0s\n",
      "[CV] END .alpha=0.1, degree=21, gamma=1.0, kernel=polynomial; total time=   0.0s\n",
      "[CV] END .alpha=0.1, degree=21, gamma=1.0, kernel=polynomial; total time=   0.0s\n",
      "[CV] END .alpha=0.1, degree=21, gamma=1.0, kernel=polynomial; total time=   0.0s\n",
      "[CV] END .alpha=0.1, degree=21, gamma=1.0, kernel=polynomial; total time=   0.0s\n",
      "[CV] END .....alpha=0.1, degree=21, gamma=1.0, kernel=cosine; total time=   0.0s\n",
      "[CV] END .....alpha=0.1, degree=21, gamma=1.0, kernel=cosine; total time=   0.0s\n",
      "[CV] END .....alpha=0.1, degree=21, gamma=1.0, kernel=cosine; total time=   0.0s\n",
      "[CV] END .....alpha=0.1, degree=21, gamma=1.0, kernel=cosine; total time=   0.0s\n",
      "[CV] END .....alpha=0.1, degree=21, gamma=1.0, kernel=cosine; total time=   0.0s\n",
      "[CV] END .......alpha=0.1, degree=21, gamma=10.0, kernel=rbf; total time=   0.0s\n",
      "[CV] END .......alpha=0.1, degree=21, gamma=10.0, kernel=rbf; total time=   0.0s\n",
      "[CV] END .......alpha=0.1, degree=21, gamma=10.0, kernel=rbf; total time=   0.0s\n",
      "[CV] END .......alpha=0.1, degree=21, gamma=10.0, kernel=rbf; total time=   0.0s\n",
      "[CV] END .......alpha=0.1, degree=21, gamma=10.0, kernel=rbf; total time=   0.0s\n",
      "[CV] END alpha=0.1, degree=21, gamma=10.0, kernel=polynomial; total time=   0.0s\n",
      "[CV] END alpha=0.1, degree=21, gamma=10.0, kernel=polynomial; total time=   0.0s\n",
      "[CV] END alpha=0.1, degree=21, gamma=10.0, kernel=polynomial; total time=   0.0s\n",
      "[CV] END alpha=0.1, degree=21, gamma=10.0, kernel=polynomial; total time=   0.0s\n",
      "[CV] END alpha=0.1, degree=21, gamma=10.0, kernel=polynomial; total time=   0.0s\n",
      "[CV] END ....alpha=0.1, degree=21, gamma=10.0, kernel=cosine; total time=   0.0s\n",
      "[CV] END ....alpha=0.1, degree=21, gamma=10.0, kernel=cosine; total time=   0.0s\n",
      "[CV] END ....alpha=0.1, degree=21, gamma=10.0, kernel=cosine; total time=   0.0s\n",
      "[CV] END ....alpha=0.1, degree=21, gamma=10.0, kernel=cosine; total time=   0.0s\n",
      "[CV] END ....alpha=0.1, degree=21, gamma=10.0, kernel=cosine; total time=   0.0s\n",
      "[CV] END ......alpha=0.1, degree=21, gamma=100.0, kernel=rbf; total time=   0.0s\n",
      "[CV] END ......alpha=0.1, degree=21, gamma=100.0, kernel=rbf; total time=   0.0s\n",
      "[CV] END ......alpha=0.1, degree=21, gamma=100.0, kernel=rbf; total time=   0.0s\n",
      "[CV] END ......alpha=0.1, degree=21, gamma=100.0, kernel=rbf; total time=   0.0s\n",
      "[CV] END ......alpha=0.1, degree=21, gamma=100.0, kernel=rbf; total time=   0.0s\n",
      "[CV] END alpha=0.1, degree=21, gamma=100.0, kernel=polynomial; total time=   0.0s\n",
      "[CV] END alpha=0.1, degree=21, gamma=100.0, kernel=polynomial; total time=   0.0s\n",
      "[CV] END alpha=0.1, degree=21, gamma=100.0, kernel=polynomial; total time=   0.0s\n",
      "[CV] END alpha=0.1, degree=21, gamma=100.0, kernel=polynomial; total time=   0.0s\n",
      "[CV] END alpha=0.1, degree=21, gamma=100.0, kernel=polynomial; total time=   0.0s\n",
      "[CV] END ...alpha=0.1, degree=21, gamma=100.0, kernel=cosine; total time=   0.0s\n",
      "[CV] END ...alpha=0.1, degree=21, gamma=100.0, kernel=cosine; total time=   0.0s\n",
      "[CV] END ...alpha=0.1, degree=21, gamma=100.0, kernel=cosine; total time=   0.0s\n",
      "[CV] END ...alpha=0.1, degree=21, gamma=100.0, kernel=cosine; total time=   0.0s\n",
      "[CV] END ...alpha=0.1, degree=21, gamma=100.0, kernel=cosine; total time=   0.0s\n",
      "[CV] END .......alpha=0.01, degree=7, gamma=0.01, kernel=rbf; total time=   0.0s\n",
      "[CV] END .......alpha=0.01, degree=7, gamma=0.01, kernel=rbf; total time=   0.0s\n",
      "[CV] END .......alpha=0.01, degree=7, gamma=0.01, kernel=rbf; total time=   0.0s\n",
      "[CV] END .......alpha=0.01, degree=7, gamma=0.01, kernel=rbf; total time=   0.0s\n",
      "[CV] END .......alpha=0.01, degree=7, gamma=0.01, kernel=rbf; total time=   0.0s\n",
      "[CV] END alpha=0.01, degree=7, gamma=0.01, kernel=polynomial; total time=   0.0s\n",
      "[CV] END alpha=0.01, degree=7, gamma=0.01, kernel=polynomial; total time=   0.0s\n",
      "[CV] END alpha=0.01, degree=7, gamma=0.01, kernel=polynomial; total time=   0.0s\n",
      "[CV] END alpha=0.01, degree=7, gamma=0.01, kernel=polynomial; total time=   0.0s\n",
      "[CV] END alpha=0.01, degree=7, gamma=0.01, kernel=polynomial; total time=   0.0s\n",
      "[CV] END ....alpha=0.01, degree=7, gamma=0.01, kernel=cosine; total time=   0.0s\n",
      "[CV] END ....alpha=0.01, degree=7, gamma=0.01, kernel=cosine; total time=   0.0s\n",
      "[CV] END ....alpha=0.01, degree=7, gamma=0.01, kernel=cosine; total time=   0.0s\n",
      "[CV] END ....alpha=0.01, degree=7, gamma=0.01, kernel=cosine; total time=   0.0s\n",
      "[CV] END ....alpha=0.01, degree=7, gamma=0.01, kernel=cosine; total time=   0.0s\n",
      "[CV] END ........alpha=0.01, degree=7, gamma=0.1, kernel=rbf; total time=   0.0s\n",
      "[CV] END ........alpha=0.01, degree=7, gamma=0.1, kernel=rbf; total time=   0.0s\n",
      "[CV] END ........alpha=0.01, degree=7, gamma=0.1, kernel=rbf; total time=   0.0s\n",
      "[CV] END ........alpha=0.01, degree=7, gamma=0.1, kernel=rbf; total time=   0.0s\n",
      "[CV] END ........alpha=0.01, degree=7, gamma=0.1, kernel=rbf; total time=   0.0s\n",
      "[CV] END .alpha=0.01, degree=7, gamma=0.1, kernel=polynomial; total time=   0.0s\n",
      "[CV] END .alpha=0.01, degree=7, gamma=0.1, kernel=polynomial; total time=   0.0s\n",
      "[CV] END .alpha=0.01, degree=7, gamma=0.1, kernel=polynomial; total time=   0.0s\n",
      "[CV] END .alpha=0.01, degree=7, gamma=0.1, kernel=polynomial; total time=   0.0s\n",
      "[CV] END .alpha=0.01, degree=7, gamma=0.1, kernel=polynomial; total time=   0.0s\n",
      "[CV] END .....alpha=0.01, degree=7, gamma=0.1, kernel=cosine; total time=   0.0s\n",
      "[CV] END .....alpha=0.01, degree=7, gamma=0.1, kernel=cosine; total time=   0.0s\n",
      "[CV] END .....alpha=0.01, degree=7, gamma=0.1, kernel=cosine; total time=   0.0s\n",
      "[CV] END .....alpha=0.01, degree=7, gamma=0.1, kernel=cosine; total time=   0.0s\n",
      "[CV] END .....alpha=0.01, degree=7, gamma=0.1, kernel=cosine; total time=   0.0s\n",
      "[CV] END ........alpha=0.01, degree=7, gamma=1.0, kernel=rbf; total time=   0.0s\n",
      "[CV] END ........alpha=0.01, degree=7, gamma=1.0, kernel=rbf; total time=   0.0s\n",
      "[CV] END ........alpha=0.01, degree=7, gamma=1.0, kernel=rbf; total time=   0.0s\n",
      "[CV] END ........alpha=0.01, degree=7, gamma=1.0, kernel=rbf; total time=   0.0s\n",
      "[CV] END ........alpha=0.01, degree=7, gamma=1.0, kernel=rbf; total time=   0.0s\n",
      "[CV] END .alpha=0.01, degree=7, gamma=1.0, kernel=polynomial; total time=   0.0s\n",
      "[CV] END .alpha=0.01, degree=7, gamma=1.0, kernel=polynomial; total time=   0.0s\n",
      "[CV] END .alpha=0.01, degree=7, gamma=1.0, kernel=polynomial; total time=   0.0s\n",
      "[CV] END .alpha=0.01, degree=7, gamma=1.0, kernel=polynomial; total time=   0.0s\n",
      "[CV] END .alpha=0.01, degree=7, gamma=1.0, kernel=polynomial; total time=   0.0s\n",
      "[CV] END .....alpha=0.01, degree=7, gamma=1.0, kernel=cosine; total time=   0.0s\n",
      "[CV] END .....alpha=0.01, degree=7, gamma=1.0, kernel=cosine; total time=   0.0s\n",
      "[CV] END .....alpha=0.01, degree=7, gamma=1.0, kernel=cosine; total time=   0.0s\n",
      "[CV] END .....alpha=0.01, degree=7, gamma=1.0, kernel=cosine; total time=   0.0s\n",
      "[CV] END .....alpha=0.01, degree=7, gamma=1.0, kernel=cosine; total time=   0.0s\n",
      "[CV] END .......alpha=0.01, degree=7, gamma=10.0, kernel=rbf; total time=   0.0s\n",
      "[CV] END .......alpha=0.01, degree=7, gamma=10.0, kernel=rbf; total time=   0.0s\n",
      "[CV] END .......alpha=0.01, degree=7, gamma=10.0, kernel=rbf; total time=   0.0s\n",
      "[CV] END .......alpha=0.01, degree=7, gamma=10.0, kernel=rbf; total time=   0.0s\n",
      "[CV] END .......alpha=0.01, degree=7, gamma=10.0, kernel=rbf; total time=   0.0s\n",
      "[CV] END alpha=0.01, degree=7, gamma=10.0, kernel=polynomial; total time=   0.0s\n",
      "[CV] END alpha=0.01, degree=7, gamma=10.0, kernel=polynomial; total time=   0.0s\n",
      "[CV] END alpha=0.01, degree=7, gamma=10.0, kernel=polynomial; total time=   0.0s\n",
      "[CV] END alpha=0.01, degree=7, gamma=10.0, kernel=polynomial; total time=   0.0s\n",
      "[CV] END alpha=0.01, degree=7, gamma=10.0, kernel=polynomial; total time=   0.0s\n",
      "[CV] END ....alpha=0.01, degree=7, gamma=10.0, kernel=cosine; total time=   0.0s\n",
      "[CV] END ....alpha=0.01, degree=7, gamma=10.0, kernel=cosine; total time=   0.0s\n",
      "[CV] END ....alpha=0.01, degree=7, gamma=10.0, kernel=cosine; total time=   0.0s\n",
      "[CV] END ....alpha=0.01, degree=7, gamma=10.0, kernel=cosine; total time=   0.0s\n",
      "[CV] END ....alpha=0.01, degree=7, gamma=10.0, kernel=cosine; total time=   0.0s\n",
      "[CV] END ......alpha=0.01, degree=7, gamma=100.0, kernel=rbf; total time=   0.0s\n",
      "[CV] END ......alpha=0.01, degree=7, gamma=100.0, kernel=rbf; total time=   0.0s\n",
      "[CV] END ......alpha=0.01, degree=7, gamma=100.0, kernel=rbf; total time=   0.0s\n",
      "[CV] END ......alpha=0.01, degree=7, gamma=100.0, kernel=rbf; total time=   0.0s\n",
      "[CV] END ......alpha=0.01, degree=7, gamma=100.0, kernel=rbf; total time=   0.0s\n",
      "[CV] END alpha=0.01, degree=7, gamma=100.0, kernel=polynomial; total time=   0.0s\n",
      "[CV] END alpha=0.01, degree=7, gamma=100.0, kernel=polynomial; total time=   0.0s\n",
      "[CV] END alpha=0.01, degree=7, gamma=100.0, kernel=polynomial; total time=   0.0s\n",
      "[CV] END alpha=0.01, degree=7, gamma=100.0, kernel=polynomial; total time=   0.0s\n",
      "[CV] END alpha=0.01, degree=7, gamma=100.0, kernel=polynomial; total time=   0.0s\n",
      "[CV] END ...alpha=0.01, degree=7, gamma=100.0, kernel=cosine; total time=   0.0s\n",
      "[CV] END ...alpha=0.01, degree=7, gamma=100.0, kernel=cosine; total time=   0.0s\n",
      "[CV] END ...alpha=0.01, degree=7, gamma=100.0, kernel=cosine; total time=   0.0s\n",
      "[CV] END ...alpha=0.01, degree=7, gamma=100.0, kernel=cosine; total time=   0.0s\n",
      "[CV] END ...alpha=0.01, degree=7, gamma=100.0, kernel=cosine; total time=   0.0s\n",
      "[CV] END .......alpha=0.01, degree=9, gamma=0.01, kernel=rbf; total time=   0.0s\n",
      "[CV] END .......alpha=0.01, degree=9, gamma=0.01, kernel=rbf; total time=   0.0s\n",
      "[CV] END .......alpha=0.01, degree=9, gamma=0.01, kernel=rbf; total time=   0.0s\n",
      "[CV] END .......alpha=0.01, degree=9, gamma=0.01, kernel=rbf; total time=   0.0s\n",
      "[CV] END .......alpha=0.01, degree=9, gamma=0.01, kernel=rbf; total time=   0.0s\n",
      "[CV] END alpha=0.01, degree=9, gamma=0.01, kernel=polynomial; total time=   0.0s\n",
      "[CV] END alpha=0.01, degree=9, gamma=0.01, kernel=polynomial; total time=   0.0s\n",
      "[CV] END alpha=0.01, degree=9, gamma=0.01, kernel=polynomial; total time=   0.0s\n",
      "[CV] END alpha=0.01, degree=9, gamma=0.01, kernel=polynomial; total time=   0.0s\n",
      "[CV] END alpha=0.01, degree=9, gamma=0.01, kernel=polynomial; total time=   0.0s\n",
      "[CV] END ....alpha=0.01, degree=9, gamma=0.01, kernel=cosine; total time=   0.0s\n",
      "[CV] END ....alpha=0.01, degree=9, gamma=0.01, kernel=cosine; total time=   0.0s\n",
      "[CV] END ....alpha=0.01, degree=9, gamma=0.01, kernel=cosine; total time=   0.0s\n",
      "[CV] END ....alpha=0.01, degree=9, gamma=0.01, kernel=cosine; total time=   0.0s\n",
      "[CV] END ....alpha=0.01, degree=9, gamma=0.01, kernel=cosine; total time=   0.0s\n",
      "[CV] END ........alpha=0.01, degree=9, gamma=0.1, kernel=rbf; total time=   0.0s\n",
      "[CV] END ........alpha=0.01, degree=9, gamma=0.1, kernel=rbf; total time=   0.0s\n",
      "[CV] END ........alpha=0.01, degree=9, gamma=0.1, kernel=rbf; total time=   0.0s\n",
      "[CV] END ........alpha=0.01, degree=9, gamma=0.1, kernel=rbf; total time=   0.0s\n",
      "[CV] END ........alpha=0.01, degree=9, gamma=0.1, kernel=rbf; total time=   0.0s\n",
      "[CV] END .alpha=0.01, degree=9, gamma=0.1, kernel=polynomial; total time=   0.0s\n",
      "[CV] END .alpha=0.01, degree=9, gamma=0.1, kernel=polynomial; total time=   0.0s\n",
      "[CV] END .alpha=0.01, degree=9, gamma=0.1, kernel=polynomial; total time=   0.0s\n",
      "[CV] END .alpha=0.01, degree=9, gamma=0.1, kernel=polynomial; total time=   0.0s\n",
      "[CV] END .alpha=0.01, degree=9, gamma=0.1, kernel=polynomial; total time=   0.0s\n",
      "[CV] END .....alpha=0.01, degree=9, gamma=0.1, kernel=cosine; total time=   0.0s\n",
      "[CV] END .....alpha=0.01, degree=9, gamma=0.1, kernel=cosine; total time=   0.0s\n",
      "[CV] END .....alpha=0.01, degree=9, gamma=0.1, kernel=cosine; total time=   0.0s\n",
      "[CV] END .....alpha=0.01, degree=9, gamma=0.1, kernel=cosine; total time=   0.0s\n",
      "[CV] END .....alpha=0.01, degree=9, gamma=0.1, kernel=cosine; total time=   0.0s\n",
      "[CV] END ........alpha=0.01, degree=9, gamma=1.0, kernel=rbf; total time=   0.0s\n",
      "[CV] END ........alpha=0.01, degree=9, gamma=1.0, kernel=rbf; total time=   0.0s\n",
      "[CV] END ........alpha=0.01, degree=9, gamma=1.0, kernel=rbf; total time=   0.0s\n",
      "[CV] END ........alpha=0.01, degree=9, gamma=1.0, kernel=rbf; total time=   0.0s\n",
      "[CV] END ........alpha=0.01, degree=9, gamma=1.0, kernel=rbf; total time=   0.0s\n",
      "[CV] END .alpha=0.01, degree=9, gamma=1.0, kernel=polynomial; total time=   0.0s\n",
      "[CV] END .alpha=0.01, degree=9, gamma=1.0, kernel=polynomial; total time=   0.0s\n",
      "[CV] END .alpha=0.01, degree=9, gamma=1.0, kernel=polynomial; total time=   0.0s\n",
      "[CV] END .alpha=0.01, degree=9, gamma=1.0, kernel=polynomial; total time=   0.0s\n",
      "[CV] END .alpha=0.01, degree=9, gamma=1.0, kernel=polynomial; total time=   0.0s\n",
      "[CV] END .....alpha=0.01, degree=9, gamma=1.0, kernel=cosine; total time=   0.0s\n",
      "[CV] END .....alpha=0.01, degree=9, gamma=1.0, kernel=cosine; total time=   0.0s\n",
      "[CV] END .....alpha=0.01, degree=9, gamma=1.0, kernel=cosine; total time=   0.0s\n",
      "[CV] END .....alpha=0.01, degree=9, gamma=1.0, kernel=cosine; total time=   0.0s\n",
      "[CV] END .....alpha=0.01, degree=9, gamma=1.0, kernel=cosine; total time=   0.0s\n",
      "[CV] END .......alpha=0.01, degree=9, gamma=10.0, kernel=rbf; total time=   0.0s\n",
      "[CV] END .......alpha=0.01, degree=9, gamma=10.0, kernel=rbf; total time=   0.0s\n",
      "[CV] END .......alpha=0.01, degree=9, gamma=10.0, kernel=rbf; total time=   0.0s\n",
      "[CV] END .......alpha=0.01, degree=9, gamma=10.0, kernel=rbf; total time=   0.0s\n",
      "[CV] END .......alpha=0.01, degree=9, gamma=10.0, kernel=rbf; total time=   0.0s\n",
      "[CV] END alpha=0.01, degree=9, gamma=10.0, kernel=polynomial; total time=   0.0s\n",
      "[CV] END alpha=0.01, degree=9, gamma=10.0, kernel=polynomial; total time=   0.0s\n",
      "[CV] END alpha=0.01, degree=9, gamma=10.0, kernel=polynomial; total time=   0.0s\n",
      "[CV] END alpha=0.01, degree=9, gamma=10.0, kernel=polynomial; total time=   0.0s\n",
      "[CV] END alpha=0.01, degree=9, gamma=10.0, kernel=polynomial; total time=   0.0s\n",
      "[CV] END ....alpha=0.01, degree=9, gamma=10.0, kernel=cosine; total time=   0.0s\n",
      "[CV] END ....alpha=0.01, degree=9, gamma=10.0, kernel=cosine; total time=   0.0s\n",
      "[CV] END ....alpha=0.01, degree=9, gamma=10.0, kernel=cosine; total time=   0.0s\n",
      "[CV] END ....alpha=0.01, degree=9, gamma=10.0, kernel=cosine; total time=   0.0s\n",
      "[CV] END ....alpha=0.01, degree=9, gamma=10.0, kernel=cosine; total time=   0.0s\n"
     ]
    },
    {
     "name": "stderr",
     "output_type": "stream",
     "text": [
      "/home/chris/.local/lib/python3.11/site-packages/sklearn/linear_model/_ridge.py:239: UserWarning:\n",
      "\n",
      "Singular matrix in solving dual problem. Using least-squares solution instead.\n",
      "\n",
      "/home/chris/.local/lib/python3.11/site-packages/sklearn/linear_model/_ridge.py:239: UserWarning:\n",
      "\n",
      "Singular matrix in solving dual problem. Using least-squares solution instead.\n",
      "\n",
      "/home/chris/.local/lib/python3.11/site-packages/sklearn/linear_model/_ridge.py:239: UserWarning:\n",
      "\n",
      "Singular matrix in solving dual problem. Using least-squares solution instead.\n",
      "\n",
      "/home/chris/.local/lib/python3.11/site-packages/sklearn/linear_model/_ridge.py:239: UserWarning:\n",
      "\n",
      "Singular matrix in solving dual problem. Using least-squares solution instead.\n",
      "\n",
      "/home/chris/.local/lib/python3.11/site-packages/sklearn/linear_model/_ridge.py:239: UserWarning:\n",
      "\n",
      "Singular matrix in solving dual problem. Using least-squares solution instead.\n",
      "\n",
      "/home/chris/.local/lib/python3.11/site-packages/sklearn/linear_model/_ridge.py:239: UserWarning:\n",
      "\n",
      "Singular matrix in solving dual problem. Using least-squares solution instead.\n",
      "\n",
      "/home/chris/.local/lib/python3.11/site-packages/sklearn/linear_model/_ridge.py:239: UserWarning:\n",
      "\n",
      "Singular matrix in solving dual problem. Using least-squares solution instead.\n",
      "\n",
      "/home/chris/.local/lib/python3.11/site-packages/sklearn/linear_model/_ridge.py:239: UserWarning:\n",
      "\n",
      "Singular matrix in solving dual problem. Using least-squares solution instead.\n",
      "\n",
      "/home/chris/.local/lib/python3.11/site-packages/sklearn/linear_model/_ridge.py:239: UserWarning:\n",
      "\n",
      "Singular matrix in solving dual problem. Using least-squares solution instead.\n",
      "\n",
      "/home/chris/.local/lib/python3.11/site-packages/sklearn/linear_model/_ridge.py:239: UserWarning:\n",
      "\n",
      "Singular matrix in solving dual problem. Using least-squares solution instead.\n",
      "\n",
      "/home/chris/.local/lib/python3.11/site-packages/sklearn/linear_model/_ridge.py:239: UserWarning:\n",
      "\n",
      "Singular matrix in solving dual problem. Using least-squares solution instead.\n",
      "\n",
      "/home/chris/.local/lib/python3.11/site-packages/sklearn/linear_model/_ridge.py:239: UserWarning:\n",
      "\n",
      "Singular matrix in solving dual problem. Using least-squares solution instead.\n",
      "\n",
      "/home/chris/.local/lib/python3.11/site-packages/sklearn/linear_model/_ridge.py:239: UserWarning:\n",
      "\n",
      "Singular matrix in solving dual problem. Using least-squares solution instead.\n",
      "\n",
      "/home/chris/.local/lib/python3.11/site-packages/sklearn/linear_model/_ridge.py:239: UserWarning:\n",
      "\n",
      "Singular matrix in solving dual problem. Using least-squares solution instead.\n",
      "\n",
      "/home/chris/.local/lib/python3.11/site-packages/sklearn/linear_model/_ridge.py:239: UserWarning:\n",
      "\n",
      "Singular matrix in solving dual problem. Using least-squares solution instead.\n",
      "\n",
      "/home/chris/.local/lib/python3.11/site-packages/sklearn/linear_model/_ridge.py:239: UserWarning:\n",
      "\n",
      "Singular matrix in solving dual problem. Using least-squares solution instead.\n",
      "\n",
      "/home/chris/.local/lib/python3.11/site-packages/sklearn/linear_model/_ridge.py:239: UserWarning:\n",
      "\n",
      "Singular matrix in solving dual problem. Using least-squares solution instead.\n",
      "\n",
      "/home/chris/.local/lib/python3.11/site-packages/sklearn/linear_model/_ridge.py:239: UserWarning:\n",
      "\n",
      "Singular matrix in solving dual problem. Using least-squares solution instead.\n",
      "\n",
      "/home/chris/.local/lib/python3.11/site-packages/sklearn/linear_model/_ridge.py:239: UserWarning:\n",
      "\n",
      "Singular matrix in solving dual problem. Using least-squares solution instead.\n",
      "\n",
      "/home/chris/.local/lib/python3.11/site-packages/sklearn/linear_model/_ridge.py:239: UserWarning:\n",
      "\n",
      "Singular matrix in solving dual problem. Using least-squares solution instead.\n",
      "\n"
     ]
    },
    {
     "name": "stdout",
     "output_type": "stream",
     "text": [
      "[CV] END ......alpha=0.01, degree=9, gamma=100.0, kernel=rbf; total time=   0.0s\n",
      "[CV] END ......alpha=0.01, degree=9, gamma=100.0, kernel=rbf; total time=   0.0s\n",
      "[CV] END ......alpha=0.01, degree=9, gamma=100.0, kernel=rbf; total time=   0.0s\n",
      "[CV] END ......alpha=0.01, degree=9, gamma=100.0, kernel=rbf; total time=   0.0s\n",
      "[CV] END ......alpha=0.01, degree=9, gamma=100.0, kernel=rbf; total time=   0.0s\n",
      "[CV] END alpha=0.01, degree=9, gamma=100.0, kernel=polynomial; total time=   0.0s\n",
      "[CV] END alpha=0.01, degree=9, gamma=100.0, kernel=polynomial; total time=   0.0s\n",
      "[CV] END alpha=0.01, degree=9, gamma=100.0, kernel=polynomial; total time=   0.0s\n",
      "[CV] END alpha=0.01, degree=9, gamma=100.0, kernel=polynomial; total time=   0.0s\n",
      "[CV] END alpha=0.01, degree=9, gamma=100.0, kernel=polynomial; total time=   0.0s\n",
      "[CV] END ...alpha=0.01, degree=9, gamma=100.0, kernel=cosine; total time=   0.0s\n",
      "[CV] END ...alpha=0.01, degree=9, gamma=100.0, kernel=cosine; total time=   0.0s\n",
      "[CV] END ...alpha=0.01, degree=9, gamma=100.0, kernel=cosine; total time=   0.0s\n",
      "[CV] END ...alpha=0.01, degree=9, gamma=100.0, kernel=cosine; total time=   0.0s\n",
      "[CV] END ...alpha=0.01, degree=9, gamma=100.0, kernel=cosine; total time=   0.0s\n",
      "[CV] END ......alpha=0.01, degree=11, gamma=0.01, kernel=rbf; total time=   0.0s\n",
      "[CV] END ......alpha=0.01, degree=11, gamma=0.01, kernel=rbf; total time=   0.0s\n",
      "[CV] END ......alpha=0.01, degree=11, gamma=0.01, kernel=rbf; total time=   0.0s\n",
      "[CV] END ......alpha=0.01, degree=11, gamma=0.01, kernel=rbf; total time=   0.0s\n",
      "[CV] END ......alpha=0.01, degree=11, gamma=0.01, kernel=rbf; total time=   0.0s\n",
      "[CV] END alpha=0.01, degree=11, gamma=0.01, kernel=polynomial; total time=   0.0s\n",
      "[CV] END alpha=0.01, degree=11, gamma=0.01, kernel=polynomial; total time=   0.0s\n",
      "[CV] END alpha=0.01, degree=11, gamma=0.01, kernel=polynomial; total time=   0.0s\n",
      "[CV] END alpha=0.01, degree=11, gamma=0.01, kernel=polynomial; total time=   0.0s\n",
      "[CV] END alpha=0.01, degree=11, gamma=0.01, kernel=polynomial; total time=   0.0s\n",
      "[CV] END ...alpha=0.01, degree=11, gamma=0.01, kernel=cosine; total time=   0.0s\n",
      "[CV] END ...alpha=0.01, degree=11, gamma=0.01, kernel=cosine; total time=   0.0s\n",
      "[CV] END ...alpha=0.01, degree=11, gamma=0.01, kernel=cosine; total time=   0.0s\n",
      "[CV] END ...alpha=0.01, degree=11, gamma=0.01, kernel=cosine; total time=   0.0s\n",
      "[CV] END ...alpha=0.01, degree=11, gamma=0.01, kernel=cosine; total time=   0.0s\n",
      "[CV] END .......alpha=0.01, degree=11, gamma=0.1, kernel=rbf; total time=   0.0s\n",
      "[CV] END .......alpha=0.01, degree=11, gamma=0.1, kernel=rbf; total time=   0.0s\n",
      "[CV] END .......alpha=0.01, degree=11, gamma=0.1, kernel=rbf; total time=   0.0s\n",
      "[CV] END .......alpha=0.01, degree=11, gamma=0.1, kernel=rbf; total time=   0.0s\n",
      "[CV] END .......alpha=0.01, degree=11, gamma=0.1, kernel=rbf; total time=   0.0s\n",
      "[CV] END alpha=0.01, degree=11, gamma=0.1, kernel=polynomial; total time=   0.0s\n",
      "[CV] END alpha=0.01, degree=11, gamma=0.1, kernel=polynomial; total time=   0.0s\n",
      "[CV] END alpha=0.01, degree=11, gamma=0.1, kernel=polynomial; total time=   0.0s\n",
      "[CV] END alpha=0.01, degree=11, gamma=0.1, kernel=polynomial; total time=   0.0s\n",
      "[CV] END alpha=0.01, degree=11, gamma=0.1, kernel=polynomial; total time=   0.0s\n",
      "[CV] END ....alpha=0.01, degree=11, gamma=0.1, kernel=cosine; total time=   0.0s\n",
      "[CV] END ....alpha=0.01, degree=11, gamma=0.1, kernel=cosine; total time=   0.0s\n",
      "[CV] END ....alpha=0.01, degree=11, gamma=0.1, kernel=cosine; total time=   0.0s\n",
      "[CV] END ....alpha=0.01, degree=11, gamma=0.1, kernel=cosine; total time=   0.0s\n",
      "[CV] END ....alpha=0.01, degree=11, gamma=0.1, kernel=cosine; total time=   0.0s\n",
      "[CV] END .......alpha=0.01, degree=11, gamma=1.0, kernel=rbf; total time=   0.0s\n",
      "[CV] END .......alpha=0.01, degree=11, gamma=1.0, kernel=rbf; total time=   0.0s\n",
      "[CV] END .......alpha=0.01, degree=11, gamma=1.0, kernel=rbf; total time=   0.0s\n",
      "[CV] END .......alpha=0.01, degree=11, gamma=1.0, kernel=rbf; total time=   0.0s\n",
      "[CV] END .......alpha=0.01, degree=11, gamma=1.0, kernel=rbf; total time=   0.0s\n",
      "[CV] END alpha=0.01, degree=11, gamma=1.0, kernel=polynomial; total time=   0.0s\n",
      "[CV] END alpha=0.01, degree=11, gamma=1.0, kernel=polynomial; total time=   0.0s\n",
      "[CV] END alpha=0.01, degree=11, gamma=1.0, kernel=polynomial; total time=   0.0s\n",
      "[CV] END alpha=0.01, degree=11, gamma=1.0, kernel=polynomial; total time=   0.0s\n",
      "[CV] END alpha=0.01, degree=11, gamma=1.0, kernel=polynomial; total time=   0.0s\n",
      "[CV] END ....alpha=0.01, degree=11, gamma=1.0, kernel=cosine; total time=   0.0s\n",
      "[CV] END ....alpha=0.01, degree=11, gamma=1.0, kernel=cosine; total time=   0.0s\n",
      "[CV] END ....alpha=0.01, degree=11, gamma=1.0, kernel=cosine; total time=   0.0s\n",
      "[CV] END ....alpha=0.01, degree=11, gamma=1.0, kernel=cosine; total time=   0.0s\n",
      "[CV] END ....alpha=0.01, degree=11, gamma=1.0, kernel=cosine; total time=   0.0s\n",
      "[CV] END ......alpha=0.01, degree=11, gamma=10.0, kernel=rbf; total time=   0.0s\n",
      "[CV] END ......alpha=0.01, degree=11, gamma=10.0, kernel=rbf; total time=   0.0s\n",
      "[CV] END ......alpha=0.01, degree=11, gamma=10.0, kernel=rbf; total time=   0.0s\n",
      "[CV] END ......alpha=0.01, degree=11, gamma=10.0, kernel=rbf; total time=   0.0s\n",
      "[CV] END ......alpha=0.01, degree=11, gamma=10.0, kernel=rbf; total time=   0.0s\n",
      "[CV] END alpha=0.01, degree=11, gamma=10.0, kernel=polynomial; total time=   0.0s\n",
      "[CV] END alpha=0.01, degree=11, gamma=10.0, kernel=polynomial; total time=   0.0s\n",
      "[CV] END alpha=0.01, degree=11, gamma=10.0, kernel=polynomial; total time=   0.0s\n",
      "[CV] END alpha=0.01, degree=11, gamma=10.0, kernel=polynomial; total time=   0.0s\n",
      "[CV] END alpha=0.01, degree=11, gamma=10.0, kernel=polynomial; total time=   0.0s\n",
      "[CV] END ...alpha=0.01, degree=11, gamma=10.0, kernel=cosine; total time=   0.0s\n",
      "[CV] END ...alpha=0.01, degree=11, gamma=10.0, kernel=cosine; total time=   0.0s\n",
      "[CV] END ...alpha=0.01, degree=11, gamma=10.0, kernel=cosine; total time=   0.0s\n",
      "[CV] END ...alpha=0.01, degree=11, gamma=10.0, kernel=cosine; total time=   0.0s\n",
      "[CV] END ...alpha=0.01, degree=11, gamma=10.0, kernel=cosine; total time=   0.0s\n",
      "[CV] END .....alpha=0.01, degree=11, gamma=100.0, kernel=rbf; total time=   0.0s\n",
      "[CV] END .....alpha=0.01, degree=11, gamma=100.0, kernel=rbf; total time=   0.0s\n",
      "[CV] END .....alpha=0.01, degree=11, gamma=100.0, kernel=rbf; total time=   0.0s\n",
      "[CV] END .....alpha=0.01, degree=11, gamma=100.0, kernel=rbf; total time=   0.0s\n",
      "[CV] END .....alpha=0.01, degree=11, gamma=100.0, kernel=rbf; total time=   0.0s\n",
      "[CV] END alpha=0.01, degree=11, gamma=100.0, kernel=polynomial; total time=   0.0s\n",
      "[CV] END alpha=0.01, degree=11, gamma=100.0, kernel=polynomial; total time=   0.0s\n",
      "[CV] END alpha=0.01, degree=11, gamma=100.0, kernel=polynomial; total time=   0.0s\n",
      "[CV] END alpha=0.01, degree=11, gamma=100.0, kernel=polynomial; total time=   0.0s\n",
      "[CV] END alpha=0.01, degree=11, gamma=100.0, kernel=polynomial; total time=   0.0s\n",
      "[CV] END ..alpha=0.01, degree=11, gamma=100.0, kernel=cosine; total time=   0.0s\n",
      "[CV] END ..alpha=0.01, degree=11, gamma=100.0, kernel=cosine; total time=   0.0s\n",
      "[CV] END ..alpha=0.01, degree=11, gamma=100.0, kernel=cosine; total time=   0.0s\n",
      "[CV] END ..alpha=0.01, degree=11, gamma=100.0, kernel=cosine; total time=   0.0s\n",
      "[CV] END ..alpha=0.01, degree=11, gamma=100.0, kernel=cosine; total time=   0.0s\n",
      "[CV] END ......alpha=0.01, degree=15, gamma=0.01, kernel=rbf; total time=   0.0s\n",
      "[CV] END ......alpha=0.01, degree=15, gamma=0.01, kernel=rbf; total time=   0.0s\n",
      "[CV] END ......alpha=0.01, degree=15, gamma=0.01, kernel=rbf; total time=   0.0s\n",
      "[CV] END ......alpha=0.01, degree=15, gamma=0.01, kernel=rbf; total time=   0.0s\n",
      "[CV] END ......alpha=0.01, degree=15, gamma=0.01, kernel=rbf; total time=   0.0s\n",
      "[CV] END alpha=0.01, degree=15, gamma=0.01, kernel=polynomial; total time=   0.0s\n",
      "[CV] END alpha=0.01, degree=15, gamma=0.01, kernel=polynomial; total time=   0.0s\n",
      "[CV] END alpha=0.01, degree=15, gamma=0.01, kernel=polynomial; total time=   0.0s\n",
      "[CV] END alpha=0.01, degree=15, gamma=0.01, kernel=polynomial; total time=   0.0s\n",
      "[CV] END alpha=0.01, degree=15, gamma=0.01, kernel=polynomial; total time=   0.0s\n",
      "[CV] END ...alpha=0.01, degree=15, gamma=0.01, kernel=cosine; total time=   0.0s\n",
      "[CV] END ...alpha=0.01, degree=15, gamma=0.01, kernel=cosine; total time=   0.0s\n"
     ]
    },
    {
     "name": "stderr",
     "output_type": "stream",
     "text": [
      "/home/chris/.local/lib/python3.11/site-packages/sklearn/linear_model/_ridge.py:239: UserWarning:\n",
      "\n",
      "Singular matrix in solving dual problem. Using least-squares solution instead.\n",
      "\n",
      "/home/chris/.local/lib/python3.11/site-packages/sklearn/linear_model/_ridge.py:239: UserWarning:\n",
      "\n",
      "Singular matrix in solving dual problem. Using least-squares solution instead.\n",
      "\n",
      "/home/chris/.local/lib/python3.11/site-packages/sklearn/linear_model/_ridge.py:239: UserWarning:\n",
      "\n",
      "Singular matrix in solving dual problem. Using least-squares solution instead.\n",
      "\n",
      "/home/chris/.local/lib/python3.11/site-packages/sklearn/linear_model/_ridge.py:239: UserWarning:\n",
      "\n",
      "Singular matrix in solving dual problem. Using least-squares solution instead.\n",
      "\n",
      "/home/chris/.local/lib/python3.11/site-packages/sklearn/linear_model/_ridge.py:239: UserWarning:\n",
      "\n",
      "Singular matrix in solving dual problem. Using least-squares solution instead.\n",
      "\n",
      "/home/chris/.local/lib/python3.11/site-packages/sklearn/linear_model/_ridge.py:239: UserWarning:\n",
      "\n",
      "Singular matrix in solving dual problem. Using least-squares solution instead.\n",
      "\n",
      "/home/chris/.local/lib/python3.11/site-packages/sklearn/linear_model/_ridge.py:239: UserWarning:\n",
      "\n",
      "Singular matrix in solving dual problem. Using least-squares solution instead.\n",
      "\n",
      "/home/chris/.local/lib/python3.11/site-packages/sklearn/linear_model/_ridge.py:239: UserWarning:\n",
      "\n",
      "Singular matrix in solving dual problem. Using least-squares solution instead.\n",
      "\n",
      "/home/chris/.local/lib/python3.11/site-packages/sklearn/linear_model/_ridge.py:239: UserWarning:\n",
      "\n",
      "Singular matrix in solving dual problem. Using least-squares solution instead.\n",
      "\n",
      "/home/chris/.local/lib/python3.11/site-packages/sklearn/linear_model/_ridge.py:239: UserWarning:\n",
      "\n",
      "Singular matrix in solving dual problem. Using least-squares solution instead.\n",
      "\n",
      "/home/chris/.local/lib/python3.11/site-packages/sklearn/linear_model/_ridge.py:239: UserWarning:\n",
      "\n",
      "Singular matrix in solving dual problem. Using least-squares solution instead.\n",
      "\n",
      "/home/chris/.local/lib/python3.11/site-packages/sklearn/linear_model/_ridge.py:239: UserWarning:\n",
      "\n",
      "Singular matrix in solving dual problem. Using least-squares solution instead.\n",
      "\n",
      "/home/chris/.local/lib/python3.11/site-packages/sklearn/linear_model/_ridge.py:239: UserWarning:\n",
      "\n",
      "Singular matrix in solving dual problem. Using least-squares solution instead.\n",
      "\n",
      "/home/chris/.local/lib/python3.11/site-packages/sklearn/linear_model/_ridge.py:239: UserWarning:\n",
      "\n",
      "Singular matrix in solving dual problem. Using least-squares solution instead.\n",
      "\n",
      "/home/chris/.local/lib/python3.11/site-packages/sklearn/linear_model/_ridge.py:239: UserWarning:\n",
      "\n",
      "Singular matrix in solving dual problem. Using least-squares solution instead.\n",
      "\n",
      "/home/chris/.local/lib/python3.11/site-packages/sklearn/linear_model/_ridge.py:239: UserWarning:\n",
      "\n",
      "Singular matrix in solving dual problem. Using least-squares solution instead.\n",
      "\n",
      "/home/chris/.local/lib/python3.11/site-packages/sklearn/linear_model/_ridge.py:239: UserWarning:\n",
      "\n",
      "Singular matrix in solving dual problem. Using least-squares solution instead.\n",
      "\n",
      "/home/chris/.local/lib/python3.11/site-packages/sklearn/linear_model/_ridge.py:239: UserWarning:\n",
      "\n",
      "Singular matrix in solving dual problem. Using least-squares solution instead.\n",
      "\n",
      "/home/chris/.local/lib/python3.11/site-packages/sklearn/linear_model/_ridge.py:239: UserWarning:\n",
      "\n",
      "Singular matrix in solving dual problem. Using least-squares solution instead.\n",
      "\n",
      "/home/chris/.local/lib/python3.11/site-packages/sklearn/linear_model/_ridge.py:239: UserWarning:\n",
      "\n",
      "Singular matrix in solving dual problem. Using least-squares solution instead.\n",
      "\n",
      "/home/chris/.local/lib/python3.11/site-packages/sklearn/linear_model/_ridge.py:239: UserWarning:\n",
      "\n",
      "Singular matrix in solving dual problem. Using least-squares solution instead.\n",
      "\n",
      "/home/chris/.local/lib/python3.11/site-packages/sklearn/linear_model/_ridge.py:239: UserWarning:\n",
      "\n",
      "Singular matrix in solving dual problem. Using least-squares solution instead.\n",
      "\n",
      "/home/chris/.local/lib/python3.11/site-packages/sklearn/linear_model/_ridge.py:239: UserWarning:\n",
      "\n",
      "Singular matrix in solving dual problem. Using least-squares solution instead.\n",
      "\n",
      "/home/chris/.local/lib/python3.11/site-packages/sklearn/linear_model/_ridge.py:239: UserWarning:\n",
      "\n",
      "Singular matrix in solving dual problem. Using least-squares solution instead.\n",
      "\n",
      "/home/chris/.local/lib/python3.11/site-packages/sklearn/linear_model/_ridge.py:239: UserWarning:\n",
      "\n",
      "Singular matrix in solving dual problem. Using least-squares solution instead.\n",
      "\n"
     ]
    },
    {
     "name": "stdout",
     "output_type": "stream",
     "text": [
      "[CV] END ...alpha=0.01, degree=15, gamma=0.01, kernel=cosine; total time=   0.0s\n",
      "[CV] END ...alpha=0.01, degree=15, gamma=0.01, kernel=cosine; total time=   0.0s\n",
      "[CV] END ...alpha=0.01, degree=15, gamma=0.01, kernel=cosine; total time=   0.0s\n",
      "[CV] END .......alpha=0.01, degree=15, gamma=0.1, kernel=rbf; total time=   0.0s\n",
      "[CV] END .......alpha=0.01, degree=15, gamma=0.1, kernel=rbf; total time=   0.0s\n",
      "[CV] END .......alpha=0.01, degree=15, gamma=0.1, kernel=rbf; total time=   0.0s\n",
      "[CV] END .......alpha=0.01, degree=15, gamma=0.1, kernel=rbf; total time=   0.0s\n",
      "[CV] END .......alpha=0.01, degree=15, gamma=0.1, kernel=rbf; total time=   0.0s\n",
      "[CV] END alpha=0.01, degree=15, gamma=0.1, kernel=polynomial; total time=   0.0s\n",
      "[CV] END alpha=0.01, degree=15, gamma=0.1, kernel=polynomial; total time=   0.0s\n",
      "[CV] END alpha=0.01, degree=15, gamma=0.1, kernel=polynomial; total time=   0.0s\n",
      "[CV] END alpha=0.01, degree=15, gamma=0.1, kernel=polynomial; total time=   0.0s\n",
      "[CV] END alpha=0.01, degree=15, gamma=0.1, kernel=polynomial; total time=   0.0s\n",
      "[CV] END ....alpha=0.01, degree=15, gamma=0.1, kernel=cosine; total time=   0.0s\n",
      "[CV] END ....alpha=0.01, degree=15, gamma=0.1, kernel=cosine; total time=   0.0s\n",
      "[CV] END ....alpha=0.01, degree=15, gamma=0.1, kernel=cosine; total time=   0.0s\n",
      "[CV] END ....alpha=0.01, degree=15, gamma=0.1, kernel=cosine; total time=   0.0s\n",
      "[CV] END ....alpha=0.01, degree=15, gamma=0.1, kernel=cosine; total time=   0.0s\n",
      "[CV] END .......alpha=0.01, degree=15, gamma=1.0, kernel=rbf; total time=   0.0s\n",
      "[CV] END .......alpha=0.01, degree=15, gamma=1.0, kernel=rbf; total time=   0.0s\n",
      "[CV] END .......alpha=0.01, degree=15, gamma=1.0, kernel=rbf; total time=   0.0s\n",
      "[CV] END .......alpha=0.01, degree=15, gamma=1.0, kernel=rbf; total time=   0.0s\n",
      "[CV] END .......alpha=0.01, degree=15, gamma=1.0, kernel=rbf; total time=   0.0s\n",
      "[CV] END alpha=0.01, degree=15, gamma=1.0, kernel=polynomial; total time=   0.0s\n",
      "[CV] END alpha=0.01, degree=15, gamma=1.0, kernel=polynomial; total time=   0.0s\n",
      "[CV] END alpha=0.01, degree=15, gamma=1.0, kernel=polynomial; total time=   0.0s\n",
      "[CV] END alpha=0.01, degree=15, gamma=1.0, kernel=polynomial; total time=   0.0s\n",
      "[CV] END alpha=0.01, degree=15, gamma=1.0, kernel=polynomial; total time=   0.0s\n",
      "[CV] END ....alpha=0.01, degree=15, gamma=1.0, kernel=cosine; total time=   0.0s\n",
      "[CV] END ....alpha=0.01, degree=15, gamma=1.0, kernel=cosine; total time=   0.0s\n",
      "[CV] END ....alpha=0.01, degree=15, gamma=1.0, kernel=cosine; total time=   0.0s\n",
      "[CV] END ....alpha=0.01, degree=15, gamma=1.0, kernel=cosine; total time=   0.0s\n",
      "[CV] END ....alpha=0.01, degree=15, gamma=1.0, kernel=cosine; total time=   0.0s\n",
      "[CV] END ......alpha=0.01, degree=15, gamma=10.0, kernel=rbf; total time=   0.0s\n",
      "[CV] END ......alpha=0.01, degree=15, gamma=10.0, kernel=rbf; total time=   0.0s\n",
      "[CV] END ......alpha=0.01, degree=15, gamma=10.0, kernel=rbf; total time=   0.0s\n",
      "[CV] END ......alpha=0.01, degree=15, gamma=10.0, kernel=rbf; total time=   0.0s\n",
      "[CV] END ......alpha=0.01, degree=15, gamma=10.0, kernel=rbf; total time=   0.0s\n",
      "[CV] END alpha=0.01, degree=15, gamma=10.0, kernel=polynomial; total time=   0.0s\n",
      "[CV] END alpha=0.01, degree=15, gamma=10.0, kernel=polynomial; total time=   0.0s\n",
      "[CV] END alpha=0.01, degree=15, gamma=10.0, kernel=polynomial; total time=   0.0s\n",
      "[CV] END alpha=0.01, degree=15, gamma=10.0, kernel=polynomial; total time=   0.0s\n",
      "[CV] END alpha=0.01, degree=15, gamma=10.0, kernel=polynomial; total time=   0.0s\n",
      "[CV] END ...alpha=0.01, degree=15, gamma=10.0, kernel=cosine; total time=   0.0s\n",
      "[CV] END ...alpha=0.01, degree=15, gamma=10.0, kernel=cosine; total time=   0.0s\n",
      "[CV] END ...alpha=0.01, degree=15, gamma=10.0, kernel=cosine; total time=   0.0s\n",
      "[CV] END ...alpha=0.01, degree=15, gamma=10.0, kernel=cosine; total time=   0.0s\n",
      "[CV] END ...alpha=0.01, degree=15, gamma=10.0, kernel=cosine; total time=   0.0s\n",
      "[CV] END .....alpha=0.01, degree=15, gamma=100.0, kernel=rbf; total time=   0.0s\n",
      "[CV] END .....alpha=0.01, degree=15, gamma=100.0, kernel=rbf; total time=   0.0s\n",
      "[CV] END .....alpha=0.01, degree=15, gamma=100.0, kernel=rbf; total time=   0.0s\n",
      "[CV] END .....alpha=0.01, degree=15, gamma=100.0, kernel=rbf; total time=   0.0s\n",
      "[CV] END .....alpha=0.01, degree=15, gamma=100.0, kernel=rbf; total time=   0.1s\n",
      "[CV] END alpha=0.01, degree=15, gamma=100.0, kernel=polynomial; total time=   0.0s\n",
      "[CV] END alpha=0.01, degree=15, gamma=100.0, kernel=polynomial; total time=   0.0s\n",
      "[CV] END alpha=0.01, degree=15, gamma=100.0, kernel=polynomial; total time=   0.0s\n",
      "[CV] END alpha=0.01, degree=15, gamma=100.0, kernel=polynomial; total time=   0.0s\n",
      "[CV] END alpha=0.01, degree=15, gamma=100.0, kernel=polynomial; total time=   0.0s\n",
      "[CV] END ..alpha=0.01, degree=15, gamma=100.0, kernel=cosine; total time=   0.0s\n",
      "[CV] END ..alpha=0.01, degree=15, gamma=100.0, kernel=cosine; total time=   0.0s\n",
      "[CV] END ..alpha=0.01, degree=15, gamma=100.0, kernel=cosine; total time=   0.0s\n",
      "[CV] END ..alpha=0.01, degree=15, gamma=100.0, kernel=cosine; total time=   0.0s\n"
     ]
    },
    {
     "name": "stderr",
     "output_type": "stream",
     "text": [
      "/home/chris/.local/lib/python3.11/site-packages/sklearn/linear_model/_ridge.py:239: UserWarning:\n",
      "\n",
      "Singular matrix in solving dual problem. Using least-squares solution instead.\n",
      "\n",
      "/home/chris/.local/lib/python3.11/site-packages/sklearn/linear_model/_ridge.py:239: UserWarning:\n",
      "\n",
      "Singular matrix in solving dual problem. Using least-squares solution instead.\n",
      "\n",
      "/home/chris/.local/lib/python3.11/site-packages/sklearn/linear_model/_ridge.py:239: UserWarning:\n",
      "\n",
      "Singular matrix in solving dual problem. Using least-squares solution instead.\n",
      "\n",
      "/home/chris/.local/lib/python3.11/site-packages/sklearn/linear_model/_ridge.py:239: UserWarning:\n",
      "\n",
      "Singular matrix in solving dual problem. Using least-squares solution instead.\n",
      "\n",
      "/home/chris/.local/lib/python3.11/site-packages/sklearn/linear_model/_ridge.py:239: UserWarning:\n",
      "\n",
      "Singular matrix in solving dual problem. Using least-squares solution instead.\n",
      "\n",
      "/home/chris/.local/lib/python3.11/site-packages/sklearn/linear_model/_ridge.py:239: UserWarning:\n",
      "\n",
      "Singular matrix in solving dual problem. Using least-squares solution instead.\n",
      "\n",
      "/home/chris/.local/lib/python3.11/site-packages/sklearn/linear_model/_ridge.py:239: UserWarning:\n",
      "\n",
      "Singular matrix in solving dual problem. Using least-squares solution instead.\n",
      "\n",
      "/home/chris/.local/lib/python3.11/site-packages/sklearn/linear_model/_ridge.py:239: UserWarning:\n",
      "\n",
      "Singular matrix in solving dual problem. Using least-squares solution instead.\n",
      "\n",
      "/home/chris/.local/lib/python3.11/site-packages/sklearn/linear_model/_ridge.py:239: UserWarning:\n",
      "\n",
      "Singular matrix in solving dual problem. Using least-squares solution instead.\n",
      "\n",
      "/home/chris/.local/lib/python3.11/site-packages/sklearn/linear_model/_ridge.py:239: UserWarning:\n",
      "\n",
      "Singular matrix in solving dual problem. Using least-squares solution instead.\n",
      "\n",
      "/home/chris/.local/lib/python3.11/site-packages/sklearn/linear_model/_ridge.py:239: UserWarning:\n",
      "\n",
      "Singular matrix in solving dual problem. Using least-squares solution instead.\n",
      "\n",
      "/home/chris/.local/lib/python3.11/site-packages/sklearn/linear_model/_ridge.py:239: UserWarning:\n",
      "\n",
      "Singular matrix in solving dual problem. Using least-squares solution instead.\n",
      "\n",
      "/home/chris/.local/lib/python3.11/site-packages/sklearn/linear_model/_ridge.py:239: UserWarning:\n",
      "\n",
      "Singular matrix in solving dual problem. Using least-squares solution instead.\n",
      "\n",
      "/home/chris/.local/lib/python3.11/site-packages/sklearn/linear_model/_ridge.py:239: UserWarning:\n",
      "\n",
      "Singular matrix in solving dual problem. Using least-squares solution instead.\n",
      "\n",
      "/home/chris/.local/lib/python3.11/site-packages/sklearn/linear_model/_ridge.py:239: UserWarning:\n",
      "\n",
      "Singular matrix in solving dual problem. Using least-squares solution instead.\n",
      "\n",
      "/home/chris/.local/lib/python3.11/site-packages/sklearn/linear_model/_ridge.py:239: UserWarning:\n",
      "\n",
      "Singular matrix in solving dual problem. Using least-squares solution instead.\n",
      "\n",
      "/home/chris/.local/lib/python3.11/site-packages/sklearn/linear_model/_ridge.py:239: UserWarning:\n",
      "\n",
      "Singular matrix in solving dual problem. Using least-squares solution instead.\n",
      "\n",
      "/home/chris/.local/lib/python3.11/site-packages/sklearn/linear_model/_ridge.py:239: UserWarning:\n",
      "\n",
      "Singular matrix in solving dual problem. Using least-squares solution instead.\n",
      "\n",
      "/home/chris/.local/lib/python3.11/site-packages/sklearn/linear_model/_ridge.py:239: UserWarning:\n",
      "\n",
      "Singular matrix in solving dual problem. Using least-squares solution instead.\n",
      "\n",
      "/home/chris/.local/lib/python3.11/site-packages/sklearn/linear_model/_ridge.py:239: UserWarning:\n",
      "\n",
      "Singular matrix in solving dual problem. Using least-squares solution instead.\n",
      "\n"
     ]
    },
    {
     "name": "stdout",
     "output_type": "stream",
     "text": [
      "[CV] END ..alpha=0.01, degree=15, gamma=100.0, kernel=cosine; total time=   0.0s\n",
      "[CV] END ......alpha=0.01, degree=21, gamma=0.01, kernel=rbf; total time=   0.0s\n",
      "[CV] END ......alpha=0.01, degree=21, gamma=0.01, kernel=rbf; total time=   0.0s\n",
      "[CV] END ......alpha=0.01, degree=21, gamma=0.01, kernel=rbf; total time=   0.0s\n",
      "[CV] END ......alpha=0.01, degree=21, gamma=0.01, kernel=rbf; total time=   0.0s\n",
      "[CV] END ......alpha=0.01, degree=21, gamma=0.01, kernel=rbf; total time=   0.0s\n",
      "[CV] END alpha=0.01, degree=21, gamma=0.01, kernel=polynomial; total time=   0.0s\n",
      "[CV] END alpha=0.01, degree=21, gamma=0.01, kernel=polynomial; total time=   0.0s\n",
      "[CV] END alpha=0.01, degree=21, gamma=0.01, kernel=polynomial; total time=   0.0s\n",
      "[CV] END alpha=0.01, degree=21, gamma=0.01, kernel=polynomial; total time=   0.0s\n",
      "[CV] END alpha=0.01, degree=21, gamma=0.01, kernel=polynomial; total time=   0.0s\n",
      "[CV] END ...alpha=0.01, degree=21, gamma=0.01, kernel=cosine; total time=   0.0s\n",
      "[CV] END ...alpha=0.01, degree=21, gamma=0.01, kernel=cosine; total time=   0.0s\n",
      "[CV] END ...alpha=0.01, degree=21, gamma=0.01, kernel=cosine; total time=   0.0s\n",
      "[CV] END ...alpha=0.01, degree=21, gamma=0.01, kernel=cosine; total time=   0.0s\n",
      "[CV] END ...alpha=0.01, degree=21, gamma=0.01, kernel=cosine; total time=   0.0s\n",
      "[CV] END .......alpha=0.01, degree=21, gamma=0.1, kernel=rbf; total time=   0.0s\n",
      "[CV] END .......alpha=0.01, degree=21, gamma=0.1, kernel=rbf; total time=   0.0s\n",
      "[CV] END .......alpha=0.01, degree=21, gamma=0.1, kernel=rbf; total time=   0.0s\n",
      "[CV] END .......alpha=0.01, degree=21, gamma=0.1, kernel=rbf; total time=   0.0s\n",
      "[CV] END .......alpha=0.01, degree=21, gamma=0.1, kernel=rbf; total time=   0.0s\n",
      "[CV] END alpha=0.01, degree=21, gamma=0.1, kernel=polynomial; total time=   0.0s\n",
      "[CV] END alpha=0.01, degree=21, gamma=0.1, kernel=polynomial; total time=   0.0s\n",
      "[CV] END alpha=0.01, degree=21, gamma=0.1, kernel=polynomial; total time=   0.0s\n",
      "[CV] END alpha=0.01, degree=21, gamma=0.1, kernel=polynomial; total time=   0.0s\n",
      "[CV] END alpha=0.01, degree=21, gamma=0.1, kernel=polynomial; total time=   0.0s\n",
      "[CV] END ....alpha=0.01, degree=21, gamma=0.1, kernel=cosine; total time=   0.0s\n",
      "[CV] END ....alpha=0.01, degree=21, gamma=0.1, kernel=cosine; total time=   0.0s\n",
      "[CV] END ....alpha=0.01, degree=21, gamma=0.1, kernel=cosine; total time=   0.0s\n",
      "[CV] END ....alpha=0.01, degree=21, gamma=0.1, kernel=cosine; total time=   0.0s\n",
      "[CV] END ....alpha=0.01, degree=21, gamma=0.1, kernel=cosine; total time=   0.0s\n",
      "[CV] END .......alpha=0.01, degree=21, gamma=1.0, kernel=rbf; total time=   0.0s\n",
      "[CV] END .......alpha=0.01, degree=21, gamma=1.0, kernel=rbf; total time=   0.0s\n",
      "[CV] END .......alpha=0.01, degree=21, gamma=1.0, kernel=rbf; total time=   0.0s\n",
      "[CV] END .......alpha=0.01, degree=21, gamma=1.0, kernel=rbf; total time=   0.0s\n",
      "[CV] END .......alpha=0.01, degree=21, gamma=1.0, kernel=rbf; total time=   0.0s\n",
      "[CV] END alpha=0.01, degree=21, gamma=1.0, kernel=polynomial; total time=   0.0s\n",
      "[CV] END alpha=0.01, degree=21, gamma=1.0, kernel=polynomial; total time=   0.0s\n",
      "[CV] END alpha=0.01, degree=21, gamma=1.0, kernel=polynomial; total time=   0.0s\n",
      "[CV] END alpha=0.01, degree=21, gamma=1.0, kernel=polynomial; total time=   0.0s\n",
      "[CV] END alpha=0.01, degree=21, gamma=1.0, kernel=polynomial; total time=   0.0s\n",
      "[CV] END ....alpha=0.01, degree=21, gamma=1.0, kernel=cosine; total time=   0.0s\n",
      "[CV] END ....alpha=0.01, degree=21, gamma=1.0, kernel=cosine; total time=   0.0s\n",
      "[CV] END ....alpha=0.01, degree=21, gamma=1.0, kernel=cosine; total time=   0.0s\n",
      "[CV] END ....alpha=0.01, degree=21, gamma=1.0, kernel=cosine; total time=   0.0s\n",
      "[CV] END ....alpha=0.01, degree=21, gamma=1.0, kernel=cosine; total time=   0.0s\n",
      "[CV] END ......alpha=0.01, degree=21, gamma=10.0, kernel=rbf; total time=   0.0s\n",
      "[CV] END ......alpha=0.01, degree=21, gamma=10.0, kernel=rbf; total time=   0.0s\n",
      "[CV] END ......alpha=0.01, degree=21, gamma=10.0, kernel=rbf; total time=   0.0s\n",
      "[CV] END ......alpha=0.01, degree=21, gamma=10.0, kernel=rbf; total time=   0.0s\n",
      "[CV] END ......alpha=0.01, degree=21, gamma=10.0, kernel=rbf; total time=   0.0s\n",
      "[CV] END alpha=0.01, degree=21, gamma=10.0, kernel=polynomial; total time=   0.0s\n",
      "[CV] END alpha=0.01, degree=21, gamma=10.0, kernel=polynomial; total time=   0.0s\n",
      "[CV] END alpha=0.01, degree=21, gamma=10.0, kernel=polynomial; total time=   0.0s\n",
      "[CV] END alpha=0.01, degree=21, gamma=10.0, kernel=polynomial; total time=   0.0s\n",
      "[CV] END alpha=0.01, degree=21, gamma=10.0, kernel=polynomial; total time=   0.0s\n",
      "[CV] END ...alpha=0.01, degree=21, gamma=10.0, kernel=cosine; total time=   0.0s\n",
      "[CV] END ...alpha=0.01, degree=21, gamma=10.0, kernel=cosine; total time=   0.0s\n",
      "[CV] END ...alpha=0.01, degree=21, gamma=10.0, kernel=cosine; total time=   0.0s\n",
      "[CV] END ...alpha=0.01, degree=21, gamma=10.0, kernel=cosine; total time=   0.0s\n",
      "[CV] END ...alpha=0.01, degree=21, gamma=10.0, kernel=cosine; total time=   0.0s\n",
      "[CV] END .....alpha=0.01, degree=21, gamma=100.0, kernel=rbf; total time=   0.0s\n",
      "[CV] END .....alpha=0.01, degree=21, gamma=100.0, kernel=rbf; total time=   0.0s\n",
      "[CV] END .....alpha=0.01, degree=21, gamma=100.0, kernel=rbf; total time=   0.0s\n",
      "[CV] END .....alpha=0.01, degree=21, gamma=100.0, kernel=rbf; total time=   0.0s\n",
      "[CV] END .....alpha=0.01, degree=21, gamma=100.0, kernel=rbf; total time=   0.0s\n",
      "[CV] END alpha=0.01, degree=21, gamma=100.0, kernel=polynomial; total time=   0.0s\n",
      "[CV] END alpha=0.01, degree=21, gamma=100.0, kernel=polynomial; total time=   0.0s\n",
      "[CV] END alpha=0.01, degree=21, gamma=100.0, kernel=polynomial; total time=   0.0s\n",
      "[CV] END alpha=0.01, degree=21, gamma=100.0, kernel=polynomial; total time=   0.0s\n",
      "[CV] END alpha=0.01, degree=21, gamma=100.0, kernel=polynomial; total time=   0.0s\n",
      "[CV] END ..alpha=0.01, degree=21, gamma=100.0, kernel=cosine; total time=   0.0s\n",
      "[CV] END ..alpha=0.01, degree=21, gamma=100.0, kernel=cosine; total time=   0.0s\n",
      "[CV] END ..alpha=0.01, degree=21, gamma=100.0, kernel=cosine; total time=   0.0s\n",
      "[CV] END ..alpha=0.01, degree=21, gamma=100.0, kernel=cosine; total time=   0.0s\n",
      "[CV] END ..alpha=0.01, degree=21, gamma=100.0, kernel=cosine; total time=   0.0s\n",
      "[CV] END ......alpha=0.001, degree=7, gamma=0.01, kernel=rbf; total time=   0.0s\n",
      "[CV] END ......alpha=0.001, degree=7, gamma=0.01, kernel=rbf; total time=   0.0s\n",
      "[CV] END ......alpha=0.001, degree=7, gamma=0.01, kernel=rbf; total time=   0.0s\n",
      "[CV] END ......alpha=0.001, degree=7, gamma=0.01, kernel=rbf; total time=   0.0s\n",
      "[CV] END ......alpha=0.001, degree=7, gamma=0.01, kernel=rbf; total time=   0.0s\n",
      "[CV] END alpha=0.001, degree=7, gamma=0.01, kernel=polynomial; total time=   0.0s\n",
      "[CV] END alpha=0.001, degree=7, gamma=0.01, kernel=polynomial; total time=   0.0s\n",
      "[CV] END alpha=0.001, degree=7, gamma=0.01, kernel=polynomial; total time=   0.0s\n",
      "[CV] END alpha=0.001, degree=7, gamma=0.01, kernel=polynomial; total time=   0.0s\n",
      "[CV] END alpha=0.001, degree=7, gamma=0.01, kernel=polynomial; total time=   0.0s\n",
      "[CV] END ...alpha=0.001, degree=7, gamma=0.01, kernel=cosine; total time=   0.0s\n",
      "[CV] END ...alpha=0.001, degree=7, gamma=0.01, kernel=cosine; total time=   0.0s\n",
      "[CV] END ...alpha=0.001, degree=7, gamma=0.01, kernel=cosine; total time=   0.0s\n",
      "[CV] END ...alpha=0.001, degree=7, gamma=0.01, kernel=cosine; total time=   0.0s\n",
      "[CV] END ...alpha=0.001, degree=7, gamma=0.01, kernel=cosine; total time=   0.0s\n",
      "[CV] END .......alpha=0.001, degree=7, gamma=0.1, kernel=rbf; total time=   0.0s\n",
      "[CV] END .......alpha=0.001, degree=7, gamma=0.1, kernel=rbf; total time=   0.0s\n",
      "[CV] END .......alpha=0.001, degree=7, gamma=0.1, kernel=rbf; total time=   0.0s\n",
      "[CV] END .......alpha=0.001, degree=7, gamma=0.1, kernel=rbf; total time=   0.0s\n",
      "[CV] END .......alpha=0.001, degree=7, gamma=0.1, kernel=rbf; total time=   0.0s\n",
      "[CV] END alpha=0.001, degree=7, gamma=0.1, kernel=polynomial; total time=   0.0s\n",
      "[CV] END alpha=0.001, degree=7, gamma=0.1, kernel=polynomial; total time=   0.0s\n",
      "[CV] END alpha=0.001, degree=7, gamma=0.1, kernel=polynomial; total time=   0.0s\n",
      "[CV] END alpha=0.001, degree=7, gamma=0.1, kernel=polynomial; total time=   0.0s\n",
      "[CV] END alpha=0.001, degree=7, gamma=0.1, kernel=polynomial; total time=   0.0s\n",
      "[CV] END ....alpha=0.001, degree=7, gamma=0.1, kernel=cosine; total time=   0.0s\n",
      "[CV] END ....alpha=0.001, degree=7, gamma=0.1, kernel=cosine; total time=   0.0s\n",
      "[CV] END ....alpha=0.001, degree=7, gamma=0.1, kernel=cosine; total time=   0.0s\n",
      "[CV] END ....alpha=0.001, degree=7, gamma=0.1, kernel=cosine; total time=   0.0s\n",
      "[CV] END ....alpha=0.001, degree=7, gamma=0.1, kernel=cosine; total time=   0.0s\n",
      "[CV] END .......alpha=0.001, degree=7, gamma=1.0, kernel=rbf; total time=   0.0s\n",
      "[CV] END .......alpha=0.001, degree=7, gamma=1.0, kernel=rbf; total time=   0.0s\n",
      "[CV] END .......alpha=0.001, degree=7, gamma=1.0, kernel=rbf; total time=   0.0s\n",
      "[CV] END .......alpha=0.001, degree=7, gamma=1.0, kernel=rbf; total time=   0.0s\n",
      "[CV] END .......alpha=0.001, degree=7, gamma=1.0, kernel=rbf; total time=   0.0s\n",
      "[CV] END alpha=0.001, degree=7, gamma=1.0, kernel=polynomial; total time=   0.0s\n",
      "[CV] END alpha=0.001, degree=7, gamma=1.0, kernel=polynomial; total time=   0.0s\n",
      "[CV] END alpha=0.001, degree=7, gamma=1.0, kernel=polynomial; total time=   0.0s\n",
      "[CV] END alpha=0.001, degree=7, gamma=1.0, kernel=polynomial; total time=   0.0s\n",
      "[CV] END alpha=0.001, degree=7, gamma=1.0, kernel=polynomial; total time=   0.0s\n",
      "[CV] END ....alpha=0.001, degree=7, gamma=1.0, kernel=cosine; total time=   0.0s\n",
      "[CV] END ....alpha=0.001, degree=7, gamma=1.0, kernel=cosine; total time=   0.0s\n",
      "[CV] END ....alpha=0.001, degree=7, gamma=1.0, kernel=cosine; total time=   0.0s\n",
      "[CV] END ....alpha=0.001, degree=7, gamma=1.0, kernel=cosine; total time=   0.0s\n",
      "[CV] END ....alpha=0.001, degree=7, gamma=1.0, kernel=cosine; total time=   0.0s\n",
      "[CV] END ......alpha=0.001, degree=7, gamma=10.0, kernel=rbf; total time=   0.0s\n",
      "[CV] END ......alpha=0.001, degree=7, gamma=10.0, kernel=rbf; total time=   0.0s\n",
      "[CV] END ......alpha=0.001, degree=7, gamma=10.0, kernel=rbf; total time=   0.0s\n",
      "[CV] END ......alpha=0.001, degree=7, gamma=10.0, kernel=rbf; total time=   0.0s\n",
      "[CV] END ......alpha=0.001, degree=7, gamma=10.0, kernel=rbf; total time=   0.0s\n",
      "[CV] END alpha=0.001, degree=7, gamma=10.0, kernel=polynomial; total time=   0.0s\n",
      "[CV] END alpha=0.001, degree=7, gamma=10.0, kernel=polynomial; total time=   0.0s\n",
      "[CV] END alpha=0.001, degree=7, gamma=10.0, kernel=polynomial; total time=   0.0s\n",
      "[CV] END alpha=0.001, degree=7, gamma=10.0, kernel=polynomial; total time=   0.0s\n",
      "[CV] END alpha=0.001, degree=7, gamma=10.0, kernel=polynomial; total time=   0.0s\n",
      "[CV] END ...alpha=0.001, degree=7, gamma=10.0, kernel=cosine; total time=   0.0s\n",
      "[CV] END ...alpha=0.001, degree=7, gamma=10.0, kernel=cosine; total time=   0.0s\n",
      "[CV] END ...alpha=0.001, degree=7, gamma=10.0, kernel=cosine; total time=   0.0s\n",
      "[CV] END ...alpha=0.001, degree=7, gamma=10.0, kernel=cosine; total time=   0.0s\n",
      "[CV] END ...alpha=0.001, degree=7, gamma=10.0, kernel=cosine; total time=   0.0s\n",
      "[CV] END .....alpha=0.001, degree=7, gamma=100.0, kernel=rbf; total time=   0.0s\n",
      "[CV] END .....alpha=0.001, degree=7, gamma=100.0, kernel=rbf; total time=   0.0s\n",
      "[CV] END .....alpha=0.001, degree=7, gamma=100.0, kernel=rbf; total time=   0.0s\n",
      "[CV] END .....alpha=0.001, degree=7, gamma=100.0, kernel=rbf; total time=   0.0s\n",
      "[CV] END .....alpha=0.001, degree=7, gamma=100.0, kernel=rbf; total time=   0.0s\n",
      "[CV] END alpha=0.001, degree=7, gamma=100.0, kernel=polynomial; total time=   0.0s\n",
      "[CV] END alpha=0.001, degree=7, gamma=100.0, kernel=polynomial; total time=   0.0s\n",
      "[CV] END alpha=0.001, degree=7, gamma=100.0, kernel=polynomial; total time=   0.0s\n",
      "[CV] END alpha=0.001, degree=7, gamma=100.0, kernel=polynomial; total time=   0.0s\n",
      "[CV] END alpha=0.001, degree=7, gamma=100.0, kernel=polynomial; total time=   0.0s\n",
      "[CV] END ..alpha=0.001, degree=7, gamma=100.0, kernel=cosine; total time=   0.0s\n",
      "[CV] END ..alpha=0.001, degree=7, gamma=100.0, kernel=cosine; total time=   0.0s\n",
      "[CV] END ..alpha=0.001, degree=7, gamma=100.0, kernel=cosine; total time=   0.0s\n",
      "[CV] END ..alpha=0.001, degree=7, gamma=100.0, kernel=cosine; total time=   0.0s\n",
      "[CV] END ..alpha=0.001, degree=7, gamma=100.0, kernel=cosine; total time=   0.0s\n",
      "[CV] END ......alpha=0.001, degree=9, gamma=0.01, kernel=rbf; total time=   0.0s\n",
      "[CV] END ......alpha=0.001, degree=9, gamma=0.01, kernel=rbf; total time=   0.0s\n",
      "[CV] END ......alpha=0.001, degree=9, gamma=0.01, kernel=rbf; total time=   0.0s\n",
      "[CV] END ......alpha=0.001, degree=9, gamma=0.01, kernel=rbf; total time=   0.0s\n",
      "[CV] END ......alpha=0.001, degree=9, gamma=0.01, kernel=rbf; total time=   0.0s\n",
      "[CV] END alpha=0.001, degree=9, gamma=0.01, kernel=polynomial; total time=   0.0s\n",
      "[CV] END alpha=0.001, degree=9, gamma=0.01, kernel=polynomial; total time=   0.0s\n",
      "[CV] END alpha=0.001, degree=9, gamma=0.01, kernel=polynomial; total time=   0.0s\n",
      "[CV] END alpha=0.001, degree=9, gamma=0.01, kernel=polynomial; total time=   0.0s\n",
      "[CV] END alpha=0.001, degree=9, gamma=0.01, kernel=polynomial; total time=   0.0s\n",
      "[CV] END ...alpha=0.001, degree=9, gamma=0.01, kernel=cosine; total time=   0.0s\n",
      "[CV] END ...alpha=0.001, degree=9, gamma=0.01, kernel=cosine; total time=   0.0s\n",
      "[CV] END ...alpha=0.001, degree=9, gamma=0.01, kernel=cosine; total time=   0.0s\n",
      "[CV] END ...alpha=0.001, degree=9, gamma=0.01, kernel=cosine; total time=   0.0s\n",
      "[CV] END ...alpha=0.001, degree=9, gamma=0.01, kernel=cosine; total time=   0.0s\n",
      "[CV] END .......alpha=0.001, degree=9, gamma=0.1, kernel=rbf; total time=   0.0s\n",
      "[CV] END .......alpha=0.001, degree=9, gamma=0.1, kernel=rbf; total time=   0.0s\n",
      "[CV] END .......alpha=0.001, degree=9, gamma=0.1, kernel=rbf; total time=   0.0s\n",
      "[CV] END .......alpha=0.001, degree=9, gamma=0.1, kernel=rbf; total time=   0.0s\n",
      "[CV] END .......alpha=0.001, degree=9, gamma=0.1, kernel=rbf; total time=   0.0s\n",
      "[CV] END alpha=0.001, degree=9, gamma=0.1, kernel=polynomial; total time=   0.0s\n",
      "[CV] END alpha=0.001, degree=9, gamma=0.1, kernel=polynomial; total time=   0.0s\n",
      "[CV] END alpha=0.001, degree=9, gamma=0.1, kernel=polynomial; total time=   0.0s\n",
      "[CV] END alpha=0.001, degree=9, gamma=0.1, kernel=polynomial; total time=   0.0s\n",
      "[CV] END alpha=0.001, degree=9, gamma=0.1, kernel=polynomial; total time=   0.0s\n",
      "[CV] END ....alpha=0.001, degree=9, gamma=0.1, kernel=cosine; total time=   0.0s\n",
      "[CV] END ....alpha=0.001, degree=9, gamma=0.1, kernel=cosine; total time=   0.0s\n",
      "[CV] END ....alpha=0.001, degree=9, gamma=0.1, kernel=cosine; total time=   0.0s\n",
      "[CV] END ....alpha=0.001, degree=9, gamma=0.1, kernel=cosine; total time=   0.0s\n",
      "[CV] END ....alpha=0.001, degree=9, gamma=0.1, kernel=cosine; total time=   0.0s\n",
      "[CV] END .......alpha=0.001, degree=9, gamma=1.0, kernel=rbf; total time=   0.0s\n",
      "[CV] END .......alpha=0.001, degree=9, gamma=1.0, kernel=rbf; total time=   0.0s\n",
      "[CV] END .......alpha=0.001, degree=9, gamma=1.0, kernel=rbf; total time=   0.0s\n",
      "[CV] END .......alpha=0.001, degree=9, gamma=1.0, kernel=rbf; total time=   0.0s\n",
      "[CV] END .......alpha=0.001, degree=9, gamma=1.0, kernel=rbf; total time=   0.0s\n",
      "[CV] END alpha=0.001, degree=9, gamma=1.0, kernel=polynomial; total time=   0.0s\n",
      "[CV] END alpha=0.001, degree=9, gamma=1.0, kernel=polynomial; total time=   0.0s\n",
      "[CV] END alpha=0.001, degree=9, gamma=1.0, kernel=polynomial; total time=   0.0s\n",
      "[CV] END alpha=0.001, degree=9, gamma=1.0, kernel=polynomial; total time=   0.0s\n",
      "[CV] END alpha=0.001, degree=9, gamma=1.0, kernel=polynomial; total time=   0.0s\n",
      "[CV] END ....alpha=0.001, degree=9, gamma=1.0, kernel=cosine; total time=   0.0s\n",
      "[CV] END ....alpha=0.001, degree=9, gamma=1.0, kernel=cosine; total time=   0.0s\n"
     ]
    },
    {
     "name": "stderr",
     "output_type": "stream",
     "text": [
      "/home/chris/.local/lib/python3.11/site-packages/sklearn/linear_model/_ridge.py:239: UserWarning:\n",
      "\n",
      "Singular matrix in solving dual problem. Using least-squares solution instead.\n",
      "\n",
      "/home/chris/.local/lib/python3.11/site-packages/sklearn/linear_model/_ridge.py:239: UserWarning:\n",
      "\n",
      "Singular matrix in solving dual problem. Using least-squares solution instead.\n",
      "\n",
      "/home/chris/.local/lib/python3.11/site-packages/sklearn/linear_model/_ridge.py:239: UserWarning:\n",
      "\n",
      "Singular matrix in solving dual problem. Using least-squares solution instead.\n",
      "\n",
      "/home/chris/.local/lib/python3.11/site-packages/sklearn/linear_model/_ridge.py:239: UserWarning:\n",
      "\n",
      "Singular matrix in solving dual problem. Using least-squares solution instead.\n",
      "\n",
      "/home/chris/.local/lib/python3.11/site-packages/sklearn/linear_model/_ridge.py:239: UserWarning:\n",
      "\n",
      "Singular matrix in solving dual problem. Using least-squares solution instead.\n",
      "\n",
      "/home/chris/.local/lib/python3.11/site-packages/sklearn/linear_model/_ridge.py:239: UserWarning:\n",
      "\n",
      "Singular matrix in solving dual problem. Using least-squares solution instead.\n",
      "\n",
      "/home/chris/.local/lib/python3.11/site-packages/sklearn/linear_model/_ridge.py:239: UserWarning:\n",
      "\n",
      "Singular matrix in solving dual problem. Using least-squares solution instead.\n",
      "\n",
      "/home/chris/.local/lib/python3.11/site-packages/sklearn/linear_model/_ridge.py:239: UserWarning:\n",
      "\n",
      "Singular matrix in solving dual problem. Using least-squares solution instead.\n",
      "\n",
      "/home/chris/.local/lib/python3.11/site-packages/sklearn/linear_model/_ridge.py:239: UserWarning:\n",
      "\n",
      "Singular matrix in solving dual problem. Using least-squares solution instead.\n",
      "\n",
      "/home/chris/.local/lib/python3.11/site-packages/sklearn/linear_model/_ridge.py:239: UserWarning:\n",
      "\n",
      "Singular matrix in solving dual problem. Using least-squares solution instead.\n",
      "\n",
      "/home/chris/.local/lib/python3.11/site-packages/sklearn/linear_model/_ridge.py:239: UserWarning:\n",
      "\n",
      "Singular matrix in solving dual problem. Using least-squares solution instead.\n",
      "\n",
      "/home/chris/.local/lib/python3.11/site-packages/sklearn/linear_model/_ridge.py:239: UserWarning:\n",
      "\n",
      "Singular matrix in solving dual problem. Using least-squares solution instead.\n",
      "\n",
      "/home/chris/.local/lib/python3.11/site-packages/sklearn/linear_model/_ridge.py:239: UserWarning:\n",
      "\n",
      "Singular matrix in solving dual problem. Using least-squares solution instead.\n",
      "\n",
      "/home/chris/.local/lib/python3.11/site-packages/sklearn/linear_model/_ridge.py:239: UserWarning:\n",
      "\n",
      "Singular matrix in solving dual problem. Using least-squares solution instead.\n",
      "\n",
      "/home/chris/.local/lib/python3.11/site-packages/sklearn/linear_model/_ridge.py:239: UserWarning:\n",
      "\n",
      "Singular matrix in solving dual problem. Using least-squares solution instead.\n",
      "\n",
      "/home/chris/.local/lib/python3.11/site-packages/sklearn/linear_model/_ridge.py:239: UserWarning:\n",
      "\n",
      "Singular matrix in solving dual problem. Using least-squares solution instead.\n",
      "\n",
      "/home/chris/.local/lib/python3.11/site-packages/sklearn/linear_model/_ridge.py:239: UserWarning:\n",
      "\n",
      "Singular matrix in solving dual problem. Using least-squares solution instead.\n",
      "\n",
      "/home/chris/.local/lib/python3.11/site-packages/sklearn/linear_model/_ridge.py:239: UserWarning:\n",
      "\n",
      "Singular matrix in solving dual problem. Using least-squares solution instead.\n",
      "\n",
      "/home/chris/.local/lib/python3.11/site-packages/sklearn/linear_model/_ridge.py:239: UserWarning:\n",
      "\n",
      "Singular matrix in solving dual problem. Using least-squares solution instead.\n",
      "\n",
      "/home/chris/.local/lib/python3.11/site-packages/sklearn/linear_model/_ridge.py:239: UserWarning:\n",
      "\n",
      "Singular matrix in solving dual problem. Using least-squares solution instead.\n",
      "\n",
      "/home/chris/.local/lib/python3.11/site-packages/sklearn/linear_model/_ridge.py:239: UserWarning:\n",
      "\n",
      "Singular matrix in solving dual problem. Using least-squares solution instead.\n",
      "\n",
      "/home/chris/.local/lib/python3.11/site-packages/sklearn/linear_model/_ridge.py:239: UserWarning:\n",
      "\n",
      "Singular matrix in solving dual problem. Using least-squares solution instead.\n",
      "\n",
      "/home/chris/.local/lib/python3.11/site-packages/sklearn/linear_model/_ridge.py:239: UserWarning:\n",
      "\n",
      "Singular matrix in solving dual problem. Using least-squares solution instead.\n",
      "\n",
      "/home/chris/.local/lib/python3.11/site-packages/sklearn/linear_model/_ridge.py:239: UserWarning:\n",
      "\n",
      "Singular matrix in solving dual problem. Using least-squares solution instead.\n",
      "\n",
      "/home/chris/.local/lib/python3.11/site-packages/sklearn/linear_model/_ridge.py:239: UserWarning:\n",
      "\n",
      "Singular matrix in solving dual problem. Using least-squares solution instead.\n",
      "\n"
     ]
    },
    {
     "name": "stdout",
     "output_type": "stream",
     "text": [
      "[CV] END ....alpha=0.001, degree=9, gamma=1.0, kernel=cosine; total time=   0.0s\n",
      "[CV] END ....alpha=0.001, degree=9, gamma=1.0, kernel=cosine; total time=   0.0s\n",
      "[CV] END ....alpha=0.001, degree=9, gamma=1.0, kernel=cosine; total time=   0.0s\n",
      "[CV] END ......alpha=0.001, degree=9, gamma=10.0, kernel=rbf; total time=   0.0s\n",
      "[CV] END ......alpha=0.001, degree=9, gamma=10.0, kernel=rbf; total time=   0.0s\n",
      "[CV] END ......alpha=0.001, degree=9, gamma=10.0, kernel=rbf; total time=   0.0s\n",
      "[CV] END ......alpha=0.001, degree=9, gamma=10.0, kernel=rbf; total time=   0.0s\n",
      "[CV] END ......alpha=0.001, degree=9, gamma=10.0, kernel=rbf; total time=   0.0s\n",
      "[CV] END alpha=0.001, degree=9, gamma=10.0, kernel=polynomial; total time=   0.0s\n",
      "[CV] END alpha=0.001, degree=9, gamma=10.0, kernel=polynomial; total time=   0.0s\n",
      "[CV] END alpha=0.001, degree=9, gamma=10.0, kernel=polynomial; total time=   0.0s\n",
      "[CV] END alpha=0.001, degree=9, gamma=10.0, kernel=polynomial; total time=   0.0s\n",
      "[CV] END alpha=0.001, degree=9, gamma=10.0, kernel=polynomial; total time=   0.0s\n",
      "[CV] END ...alpha=0.001, degree=9, gamma=10.0, kernel=cosine; total time=   0.0s\n",
      "[CV] END ...alpha=0.001, degree=9, gamma=10.0, kernel=cosine; total time=   0.0s\n",
      "[CV] END ...alpha=0.001, degree=9, gamma=10.0, kernel=cosine; total time=   0.0s\n",
      "[CV] END ...alpha=0.001, degree=9, gamma=10.0, kernel=cosine; total time=   0.0s\n",
      "[CV] END ...alpha=0.001, degree=9, gamma=10.0, kernel=cosine; total time=   0.0s\n",
      "[CV] END .....alpha=0.001, degree=9, gamma=100.0, kernel=rbf; total time=   0.0s\n",
      "[CV] END .....alpha=0.001, degree=9, gamma=100.0, kernel=rbf; total time=   0.0s\n",
      "[CV] END .....alpha=0.001, degree=9, gamma=100.0, kernel=rbf; total time=   0.0s\n",
      "[CV] END .....alpha=0.001, degree=9, gamma=100.0, kernel=rbf; total time=   0.0s\n",
      "[CV] END .....alpha=0.001, degree=9, gamma=100.0, kernel=rbf; total time=   0.0s\n",
      "[CV] END alpha=0.001, degree=9, gamma=100.0, kernel=polynomial; total time=   0.0s\n",
      "[CV] END alpha=0.001, degree=9, gamma=100.0, kernel=polynomial; total time=   0.0s\n",
      "[CV] END alpha=0.001, degree=9, gamma=100.0, kernel=polynomial; total time=   0.0s\n",
      "[CV] END alpha=0.001, degree=9, gamma=100.0, kernel=polynomial; total time=   0.0s\n",
      "[CV] END alpha=0.001, degree=9, gamma=100.0, kernel=polynomial; total time=   0.0s\n",
      "[CV] END ..alpha=0.001, degree=9, gamma=100.0, kernel=cosine; total time=   0.0s\n",
      "[CV] END ..alpha=0.001, degree=9, gamma=100.0, kernel=cosine; total time=   0.0s\n",
      "[CV] END ..alpha=0.001, degree=9, gamma=100.0, kernel=cosine; total time=   0.0s\n",
      "[CV] END ..alpha=0.001, degree=9, gamma=100.0, kernel=cosine; total time=   0.0s\n",
      "[CV] END ..alpha=0.001, degree=9, gamma=100.0, kernel=cosine; total time=   0.0s\n",
      "[CV] END .....alpha=0.001, degree=11, gamma=0.01, kernel=rbf; total time=   0.0s\n",
      "[CV] END .....alpha=0.001, degree=11, gamma=0.01, kernel=rbf; total time=   0.0s\n",
      "[CV] END .....alpha=0.001, degree=11, gamma=0.01, kernel=rbf; total time=   0.0s\n",
      "[CV] END .....alpha=0.001, degree=11, gamma=0.01, kernel=rbf; total time=   0.0s\n",
      "[CV] END .....alpha=0.001, degree=11, gamma=0.01, kernel=rbf; total time=   0.0s\n",
      "[CV] END alpha=0.001, degree=11, gamma=0.01, kernel=polynomial; total time=   0.0s\n",
      "[CV] END alpha=0.001, degree=11, gamma=0.01, kernel=polynomial; total time=   0.0s\n",
      "[CV] END alpha=0.001, degree=11, gamma=0.01, kernel=polynomial; total time=   0.0s\n",
      "[CV] END alpha=0.001, degree=11, gamma=0.01, kernel=polynomial; total time=   0.0s\n",
      "[CV] END alpha=0.001, degree=11, gamma=0.01, kernel=polynomial; total time=   0.0s\n",
      "[CV] END ..alpha=0.001, degree=11, gamma=0.01, kernel=cosine; total time=   0.0s\n",
      "[CV] END ..alpha=0.001, degree=11, gamma=0.01, kernel=cosine; total time=   0.0s\n",
      "[CV] END ..alpha=0.001, degree=11, gamma=0.01, kernel=cosine; total time=   0.0s\n",
      "[CV] END ..alpha=0.001, degree=11, gamma=0.01, kernel=cosine; total time=   0.0s\n",
      "[CV] END ..alpha=0.001, degree=11, gamma=0.01, kernel=cosine; total time=   0.0s\n",
      "[CV] END ......alpha=0.001, degree=11, gamma=0.1, kernel=rbf; total time=   0.0s\n",
      "[CV] END ......alpha=0.001, degree=11, gamma=0.1, kernel=rbf; total time=   0.0s\n",
      "[CV] END ......alpha=0.001, degree=11, gamma=0.1, kernel=rbf; total time=   0.0s\n",
      "[CV] END ......alpha=0.001, degree=11, gamma=0.1, kernel=rbf; total time=   0.0s\n",
      "[CV] END ......alpha=0.001, degree=11, gamma=0.1, kernel=rbf; total time=   0.0s\n",
      "[CV] END alpha=0.001, degree=11, gamma=0.1, kernel=polynomial; total time=   0.0s\n",
      "[CV] END alpha=0.001, degree=11, gamma=0.1, kernel=polynomial; total time=   0.0s\n",
      "[CV] END alpha=0.001, degree=11, gamma=0.1, kernel=polynomial; total time=   0.0s\n",
      "[CV] END alpha=0.001, degree=11, gamma=0.1, kernel=polynomial; total time=   0.0s\n",
      "[CV] END alpha=0.001, degree=11, gamma=0.1, kernel=polynomial; total time=   0.0s\n",
      "[CV] END ...alpha=0.001, degree=11, gamma=0.1, kernel=cosine; total time=   0.0s\n",
      "[CV] END ...alpha=0.001, degree=11, gamma=0.1, kernel=cosine; total time=   0.0s\n",
      "[CV] END ...alpha=0.001, degree=11, gamma=0.1, kernel=cosine; total time=   0.0s\n",
      "[CV] END ...alpha=0.001, degree=11, gamma=0.1, kernel=cosine; total time=   0.0s\n",
      "[CV] END ...alpha=0.001, degree=11, gamma=0.1, kernel=cosine; total time=   0.0s\n",
      "[CV] END ......alpha=0.001, degree=11, gamma=1.0, kernel=rbf; total time=   0.0s\n",
      "[CV] END ......alpha=0.001, degree=11, gamma=1.0, kernel=rbf; total time=   0.0s\n",
      "[CV] END ......alpha=0.001, degree=11, gamma=1.0, kernel=rbf; total time=   0.0s\n",
      "[CV] END ......alpha=0.001, degree=11, gamma=1.0, kernel=rbf; total time=   0.0s\n",
      "[CV] END ......alpha=0.001, degree=11, gamma=1.0, kernel=rbf; total time=   0.0s\n",
      "[CV] END alpha=0.001, degree=11, gamma=1.0, kernel=polynomial; total time=   0.0s\n",
      "[CV] END alpha=0.001, degree=11, gamma=1.0, kernel=polynomial; total time=   0.0s\n",
      "[CV] END alpha=0.001, degree=11, gamma=1.0, kernel=polynomial; total time=   0.0s\n",
      "[CV] END alpha=0.001, degree=11, gamma=1.0, kernel=polynomial; total time=   0.0s\n",
      "[CV] END alpha=0.001, degree=11, gamma=1.0, kernel=polynomial; total time=   0.0s\n",
      "[CV] END ...alpha=0.001, degree=11, gamma=1.0, kernel=cosine; total time=   0.0s\n",
      "[CV] END ...alpha=0.001, degree=11, gamma=1.0, kernel=cosine; total time=   0.0s\n",
      "[CV] END ...alpha=0.001, degree=11, gamma=1.0, kernel=cosine; total time=   0.0s\n",
      "[CV] END ...alpha=0.001, degree=11, gamma=1.0, kernel=cosine; total time=   0.0s\n",
      "[CV] END ...alpha=0.001, degree=11, gamma=1.0, kernel=cosine; total time=   0.0s\n",
      "[CV] END .....alpha=0.001, degree=11, gamma=10.0, kernel=rbf; total time=   0.0s\n",
      "[CV] END .....alpha=0.001, degree=11, gamma=10.0, kernel=rbf; total time=   0.0s\n",
      "[CV] END .....alpha=0.001, degree=11, gamma=10.0, kernel=rbf; total time=   0.0s\n",
      "[CV] END .....alpha=0.001, degree=11, gamma=10.0, kernel=rbf; total time=   0.0s\n",
      "[CV] END .....alpha=0.001, degree=11, gamma=10.0, kernel=rbf; total time=   0.0s\n",
      "[CV] END alpha=0.001, degree=11, gamma=10.0, kernel=polynomial; total time=   0.0s\n",
      "[CV] END alpha=0.001, degree=11, gamma=10.0, kernel=polynomial; total time=   0.0s\n",
      "[CV] END alpha=0.001, degree=11, gamma=10.0, kernel=polynomial; total time=   0.0s\n",
      "[CV] END alpha=0.001, degree=11, gamma=10.0, kernel=polynomial; total time=   0.0s\n",
      "[CV] END alpha=0.001, degree=11, gamma=10.0, kernel=polynomial; total time=   0.0s\n",
      "[CV] END ..alpha=0.001, degree=11, gamma=10.0, kernel=cosine; total time=   0.0s\n",
      "[CV] END ..alpha=0.001, degree=11, gamma=10.0, kernel=cosine; total time=   0.0s\n",
      "[CV] END ..alpha=0.001, degree=11, gamma=10.0, kernel=cosine; total time=   0.0s\n",
      "[CV] END ..alpha=0.001, degree=11, gamma=10.0, kernel=cosine; total time=   0.0s\n"
     ]
    },
    {
     "name": "stderr",
     "output_type": "stream",
     "text": [
      "/home/chris/.local/lib/python3.11/site-packages/sklearn/linear_model/_ridge.py:239: UserWarning:\n",
      "\n",
      "Singular matrix in solving dual problem. Using least-squares solution instead.\n",
      "\n",
      "/home/chris/.local/lib/python3.11/site-packages/sklearn/linear_model/_ridge.py:239: UserWarning:\n",
      "\n",
      "Singular matrix in solving dual problem. Using least-squares solution instead.\n",
      "\n",
      "/home/chris/.local/lib/python3.11/site-packages/sklearn/linear_model/_ridge.py:239: UserWarning:\n",
      "\n",
      "Singular matrix in solving dual problem. Using least-squares solution instead.\n",
      "\n",
      "/home/chris/.local/lib/python3.11/site-packages/sklearn/linear_model/_ridge.py:239: UserWarning:\n",
      "\n",
      "Singular matrix in solving dual problem. Using least-squares solution instead.\n",
      "\n",
      "/home/chris/.local/lib/python3.11/site-packages/sklearn/linear_model/_ridge.py:239: UserWarning:\n",
      "\n",
      "Singular matrix in solving dual problem. Using least-squares solution instead.\n",
      "\n",
      "/home/chris/.local/lib/python3.11/site-packages/sklearn/linear_model/_ridge.py:239: UserWarning:\n",
      "\n",
      "Singular matrix in solving dual problem. Using least-squares solution instead.\n",
      "\n",
      "/home/chris/.local/lib/python3.11/site-packages/sklearn/linear_model/_ridge.py:239: UserWarning:\n",
      "\n",
      "Singular matrix in solving dual problem. Using least-squares solution instead.\n",
      "\n",
      "/home/chris/.local/lib/python3.11/site-packages/sklearn/linear_model/_ridge.py:239: UserWarning:\n",
      "\n",
      "Singular matrix in solving dual problem. Using least-squares solution instead.\n",
      "\n",
      "/home/chris/.local/lib/python3.11/site-packages/sklearn/linear_model/_ridge.py:239: UserWarning:\n",
      "\n",
      "Singular matrix in solving dual problem. Using least-squares solution instead.\n",
      "\n",
      "/home/chris/.local/lib/python3.11/site-packages/sklearn/linear_model/_ridge.py:239: UserWarning:\n",
      "\n",
      "Singular matrix in solving dual problem. Using least-squares solution instead.\n",
      "\n",
      "/home/chris/.local/lib/python3.11/site-packages/sklearn/linear_model/_ridge.py:239: UserWarning:\n",
      "\n",
      "Singular matrix in solving dual problem. Using least-squares solution instead.\n",
      "\n",
      "/home/chris/.local/lib/python3.11/site-packages/sklearn/linear_model/_ridge.py:239: UserWarning:\n",
      "\n",
      "Singular matrix in solving dual problem. Using least-squares solution instead.\n",
      "\n",
      "/home/chris/.local/lib/python3.11/site-packages/sklearn/linear_model/_ridge.py:239: UserWarning:\n",
      "\n",
      "Singular matrix in solving dual problem. Using least-squares solution instead.\n",
      "\n",
      "/home/chris/.local/lib/python3.11/site-packages/sklearn/linear_model/_ridge.py:239: UserWarning:\n",
      "\n",
      "Singular matrix in solving dual problem. Using least-squares solution instead.\n",
      "\n",
      "/home/chris/.local/lib/python3.11/site-packages/sklearn/linear_model/_ridge.py:239: UserWarning:\n",
      "\n",
      "Singular matrix in solving dual problem. Using least-squares solution instead.\n",
      "\n",
      "/home/chris/.local/lib/python3.11/site-packages/sklearn/linear_model/_ridge.py:239: UserWarning:\n",
      "\n",
      "Singular matrix in solving dual problem. Using least-squares solution instead.\n",
      "\n",
      "/home/chris/.local/lib/python3.11/site-packages/sklearn/linear_model/_ridge.py:239: UserWarning:\n",
      "\n",
      "Singular matrix in solving dual problem. Using least-squares solution instead.\n",
      "\n",
      "/home/chris/.local/lib/python3.11/site-packages/sklearn/linear_model/_ridge.py:239: UserWarning:\n",
      "\n",
      "Singular matrix in solving dual problem. Using least-squares solution instead.\n",
      "\n",
      "/home/chris/.local/lib/python3.11/site-packages/sklearn/linear_model/_ridge.py:239: UserWarning:\n",
      "\n",
      "Singular matrix in solving dual problem. Using least-squares solution instead.\n",
      "\n",
      "/home/chris/.local/lib/python3.11/site-packages/sklearn/linear_model/_ridge.py:239: UserWarning:\n",
      "\n",
      "Singular matrix in solving dual problem. Using least-squares solution instead.\n",
      "\n",
      "/home/chris/.local/lib/python3.11/site-packages/sklearn/linear_model/_ridge.py:239: UserWarning:\n",
      "\n",
      "Singular matrix in solving dual problem. Using least-squares solution instead.\n",
      "\n",
      "/home/chris/.local/lib/python3.11/site-packages/sklearn/linear_model/_ridge.py:239: UserWarning:\n",
      "\n",
      "Singular matrix in solving dual problem. Using least-squares solution instead.\n",
      "\n",
      "/home/chris/.local/lib/python3.11/site-packages/sklearn/linear_model/_ridge.py:239: UserWarning:\n",
      "\n",
      "Singular matrix in solving dual problem. Using least-squares solution instead.\n",
      "\n",
      "/home/chris/.local/lib/python3.11/site-packages/sklearn/linear_model/_ridge.py:239: UserWarning:\n",
      "\n",
      "Singular matrix in solving dual problem. Using least-squares solution instead.\n",
      "\n",
      "/home/chris/.local/lib/python3.11/site-packages/sklearn/linear_model/_ridge.py:239: UserWarning:\n",
      "\n",
      "Singular matrix in solving dual problem. Using least-squares solution instead.\n",
      "\n"
     ]
    },
    {
     "name": "stdout",
     "output_type": "stream",
     "text": [
      "[CV] END ..alpha=0.001, degree=11, gamma=10.0, kernel=cosine; total time=   0.0s\n",
      "[CV] END ....alpha=0.001, degree=11, gamma=100.0, kernel=rbf; total time=   0.0s\n",
      "[CV] END ....alpha=0.001, degree=11, gamma=100.0, kernel=rbf; total time=   0.0s\n",
      "[CV] END ....alpha=0.001, degree=11, gamma=100.0, kernel=rbf; total time=   0.0s\n",
      "[CV] END ....alpha=0.001, degree=11, gamma=100.0, kernel=rbf; total time=   0.0s\n",
      "[CV] END ....alpha=0.001, degree=11, gamma=100.0, kernel=rbf; total time=   0.0s\n",
      "[CV] END alpha=0.001, degree=11, gamma=100.0, kernel=polynomial; total time=   0.0s\n",
      "[CV] END alpha=0.001, degree=11, gamma=100.0, kernel=polynomial; total time=   0.0s\n",
      "[CV] END alpha=0.001, degree=11, gamma=100.0, kernel=polynomial; total time=   0.0s\n",
      "[CV] END alpha=0.001, degree=11, gamma=100.0, kernel=polynomial; total time=   0.0s\n",
      "[CV] END alpha=0.001, degree=11, gamma=100.0, kernel=polynomial; total time=   0.0s\n",
      "[CV] END .alpha=0.001, degree=11, gamma=100.0, kernel=cosine; total time=   0.0s\n",
      "[CV] END .alpha=0.001, degree=11, gamma=100.0, kernel=cosine; total time=   0.0s\n",
      "[CV] END .alpha=0.001, degree=11, gamma=100.0, kernel=cosine; total time=   0.0s\n",
      "[CV] END .alpha=0.001, degree=11, gamma=100.0, kernel=cosine; total time=   0.0s\n",
      "[CV] END .alpha=0.001, degree=11, gamma=100.0, kernel=cosine; total time=   0.0s\n",
      "[CV] END .....alpha=0.001, degree=15, gamma=0.01, kernel=rbf; total time=   0.0s\n",
      "[CV] END .....alpha=0.001, degree=15, gamma=0.01, kernel=rbf; total time=   0.0s\n",
      "[CV] END .....alpha=0.001, degree=15, gamma=0.01, kernel=rbf; total time=   0.0s\n",
      "[CV] END .....alpha=0.001, degree=15, gamma=0.01, kernel=rbf; total time=   0.0s\n",
      "[CV] END .....alpha=0.001, degree=15, gamma=0.01, kernel=rbf; total time=   0.0s\n",
      "[CV] END alpha=0.001, degree=15, gamma=0.01, kernel=polynomial; total time=   0.0s\n",
      "[CV] END alpha=0.001, degree=15, gamma=0.01, kernel=polynomial; total time=   0.0s\n",
      "[CV] END alpha=0.001, degree=15, gamma=0.01, kernel=polynomial; total time=   0.0s\n",
      "[CV] END alpha=0.001, degree=15, gamma=0.01, kernel=polynomial; total time=   0.0s\n",
      "[CV] END alpha=0.001, degree=15, gamma=0.01, kernel=polynomial; total time=   0.0s\n",
      "[CV] END ..alpha=0.001, degree=15, gamma=0.01, kernel=cosine; total time=   0.0s\n",
      "[CV] END ..alpha=0.001, degree=15, gamma=0.01, kernel=cosine; total time=   0.0s\n",
      "[CV] END ..alpha=0.001, degree=15, gamma=0.01, kernel=cosine; total time=   0.0s\n",
      "[CV] END ..alpha=0.001, degree=15, gamma=0.01, kernel=cosine; total time=   0.0s\n",
      "[CV] END ..alpha=0.001, degree=15, gamma=0.01, kernel=cosine; total time=   0.0s\n",
      "[CV] END ......alpha=0.001, degree=15, gamma=0.1, kernel=rbf; total time=   0.0s\n",
      "[CV] END ......alpha=0.001, degree=15, gamma=0.1, kernel=rbf; total time=   0.0s\n",
      "[CV] END ......alpha=0.001, degree=15, gamma=0.1, kernel=rbf; total time=   0.0s\n",
      "[CV] END ......alpha=0.001, degree=15, gamma=0.1, kernel=rbf; total time=   0.0s\n",
      "[CV] END ......alpha=0.001, degree=15, gamma=0.1, kernel=rbf; total time=   0.0s\n",
      "[CV] END alpha=0.001, degree=15, gamma=0.1, kernel=polynomial; total time=   0.0s\n",
      "[CV] END alpha=0.001, degree=15, gamma=0.1, kernel=polynomial; total time=   0.0s\n",
      "[CV] END alpha=0.001, degree=15, gamma=0.1, kernel=polynomial; total time=   0.0s\n",
      "[CV] END alpha=0.001, degree=15, gamma=0.1, kernel=polynomial; total time=   0.0s\n",
      "[CV] END alpha=0.001, degree=15, gamma=0.1, kernel=polynomial; total time=   0.0s\n",
      "[CV] END ...alpha=0.001, degree=15, gamma=0.1, kernel=cosine; total time=   0.0s\n",
      "[CV] END ...alpha=0.001, degree=15, gamma=0.1, kernel=cosine; total time=   0.0s\n",
      "[CV] END ...alpha=0.001, degree=15, gamma=0.1, kernel=cosine; total time=   0.0s\n",
      "[CV] END ...alpha=0.001, degree=15, gamma=0.1, kernel=cosine; total time=   0.0s\n",
      "[CV] END ...alpha=0.001, degree=15, gamma=0.1, kernel=cosine; total time=   0.0s\n",
      "[CV] END ......alpha=0.001, degree=15, gamma=1.0, kernel=rbf; total time=   0.0s\n",
      "[CV] END ......alpha=0.001, degree=15, gamma=1.0, kernel=rbf; total time=   0.0s\n",
      "[CV] END ......alpha=0.001, degree=15, gamma=1.0, kernel=rbf; total time=   0.0s\n",
      "[CV] END ......alpha=0.001, degree=15, gamma=1.0, kernel=rbf; total time=   0.0s\n",
      "[CV] END ......alpha=0.001, degree=15, gamma=1.0, kernel=rbf; total time=   0.0s\n",
      "[CV] END alpha=0.001, degree=15, gamma=1.0, kernel=polynomial; total time=   0.0s\n",
      "[CV] END alpha=0.001, degree=15, gamma=1.0, kernel=polynomial; total time=   0.0s\n",
      "[CV] END alpha=0.001, degree=15, gamma=1.0, kernel=polynomial; total time=   0.0s\n",
      "[CV] END alpha=0.001, degree=15, gamma=1.0, kernel=polynomial; total time=   0.0s\n",
      "[CV] END alpha=0.001, degree=15, gamma=1.0, kernel=polynomial; total time=   0.0s\n",
      "[CV] END ...alpha=0.001, degree=15, gamma=1.0, kernel=cosine; total time=   0.0s\n",
      "[CV] END ...alpha=0.001, degree=15, gamma=1.0, kernel=cosine; total time=   0.0s\n",
      "[CV] END ...alpha=0.001, degree=15, gamma=1.0, kernel=cosine; total time=   0.0s\n",
      "[CV] END ...alpha=0.001, degree=15, gamma=1.0, kernel=cosine; total time=   0.0s\n",
      "[CV] END ...alpha=0.001, degree=15, gamma=1.0, kernel=cosine; total time=   0.0s\n",
      "[CV] END .....alpha=0.001, degree=15, gamma=10.0, kernel=rbf; total time=   0.0s\n",
      "[CV] END .....alpha=0.001, degree=15, gamma=10.0, kernel=rbf; total time=   0.0s\n",
      "[CV] END .....alpha=0.001, degree=15, gamma=10.0, kernel=rbf; total time=   0.0s\n",
      "[CV] END .....alpha=0.001, degree=15, gamma=10.0, kernel=rbf; total time=   0.0s\n",
      "[CV] END .....alpha=0.001, degree=15, gamma=10.0, kernel=rbf; total time=   0.0s\n",
      "[CV] END alpha=0.001, degree=15, gamma=10.0, kernel=polynomial; total time=   0.0s\n",
      "[CV] END alpha=0.001, degree=15, gamma=10.0, kernel=polynomial; total time=   0.0s\n",
      "[CV] END alpha=0.001, degree=15, gamma=10.0, kernel=polynomial; total time=   0.0s\n",
      "[CV] END alpha=0.001, degree=15, gamma=10.0, kernel=polynomial; total time=   0.0s\n",
      "[CV] END alpha=0.001, degree=15, gamma=10.0, kernel=polynomial; total time=   0.0s\n",
      "[CV] END ..alpha=0.001, degree=15, gamma=10.0, kernel=cosine; total time=   0.0s\n",
      "[CV] END ..alpha=0.001, degree=15, gamma=10.0, kernel=cosine; total time=   0.0s\n",
      "[CV] END ..alpha=0.001, degree=15, gamma=10.0, kernel=cosine; total time=   0.0s\n",
      "[CV] END ..alpha=0.001, degree=15, gamma=10.0, kernel=cosine; total time=   0.0s\n",
      "[CV] END ..alpha=0.001, degree=15, gamma=10.0, kernel=cosine; total time=   0.0s\n",
      "[CV] END ....alpha=0.001, degree=15, gamma=100.0, kernel=rbf; total time=   0.0s\n",
      "[CV] END ....alpha=0.001, degree=15, gamma=100.0, kernel=rbf; total time=   0.0s\n",
      "[CV] END ....alpha=0.001, degree=15, gamma=100.0, kernel=rbf; total time=   0.0s\n",
      "[CV] END ....alpha=0.001, degree=15, gamma=100.0, kernel=rbf; total time=   0.0s\n",
      "[CV] END ....alpha=0.001, degree=15, gamma=100.0, kernel=rbf; total time=   0.0s\n",
      "[CV] END alpha=0.001, degree=15, gamma=100.0, kernel=polynomial; total time=   0.0s\n",
      "[CV] END alpha=0.001, degree=15, gamma=100.0, kernel=polynomial; total time=   0.0s\n",
      "[CV] END alpha=0.001, degree=15, gamma=100.0, kernel=polynomial; total time=   0.0s\n",
      "[CV] END alpha=0.001, degree=15, gamma=100.0, kernel=polynomial; total time=   0.0s\n",
      "[CV] END alpha=0.001, degree=15, gamma=100.0, kernel=polynomial; total time=   0.0s\n",
      "[CV] END .alpha=0.001, degree=15, gamma=100.0, kernel=cosine; total time=   0.0s\n",
      "[CV] END .alpha=0.001, degree=15, gamma=100.0, kernel=cosine; total time=   0.0s\n",
      "[CV] END .alpha=0.001, degree=15, gamma=100.0, kernel=cosine; total time=   0.0s\n",
      "[CV] END .alpha=0.001, degree=15, gamma=100.0, kernel=cosine; total time=   0.0s\n",
      "[CV] END .alpha=0.001, degree=15, gamma=100.0, kernel=cosine; total time=   0.0s\n",
      "[CV] END .....alpha=0.001, degree=21, gamma=0.01, kernel=rbf; total time=   0.0s\n",
      "[CV] END .....alpha=0.001, degree=21, gamma=0.01, kernel=rbf; total time=   0.0s\n"
     ]
    },
    {
     "name": "stderr",
     "output_type": "stream",
     "text": [
      "/home/chris/.local/lib/python3.11/site-packages/sklearn/linear_model/_ridge.py:239: UserWarning:\n",
      "\n",
      "Singular matrix in solving dual problem. Using least-squares solution instead.\n",
      "\n",
      "/home/chris/.local/lib/python3.11/site-packages/sklearn/linear_model/_ridge.py:239: UserWarning:\n",
      "\n",
      "Singular matrix in solving dual problem. Using least-squares solution instead.\n",
      "\n",
      "/home/chris/.local/lib/python3.11/site-packages/sklearn/linear_model/_ridge.py:239: UserWarning:\n",
      "\n",
      "Singular matrix in solving dual problem. Using least-squares solution instead.\n",
      "\n",
      "/home/chris/.local/lib/python3.11/site-packages/sklearn/linear_model/_ridge.py:239: UserWarning:\n",
      "\n",
      "Singular matrix in solving dual problem. Using least-squares solution instead.\n",
      "\n",
      "/home/chris/.local/lib/python3.11/site-packages/sklearn/linear_model/_ridge.py:239: UserWarning:\n",
      "\n",
      "Singular matrix in solving dual problem. Using least-squares solution instead.\n",
      "\n",
      "/home/chris/.local/lib/python3.11/site-packages/sklearn/linear_model/_ridge.py:239: UserWarning:\n",
      "\n",
      "Singular matrix in solving dual problem. Using least-squares solution instead.\n",
      "\n",
      "/home/chris/.local/lib/python3.11/site-packages/sklearn/linear_model/_ridge.py:239: UserWarning:\n",
      "\n",
      "Singular matrix in solving dual problem. Using least-squares solution instead.\n",
      "\n",
      "/home/chris/.local/lib/python3.11/site-packages/sklearn/linear_model/_ridge.py:239: UserWarning:\n",
      "\n",
      "Singular matrix in solving dual problem. Using least-squares solution instead.\n",
      "\n",
      "/home/chris/.local/lib/python3.11/site-packages/sklearn/linear_model/_ridge.py:239: UserWarning:\n",
      "\n",
      "Singular matrix in solving dual problem. Using least-squares solution instead.\n",
      "\n",
      "/home/chris/.local/lib/python3.11/site-packages/sklearn/linear_model/_ridge.py:239: UserWarning:\n",
      "\n",
      "Singular matrix in solving dual problem. Using least-squares solution instead.\n",
      "\n",
      "/home/chris/.local/lib/python3.11/site-packages/sklearn/linear_model/_ridge.py:239: UserWarning:\n",
      "\n",
      "Singular matrix in solving dual problem. Using least-squares solution instead.\n",
      "\n",
      "/home/chris/.local/lib/python3.11/site-packages/sklearn/linear_model/_ridge.py:239: UserWarning:\n",
      "\n",
      "Singular matrix in solving dual problem. Using least-squares solution instead.\n",
      "\n",
      "/home/chris/.local/lib/python3.11/site-packages/sklearn/linear_model/_ridge.py:239: UserWarning:\n",
      "\n",
      "Singular matrix in solving dual problem. Using least-squares solution instead.\n",
      "\n",
      "/home/chris/.local/lib/python3.11/site-packages/sklearn/linear_model/_ridge.py:239: UserWarning:\n",
      "\n",
      "Singular matrix in solving dual problem. Using least-squares solution instead.\n",
      "\n",
      "/home/chris/.local/lib/python3.11/site-packages/sklearn/linear_model/_ridge.py:239: UserWarning:\n",
      "\n",
      "Singular matrix in solving dual problem. Using least-squares solution instead.\n",
      "\n",
      "/home/chris/.local/lib/python3.11/site-packages/sklearn/linear_model/_ridge.py:239: UserWarning:\n",
      "\n",
      "Singular matrix in solving dual problem. Using least-squares solution instead.\n",
      "\n",
      "/home/chris/.local/lib/python3.11/site-packages/sklearn/linear_model/_ridge.py:239: UserWarning:\n",
      "\n",
      "Singular matrix in solving dual problem. Using least-squares solution instead.\n",
      "\n",
      "/home/chris/.local/lib/python3.11/site-packages/sklearn/linear_model/_ridge.py:239: UserWarning:\n",
      "\n",
      "Singular matrix in solving dual problem. Using least-squares solution instead.\n",
      "\n"
     ]
    },
    {
     "name": "stdout",
     "output_type": "stream",
     "text": [
      "[CV] END .....alpha=0.001, degree=21, gamma=0.01, kernel=rbf; total time=   0.0s\n",
      "[CV] END .....alpha=0.001, degree=21, gamma=0.01, kernel=rbf; total time=   0.0s\n",
      "[CV] END .....alpha=0.001, degree=21, gamma=0.01, kernel=rbf; total time=   0.0s\n",
      "[CV] END alpha=0.001, degree=21, gamma=0.01, kernel=polynomial; total time=   0.0s\n",
      "[CV] END alpha=0.001, degree=21, gamma=0.01, kernel=polynomial; total time=   0.0s\n",
      "[CV] END alpha=0.001, degree=21, gamma=0.01, kernel=polynomial; total time=   0.0s\n",
      "[CV] END alpha=0.001, degree=21, gamma=0.01, kernel=polynomial; total time=   0.0s\n",
      "[CV] END alpha=0.001, degree=21, gamma=0.01, kernel=polynomial; total time=   0.0s\n",
      "[CV] END ..alpha=0.001, degree=21, gamma=0.01, kernel=cosine; total time=   0.0s\n",
      "[CV] END ..alpha=0.001, degree=21, gamma=0.01, kernel=cosine; total time=   0.0s\n",
      "[CV] END ..alpha=0.001, degree=21, gamma=0.01, kernel=cosine; total time=   0.0s\n",
      "[CV] END ..alpha=0.001, degree=21, gamma=0.01, kernel=cosine; total time=   0.0s\n",
      "[CV] END ..alpha=0.001, degree=21, gamma=0.01, kernel=cosine; total time=   0.0s\n",
      "[CV] END ......alpha=0.001, degree=21, gamma=0.1, kernel=rbf; total time=   0.0s\n",
      "[CV] END ......alpha=0.001, degree=21, gamma=0.1, kernel=rbf; total time=   0.0s\n",
      "[CV] END ......alpha=0.001, degree=21, gamma=0.1, kernel=rbf; total time=   0.0s\n",
      "[CV] END ......alpha=0.001, degree=21, gamma=0.1, kernel=rbf; total time=   0.0s\n",
      "[CV] END ......alpha=0.001, degree=21, gamma=0.1, kernel=rbf; total time=   0.0s\n",
      "[CV] END alpha=0.001, degree=21, gamma=0.1, kernel=polynomial; total time=   0.0s\n",
      "[CV] END alpha=0.001, degree=21, gamma=0.1, kernel=polynomial; total time=   0.0s\n",
      "[CV] END alpha=0.001, degree=21, gamma=0.1, kernel=polynomial; total time=   0.0s\n",
      "[CV] END alpha=0.001, degree=21, gamma=0.1, kernel=polynomial; total time=   0.0s\n",
      "[CV] END alpha=0.001, degree=21, gamma=0.1, kernel=polynomial; total time=   0.0s\n",
      "[CV] END ...alpha=0.001, degree=21, gamma=0.1, kernel=cosine; total time=   0.0s\n",
      "[CV] END ...alpha=0.001, degree=21, gamma=0.1, kernel=cosine; total time=   0.0s\n",
      "[CV] END ...alpha=0.001, degree=21, gamma=0.1, kernel=cosine; total time=   0.0s\n",
      "[CV] END ...alpha=0.001, degree=21, gamma=0.1, kernel=cosine; total time=   0.0s\n",
      "[CV] END ...alpha=0.001, degree=21, gamma=0.1, kernel=cosine; total time=   0.0s\n",
      "[CV] END ......alpha=0.001, degree=21, gamma=1.0, kernel=rbf; total time=   0.0s\n",
      "[CV] END ......alpha=0.001, degree=21, gamma=1.0, kernel=rbf; total time=   0.0s\n",
      "[CV] END ......alpha=0.001, degree=21, gamma=1.0, kernel=rbf; total time=   0.0s\n",
      "[CV] END ......alpha=0.001, degree=21, gamma=1.0, kernel=rbf; total time=   0.0s\n",
      "[CV] END ......alpha=0.001, degree=21, gamma=1.0, kernel=rbf; total time=   0.0s\n",
      "[CV] END alpha=0.001, degree=21, gamma=1.0, kernel=polynomial; total time=   0.0s\n",
      "[CV] END alpha=0.001, degree=21, gamma=1.0, kernel=polynomial; total time=   0.0s\n",
      "[CV] END alpha=0.001, degree=21, gamma=1.0, kernel=polynomial; total time=   0.0s\n",
      "[CV] END alpha=0.001, degree=21, gamma=1.0, kernel=polynomial; total time=   0.0s\n",
      "[CV] END alpha=0.001, degree=21, gamma=1.0, kernel=polynomial; total time=   0.0s\n",
      "[CV] END ...alpha=0.001, degree=21, gamma=1.0, kernel=cosine; total time=   0.0s\n",
      "[CV] END ...alpha=0.001, degree=21, gamma=1.0, kernel=cosine; total time=   0.0s\n",
      "[CV] END ...alpha=0.001, degree=21, gamma=1.0, kernel=cosine; total time=   0.0s\n",
      "[CV] END ...alpha=0.001, degree=21, gamma=1.0, kernel=cosine; total time=   0.0s\n",
      "[CV] END ...alpha=0.001, degree=21, gamma=1.0, kernel=cosine; total time=   0.0s\n",
      "[CV] END .....alpha=0.001, degree=21, gamma=10.0, kernel=rbf; total time=   0.0s\n",
      "[CV] END .....alpha=0.001, degree=21, gamma=10.0, kernel=rbf; total time=   0.0s\n",
      "[CV] END .....alpha=0.001, degree=21, gamma=10.0, kernel=rbf; total time=   0.0s\n",
      "[CV] END .....alpha=0.001, degree=21, gamma=10.0, kernel=rbf; total time=   0.0s\n",
      "[CV] END .....alpha=0.001, degree=21, gamma=10.0, kernel=rbf; total time=   0.0s\n",
      "[CV] END alpha=0.001, degree=21, gamma=10.0, kernel=polynomial; total time=   0.0s\n",
      "[CV] END alpha=0.001, degree=21, gamma=10.0, kernel=polynomial; total time=   0.0s\n",
      "[CV] END alpha=0.001, degree=21, gamma=10.0, kernel=polynomial; total time=   0.0s\n",
      "[CV] END alpha=0.001, degree=21, gamma=10.0, kernel=polynomial; total time=   0.0s\n",
      "[CV] END alpha=0.001, degree=21, gamma=10.0, kernel=polynomial; total time=   0.0s\n",
      "[CV] END ..alpha=0.001, degree=21, gamma=10.0, kernel=cosine; total time=   0.0s\n",
      "[CV] END ..alpha=0.001, degree=21, gamma=10.0, kernel=cosine; total time=   0.0s\n",
      "[CV] END ..alpha=0.001, degree=21, gamma=10.0, kernel=cosine; total time=   0.0s\n",
      "[CV] END ..alpha=0.001, degree=21, gamma=10.0, kernel=cosine; total time=   0.0s\n",
      "[CV] END ..alpha=0.001, degree=21, gamma=10.0, kernel=cosine; total time=   0.0s\n",
      "[CV] END ....alpha=0.001, degree=21, gamma=100.0, kernel=rbf; total time=   0.0s\n",
      "[CV] END ....alpha=0.001, degree=21, gamma=100.0, kernel=rbf; total time=   0.0s\n",
      "[CV] END ....alpha=0.001, degree=21, gamma=100.0, kernel=rbf; total time=   0.0s\n",
      "[CV] END ....alpha=0.001, degree=21, gamma=100.0, kernel=rbf; total time=   0.0s\n",
      "[CV] END ....alpha=0.001, degree=21, gamma=100.0, kernel=rbf; total time=   0.0s\n",
      "[CV] END alpha=0.001, degree=21, gamma=100.0, kernel=polynomial; total time=   0.0s\n",
      "[CV] END alpha=0.001, degree=21, gamma=100.0, kernel=polynomial; total time=   0.0s\n",
      "[CV] END alpha=0.001, degree=21, gamma=100.0, kernel=polynomial; total time=   0.0s\n",
      "[CV] END alpha=0.001, degree=21, gamma=100.0, kernel=polynomial; total time=   0.0s\n",
      "[CV] END alpha=0.001, degree=21, gamma=100.0, kernel=polynomial; total time=   0.0s\n",
      "[CV] END .alpha=0.001, degree=21, gamma=100.0, kernel=cosine; total time=   0.0s\n",
      "[CV] END .alpha=0.001, degree=21, gamma=100.0, kernel=cosine; total time=   0.0s\n",
      "[CV] END .alpha=0.001, degree=21, gamma=100.0, kernel=cosine; total time=   0.0s\n",
      "[CV] END .alpha=0.001, degree=21, gamma=100.0, kernel=cosine; total time=   0.0s\n",
      "[CV] END .alpha=0.001, degree=21, gamma=100.0, kernel=cosine; total time=   0.0s\n"
     ]
    },
    {
     "name": "stderr",
     "output_type": "stream",
     "text": [
      "/home/chris/.local/lib/python3.11/site-packages/sklearn/linear_model/_ridge.py:239: UserWarning:\n",
      "\n",
      "Singular matrix in solving dual problem. Using least-squares solution instead.\n",
      "\n",
      "/home/chris/.local/lib/python3.11/site-packages/sklearn/linear_model/_ridge.py:239: UserWarning:\n",
      "\n",
      "Singular matrix in solving dual problem. Using least-squares solution instead.\n",
      "\n"
     ]
    }
   ],
   "source": [
    "krr = GridSearchCV(\n",
    "    KernelRidge(),\n",
    "    param_grid={\"kernel\":[\"rbf\", \"polynomial\", \"cosine\"], \"degree\":[7, 9, 11, 15, 21], \"alpha\": [1e0, 0.1, 1e-2, 1e-3], \"gamma\": np.logspace(-2, 2, 5)},\n",
    "    verbose = 2\n",
    ")\n",
    "\n",
    "krr.fit(X_train, y_train)\n",
    "\n",
    "y_pred_krr = krr.best_estimator_.predict(X_test)"
   ]
  },
  {
   "cell_type": "code",
   "execution_count": 35,
   "id": "7238a932-3f86-428c-8917-c4a2123a0f18",
   "metadata": {},
   "outputs": [
    {
     "data": {
      "text/plain": [
       "0.0009427864358953336"
      ]
     },
     "execution_count": 35,
     "metadata": {},
     "output_type": "execute_result"
    }
   ],
   "source": [
    "mean_squared_error(y_test, y_pred_krr)"
   ]
  },
  {
   "cell_type": "code",
   "execution_count": 36,
   "id": "0f128b4e-fd3a-4f93-8925-93bfca2c5295",
   "metadata": {},
   "outputs": [
    {
     "data": {
      "text/plain": [
       "{'alpha': 0.001, 'degree': 7, 'gamma': 1.0, 'kernel': 'rbf'}"
      ]
     },
     "execution_count": 36,
     "metadata": {},
     "output_type": "execute_result"
    }
   ],
   "source": [
    "krr.best_params_"
   ]
  },
  {
   "cell_type": "code",
   "execution_count": 37,
   "id": "55063771-bb6b-4a9b-9fb4-866022fabdc1",
   "metadata": {},
   "outputs": [
    {
     "data": {
      "text/plain": [
       "{'alpha': 0.001,\n",
       " 'coef0': 1,\n",
       " 'degree': 7,\n",
       " 'gamma': 1.0,\n",
       " 'kernel': 'rbf',\n",
       " 'kernel_params': None}"
      ]
     },
     "execution_count": 37,
     "metadata": {},
     "output_type": "execute_result"
    }
   ],
   "source": [
    "krr.best_estimator_.get_params()"
   ]
  }
 ],
 "metadata": {
  "kernelspec": {
   "display_name": "Python 3 (ipykernel)",
   "language": "python",
   "name": "python3"
  },
  "language_info": {
   "codemirror_mode": {
    "name": "ipython",
    "version": 3
   },
   "file_extension": ".py",
   "mimetype": "text/x-python",
   "name": "python",
   "nbconvert_exporter": "python",
   "pygments_lexer": "ipython3",
   "version": "3.11.5"
  }
 },
 "nbformat": 4,
 "nbformat_minor": 5
}
