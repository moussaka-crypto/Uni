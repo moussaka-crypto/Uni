{
 "cells": [
  {
   "cell_type": "markdown",
   "id": "578c598c-3a72-4480-8e9a-4824b2471580",
   "metadata": {},
   "source": [
    "# Excercise 8.1 Create a Training, Test and Validation set"
   ]
  },
  {
   "cell_type": "markdown",
   "id": "8cc87477-7721-41e0-9ab7-9e39acf18a92",
   "metadata": {},
   "source": [
    "## 8.1.1 Use the scikitlearn method to split the data"
   ]
  },
  {
   "cell_type": "markdown",
   "id": "9a62dbf4-f172-4fe1-8d13-8828bba9248f",
   "metadata": {},
   "source": [
    "### 8.1.1.1 Load the dataset"
   ]
  },
  {
   "cell_type": "code",
   "execution_count": 55,
   "id": "c2616e0f-5281-4d9b-8d60-4d4e5a3bee79",
   "metadata": {},
   "outputs": [],
   "source": [
    "import pandas as pd"
   ]
  },
  {
   "cell_type": "code",
   "execution_count": 56,
   "id": "a3db50d2-6362-442d-8dea-44819b9c085c",
   "metadata": {},
   "outputs": [
    {
     "name": "stdout",
     "output_type": "stream",
     "text": [
      "CPU times: total: 328 ms\n",
      "Wall time: 346 ms\n"
     ]
    }
   ],
   "source": [
    "filename = r\"./data/bimsim_31_day_sample.csv\"\n",
    "#filename = r\"./data/07092021bimsim_room.parquet\"\n",
    "\n",
    "%time data = pd.read_csv(filename, sep=\",\")\n",
    "#data = pd.read_parquet(filename)"
   ]
  },
  {
   "cell_type": "code",
   "execution_count": 57,
   "id": "4f0191ad-235a-4623-9d43-ee6c250ff3df",
   "metadata": {},
   "outputs": [
    {
     "name": "stdout",
     "output_type": "stream",
     "text": [
      "CPU times: total: 3.16 s\n",
      "Wall time: 3.18 s\n"
     ]
    }
   ],
   "source": [
    "%time data[\"datetime\"] = pd.to_datetime(data[\"datetime\"],format='%a, %d %b %Y %H:%M:%S %Z') \n",
    "#%time data[\"datetime\"] = pd.to_datetime(data[\"datetime\"],format='%Y-%m-%d %H:%M:%S.%f') "
   ]
  },
  {
   "cell_type": "code",
   "execution_count": 58,
   "id": "dc4437ad-1c80-4f34-b624-9ef8dac41881",
   "metadata": {},
   "outputs": [
    {
     "data": {
      "text/html": [
       "<div>\n",
       "<style scoped>\n",
       "    .dataframe tbody tr th:only-of-type {\n",
       "        vertical-align: middle;\n",
       "    }\n",
       "\n",
       "    .dataframe tbody tr th {\n",
       "        vertical-align: top;\n",
       "    }\n",
       "\n",
       "    .dataframe thead th {\n",
       "        text-align: right;\n",
       "    }\n",
       "</style>\n",
       "<table border=\"1\" class=\"dataframe\">\n",
       "  <thead>\n",
       "    <tr style=\"text-align: right;\">\n",
       "      <th></th>\n",
       "      <th>Unnamed: 0</th>\n",
       "      <th>source</th>\n",
       "      <th>datetime</th>\n",
       "      <th>id</th>\n",
       "      <th>celsius</th>\n",
       "      <th>pressure</th>\n",
       "      <th>humidity</th>\n",
       "      <th>sensor</th>\n",
       "      <th>room</th>\n",
       "    </tr>\n",
       "  </thead>\n",
       "  <tbody>\n",
       "    <tr>\n",
       "      <th>0</th>\n",
       "      <td>0</td>\n",
       "      <td>0013A20041A94FA3</td>\n",
       "      <td>2021-08-18 09:40:38+00:00</td>\n",
       "      <td>1.629272e+09</td>\n",
       "      <td>23.144531</td>\n",
       "      <td>956.7491</td>\n",
       "      <td>42.368893</td>\n",
       "      <td>0013A20041A94FA3</td>\n",
       "      <td>H205</td>\n",
       "    </tr>\n",
       "    <tr>\n",
       "      <th>1</th>\n",
       "      <td>1</td>\n",
       "      <td>0013A20041A94FA3</td>\n",
       "      <td>2021-08-18 09:45:42+00:00</td>\n",
       "      <td>1.629273e+09</td>\n",
       "      <td>23.154882</td>\n",
       "      <td>956.8015</td>\n",
       "      <td>42.059960</td>\n",
       "      <td>0013A20041A94FA3</td>\n",
       "      <td>H205</td>\n",
       "    </tr>\n",
       "    <tr>\n",
       "      <th>2</th>\n",
       "      <td>2</td>\n",
       "      <td>0013A20041A94FA3</td>\n",
       "      <td>2021-08-18 09:50:45+00:00</td>\n",
       "      <td>1.629273e+09</td>\n",
       "      <td>23.165040</td>\n",
       "      <td>956.7753</td>\n",
       "      <td>42.528866</td>\n",
       "      <td>0013A20041A94FA3</td>\n",
       "      <td>H205</td>\n",
       "    </tr>\n",
       "    <tr>\n",
       "      <th>3</th>\n",
       "      <td>3</td>\n",
       "      <td>0013A20041A94FA3</td>\n",
       "      <td>2021-08-18 09:55:48+00:00</td>\n",
       "      <td>1.629273e+09</td>\n",
       "      <td>23.165040</td>\n",
       "      <td>956.7753</td>\n",
       "      <td>42.512318</td>\n",
       "      <td>0013A20041A94FA3</td>\n",
       "      <td>H205</td>\n",
       "    </tr>\n",
       "    <tr>\n",
       "      <th>4</th>\n",
       "      <td>4</td>\n",
       "      <td>0013A20041A94FA3</td>\n",
       "      <td>2021-08-18 10:00:52+00:00</td>\n",
       "      <td>1.629274e+09</td>\n",
       "      <td>23.180664</td>\n",
       "      <td>956.8277</td>\n",
       "      <td>42.291660</td>\n",
       "      <td>0013A20041A94FA3</td>\n",
       "      <td>H205</td>\n",
       "    </tr>\n",
       "  </tbody>\n",
       "</table>\n",
       "</div>"
      ],
      "text/plain": [
       "   Unnamed: 0            source                  datetime            id   \n",
       "0           0  0013A20041A94FA3 2021-08-18 09:40:38+00:00  1.629272e+09  \\\n",
       "1           1  0013A20041A94FA3 2021-08-18 09:45:42+00:00  1.629273e+09   \n",
       "2           2  0013A20041A94FA3 2021-08-18 09:50:45+00:00  1.629273e+09   \n",
       "3           3  0013A20041A94FA3 2021-08-18 09:55:48+00:00  1.629273e+09   \n",
       "4           4  0013A20041A94FA3 2021-08-18 10:00:52+00:00  1.629274e+09   \n",
       "\n",
       "     celsius  pressure   humidity            sensor  room  \n",
       "0  23.144531  956.7491  42.368893  0013A20041A94FA3  H205  \n",
       "1  23.154882  956.8015  42.059960  0013A20041A94FA3  H205  \n",
       "2  23.165040  956.7753  42.528866  0013A20041A94FA3  H205  \n",
       "3  23.165040  956.7753  42.512318  0013A20041A94FA3  H205  \n",
       "4  23.180664  956.8277  42.291660  0013A20041A94FA3  H205  "
      ]
     },
     "execution_count": 58,
     "metadata": {},
     "output_type": "execute_result"
    }
   ],
   "source": [
    "data.head()"
   ]
  },
  {
   "cell_type": "markdown",
   "id": "edfcbb2e-f460-418b-9ac8-7a7b15186c38",
   "metadata": {},
   "source": [
    "##### Drop unused columns"
   ]
  },
  {
   "cell_type": "code",
   "execution_count": 59,
   "id": "2a499f43-2f8e-4c58-9f22-05030192c2c2",
   "metadata": {},
   "outputs": [],
   "source": [
    "data = data.drop([\"Unnamed: 0\", \"source\", \"sensor\", \"id\"], axis=1)"
   ]
  },
  {
   "cell_type": "code",
   "execution_count": 60,
   "id": "9a7be951-5825-4d2f-8928-ed03a77d3855",
   "metadata": {},
   "outputs": [],
   "source": [
    "data = data[data[\"celsius\"] > 0]"
   ]
  },
  {
   "cell_type": "code",
   "execution_count": 61,
   "id": "2248c9f8-1771-44a4-a2c7-135d17e51750",
   "metadata": {},
   "outputs": [
    {
     "data": {
      "text/html": [
       "<div>\n",
       "<style scoped>\n",
       "    .dataframe tbody tr th:only-of-type {\n",
       "        vertical-align: middle;\n",
       "    }\n",
       "\n",
       "    .dataframe tbody tr th {\n",
       "        vertical-align: top;\n",
       "    }\n",
       "\n",
       "    .dataframe thead th {\n",
       "        text-align: right;\n",
       "    }\n",
       "</style>\n",
       "<table border=\"1\" class=\"dataframe\">\n",
       "  <thead>\n",
       "    <tr style=\"text-align: right;\">\n",
       "      <th></th>\n",
       "      <th>celsius</th>\n",
       "      <th>pressure</th>\n",
       "      <th>humidity</th>\n",
       "    </tr>\n",
       "  </thead>\n",
       "  <tbody>\n",
       "    <tr>\n",
       "      <th>count</th>\n",
       "      <td>130864.000000</td>\n",
       "      <td>130864.000000</td>\n",
       "      <td>130864.000000</td>\n",
       "    </tr>\n",
       "    <tr>\n",
       "      <th>mean</th>\n",
       "      <td>24.813373</td>\n",
       "      <td>952.055172</td>\n",
       "      <td>42.196907</td>\n",
       "    </tr>\n",
       "    <tr>\n",
       "      <th>std</th>\n",
       "      <td>1.684586</td>\n",
       "      <td>6.733915</td>\n",
       "      <td>3.486678</td>\n",
       "    </tr>\n",
       "    <tr>\n",
       "      <th>min</th>\n",
       "      <td>19.825780</td>\n",
       "      <td>933.167240</td>\n",
       "      <td>24.105137</td>\n",
       "    </tr>\n",
       "    <tr>\n",
       "      <th>25%</th>\n",
       "      <td>23.662304</td>\n",
       "      <td>946.650300</td>\n",
       "      <td>40.049740</td>\n",
       "    </tr>\n",
       "    <tr>\n",
       "      <th>50%</th>\n",
       "      <td>24.673046</td>\n",
       "      <td>952.876200</td>\n",
       "      <td>42.136738</td>\n",
       "    </tr>\n",
       "    <tr>\n",
       "      <th>75%</th>\n",
       "      <td>25.885742</td>\n",
       "      <td>956.721070</td>\n",
       "      <td>44.467346</td>\n",
       "    </tr>\n",
       "    <tr>\n",
       "      <th>max</th>\n",
       "      <td>34.465820</td>\n",
       "      <td>971.139900</td>\n",
       "      <td>57.478916</td>\n",
       "    </tr>\n",
       "  </tbody>\n",
       "</table>\n",
       "</div>"
      ],
      "text/plain": [
       "             celsius       pressure       humidity\n",
       "count  130864.000000  130864.000000  130864.000000\n",
       "mean       24.813373     952.055172      42.196907\n",
       "std         1.684586       6.733915       3.486678\n",
       "min        19.825780     933.167240      24.105137\n",
       "25%        23.662304     946.650300      40.049740\n",
       "50%        24.673046     952.876200      42.136738\n",
       "75%        25.885742     956.721070      44.467346\n",
       "max        34.465820     971.139900      57.478916"
      ]
     },
     "execution_count": 61,
     "metadata": {},
     "output_type": "execute_result"
    }
   ],
   "source": [
    "data.describe()"
   ]
  },
  {
   "cell_type": "code",
   "execution_count": 62,
   "id": "47bdef32-4bd8-4b51-b094-7462d6f4349e",
   "metadata": {},
   "outputs": [
    {
     "data": {
      "text/plain": [
       "array(['H205', 'H113', 'H206', 'H211', 'H210', 'H220', 'H108', 'H110',\n",
       "       'H106', 'across_from_H207_on_railing', 'H208', 'H109', 'H213',\n",
       "       'H111', 'H207', 'H218', 'H212', 'H216_desk_at_window', 'H217',\n",
       "       'H215', 'H209', 'H216', 'H214', 'H203'], dtype=object)"
      ]
     },
     "execution_count": 62,
     "metadata": {},
     "output_type": "execute_result"
    }
   ],
   "source": [
    "data.room.unique()"
   ]
  },
  {
   "cell_type": "code",
   "execution_count": 63,
   "id": "9289ffea-984a-46d0-85b2-1007bc57f72c",
   "metadata": {},
   "outputs": [
    {
     "data": {
      "text/plain": [
       "room\n",
       "H215                           7844\n",
       "H207                           7817\n",
       "H218                           7724\n",
       "H203                           7703\n",
       "H214                           7702\n",
       "H113                           7678\n",
       "H216                           7649\n",
       "H211                           7585\n",
       "H213                           7577\n",
       "H212                           7563\n",
       "H110                           7545\n",
       "H208                           7489\n",
       "H206                           7473\n",
       "H217                           7419\n",
       "H216_desk_at_window            4579\n",
       "H106                           2219\n",
       "H111                           2192\n",
       "H210                           2192\n",
       "H205                           2179\n",
       "H108                           2170\n",
       "H209                           2163\n",
       "H109                           2160\n",
       "across_from_H207_on_railing    2127\n",
       "H220                           2115\n",
       "Name: count, dtype: int64"
      ]
     },
     "execution_count": 63,
     "metadata": {},
     "output_type": "execute_result"
    }
   ],
   "source": [
    "data.room.value_counts()"
   ]
  },
  {
   "cell_type": "markdown",
   "id": "1154c09a-ece3-46a2-aff7-1f10a378f5c8",
   "metadata": {},
   "source": [
    "### 8.1.1.2 Split the dataset until you have the needed subsets\n",
    "* Consider the size of the data, what portion would you need for each subset?\n",
    "* Does the data require shuffeling?"
   ]
  },
  {
   "cell_type": "code",
   "execution_count": 64,
   "id": "cdf4a990-9d85-48bd-8206-8eee297b065d",
   "metadata": {},
   "outputs": [],
   "source": [
    "from sklearn.model_selection import train_test_split"
   ]
  },
  {
   "cell_type": "code",
   "execution_count": 65,
   "id": "80f6e535-3ec1-4a9d-ad8b-e8b141ad73b1",
   "metadata": {},
   "outputs": [],
   "source": [
    "data = data.dropna()"
   ]
  },
  {
   "cell_type": "code",
   "execution_count": 66,
   "id": "27c185b6-5778-4a24-97c2-750a6c21b201",
   "metadata": {},
   "outputs": [
    {
     "data": {
      "text/plain": [
       "array(['H205', 'H113', 'H206', 'H211', 'H210', 'H220', 'H108', 'H110',\n",
       "       'H106', 'across_from_H207_on_railing', 'H208', 'H109', 'H213',\n",
       "       'H111', 'H207', 'H218', 'H212', 'H216_desk_at_window', 'H217',\n",
       "       'H215', 'H209', 'H216', 'H214', 'H203'], dtype=object)"
      ]
     },
     "execution_count": 66,
     "metadata": {},
     "output_type": "execute_result"
    }
   ],
   "source": [
    "data.room.unique()"
   ]
  },
  {
   "cell_type": "code",
   "execution_count": 67,
   "id": "cf50df8b-b9c9-4259-9274-8c2668eef4f3",
   "metadata": {},
   "outputs": [],
   "source": [
    "Xy_train, Xy_test = train_test_split(data, test_size=0.7, random_state=42, shuffle=True, stratify=data[\"room\"])"
   ]
  },
  {
   "cell_type": "code",
   "execution_count": 68,
   "id": "84f2f6a9-0d71-4181-8399-0769e20536ee",
   "metadata": {
    "tags": []
   },
   "outputs": [],
   "source": [
    "Xy_test, Xy_valid = train_test_split(Xy_test, test_size=0.1, random_state=42, shuffle=True, stratify=Xy_test[\"room\"])"
   ]
  },
  {
   "cell_type": "code",
   "execution_count": 69,
   "id": "994e6c5d-0d67-486a-938a-b433a72e458c",
   "metadata": {},
   "outputs": [
    {
     "data": {
      "text/plain": [
       "(39259, 5)"
      ]
     },
     "metadata": {},
     "output_type": "display_data"
    },
    {
     "data": {
      "text/plain": [
       "(82444, 5)"
      ]
     },
     "metadata": {},
     "output_type": "display_data"
    },
    {
     "data": {
      "text/plain": [
       "(9161, 5)"
      ]
     },
     "metadata": {},
     "output_type": "display_data"
    }
   ],
   "source": [
    "display(Xy_train.shape, Xy_test.shape, Xy_valid.shape)"
   ]
  },
  {
   "cell_type": "markdown",
   "id": "d90ca418-c495-4192-9f65-fda7457e3d43",
   "metadata": {},
   "source": [
    "### 8.1.2 Alternate approach: Create a K-Fold CV set"
   ]
  },
  {
   "cell_type": "code",
   "execution_count": 70,
   "id": "66692daf-9193-4ec1-8a26-83b3c04db19d",
   "metadata": {},
   "outputs": [],
   "source": [
    "from sklearn.model_selection import StratifiedKFold"
   ]
  },
  {
   "cell_type": "markdown",
   "id": "ea6acd98-a49a-45e5-97c4-234c35f0a68d",
   "metadata": {},
   "source": [
    "Split off the test set first."
   ]
  },
  {
   "cell_type": "code",
   "execution_count": 71,
   "id": "8bdc995f-ae40-41ec-984f-d0efafc31ddc",
   "metadata": {},
   "outputs": [
    {
     "data": {
      "text/plain": [
       "(26172, 5)"
      ]
     },
     "metadata": {},
     "output_type": "display_data"
    },
    {
     "data": {
      "text/plain": [
       "(104692, 5)"
      ]
     },
     "metadata": {},
     "output_type": "display_data"
    }
   ],
   "source": [
    "Xy_train, Xy_test = train_test_split(data, test_size=0.8, random_state=42, shuffle=True, stratify=data[\"room\"])\n",
    "display(Xy_train.shape, Xy_test.shape)"
   ]
  },
  {
   "cell_type": "code",
   "execution_count": 72,
   "id": "6a62b868-b562-49ff-8a16-561cf27ee578",
   "metadata": {},
   "outputs": [],
   "source": [
    "strat_kFold = StratifiedKFold(n_splits=2)"
   ]
  },
  {
   "cell_type": "code",
   "execution_count": 73,
   "id": "d51eab0e-bab1-4aed-bae5-307d1dc05210",
   "metadata": {},
   "outputs": [],
   "source": [
    "Xy_train_kf = Xy_train.reset_index()"
   ]
  },
  {
   "cell_type": "code",
   "execution_count": 74,
   "id": "d398a78b-d6e0-4ed9-aba8-6f7a1b9a2668",
   "metadata": {},
   "outputs": [
    {
     "name": "stdout",
     "output_type": "stream",
     "text": [
      "TRAIN: [12008 12016 12043 ... 26169 26170 26171] TEST: [    0     1     2 ... 13943 13947 13951]\n",
      "TRAIN: [    0     1     2 ... 13943 13947 13951] TEST: [12008 12016 12043 ... 26169 26170 26171]\n"
     ]
    }
   ],
   "source": [
    "for trainIdx, testIdx in strat_kFold.split(Xy_train_kf[[\"datetime\", \"celsius\", \"pressure\", \"humidity\"]], Xy_train_kf[\"room\"]):\n",
    "    print(\"TRAIN:\", trainIdx, \"TEST:\", testIdx)\n",
    "    Xy_train, Xy_test = Xy_train_kf.iloc[trainIdx], Xy_train_kf.iloc[testIdx]"
   ]
  },
  {
   "cell_type": "code",
   "execution_count": 75,
   "id": "a303ab7d-5952-4695-b3fc-b2fccfc50c20",
   "metadata": {
    "tags": []
   },
   "outputs": [
    {
     "data": {
      "text/html": [
       "<div>\n",
       "<style scoped>\n",
       "    .dataframe tbody tr th:only-of-type {\n",
       "        vertical-align: middle;\n",
       "    }\n",
       "\n",
       "    .dataframe tbody tr th {\n",
       "        vertical-align: top;\n",
       "    }\n",
       "\n",
       "    .dataframe thead th {\n",
       "        text-align: right;\n",
       "    }\n",
       "</style>\n",
       "<table border=\"1\" class=\"dataframe\">\n",
       "  <thead>\n",
       "    <tr style=\"text-align: right;\">\n",
       "      <th></th>\n",
       "      <th>index</th>\n",
       "      <th>datetime</th>\n",
       "      <th>celsius</th>\n",
       "      <th>pressure</th>\n",
       "      <th>humidity</th>\n",
       "      <th>room</th>\n",
       "    </tr>\n",
       "  </thead>\n",
       "  <tbody>\n",
       "    <tr>\n",
       "      <th>0</th>\n",
       "      <td>54404</td>\n",
       "      <td>2021-08-01 04:58:59+00:00</td>\n",
       "      <td>24.583593</td>\n",
       "      <td>945.40170</td>\n",
       "      <td>41.124416</td>\n",
       "      <td>H213</td>\n",
       "    </tr>\n",
       "    <tr>\n",
       "      <th>1</th>\n",
       "      <td>78645</td>\n",
       "      <td>2021-07-28 08:57:53+00:00</td>\n",
       "      <td>25.290430</td>\n",
       "      <td>945.63275</td>\n",
       "      <td>42.098350</td>\n",
       "      <td>H212</td>\n",
       "    </tr>\n",
       "    <tr>\n",
       "      <th>2</th>\n",
       "      <td>43576</td>\n",
       "      <td>2021-07-28 00:29:34+00:00</td>\n",
       "      <td>25.808008</td>\n",
       "      <td>946.89880</td>\n",
       "      <td>42.608130</td>\n",
       "      <td>H208</td>\n",
       "    </tr>\n",
       "    <tr>\n",
       "      <th>3</th>\n",
       "      <td>80121</td>\n",
       "      <td>2021-08-03 15:42:04+00:00</td>\n",
       "      <td>24.924610</td>\n",
       "      <td>947.90607</td>\n",
       "      <td>42.784176</td>\n",
       "      <td>H212</td>\n",
       "    </tr>\n",
       "    <tr>\n",
       "      <th>4</th>\n",
       "      <td>116996</td>\n",
       "      <td>2021-08-01 07:36:07+00:00</td>\n",
       "      <td>25.476954</td>\n",
       "      <td>944.69420</td>\n",
       "      <td>39.634670</td>\n",
       "      <td>H214</td>\n",
       "    </tr>\n",
       "    <tr>\n",
       "      <th>...</th>\n",
       "      <td>...</td>\n",
       "      <td>...</td>\n",
       "      <td>...</td>\n",
       "      <td>...</td>\n",
       "      <td>...</td>\n",
       "      <td>...</td>\n",
       "    </tr>\n",
       "    <tr>\n",
       "      <th>13919</th>\n",
       "      <td>118347</td>\n",
       "      <td>2021-08-07 01:23:02+00:00</td>\n",
       "      <td>24.650976</td>\n",
       "      <td>942.39825</td>\n",
       "      <td>40.728000</td>\n",
       "      <td>H214</td>\n",
       "    </tr>\n",
       "    <tr>\n",
       "      <th>13942</th>\n",
       "      <td>120674</td>\n",
       "      <td>2021-08-15 05:15:47+00:00</td>\n",
       "      <td>26.186329</td>\n",
       "      <td>950.00910</td>\n",
       "      <td>41.196465</td>\n",
       "      <td>H214</td>\n",
       "    </tr>\n",
       "    <tr>\n",
       "      <th>13943</th>\n",
       "      <td>119444</td>\n",
       "      <td>2021-08-10 21:41:26+00:00</td>\n",
       "      <td>25.248829</td>\n",
       "      <td>952.40875</td>\n",
       "      <td>39.768566</td>\n",
       "      <td>H214</td>\n",
       "    </tr>\n",
       "    <tr>\n",
       "      <th>13947</th>\n",
       "      <td>116544</td>\n",
       "      <td>2021-07-30 17:31:16+00:00</td>\n",
       "      <td>28.198437</td>\n",
       "      <td>937.34230</td>\n",
       "      <td>36.140360</td>\n",
       "      <td>H214</td>\n",
       "    </tr>\n",
       "    <tr>\n",
       "      <th>13951</th>\n",
       "      <td>121942</td>\n",
       "      <td>2021-08-21 17:13:29+00:00</td>\n",
       "      <td>26.515820</td>\n",
       "      <td>949.02860</td>\n",
       "      <td>38.702830</td>\n",
       "      <td>H214</td>\n",
       "    </tr>\n",
       "  </tbody>\n",
       "</table>\n",
       "<p>13086 rows × 6 columns</p>\n",
       "</div>"
      ],
      "text/plain": [
       "        index                  datetime    celsius   pressure   humidity  room\n",
       "0       54404 2021-08-01 04:58:59+00:00  24.583593  945.40170  41.124416  H213\n",
       "1       78645 2021-07-28 08:57:53+00:00  25.290430  945.63275  42.098350  H212\n",
       "2       43576 2021-07-28 00:29:34+00:00  25.808008  946.89880  42.608130  H208\n",
       "3       80121 2021-08-03 15:42:04+00:00  24.924610  947.90607  42.784176  H212\n",
       "4      116996 2021-08-01 07:36:07+00:00  25.476954  944.69420  39.634670  H214\n",
       "...       ...                       ...        ...        ...        ...   ...\n",
       "13919  118347 2021-08-07 01:23:02+00:00  24.650976  942.39825  40.728000  H214\n",
       "13942  120674 2021-08-15 05:15:47+00:00  26.186329  950.00910  41.196465  H214\n",
       "13943  119444 2021-08-10 21:41:26+00:00  25.248829  952.40875  39.768566  H214\n",
       "13947  116544 2021-07-30 17:31:16+00:00  28.198437  937.34230  36.140360  H214\n",
       "13951  121942 2021-08-21 17:13:29+00:00  26.515820  949.02860  38.702830  H214\n",
       "\n",
       "[13086 rows x 6 columns]"
      ]
     },
     "execution_count": 75,
     "metadata": {},
     "output_type": "execute_result"
    }
   ],
   "source": [
    "Xy_train"
   ]
  },
  {
   "cell_type": "markdown",
   "id": "ba14e8cc-cec4-4c44-9f90-ef8315e75afd",
   "metadata": {},
   "source": [
    "### 8.1.3 Check, if your distributions are ok"
   ]
  },
  {
   "cell_type": "markdown",
   "id": "bc06204a-d306-4ac0-96d6-b9cc55c36309",
   "metadata": {},
   "source": [
    "We need to check, if we have the same distribution for the rooms in train and validation set\n",
    "General approach: If the sampling is truely stratified, the rooms must be distributed similarly in both samplings. Hence, we can compare the histograms and/or perfom an ks-test."
   ]
  },
  {
   "cell_type": "code",
   "execution_count": 76,
   "id": "e128a39b-352b-4c74-aa7d-63df98612dfc",
   "metadata": {},
   "outputs": [
    {
     "data": {
      "image/png": "[encoded data removed]",
      "text/plain": [
       "<Figure size 1600x1000 with 1 Axes>"
      ]
     },
     "metadata": {},
     "output_type": "display_data"
    }
   ],
   "source": [
    "import matplotlib.pyplot as plt\n",
    "plt.figure(figsize = (16,10))\n",
    "h_valid = Xy_valid[\"room\"].hist()\n",
    "h_train = Xy_train[\"room\"].hist()"
   ]
  },
  {
   "cell_type": "markdown",
   "id": "a2d24ed6-4a75-4267-aecc-6607540ed3e9",
   "metadata": {},
   "source": [
    "The shapes look similar, but as they are scaled differently, it is not too easy to say if they match w.r.t. their distribution"
   ]
  },
  {
   "cell_type": "code",
   "execution_count": 77,
   "id": "17ba6c0f-f5b3-4831-8836-3ef954cb5f0b",
   "metadata": {},
   "outputs": [],
   "source": [
    "h_train = Xy_train.groupby(\"room\")[\"room\"].count()"
   ]
  },
  {
   "cell_type": "code",
   "execution_count": 78,
   "id": "71d724b7-2869-4830-850f-802390eafc46",
   "metadata": {},
   "outputs": [],
   "source": [
    "h_valid = Xy_valid.groupby(\"room\")[\"room\"].count()"
   ]
  },
  {
   "cell_type": "markdown",
   "id": "bc573bdb-e137-4711-bc4c-cf7eb6f12c89",
   "metadata": {},
   "source": [
    "#### Alternative: Build the normalized differences between the values"
   ]
  },
  {
   "cell_type": "code",
   "execution_count": 79,
   "id": "dea8e7a2-45c8-4da7-b232-d0fe637cec18",
   "metadata": {},
   "outputs": [
    {
     "data": {
      "text/plain": [
       "room\n",
       "H106                           0.000045\n",
       "H108                          -0.000009\n",
       "H109                           0.000023\n",
       "H110                           0.000060\n",
       "H111                           0.000034\n",
       "H113                          -0.000039\n",
       "H203                           0.000005\n",
       "H205                          -0.000042\n",
       "H206                          -0.000006\n",
       "H207                          -0.000028\n",
       "H208                           0.000038\n",
       "H209                           0.000023\n",
       "H210                           0.000034\n",
       "H211                          -0.000039\n",
       "H212                          -0.000082\n",
       "H213                          -0.000039\n",
       "H214                           0.000005\n",
       "H215                           0.000060\n",
       "H216                          -0.000049\n",
       "H216_desk_at_window           -0.000041\n",
       "H217                           0.000049\n",
       "H218                           0.000016\n",
       "H220                          -0.000031\n",
       "across_from_H207_on_railing    0.000012\n",
       "Name: room, dtype: float64"
      ]
     },
     "execution_count": 79,
     "metadata": {},
     "output_type": "execute_result"
    }
   ],
   "source": [
    "delta = h_train/h_train.sum() - h_valid/h_valid.sum()\n",
    "delta"
   ]
  },
  {
   "cell_type": "markdown",
   "id": "bc7969d3-a175-4d70-8adc-ac6e9d7d8cf6",
   "metadata": {},
   "source": [
    "We see, that the normalized differences are all close to zero, indicating that the distributions are close to equal"
   ]
  },
  {
   "cell_type": "markdown",
   "id": "15ca7280-6055-430c-abf3-684f509e9041",
   "metadata": {},
   "source": [
    "#### Alternative: Check the distributinos using a ks-test"
   ]
  },
  {
   "cell_type": "code",
   "execution_count": 80,
   "id": "700564d8-065c-4abc-83c7-a0b453dd4c55",
   "metadata": {},
   "outputs": [
    {
     "data": {
      "text/plain": [
       "KstestResult(statistic=0.08333333333333333, pvalue=0.9999994797375902, statistic_location=0.9529616724738676, statistic_sign=1)"
      ]
     },
     "metadata": {},
     "output_type": "display_data"
    }
   ],
   "source": [
    "from scipy.stats import ks_2samp\n",
    "from sklearn.preprocessing import minmax_scale\n",
    "\n",
    "display(ks_2samp(minmax_scale(h_train), minmax_scale(h_valid)))"
   ]
  },
  {
   "cell_type": "markdown",
   "id": "fc89116b-ae42-427a-a28e-565213df77da",
   "metadata": {},
   "source": [
    "From the ks-Test we see, that with D<0.1 and p>99.999% the two samplings have identical distributions, which is, what we wanted to get"
   ]
  },
  {
   "cell_type": "markdown",
   "id": "830f1ac6-0b85-480f-8206-0d28da957dae",
   "metadata": {},
   "source": [
    "# Excercise 8.2 - Clustering"
   ]
  },
  {
   "cell_type": "markdown",
   "id": "e8fb81db-c3b9-420c-b118-dd0d05e3c5f0",
   "metadata": {},
   "source": [
    "Using the training set perform the following tasks\n",
    "1. Split into X, y, where y is the room number (can be later used for predictions) and X is time, celsius, presssure are humidity\n",
    "   * Think about scaling the data\n",
    "   * Thinks about which portions of the timestamp are required\n",
    "   * Create appropriate encodings\n",
    "2. perform a k-Means clustering and compute the silhoutte score, try out several values for the number of clusters\n",
    "3. same as 2 but use DBScan as cluster algorithm, try out several values for the number of clusters"
   ]
  },
  {
   "cell_type": "markdown",
   "id": "9b440b42-8ef2-43df-9048-0fafc01baf16",
   "metadata": {},
   "source": [
    "## 8.2.1 Data Split"
   ]
  },
  {
   "cell_type": "markdown",
   "id": "ed76ac57-afd5-449f-bfc9-ed23172043da",
   "metadata": {},
   "source": [
    "### 8.2.1.1 Splitting the data in X and y"
   ]
  },
  {
   "cell_type": "code",
   "execution_count": 81,
   "id": "80e67abf-dead-486f-9f4b-86dc7c8108fd",
   "metadata": {},
   "outputs": [
    {
     "data": {
      "text/plain": [
       "(24,)"
      ]
     },
     "execution_count": 81,
     "metadata": {},
     "output_type": "execute_result"
    }
   ],
   "source": [
    "X = Xy_train.iloc[:, :-1]\n",
    "y = Xy_train.iloc[:, -1]\n",
    "y.unique().shape"
   ]
  },
  {
   "cell_type": "code",
   "execution_count": 82,
   "id": "b7964643-e001-44dc-ae2d-46c3b5c515c1",
   "metadata": {},
   "outputs": [
    {
     "data": {
      "text/html": [
       "<div>\n",
       "<style scoped>\n",
       "    .dataframe tbody tr th:only-of-type {\n",
       "        vertical-align: middle;\n",
       "    }\n",
       "\n",
       "    .dataframe tbody tr th {\n",
       "        vertical-align: top;\n",
       "    }\n",
       "\n",
       "    .dataframe thead th {\n",
       "        text-align: right;\n",
       "    }\n",
       "</style>\n",
       "<table border=\"1\" class=\"dataframe\">\n",
       "  <thead>\n",
       "    <tr style=\"text-align: right;\">\n",
       "      <th></th>\n",
       "      <th>index</th>\n",
       "      <th>celsius</th>\n",
       "      <th>pressure</th>\n",
       "      <th>humidity</th>\n",
       "    </tr>\n",
       "  </thead>\n",
       "  <tbody>\n",
       "    <tr>\n",
       "      <th>count</th>\n",
       "      <td>13086.000000</td>\n",
       "      <td>13086.000000</td>\n",
       "      <td>13086.000000</td>\n",
       "      <td>13086.000000</td>\n",
       "    </tr>\n",
       "    <tr>\n",
       "      <th>mean</th>\n",
       "      <td>65427.968287</td>\n",
       "      <td>24.809822</td>\n",
       "      <td>952.070821</td>\n",
       "      <td>42.195067</td>\n",
       "    </tr>\n",
       "    <tr>\n",
       "      <th>std</th>\n",
       "      <td>37772.390283</td>\n",
       "      <td>1.680460</td>\n",
       "      <td>6.713501</td>\n",
       "      <td>3.478357</td>\n",
       "    </tr>\n",
       "    <tr>\n",
       "      <th>min</th>\n",
       "      <td>40.000000</td>\n",
       "      <td>19.857030</td>\n",
       "      <td>933.245700</td>\n",
       "      <td>26.939514</td>\n",
       "    </tr>\n",
       "    <tr>\n",
       "      <th>25%</th>\n",
       "      <td>32737.500000</td>\n",
       "      <td>23.658594</td>\n",
       "      <td>946.691125</td>\n",
       "      <td>40.044068</td>\n",
       "    </tr>\n",
       "    <tr>\n",
       "      <th>50%</th>\n",
       "      <td>65299.500000</td>\n",
       "      <td>24.668457</td>\n",
       "      <td>952.872560</td>\n",
       "      <td>42.098735</td>\n",
       "    </tr>\n",
       "    <tr>\n",
       "      <th>75%</th>\n",
       "      <td>98177.000000</td>\n",
       "      <td>25.897558</td>\n",
       "      <td>956.697400</td>\n",
       "      <td>44.465431</td>\n",
       "    </tr>\n",
       "    <tr>\n",
       "      <th>max</th>\n",
       "      <td>130857.000000</td>\n",
       "      <td>33.385742</td>\n",
       "      <td>971.139900</td>\n",
       "      <td>55.565968</td>\n",
       "    </tr>\n",
       "  </tbody>\n",
       "</table>\n",
       "</div>"
      ],
      "text/plain": [
       "               index       celsius      pressure      humidity\n",
       "count   13086.000000  13086.000000  13086.000000  13086.000000\n",
       "mean    65427.968287     24.809822    952.070821     42.195067\n",
       "std     37772.390283      1.680460      6.713501      3.478357\n",
       "min        40.000000     19.857030    933.245700     26.939514\n",
       "25%     32737.500000     23.658594    946.691125     40.044068\n",
       "50%     65299.500000     24.668457    952.872560     42.098735\n",
       "75%     98177.000000     25.897558    956.697400     44.465431\n",
       "max    130857.000000     33.385742    971.139900     55.565968"
      ]
     },
     "execution_count": 82,
     "metadata": {},
     "output_type": "execute_result"
    }
   ],
   "source": [
    "X.describe()"
   ]
  },
  {
   "cell_type": "code",
   "execution_count": 83,
   "id": "bf7629f9-602c-41e0-85c1-f993225df5e8",
   "metadata": {},
   "outputs": [],
   "source": [
    "import numpy as np\n",
    "from math import cos, sin, pi\n",
    "\n",
    "X = X[[\"datetime\", \"celsius\", \"pressure\", \"humidity\"]]\n",
    "X[\"mod\"] = X[\"datetime\"].dt.hour*60+X[\"datetime\"].dt.minute\n",
    "X[\"mod_sin\"] = X[\"mod\"].map(lambda x : sin(2.*pi*x/1440.))\n",
    "X[\"mod_cos\"] = X[\"mod\"].map(lambda x : cos(2.*pi*x/1440.))"
   ]
  },
  {
   "cell_type": "code",
   "execution_count": 84,
   "id": "9100ba8e-1514-4b97-8909-722318af83c9",
   "metadata": {},
   "outputs": [
    {
     "data": {
      "text/html": [
       "<div>\n",
       "<style scoped>\n",
       "    .dataframe tbody tr th:only-of-type {\n",
       "        vertical-align: middle;\n",
       "    }\n",
       "\n",
       "    .dataframe tbody tr th {\n",
       "        vertical-align: top;\n",
       "    }\n",
       "\n",
       "    .dataframe thead th {\n",
       "        text-align: right;\n",
       "    }\n",
       "</style>\n",
       "<table border=\"1\" class=\"dataframe\">\n",
       "  <thead>\n",
       "    <tr style=\"text-align: right;\">\n",
       "      <th></th>\n",
       "      <th>celsius</th>\n",
       "      <th>pressure</th>\n",
       "      <th>humidity</th>\n",
       "      <th>mod</th>\n",
       "      <th>mod_sin</th>\n",
       "      <th>mod_cos</th>\n",
       "    </tr>\n",
       "  </thead>\n",
       "  <tbody>\n",
       "    <tr>\n",
       "      <th>count</th>\n",
       "      <td>13086.000000</td>\n",
       "      <td>13086.000000</td>\n",
       "      <td>13086.000000</td>\n",
       "      <td>13086.000000</td>\n",
       "      <td>13086.000000</td>\n",
       "      <td>13086.000000</td>\n",
       "    </tr>\n",
       "    <tr>\n",
       "      <th>mean</th>\n",
       "      <td>24.809822</td>\n",
       "      <td>952.070821</td>\n",
       "      <td>42.195067</td>\n",
       "      <td>718.548296</td>\n",
       "      <td>0.001603</td>\n",
       "      <td>-0.001007</td>\n",
       "    </tr>\n",
       "    <tr>\n",
       "      <th>std</th>\n",
       "      <td>1.680460</td>\n",
       "      <td>6.713501</td>\n",
       "      <td>3.478357</td>\n",
       "      <td>415.821136</td>\n",
       "      <td>0.706912</td>\n",
       "      <td>0.707353</td>\n",
       "    </tr>\n",
       "    <tr>\n",
       "      <th>min</th>\n",
       "      <td>19.857030</td>\n",
       "      <td>933.245700</td>\n",
       "      <td>26.939514</td>\n",
       "      <td>0.000000</td>\n",
       "      <td>-1.000000</td>\n",
       "      <td>-1.000000</td>\n",
       "    </tr>\n",
       "    <tr>\n",
       "      <th>25%</th>\n",
       "      <td>23.658594</td>\n",
       "      <td>946.691125</td>\n",
       "      <td>40.044068</td>\n",
       "      <td>359.000000</td>\n",
       "      <td>-0.704015</td>\n",
       "      <td>-0.710185</td>\n",
       "    </tr>\n",
       "    <tr>\n",
       "      <th>50%</th>\n",
       "      <td>24.668457</td>\n",
       "      <td>952.872560</td>\n",
       "      <td>42.098735</td>\n",
       "      <td>716.000000</td>\n",
       "      <td>0.008727</td>\n",
       "      <td>-0.010908</td>\n",
       "    </tr>\n",
       "    <tr>\n",
       "      <th>75%</th>\n",
       "      <td>25.897558</td>\n",
       "      <td>956.697400</td>\n",
       "      <td>44.465431</td>\n",
       "      <td>1074.000000</td>\n",
       "      <td>0.710185</td>\n",
       "      <td>0.704015</td>\n",
       "    </tr>\n",
       "    <tr>\n",
       "      <th>max</th>\n",
       "      <td>33.385742</td>\n",
       "      <td>971.139900</td>\n",
       "      <td>55.565968</td>\n",
       "      <td>1439.000000</td>\n",
       "      <td>1.000000</td>\n",
       "      <td>1.000000</td>\n",
       "    </tr>\n",
       "  </tbody>\n",
       "</table>\n",
       "</div>"
      ],
      "text/plain": [
       "            celsius      pressure      humidity           mod       mod_sin   \n",
       "count  13086.000000  13086.000000  13086.000000  13086.000000  13086.000000  \\\n",
       "mean      24.809822    952.070821     42.195067    718.548296      0.001603   \n",
       "std        1.680460      6.713501      3.478357    415.821136      0.706912   \n",
       "min       19.857030    933.245700     26.939514      0.000000     -1.000000   \n",
       "25%       23.658594    946.691125     40.044068    359.000000     -0.704015   \n",
       "50%       24.668457    952.872560     42.098735    716.000000      0.008727   \n",
       "75%       25.897558    956.697400     44.465431   1074.000000      0.710185   \n",
       "max       33.385742    971.139900     55.565968   1439.000000      1.000000   \n",
       "\n",
       "            mod_cos  \n",
       "count  13086.000000  \n",
       "mean      -0.001007  \n",
       "std        0.707353  \n",
       "min       -1.000000  \n",
       "25%       -0.710185  \n",
       "50%       -0.010908  \n",
       "75%        0.704015  \n",
       "max        1.000000  "
      ]
     },
     "execution_count": 84,
     "metadata": {},
     "output_type": "execute_result"
    }
   ],
   "source": [
    "X.describe()"
   ]
  },
  {
   "cell_type": "code",
   "execution_count": 85,
   "id": "9c7806c0-5a99-4869-a85c-2e409aea4cca",
   "metadata": {},
   "outputs": [
    {
     "data": {
      "text/html": [
       "<div>\n",
       "<style scoped>\n",
       "    .dataframe tbody tr th:only-of-type {\n",
       "        vertical-align: middle;\n",
       "    }\n",
       "\n",
       "    .dataframe tbody tr th {\n",
       "        vertical-align: top;\n",
       "    }\n",
       "\n",
       "    .dataframe thead th {\n",
       "        text-align: right;\n",
       "    }\n",
       "</style>\n",
       "<table border=\"1\" class=\"dataframe\">\n",
       "  <thead>\n",
       "    <tr style=\"text-align: right;\">\n",
       "      <th></th>\n",
       "      <th>celsius</th>\n",
       "      <th>pressure</th>\n",
       "      <th>humidity</th>\n",
       "      <th>mod_sin</th>\n",
       "      <th>mod_cos</th>\n",
       "    </tr>\n",
       "  </thead>\n",
       "  <tbody>\n",
       "    <tr>\n",
       "      <th>0</th>\n",
       "      <td>-0.134628</td>\n",
       "      <td>-0.993427</td>\n",
       "      <td>-0.307815</td>\n",
       "      <td>1.360940</td>\n",
       "      <td>0.379239</td>\n",
       "    </tr>\n",
       "    <tr>\n",
       "      <th>1</th>\n",
       "      <td>0.286009</td>\n",
       "      <td>-0.959010</td>\n",
       "      <td>-0.027806</td>\n",
       "      <td>1.011055</td>\n",
       "      <td>-0.985095</td>\n",
       "    </tr>\n",
       "    <tr>\n",
       "      <th>2</th>\n",
       "      <td>0.594019</td>\n",
       "      <td>-0.770420</td>\n",
       "      <td>0.118757</td>\n",
       "      <td>0.176261</td>\n",
       "      <td>1.403896</td>\n",
       "    </tr>\n",
       "    <tr>\n",
       "      <th>3</th>\n",
       "      <td>0.068310</td>\n",
       "      <td>-0.620378</td>\n",
       "      <td>0.169371</td>\n",
       "      <td>-1.168124</td>\n",
       "      <td>-0.799347</td>\n",
       "    </tr>\n",
       "    <tr>\n",
       "      <th>4</th>\n",
       "      <td>0.397009</td>\n",
       "      <td>-1.098816</td>\n",
       "      <td>-0.736122</td>\n",
       "      <td>1.290087</td>\n",
       "      <td>-0.573610</td>\n",
       "    </tr>\n",
       "    <tr>\n",
       "      <th>...</th>\n",
       "      <td>...</td>\n",
       "      <td>...</td>\n",
       "      <td>...</td>\n",
       "      <td>...</td>\n",
       "      <td>...</td>\n",
       "    </tr>\n",
       "    <tr>\n",
       "      <th>13081</th>\n",
       "      <td>-0.094529</td>\n",
       "      <td>-1.440819</td>\n",
       "      <td>-0.421786</td>\n",
       "      <td>0.498934</td>\n",
       "      <td>1.323495</td>\n",
       "    </tr>\n",
       "    <tr>\n",
       "      <th>13082</th>\n",
       "      <td>0.819157</td>\n",
       "      <td>-0.307112</td>\n",
       "      <td>-0.287101</td>\n",
       "      <td>1.385208</td>\n",
       "      <td>0.277238</td>\n",
       "    </tr>\n",
       "    <tr>\n",
       "      <th>13083</th>\n",
       "      <td>0.261252</td>\n",
       "      <td>0.050338</td>\n",
       "      <td>-0.697626</td>\n",
       "      <td>-0.808617</td>\n",
       "      <td>1.163048</td>\n",
       "    </tr>\n",
       "    <tr>\n",
       "      <th>13084</th>\n",
       "      <td>2.016558</td>\n",
       "      <td>-2.193950</td>\n",
       "      <td>-1.740747</td>\n",
       "      <td>-1.405614</td>\n",
       "      <td>-0.176993</td>\n",
       "    </tr>\n",
       "    <tr>\n",
       "      <th>13085</th>\n",
       "      <td>1.015236</td>\n",
       "      <td>-0.453167</td>\n",
       "      <td>-1.004029</td>\n",
       "      <td>-1.387281</td>\n",
       "      <td>-0.286480</td>\n",
       "    </tr>\n",
       "  </tbody>\n",
       "</table>\n",
       "<p>13086 rows × 5 columns</p>\n",
       "</div>"
      ],
      "text/plain": [
       "        celsius  pressure  humidity   mod_sin   mod_cos\n",
       "0     -0.134628 -0.993427 -0.307815  1.360940  0.379239\n",
       "1      0.286009 -0.959010 -0.027806  1.011055 -0.985095\n",
       "2      0.594019 -0.770420  0.118757  0.176261  1.403896\n",
       "3      0.068310 -0.620378  0.169371 -1.168124 -0.799347\n",
       "4      0.397009 -1.098816 -0.736122  1.290087 -0.573610\n",
       "...         ...       ...       ...       ...       ...\n",
       "13081 -0.094529 -1.440819 -0.421786  0.498934  1.323495\n",
       "13082  0.819157 -0.307112 -0.287101  1.385208  0.277238\n",
       "13083  0.261252  0.050338 -0.697626 -0.808617  1.163048\n",
       "13084  2.016558 -2.193950 -1.740747 -1.405614 -0.176993\n",
       "13085  1.015236 -0.453167 -1.004029 -1.387281 -0.286480\n",
       "\n",
       "[13086 rows x 5 columns]"
      ]
     },
     "execution_count": 85,
     "metadata": {},
     "output_type": "execute_result"
    }
   ],
   "source": [
    "from sklearn.preprocessing import StandardScaler\n",
    "z_trafo = StandardScaler()\n",
    "colNames = ['celsius', 'pressure', 'humidity', 'mod_sin', 'mod_cos']\n",
    "X_scaled = pd.DataFrame(z_trafo.fit_transform(X[colNames]), columns=colNames)\n",
    "X_scaled"
   ]
  },
  {
   "cell_type": "markdown",
   "id": "cda7ea2f-db6b-4f97-9b8a-bd86e72e04b2",
   "metadata": {},
   "source": [
    "## 8.2.1 k-Means Clustering"
   ]
  },
  {
   "cell_type": "code",
   "execution_count": 86,
   "id": "83d84ef2-88d7-4c49-a394-67864a7bf48d",
   "metadata": {},
   "outputs": [],
   "source": [
    "from sklearn.cluster import KMeans\n",
    "from sklearn.metrics import silhouette_score"
   ]
  },
  {
   "cell_type": "code",
   "execution_count": 105,
   "id": "09dcf884-ef52-49f7-9d40-96a4cae52255",
   "metadata": {},
   "outputs": [
    {
     "name": "stdout",
     "output_type": "stream",
     "text": [
      "2\n",
      "CPU times: total: 0 ns\n",
      "Wall time: 12 ms\n",
      "5\n",
      "CPU times: total: 172 ms\n",
      "Wall time: 34 ms\n",
      "10\n",
      "CPU times: total: 125 ms\n",
      "Wall time: 23 ms\n",
      "25\n",
      "CPU times: total: 250 ms\n",
      "Wall time: 55 ms\n",
      "50\n",
      "CPU times: total: 500 ms\n",
      "Wall time: 100 ms\n",
      "75\n",
      "CPU times: total: 562 ms\n",
      "Wall time: 149 ms\n"
     ]
    }
   ],
   "source": [
    "parameters = {'n_clusters':[2, 5, 10, 25, 50, 75]}\n",
    "scores = {}\n",
    "#parameters = {'n_clusters':[50]}\n",
    "for i in parameters[\"n_clusters\"]:\n",
    "    print(i)\n",
    "    clusterer = KMeans(n_clusters=i, n_init=\"auto\")\n",
    "    %time clusterer.fit(X_scaled)\n",
    "    score = silhouette_score(X_scaled, clusterer.labels_, metric=\"euclidean\")\n",
    "    scores[i] = score"
   ]
  },
  {
   "cell_type": "code",
   "execution_count": 106,
   "id": "7c1fad07-a99a-47bb-9c0f-825c1ef0bddc",
   "metadata": {},
   "outputs": [
    {
     "data": {
      "text/plain": [
       "{2: 0.26420651011830326,\n",
       " 5: 0.24119840297631837,\n",
       " 10: 0.2177776482087448,\n",
       " 25: 0.19421183721015098,\n",
       " 50: 0.19380030086039632,\n",
       " 75: 0.19992363560764098}"
      ]
     },
     "execution_count": 106,
     "metadata": {},
     "output_type": "execute_result"
    }
   ],
   "source": [
    "scores"
   ]
  },
  {
   "cell_type": "code",
   "execution_count": 109,
   "id": "225ca90a-a715-404f-a4f9-f81527939e8b",
   "metadata": {},
   "outputs": [
    {
     "data": {
      "text/plain": [
       "array([36, 40, 30, ..., 57, 49, 74])"
      ]
     },
     "execution_count": 109,
     "metadata": {},
     "output_type": "execute_result"
    }
   ],
   "source": [
    "clusterer.labels_"
   ]
  },
  {
   "cell_type": "code",
   "execution_count": 89,
   "id": "d053fb51-7de1-482e-bcd7-5e3e3b3521d4",
   "metadata": {},
   "outputs": [
    {
     "data": {
      "text/plain": [
       "array([1.68039546, 6.71324445, 3.47822436, 0.70688476, 0.7073262 ])"
      ]
     },
     "execution_count": 89,
     "metadata": {},
     "output_type": "execute_result"
    }
   ],
   "source": [
    "z_trafo.scale_"
   ]
  },
  {
   "cell_type": "code",
   "execution_count": 90,
   "id": "c93b9070-33be-40bb-9a2b-9a7969d40cb3",
   "metadata": {},
   "outputs": [
    {
     "data": {
      "text/plain": [
       "array([ 2.48098220e+01,  9.52070821e+02,  4.21950669e+01,  1.60251557e-03,\n",
       "       -1.00729232e-03])"
      ]
     },
     "execution_count": 90,
     "metadata": {},
     "output_type": "execute_result"
    }
   ],
   "source": [
    "z_trafo.mean_"
   ]
  },
  {
   "cell_type": "code",
   "execution_count": 110,
   "id": "befbe58a-e3b3-46eb-8ccc-d44c0f8533f3",
   "metadata": {},
   "outputs": [
    {
     "data": {
      "text/plain": [
       "array([[ 2.30690537e+01,  9.59322031e+02,  4.63144608e+01,\n",
       "        -1.71836273e-01,  8.22007411e-01],\n",
       "       [ 2.47942816e+01,  9.53550238e+02,  4.17274377e+01,\n",
       "        -1.72069675e-01,  8.82218503e-01],\n",
       "       [ 2.58416664e+01,  9.46826255e+02,  3.99888826e+01,\n",
       "         5.84209450e-02, -8.81001707e-01],\n",
       "       [ 2.23801177e+01,  9.61244183e+02,  4.79631805e+01,\n",
       "         4.98553126e-01, -5.06985605e-01],\n",
       "       [ 2.49433083e+01,  9.46066135e+02,  4.18208007e+01,\n",
       "         8.04516087e-01,  2.88663847e-01],\n",
       "       [ 2.35425781e+01,  9.56329399e+02,  4.40068006e+01,\n",
       "         8.72069230e-01,  2.92643292e-01],\n",
       "       [ 2.76580636e+01,  9.45785607e+02,  3.67555139e+01,\n",
       "        -7.82247534e-01, -3.59824637e-01],\n",
       "       [ 2.41882798e+01,  9.55457564e+02,  4.27062506e+01,\n",
       "         3.97970350e-01, -8.19269415e-01],\n",
       "       [ 2.61128270e+01,  9.45290271e+02,  4.01392103e+01,\n",
       "        -6.19439949e-01,  5.97921977e-01],\n",
       "       [ 2.46262202e+01,  9.55057924e+02,  4.29126448e+01,\n",
       "        -8.26161323e-01, -3.49168975e-01]])"
      ]
     },
     "metadata": {},
     "output_type": "display_data"
    }
   ],
   "source": [
    "centers = KMeans(n_clusters = 10, n_init=\"auto\").fit(X_scaled).cluster_centers_\n",
    "display(centers*z_trafo.scale_ + z_trafo.mean_)"
   ]
  },
  {
   "cell_type": "code",
   "execution_count": 92,
   "id": "c74f2214-cb4c-4a93-a542-bb001dc44051",
   "metadata": {},
   "outputs": [],
   "source": [
    "from sklearn.metrics import silhouette_samples\n",
    "import matplotlib.cm as cm\n",
    "\n",
    "def plot_clusters(clusterer, n_clusters, cluster_labels, silhouette_avg, X):\n",
    "    fig, ax1 = plt.subplots(1, 1)\n",
    "    fig.set_size_inches(18, 7)\n",
    "\n",
    "        # The 1st subplot is the silhouette plot\n",
    "    # The silhouette coefficient can range from -1, 1 but in this example all\n",
    "    # lie within [-0.1, 1]\n",
    "    ax1.set_xlim([-0.1, 1])\n",
    "    # The (n_clusters+1)*10 is for inserting blank space between silhouette\n",
    "    # plots of individual clusters, to demarcate them clearly.\n",
    "    ax1.set_ylim([0, len(X) + (n_clusters + 1) * 10])\n",
    "\n",
    "    # Compute the silhouette scores for each sample\n",
    "    sample_silhouette_values = silhouette_samples(X, cluster_labels)\n",
    "\n",
    "    y_lower = 10\n",
    "    for i in range(n_clusters):\n",
    "        # Aggregate the silhouette scores for samples belonging to\n",
    "        # cluster i, and sort them\n",
    "        ith_cluster_silhouette_values = sample_silhouette_values[cluster_labels == i]\n",
    "\n",
    "        ith_cluster_silhouette_values.sort()\n",
    "\n",
    "        size_cluster_i = ith_cluster_silhouette_values.shape[0]\n",
    "        y_upper = y_lower + size_cluster_i\n",
    "\n",
    "        color = cm.nipy_spectral(float(i) / n_clusters)\n",
    "        ax1.fill_betweenx(\n",
    "            np.arange(y_lower, y_upper),\n",
    "            0,\n",
    "            ith_cluster_silhouette_values,\n",
    "            facecolor=color,\n",
    "            edgecolor=color,\n",
    "            alpha=0.7,\n",
    "        )\n",
    "\n",
    "        # Label the silhouette plots with their cluster numbers at the middle\n",
    "        ax1.text(-0.05, y_lower + 0.5 * size_cluster_i, str(i))\n",
    "\n",
    "        # Compute the new y_lower for next plot\n",
    "        y_lower = y_upper + 10  # 10 for the 0 samples\n",
    "\n",
    "    ax1.set_title(\"The silhouette plot for the various clusters.\")\n",
    "    ax1.set_xlabel(\"The silhouette coefficient values\")\n",
    "    ax1.set_ylabel(\"Cluster label\")\n",
    "\n",
    "    # The vertical line for average silhouette score of all the values\n",
    "    ax1.axvline(x=silhouette_avg, color=\"red\", linestyle=\"--\")\n",
    "\n",
    "    ax1.set_yticks([])  # Clear the yaxis labels / ticks\n",
    "    ax1.set_xticks([-0.1, 0, 0.2, 0.4, 0.6, 0.8, 1])\n",
    "\n",
    "    plt.show()"
   ]
  },
  {
   "cell_type": "code",
   "execution_count": 93,
   "id": "6c70007f-951f-49c9-b889-1a3e8c881651",
   "metadata": {},
   "outputs": [
    {
     "name": "stderr",
     "output_type": "stream",
     "text": [
      "C:\\Els\\Anaconda3_202303\\lib\\site-packages\\sklearn\\cluster\\_kmeans.py:870: FutureWarning: The default value of `n_init` will change from 10 to 'auto' in 1.4. Set the value of `n_init` explicitly to suppress the warning\n",
      "  warnings.warn(\n"
     ]
    },
    {
     "name": "stdout",
     "output_type": "stream",
     "text": [
      "0.2203231109331436\n"
     ]
    },
    {
     "data": {
      "image/png": "[encoded data removed]",
      "text/plain": [
       "<Figure size 1800x700 with 1 Axes>"
      ]
     },
     "metadata": {},
     "output_type": "display_data"
    }
   ],
   "source": [
    "clusterer = KMeans(n_clusters = 10)\n",
    "cluster_labels = clusterer.fit_predict(X_scaled)\n",
    "\n",
    "# The silhouette_score gives the average value for all the samples.\n",
    "# This gives a perspective into the density and separation of the formed\n",
    "# clusters\n",
    "silhouette_avg = silhouette_score(X_scaled, cluster_labels)\n",
    "print(silhouette_avg)\n",
    "plot_clusters(clusterer, clusterer.cluster_centers_.shape[0], cluster_labels, silhouette_avg, X_scaled)"
   ]
  },
  {
   "cell_type": "code",
   "execution_count": 94,
   "id": "42c10402-e73e-4f95-a01d-601b074aaca1",
   "metadata": {},
   "outputs": [
    {
     "data": {
      "text/plain": [
       "(13086,)"
      ]
     },
     "execution_count": 94,
     "metadata": {},
     "output_type": "execute_result"
    }
   ],
   "source": [
    "cluster_labels.shape"
   ]
  },
  {
   "cell_type": "markdown",
   "id": "44dfb9cb-accb-48b1-bcbd-d33d2017be51",
   "metadata": {},
   "source": [
    "The shapes are dropping quickly indicating that clustering is not very well."
   ]
  },
  {
   "cell_type": "markdown",
   "id": "6a1b48d4-7465-4720-9b10-df44f9ab0880",
   "metadata": {},
   "source": [
    "# 8.2.2 DBSCAN"
   ]
  },
  {
   "cell_type": "code",
   "execution_count": 95,
   "id": "13fa414e-b41c-44ff-a4f0-5024283d8223",
   "metadata": {},
   "outputs": [],
   "source": [
    "from sklearn.cluster import DBSCAN\n"
   ]
  },
  {
   "cell_type": "code",
   "execution_count": 96,
   "id": "57bc061e-34b5-40d9-a827-2382d2c5a347",
   "metadata": {},
   "outputs": [
    {
     "name": "stdout",
     "output_type": "stream",
     "text": [
      "0.75 2\n",
      "CPU times: total: 1.58 s\n",
      "Wall time: 321 ms\n",
      "{0, 1, 2, 3, 4, 5, 6, 7, 8, -1} 10\n",
      "0.75 3\n",
      "CPU times: total: 1.86 s\n",
      "Wall time: 332 ms\n",
      "{0, 1, 2, 3, 4, 5, 6, 7, -1} 9\n",
      "0.75 4\n",
      "CPU times: total: 1.8 s\n",
      "Wall time: 327 ms\n",
      "{0, 1, 2, 3, 4, -1} 6\n",
      "1 2\n",
      "CPU times: total: 2.98 s\n",
      "Wall time: 522 ms\n",
      "{0, 1, 2, 3, -1} 5\n",
      "1 3\n",
      "CPU times: total: 2.12 s\n",
      "Wall time: 368 ms\n",
      "{0, 1, 2, 3, -1} 5\n",
      "1 4\n",
      "CPU times: total: 2.91 s\n",
      "Wall time: 474 ms\n",
      "{0, 1, 2, -1} 4\n",
      "1.25 2\n",
      "CPU times: total: 4.33 s\n",
      "Wall time: 705 ms\n",
      "{0, 1, -1} 3\n",
      "1.25 3\n",
      "CPU times: total: 4.45 s\n",
      "Wall time: 723 ms\n",
      "{0, 1, -1} 3\n",
      "1.25 4\n",
      "CPU times: total: 4.39 s\n",
      "Wall time: 723 ms\n",
      "{0, 1, -1} 3\n"
     ]
    }
   ],
   "source": [
    "# this effectively creates a GridSearch for clustering\n",
    "dbscan_parameters = {'eps':[0.75, 1, 1.25], 'min_samples':[2, 3, 4]}\n",
    "dbscan_scores = {}\n",
    "for i in dbscan_parameters[\"eps\"]:\n",
    "    for j in dbscan_parameters['min_samples']:\n",
    "        print(i, j)\n",
    "        dbscan_clusterer = DBSCAN(eps=i, min_samples=j, n_jobs=-1)\n",
    "        %time res = dbscan_clusterer.fit(X_scaled)\n",
    "        print(set(dbscan_clusterer.labels_), len(set(dbscan_clusterer.labels_)))\n",
    "        # genertate the s-score without the noise (-1) label\n",
    "        score = silhouette_score(X_scaled[dbscan_clusterer.labels_!=-1], dbscan_clusterer.labels_[dbscan_clusterer.labels_!=-1], metric=\"euclidean\")\n",
    "        #score = silhouette_score(X_scaled, dbscan_clusterer.labels_, metric=\"euclidean\")\n",
    "        dbscan_scores[\"eps:\"+str(i) + \" \" + \"min_samples:\" + str(j)] = score"
   ]
  },
  {
   "cell_type": "code",
   "execution_count": 97,
   "id": "18697c6f-08d0-45fe-bf32-417e5aef8259",
   "metadata": {},
   "outputs": [
    {
     "data": {
      "text/plain": [
       "{'eps:0.75 min_samples:2': 0.07127392610191528,\n",
       " 'eps:0.75 min_samples:3': 0.07223837595320126,\n",
       " 'eps:0.75 min_samples:4': 0.14962886845262954,\n",
       " 'eps:1 min_samples:2': 0.3660711848795078,\n",
       " 'eps:1 min_samples:3': 0.3660711848795078,\n",
       " 'eps:1 min_samples:4': 0.5200114784511032,\n",
       " 'eps:1.25 min_samples:2': 0.555827037496062,\n",
       " 'eps:1.25 min_samples:3': 0.555827037496062,\n",
       " 'eps:1.25 min_samples:4': 0.555827037496062}"
      ]
     },
     "execution_count": 97,
     "metadata": {},
     "output_type": "execute_result"
    }
   ],
   "source": [
    "dbscan_scores"
   ]
  },
  {
   "cell_type": "code",
   "execution_count": 98,
   "id": "02ddf6f0-2346-4f35-8ccf-9c7e26f32ced",
   "metadata": {},
   "outputs": [],
   "source": [
    "def getBestParameterSet(scores):\n",
    "    return list(scores.keys())[np.array(list(scores.values())).argmax()]"
   ]
  },
  {
   "cell_type": "code",
   "execution_count": 99,
   "id": "657ba4e0-5252-469b-8547-5bebf819cf89",
   "metadata": {},
   "outputs": [
    {
     "data": {
      "text/plain": [
       "'eps:1.25 min_samples:2'"
      ]
     },
     "metadata": {},
     "output_type": "display_data"
    }
   ],
   "source": [
    "display(getBestParameterSet(dbscan_scores))"
   ]
  },
  {
   "cell_type": "code",
   "execution_count": 100,
   "id": "9769985c-c444-4517-83f5-65da30b68925",
   "metadata": {},
   "outputs": [
    {
     "name": "stdout",
     "output_type": "stream",
     "text": [
      "CPU times: total: 1.33 s\n",
      "Wall time: 306 ms\n"
     ]
    },
    {
     "data": {
      "image/png": "[encoded data removed]",
      "text/plain": [
       "<Figure size 1800x700 with 1 Axes>"
      ]
     },
     "metadata": {},
     "output_type": "display_data"
    }
   ],
   "source": [
    "dbscan_clusterer = DBSCAN(eps=0.75, min_samples=2, n_jobs=-1)\n",
    "%time res = dbscan_clusterer.fit(X_scaled)\n",
    "plot_clusters(dbscan_clusterer, np.unique(dbscan_clusterer.labels_).shape[0], dbscan_clusterer.labels_, silhouette_avg, X_scaled)"
   ]
  },
  {
   "cell_type": "code",
   "execution_count": 101,
   "id": "0d54859e-ba75-427b-a585-a2ae6bec7a88",
   "metadata": {},
   "outputs": [
    {
     "data": {
      "text/plain": [
       "10"
      ]
     },
     "execution_count": 101,
     "metadata": {},
     "output_type": "execute_result"
    }
   ],
   "source": [
    "np.unique(dbscan_clusterer.labels_).shape[0]"
   ]
  },
  {
   "cell_type": "markdown",
   "id": "73407d7d-996d-4899-b9cf-d8e55f97f470",
   "metadata": {},
   "source": [
    "# 8.2.3 Conclusions"
   ]
  },
  {
   "cell_type": "markdown",
   "id": "4f9a1792-c1cd-45c0-883f-a727a97fb35f",
   "metadata": {},
   "source": [
    "With Silhouette scores being very low, we can conclude, that the data is not clusterable with the given algorithms. One potential reason might be, that the values are more dependent from the time of the year than the time of the day"
   ]
  },
  {
   "cell_type": "code",
   "execution_count": 102,
   "id": "a212f5a3-dd4d-4d5e-9988-aac8b93eb619",
   "metadata": {},
   "outputs": [
    {
     "data": {
      "image/png": "[encoded data removed]",
      "text/plain": [
       "<Figure size 640x480 with 1 Axes>"
      ]
     },
     "metadata": {},
     "output_type": "display_data"
    }
   ],
   "source": [
    "import matplotlib.pyplot as plt\n",
    "from sklearn.decomposition import PCA\n",
    "\n",
    "pca = PCA(n_components=2)\n",
    "reduced_data = pca.fit_transform(X_scaled)\n",
    "kmeans = KMeans(init=\"k-means++\", n_clusters=25, n_init=4)\n",
    "kmeans.fit(reduced_data)\n",
    "\n",
    "# Step size of the mesh. Decrease to increase the quality of the VQ.\n",
    "h = .02     # point in the mesh [x_min, x_max]x[y_min, y_max].\n",
    "\n",
    "# Plot the decision boundary. For that, we will assign a color to each\n",
    "x_min, x_max = reduced_data[:, 0].min() - 1, reduced_data[:, 0].max() + 1\n",
    "y_min, y_max = reduced_data[:, 1].min() - 1, reduced_data[:, 1].max() + 1\n",
    "xx, yy = np.meshgrid(np.arange(x_min, x_max, h), np.arange(y_min, y_max, h))\n",
    "\n",
    "# Obtain labels for each point in mesh. Use last trained model.\n",
    "Z = kmeans.predict(np.c_[xx.ravel(), yy.ravel()])\n",
    "\n",
    "# Put the result into a color plot\n",
    "Z = Z.reshape(xx.shape)\n",
    "plt.figure(1)\n",
    "plt.clf()\n",
    "plt.imshow(Z, interpolation=\"nearest\",\n",
    "           extent=(xx.min(), xx.max(), yy.min(), yy.max()),\n",
    "           cmap=plt.cm.Paired, aspect=\"auto\", origin=\"lower\")\n",
    "\n",
    "plt.plot(reduced_data[:, 0], reduced_data[:, 1], 'k.', markersize=2)\n",
    "# Plot the centroids as a white X\n",
    "centroids = kmeans.cluster_centers_\n",
    "plt.scatter(centroids[:, 0], centroids[:, 1], marker=\"x\", s=169, linewidths=3,\n",
    "            color=\"w\", zorder=10)\n",
    "plt.title(\"Bimsim data set clustering (PCA-reduced data)\\n\"\n",
    "          \"Centroids are marked with white cross\")\n",
    "plt.xlim(x_min, x_max)\n",
    "plt.ylim(y_min, y_max)\n",
    "plt.xticks(())\n",
    "plt.yticks(())\n",
    "plt.show()\n"
   ]
  },
  {
   "cell_type": "code",
   "execution_count": 103,
   "id": "fdf6106d-6420-4682-9597-64fd12813d5e",
   "metadata": {},
   "outputs": [
    {
     "data": {
      "text/plain": [
       "array([[ 0.58221714, -0.49030194, -0.55497877, -0.32383695, -0.08806476],\n",
       "       [-0.01034758,  0.05037609, -0.02879958,  0.21931683, -0.9738716 ]])"
      ]
     },
     "execution_count": 103,
     "metadata": {},
     "output_type": "execute_result"
    }
   ],
   "source": [
    "pca.components_"
   ]
  },
  {
   "cell_type": "code",
   "execution_count": null,
   "id": "7b5349c8-74b3-4786-a722-a40de131a741",
   "metadata": {},
   "outputs": [],
   "source": []
  }
 ],
 "metadata": {
  "kernelspec": {
   "display_name": "Python 3 (ipykernel)",
   "language": "python",
   "name": "python3"
  },
  "language_info": {
   "codemirror_mode": {
    "name": "ipython",
    "version": 3
   },
   "file_extension": ".py",
   "mimetype": "text/x-python",
   "name": "python",
   "nbconvert_exporter": "python",
   "pygments_lexer": "ipython3",
   "version": "3.10.10"
  }
 },
 "nbformat": 4,
 "nbformat_minor": 5
}
