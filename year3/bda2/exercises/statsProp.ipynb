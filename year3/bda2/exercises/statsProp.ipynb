{
 "cells": [
  {
   "cell_type": "markdown",
   "metadata": {
    "slideshow": {
     "slide_type": "slide"
    }
   },
   "source": [
    "# Mean\n",
    "$\\bar{x}_{\\mathrm{arithm}} = \\frac{1}{n} \\sum_{i=1}^n{x_i} = \\frac{x_1 + x_2 + \\dotsb + x_n}{n}$\n",
    "\n",
    "Calculation of the mean value is very susceptible to outliers. Hence, one should be careful if statistics report only the mean."
   ]
  },
  {
   "cell_type": "markdown",
   "metadata": {
    "slideshow": {
     "slide_type": "slide"
    }
   },
   "source": [
    "# Median\n",
    "\n",
    "$x = (x_0, \\cdots, x_{n-1}) \\wedge x_i \\leq x_{i+1}$\n",
    "\n",
    "$\\tilde x = x_\\frac{n}{2};\\; n\\text{ odd}\\\\\n",
    " \\tilde x= \\frac {1}{2}\\left(x_{\\frac{n}{2}-1} + x_{\\frac{n}{2}}\\right);\\; n \\text{ even }\n",
    "$\n",
    "\n",
    "$\\tilde x_u = x_{\\left\\lfloor\\frac{n}{2}\\right\\rfloor}\\\\\n",
    "\\tilde x_o = x_{\\left\\lceil\\frac{n}{2}\\right\\rceil}\\\\\n",
    "\\tilde x = \\tfrac 12\\left(\\tilde x_u + \\tilde x_o\\right)$\n",
    "\n",
    "The Median is far less susceptible to outliers. But it requires sorting of the complete data which in large datasets can be high effort."
   ]
  },
  {
   "cell_type": "markdown",
   "metadata": {
    "slideshow": {
     "slide_type": "slide"
    }
   },
   "source": [
    "# Example\n",
    "Economical statistics often report either the average (= Mean) income of households or the median (Depending on who is creating the statistics). Example: [Mittleres Einkommen](\"https://de.wikipedia.org/wiki/Mittleres_Einkommen\") and [average wage](\"https://en.wikipedia.org/wiki/List_of_countries_by_average_wage\")\n",
    "\n",
    "<img src=\"./main-qimg-130ec68f24d8dfcb669f7ae584f88535.png\" alt=\"img\" width=\"600px\"/>\n",
    "\n",
    "Let's assume, we are interviewing a neighbourhood of a small town and collect the average income per month and household. We interview 2000 households and find that the richest household has 5000 credits/month."
   ]
  },
  {
   "cell_type": "code",
   "execution_count": 1,
   "metadata": {
    "slideshow": {
     "slide_type": "subslide"
    }
   },
   "outputs": [],
   "source": [
    "import numpy as np\n",
    "import random as rnd\n",
    "import matplotlib.pyplot as plt\n",
    "\n",
    "\n",
    "def applicator(x, what, p0 = 1,  p1=  0):\n",
    "    return distributions[what](p1, p1)\n",
    "\n",
    "def createDistribution(what, p0 = 1,  p1=  0, shape = (1, 100), scale = 1):\n",
    "    res = np.zeros(shape)\n",
    "    res = np.apply_along_axis(applicator, 0, res, what, p0, p1)\n",
    "    res = res*scale\n",
    "    return res\n",
    "\n",
    "def visualizeData(data, mean, median, bins=100):\n",
    "    plt.figure(figsize=(16,10))\n",
    "    plt.hist(data, bins = bins)\n",
    "    plt.axvline(mean, color='r')\n",
    "    plt.axvline(median, color='g')\n",
    "    plt.show()\n",
    "    plt.boxplot(data)\n",
    "    plt.show()\n",
    "\n",
    "\n",
    "    \n",
    "seed = 42\n",
    "rnd.seed(seed)\n",
    "distributions = {\n",
    "                    \"uniform\"   : rnd.uniform, \n",
    "                    \"normal\"    : rnd.gauss, \n",
    "                    \"beta\"      : rnd.betavariate, \n",
    "                    \"lognorm\"   : rnd.lognormvariate\n",
    "                }"
   ]
  },
  {
   "cell_type": "markdown",
   "metadata": {
    "slideshow": {
     "slide_type": "slide"
    }
   },
   "source": [
    "To cover the range from 0 credits to 5000 credits, we apply a beta distribution. Beta distribution reflects that there will be a center where we can find many similar incomes and left and right wings with smaller incomes"
   ]
  },
  {
   "cell_type": "code",
   "execution_count": 2,
   "metadata": {
    "slideshow": {
     "slide_type": "slide"
    }
   },
   "outputs": [
    {
     "name": "stdout",
     "output_type": "stream",
     "text": [
      "Mean =  2514.848731918645 Median =  2493.0431339053334\n"
     ]
    },
    {
     "data": {
      "image/png": "[encoded data removed]",
      "text/plain": [
       "<Figure size 1152x720 with 1 Axes>"
      ]
     },
     "metadata": {
      "needs_background": "light"
     },
     "output_type": "display_data"
    },
    {
     "data": {
      "image/png": "[encoded data removed]",
      "text/plain": [
       "<Figure size 432x288 with 1 Axes>"
      ]
     },
     "metadata": {
      "needs_background": "light"
     },
     "output_type": "display_data"
    }
   ],
   "source": [
    "res = createDistribution(\"beta\", p0 = 0, p1 = 5, shape = (1, 2000), scale=5000)\n",
    "mean = res.mean()\n",
    "median = np.median(res)\n",
    "print(\"Mean = \", mean, \"Median = \", median)\n",
    "visualizeData(res, mean, median)"
   ]
  },
  {
   "cell_type": "markdown",
   "metadata": {
    "slideshow": {
     "slide_type": "slide"
    }
   },
   "source": [
    "## Observation:\n",
    "From the images we see, that mean and median are nearly the same. There are no outliers reported (as we can see from the boxplot. \n",
    "\n",
    "## A different scenario\n",
    "Now we add a two housholds by replacing the richest two (5000 credits), with two that have 500 times more (e.g. all other households have rented appartments, these households owns the real estate):"
   ]
  },
  {
   "cell_type": "code",
   "execution_count": 19,
   "metadata": {
    "slideshow": {
     "slide_type": "slide"
    }
   },
   "outputs": [
    {
     "name": "stdout",
     "output_type": "stream",
     "text": [
      "Mean =  3769.619915105288 Median =  2494.5868946553283\n"
     ]
    },
    {
     "data": {
      "image/png": "[encoded data removed]",
      "text/plain": [
       "<matplotlib.figure.Figure at 0x1de9ae5df98>"
      ]
     },
     "metadata": {},
     "output_type": "display_data"
    },
    {
     "data": {
      "image/png": "[encoded data removed]",
      "text/plain": [
       "<matplotlib.figure.Figure at 0x1de9b219eb8>"
      ]
     },
     "metadata": {},
     "output_type": "display_data"
    }
   ],
   "source": [
    "res1 = res.copy()\n",
    "res1[-1] = 500*mean\n",
    "res1[-2] = 500*mean\n",
    "mean = res1.mean()\n",
    "median = np.median(res1)\n",
    "print(\"Mean = \", mean, \"Median = \", median)\n",
    "visualizeData(res1, mean, median)"
   ]
  },
  {
   "cell_type": "markdown",
   "metadata": {
    "slideshow": {
     "slide_type": "slide"
    }
   },
   "source": [
    "In the boxplot we can now see a two heavy outliers. Note, that if the definition of poverty would refer to the mean (it refers to the median, see https://de.wikipedia.org/wiki/Armutsgrenze) the complete town, except for the two households would live at the edge of poverty."
   ]
  },
  {
   "cell_type": "markdown",
   "metadata": {
    "slideshow": {
     "slide_type": "slide"
    }
   },
   "source": [
    "# Expectation Value\n",
    "\n",
    "$\\operatorname{E}(X)=\\sum_{i\\in I} x_i p_i=\\sum_{i \\in I} x_i P(X=x_i)$\n",
    "\n",
    "For the above distributions the expectation values would be "
   ]
  },
  {
   "cell_type": "code",
   "execution_count": 20,
   "metadata": {
    "slideshow": {
     "slide_type": "subslide"
    }
   },
   "outputs": [],
   "source": [
    "def expectedValue(data):\n",
    "    weights = (data/data.sum())\n",
    "    res = np.inner(data, weights)\n",
    "    \n",
    "    return res.mean()"
   ]
  },
  {
   "cell_type": "code",
   "execution_count": 21,
   "metadata": {
    "slideshow": {
     "slide_type": "slide"
    }
   },
   "outputs": [
    {
     "name": "stdout",
     "output_type": "stream",
     "text": [
      "2741.1161791902623\n",
      "421263.10723381233\n"
     ]
    }
   ],
   "source": [
    "print(expectedValue(res))\n",
    "print(expectedValue(res1))"
   ]
  },
  {
   "cell_type": "markdown",
   "metadata": {
    "slideshow": {
     "slide_type": "slide"
    }
   },
   "source": [
    "We see, that the outliers highly influence the expected value."
   ]
  },
  {
   "cell_type": "markdown",
   "metadata": {
    "slideshow": {
     "slide_type": "slide"
    }
   },
   "source": [
    "# Standard Deviation\n",
    "$\\operatorname{Var}(X) = \\sigma^2 = \\frac{1}{N} \\sum \\limits_{i=1}^N(x_i-\\operatorname{E}(X))^2\\\\\n",
    "\\operatorname{\\sigma}(X) = \\sqrt{\\operatorname{Var}(X)}$"
   ]
  },
  {
   "cell_type": "code",
   "execution_count": 22,
   "metadata": {
    "slideshow": {
     "slide_type": "slide"
    }
   },
   "outputs": [
    {
     "name": "stdout",
     "output_type": "stream",
     "text": [
      "754.3397131568076\n",
      "39671.044405502544\n"
     ]
    }
   ],
   "source": [
    "print(res.std())\n",
    "print(res1.std())"
   ]
  },
  {
   "cell_type": "markdown",
   "metadata": {
    "slideshow": {
     "slide_type": "slide"
    }
   },
   "source": [
    "# Median Absolute Deviation\n",
    "The MAD is an alternative to the standard deviation which, similar to the relation between mean and median is also less susceptible agains outliers.\n",
    "\n",
    "$\\operatorname{MAD}(x) = \\operatorname{median}\\left(\\left|x_{i} - \\operatorname{median} (x) \\right|\\right)$"
   ]
  },
  {
   "cell_type": "code",
   "execution_count": 23,
   "metadata": {
    "slideshow": {
     "slide_type": "subslide"
    }
   },
   "outputs": [],
   "source": [
    "def mad(data):\n",
    "    t = data-np.median(data)\n",
    "    t = np.abs(t)\n",
    "    return np.median(t)"
   ]
  },
  {
   "cell_type": "code",
   "execution_count": 24,
   "metadata": {
    "slideshow": {
     "slide_type": "slide"
    }
   },
   "outputs": [
    {
     "name": "stdout",
     "output_type": "stream",
     "text": [
      "545.4658334765022\n",
      "545.9316749805691\n"
     ]
    }
   ],
   "source": [
    "print(mad(res))\n",
    "print(mad(res1))"
   ]
  }
 ],
 "metadata": {
  "celltoolbar": "Slideshow",
  "kernelspec": {
   "display_name": "Python 3",
   "language": "python",
   "name": "python3"
  },
  "language_info": {
   "codemirror_mode": {
    "name": "ipython",
    "version": 3
   },
   "file_extension": ".py",
   "mimetype": "text/x-python",
   "name": "python",
   "nbconvert_exporter": "python",
   "pygments_lexer": "ipython3",
   "version": "3.7.3"
  }
 },
 "nbformat": 4,
 "nbformat_minor": 2
}
