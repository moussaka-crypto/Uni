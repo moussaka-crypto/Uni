{
 "cells": [
  {
   "cell_type": "markdown",
   "id": "7c8d9eae-e588-4387-bbc6-c0d27d14ccd1",
   "metadata": {},
   "source": [
    "# Excercise 6.1\n",
    "Time encoding for timestamps"
   ]
  },
  {
   "cell_type": "markdown",
   "id": "9161d056-1729-42eb-b4ca-2c4119ce9577",
   "metadata": {},
   "source": [
    "## 1. Load the Bimsim Dataset"
   ]
  },
  {
   "cell_type": "code",
   "execution_count": 3,
   "id": "c52425f6-46dd-4333-b6f9-2969d5d9d9f3",
   "metadata": {},
   "outputs": [
    {
     "name": "stderr",
     "output_type": "stream",
     "text": [
      "Der Befehl \"{sys.executable}\" ist entweder falsch geschrieben oder\n",
      "konnte nicht gefunden werden.\n"
     ]
    }
   ],
   "source": [
    "import pandas as pd\n",
    "import numpy as np\n",
    "import time\n",
    "from datetime import datetime\n",
    "from math import cos, sin, pi\n",
    "import os\n",
    "\n",
    "!{sys.executable} -m pip install fastparquet pyarrow"
   ]
  },
  {
   "cell_type": "code",
   "execution_count": 5,
   "id": "56da0103-4692-4f72-b040-7b6b25bfcbb5",
   "metadata": {},
   "outputs": [
    {
     "name": "stdout",
     "output_type": "stream",
     "text": [
      "CPU times: total: 46.9 ms\n",
      "Wall time: 38.4 ms\n"
     ]
    },
    {
     "data": {
      "text/html": [
       "<div>\n",
       "<style scoped>\n",
       "    .dataframe tbody tr th:only-of-type {\n",
       "        vertical-align: middle;\n",
       "    }\n",
       "\n",
       "    .dataframe tbody tr th {\n",
       "        vertical-align: top;\n",
       "    }\n",
       "\n",
       "    .dataframe thead th {\n",
       "        text-align: right;\n",
       "    }\n",
       "</style>\n",
       "<table border=\"1\" class=\"dataframe\">\n",
       "  <thead>\n",
       "    <tr style=\"text-align: right;\">\n",
       "      <th></th>\n",
       "      <th>Unnamed: 0</th>\n",
       "      <th>source</th>\n",
       "      <th>datetime</th>\n",
       "      <th>id</th>\n",
       "      <th>celsius</th>\n",
       "      <th>pressure</th>\n",
       "      <th>humidity</th>\n",
       "      <th>sensor</th>\n",
       "      <th>room</th>\n",
       "    </tr>\n",
       "  </thead>\n",
       "  <tbody>\n",
       "    <tr>\n",
       "      <th>0</th>\n",
       "      <td>0</td>\n",
       "      <td>0013A20041A94FA3</td>\n",
       "      <td>2021-08-18 09:40:38+00:00</td>\n",
       "      <td>1.629272e+09</td>\n",
       "      <td>23.144531</td>\n",
       "      <td>956.7491</td>\n",
       "      <td>42.368893</td>\n",
       "      <td>0013A20041A94FA3</td>\n",
       "      <td>H205</td>\n",
       "    </tr>\n",
       "    <tr>\n",
       "      <th>1</th>\n",
       "      <td>1</td>\n",
       "      <td>0013A20041A94FA3</td>\n",
       "      <td>2021-08-18 09:45:42+00:00</td>\n",
       "      <td>1.629273e+09</td>\n",
       "      <td>23.154882</td>\n",
       "      <td>956.8015</td>\n",
       "      <td>42.059960</td>\n",
       "      <td>0013A20041A94FA3</td>\n",
       "      <td>H205</td>\n",
       "    </tr>\n",
       "    <tr>\n",
       "      <th>2</th>\n",
       "      <td>2</td>\n",
       "      <td>0013A20041A94FA3</td>\n",
       "      <td>2021-08-18 09:50:45+00:00</td>\n",
       "      <td>1.629273e+09</td>\n",
       "      <td>23.165040</td>\n",
       "      <td>956.7753</td>\n",
       "      <td>42.528866</td>\n",
       "      <td>0013A20041A94FA3</td>\n",
       "      <td>H205</td>\n",
       "    </tr>\n",
       "    <tr>\n",
       "      <th>3</th>\n",
       "      <td>3</td>\n",
       "      <td>0013A20041A94FA3</td>\n",
       "      <td>2021-08-18 09:55:48+00:00</td>\n",
       "      <td>1.629273e+09</td>\n",
       "      <td>23.165040</td>\n",
       "      <td>956.7753</td>\n",
       "      <td>42.512318</td>\n",
       "      <td>0013A20041A94FA3</td>\n",
       "      <td>H205</td>\n",
       "    </tr>\n",
       "    <tr>\n",
       "      <th>4</th>\n",
       "      <td>4</td>\n",
       "      <td>0013A20041A94FA3</td>\n",
       "      <td>2021-08-18 10:00:52+00:00</td>\n",
       "      <td>1.629274e+09</td>\n",
       "      <td>23.180664</td>\n",
       "      <td>956.8277</td>\n",
       "      <td>42.291660</td>\n",
       "      <td>0013A20041A94FA3</td>\n",
       "      <td>H205</td>\n",
       "    </tr>\n",
       "  </tbody>\n",
       "</table>\n",
       "</div>"
      ],
      "text/plain": [
       "   Unnamed: 0            source                  datetime            id   \n",
       "0           0  0013A20041A94FA3 2021-08-18 09:40:38+00:00  1.629272e+09  \\\n",
       "1           1  0013A20041A94FA3 2021-08-18 09:45:42+00:00  1.629273e+09   \n",
       "2           2  0013A20041A94FA3 2021-08-18 09:50:45+00:00  1.629273e+09   \n",
       "3           3  0013A20041A94FA3 2021-08-18 09:55:48+00:00  1.629273e+09   \n",
       "4           4  0013A20041A94FA3 2021-08-18 10:00:52+00:00  1.629274e+09   \n",
       "\n",
       "     celsius  pressure   humidity            sensor  room  \n",
       "0  23.144531  956.7491  42.368893  0013A20041A94FA3  H205  \n",
       "1  23.154882  956.8015  42.059960  0013A20041A94FA3  H205  \n",
       "2  23.165040  956.7753  42.528866  0013A20041A94FA3  H205  \n",
       "3  23.165040  956.7753  42.512318  0013A20041A94FA3  H205  \n",
       "4  23.180664  956.8277  42.291660  0013A20041A94FA3  H205  "
      ]
     },
     "execution_count": 5,
     "metadata": {},
     "output_type": "execute_result"
    }
   ],
   "source": [
    "parquetFilename = r\"./data/bimsim_31_day_sample_converted.parquet\"\n",
    "filename = r\"./data/bimsim_31_day_sample.csv\"\n",
    "# filename = r\"./data/07092021bimsim_room.csv\"\n",
    "\n",
    "isParquet = os.path.exists(parquetFilename)\n",
    "if isParquet:\n",
    "    %time data = pd.read_parquet(parquetFilename)\n",
    "else:\n",
    "    %time data = pd.read_csv(filename, sep=\",\")\n",
    "data.head()   "
   ]
  },
  {
   "cell_type": "code",
   "execution_count": 6,
   "id": "99fbb4b0-55d8-4c93-95d6-300e99435a6e",
   "metadata": {},
   "outputs": [
    {
     "data": {
      "text/plain": [
       "array(['H205', 'H113', 'H206', 'H211', 'H210', 'H220', 'H108', 'H110',\n",
       "       'H106', 'across_from_H207_on_railing', 'H208', 'H109', 'H213',\n",
       "       'H111', 'H207', 'H218', 'H212', 'H216_desk_at_window', 'H217',\n",
       "       'H215', 'H209', 'H216', 'H214', 'H203'], dtype=object)"
      ]
     },
     "execution_count": 6,
     "metadata": {},
     "output_type": "execute_result"
    }
   ],
   "source": [
    "data.room.unique()"
   ]
  },
  {
   "cell_type": "markdown",
   "id": "7b432e55-9374-4d2b-958e-b806b6e79280",
   "metadata": {},
   "source": [
    "## 2. Transform the time column"
   ]
  },
  {
   "cell_type": "code",
   "execution_count": 7,
   "id": "390c47f8-6e83-4a5b-adbc-47c2ad35a73b",
   "metadata": {},
   "outputs": [],
   "source": [
    "if not isParquet:\n",
    "    %time data[\"datetime\"] = pd.to_datetime(data[\"datetime\"],format='%a, %d %b %Y %H:%M:%S %Z')   \n",
    "    #%time data[\"datetime\"] = pd.to_datetime(data[\"datetime\"],format='%Y-%m-%d %H:%M:%S.%f') \n",
    "    %time data.to_parquet(parquetFilename, compression=\"gzip\") "
   ]
  },
  {
   "cell_type": "code",
   "execution_count": 8,
   "id": "9174161e-f79c-4a2f-8ffe-d9e0d5200d6c",
   "metadata": {},
   "outputs": [
    {
     "name": "stdout",
     "output_type": "stream",
     "text": [
      "<class 'pandas.core.frame.DataFrame'>\n",
      "RangeIndex: 130887 entries, 0 to 130886\n",
      "Data columns (total 9 columns):\n",
      " #   Column      Non-Null Count   Dtype              \n",
      "---  ------      --------------   -----              \n",
      " 0   Unnamed: 0  130887 non-null  int64              \n",
      " 1   source      130887 non-null  object             \n",
      " 2   datetime    130887 non-null  datetime64[ns, GMT]\n",
      " 3   id          130887 non-null  float64            \n",
      " 4   celsius     130887 non-null  float64            \n",
      " 5   pressure    130887 non-null  float64            \n",
      " 6   humidity    130887 non-null  float64            \n",
      " 7   sensor      130887 non-null  object             \n",
      " 8   room        130887 non-null  object             \n",
      "dtypes: datetime64[ns, GMT](1), float64(4), int64(1), object(3)\n",
      "memory usage: 9.0+ MB\n"
     ]
    }
   ],
   "source": [
    "data.info()"
   ]
  },
  {
   "cell_type": "markdown",
   "id": "c6bfcb30-e786-4405-ace2-6f9d1c09e39a",
   "metadata": {},
   "source": [
    "## 3. Create a column hour of day \"HOD\"\n",
    "1. Extract the hour information from the timestamp column\n",
    "2. Create a new column with that information"
   ]
  },
  {
   "cell_type": "code",
   "execution_count": 9,
   "id": "4d53c781-15a3-4712-93e5-8ca366582e46",
   "metadata": {},
   "outputs": [
    {
     "name": "stdout",
     "output_type": "stream",
     "text": [
      "CPU times: total: 15.6 ms\n",
      "Wall time: 13 ms\n"
     ]
    },
    {
     "data": {
      "text/html": [
       "<div>\n",
       "<style scoped>\n",
       "    .dataframe tbody tr th:only-of-type {\n",
       "        vertical-align: middle;\n",
       "    }\n",
       "\n",
       "    .dataframe tbody tr th {\n",
       "        vertical-align: top;\n",
       "    }\n",
       "\n",
       "    .dataframe thead th {\n",
       "        text-align: right;\n",
       "    }\n",
       "</style>\n",
       "<table border=\"1\" class=\"dataframe\">\n",
       "  <thead>\n",
       "    <tr style=\"text-align: right;\">\n",
       "      <th></th>\n",
       "      <th>Unnamed: 0</th>\n",
       "      <th>source</th>\n",
       "      <th>datetime</th>\n",
       "      <th>id</th>\n",
       "      <th>celsius</th>\n",
       "      <th>pressure</th>\n",
       "      <th>humidity</th>\n",
       "      <th>sensor</th>\n",
       "      <th>room</th>\n",
       "      <th>HOD</th>\n",
       "    </tr>\n",
       "  </thead>\n",
       "  <tbody>\n",
       "    <tr>\n",
       "      <th>0</th>\n",
       "      <td>0</td>\n",
       "      <td>0013A20041A94FA3</td>\n",
       "      <td>2021-08-18 09:40:38+00:00</td>\n",
       "      <td>1.629272e+09</td>\n",
       "      <td>23.144531</td>\n",
       "      <td>956.7491</td>\n",
       "      <td>42.368893</td>\n",
       "      <td>0013A20041A94FA3</td>\n",
       "      <td>H205</td>\n",
       "      <td>9</td>\n",
       "    </tr>\n",
       "    <tr>\n",
       "      <th>1</th>\n",
       "      <td>1</td>\n",
       "      <td>0013A20041A94FA3</td>\n",
       "      <td>2021-08-18 09:45:42+00:00</td>\n",
       "      <td>1.629273e+09</td>\n",
       "      <td>23.154882</td>\n",
       "      <td>956.8015</td>\n",
       "      <td>42.059960</td>\n",
       "      <td>0013A20041A94FA3</td>\n",
       "      <td>H205</td>\n",
       "      <td>9</td>\n",
       "    </tr>\n",
       "    <tr>\n",
       "      <th>2</th>\n",
       "      <td>2</td>\n",
       "      <td>0013A20041A94FA3</td>\n",
       "      <td>2021-08-18 09:50:45+00:00</td>\n",
       "      <td>1.629273e+09</td>\n",
       "      <td>23.165040</td>\n",
       "      <td>956.7753</td>\n",
       "      <td>42.528866</td>\n",
       "      <td>0013A20041A94FA3</td>\n",
       "      <td>H205</td>\n",
       "      <td>9</td>\n",
       "    </tr>\n",
       "    <tr>\n",
       "      <th>3</th>\n",
       "      <td>3</td>\n",
       "      <td>0013A20041A94FA3</td>\n",
       "      <td>2021-08-18 09:55:48+00:00</td>\n",
       "      <td>1.629273e+09</td>\n",
       "      <td>23.165040</td>\n",
       "      <td>956.7753</td>\n",
       "      <td>42.512318</td>\n",
       "      <td>0013A20041A94FA3</td>\n",
       "      <td>H205</td>\n",
       "      <td>9</td>\n",
       "    </tr>\n",
       "    <tr>\n",
       "      <th>4</th>\n",
       "      <td>4</td>\n",
       "      <td>0013A20041A94FA3</td>\n",
       "      <td>2021-08-18 10:00:52+00:00</td>\n",
       "      <td>1.629274e+09</td>\n",
       "      <td>23.180664</td>\n",
       "      <td>956.8277</td>\n",
       "      <td>42.291660</td>\n",
       "      <td>0013A20041A94FA3</td>\n",
       "      <td>H205</td>\n",
       "      <td>10</td>\n",
       "    </tr>\n",
       "  </tbody>\n",
       "</table>\n",
       "</div>"
      ],
      "text/plain": [
       "   Unnamed: 0            source                  datetime            id   \n",
       "0           0  0013A20041A94FA3 2021-08-18 09:40:38+00:00  1.629272e+09  \\\n",
       "1           1  0013A20041A94FA3 2021-08-18 09:45:42+00:00  1.629273e+09   \n",
       "2           2  0013A20041A94FA3 2021-08-18 09:50:45+00:00  1.629273e+09   \n",
       "3           3  0013A20041A94FA3 2021-08-18 09:55:48+00:00  1.629273e+09   \n",
       "4           4  0013A20041A94FA3 2021-08-18 10:00:52+00:00  1.629274e+09   \n",
       "\n",
       "     celsius  pressure   humidity            sensor  room  HOD  \n",
       "0  23.144531  956.7491  42.368893  0013A20041A94FA3  H205    9  \n",
       "1  23.154882  956.8015  42.059960  0013A20041A94FA3  H205    9  \n",
       "2  23.165040  956.7753  42.528866  0013A20041A94FA3  H205    9  \n",
       "3  23.165040  956.7753  42.512318  0013A20041A94FA3  H205    9  \n",
       "4  23.180664  956.8277  42.291660  0013A20041A94FA3  H205   10  "
      ]
     },
     "execution_count": 9,
     "metadata": {},
     "output_type": "execute_result"
    }
   ],
   "source": [
    "%time data[\"HOD\"] = data[\"datetime\"].dt.hour\n",
    "data.head(5)"
   ]
  },
  {
   "cell_type": "code",
   "execution_count": 10,
   "id": "714ee680-5d7f-47bb-8d1b-b180365d9dc3",
   "metadata": {},
   "outputs": [
    {
     "data": {
      "text/plain": [
       "array([ 0,  1,  2,  3,  4,  5,  6,  7,  8,  9, 10, 11, 12, 13, 14, 15, 16,\n",
       "       17, 18, 19, 20, 21, 22, 23])"
      ]
     },
     "execution_count": 10,
     "metadata": {},
     "output_type": "execute_result"
    }
   ],
   "source": [
    "np.sort(data[\"HOD\"].unique())"
   ]
  },
  {
   "cell_type": "markdown",
   "id": "30664256-e63c-474a-a5b8-b0e163b23d6b",
   "metadata": {},
   "source": [
    "## 4. Encode hour of day as sin/cos pair\n",
    "1. Create first column \"HOD_sin\"\n",
    "2. Create second column \"HOD_cos\""
   ]
  },
  {
   "cell_type": "code",
   "execution_count": 11,
   "id": "6f0b1c92-d631-4fb4-ab5e-61f8387df232",
   "metadata": {},
   "outputs": [
    {
     "name": "stdout",
     "output_type": "stream",
     "text": [
      "CPU times: total: 78.1 ms\n",
      "Wall time: 75.3 ms\n",
      "CPU times: total: 62.5 ms\n",
      "Wall time: 61.6 ms\n"
     ]
    }
   ],
   "source": [
    "%time data[\"HOD_sin\"] = data[\"HOD\"].map(lambda x : cos(2.0*pi*x/24.0))\n",
    "%time data[\"HOD_cos\"] = data[\"HOD\"].map(lambda x : sin(2.0*pi*x/24.0))"
   ]
  },
  {
   "cell_type": "code",
   "execution_count": 12,
   "id": "13ea4c85-6672-4cc5-a708-bd5051c44abd",
   "metadata": {},
   "outputs": [
    {
     "data": {
      "text/html": [
       "<div>\n",
       "<style scoped>\n",
       "    .dataframe tbody tr th:only-of-type {\n",
       "        vertical-align: middle;\n",
       "    }\n",
       "\n",
       "    .dataframe tbody tr th {\n",
       "        vertical-align: top;\n",
       "    }\n",
       "\n",
       "    .dataframe thead th {\n",
       "        text-align: right;\n",
       "    }\n",
       "</style>\n",
       "<table border=\"1\" class=\"dataframe\">\n",
       "  <thead>\n",
       "    <tr style=\"text-align: right;\">\n",
       "      <th></th>\n",
       "      <th>Unnamed: 0</th>\n",
       "      <th>source</th>\n",
       "      <th>datetime</th>\n",
       "      <th>id</th>\n",
       "      <th>celsius</th>\n",
       "      <th>pressure</th>\n",
       "      <th>humidity</th>\n",
       "      <th>sensor</th>\n",
       "      <th>room</th>\n",
       "      <th>HOD</th>\n",
       "      <th>HOD_sin</th>\n",
       "      <th>HOD_cos</th>\n",
       "    </tr>\n",
       "  </thead>\n",
       "  <tbody>\n",
       "    <tr>\n",
       "      <th>0</th>\n",
       "      <td>0</td>\n",
       "      <td>0013A20041A94FA3</td>\n",
       "      <td>2021-08-18 09:40:38+00:00</td>\n",
       "      <td>1.629272e+09</td>\n",
       "      <td>23.144531</td>\n",
       "      <td>956.74910</td>\n",
       "      <td>42.368893</td>\n",
       "      <td>0013A20041A94FA3</td>\n",
       "      <td>H205</td>\n",
       "      <td>9</td>\n",
       "      <td>-0.707107</td>\n",
       "      <td>0.707107</td>\n",
       "    </tr>\n",
       "    <tr>\n",
       "      <th>1</th>\n",
       "      <td>1</td>\n",
       "      <td>0013A20041A94FA3</td>\n",
       "      <td>2021-08-18 09:45:42+00:00</td>\n",
       "      <td>1.629273e+09</td>\n",
       "      <td>23.154882</td>\n",
       "      <td>956.80150</td>\n",
       "      <td>42.059960</td>\n",
       "      <td>0013A20041A94FA3</td>\n",
       "      <td>H205</td>\n",
       "      <td>9</td>\n",
       "      <td>-0.707107</td>\n",
       "      <td>0.707107</td>\n",
       "    </tr>\n",
       "    <tr>\n",
       "      <th>2</th>\n",
       "      <td>2</td>\n",
       "      <td>0013A20041A94FA3</td>\n",
       "      <td>2021-08-18 09:50:45+00:00</td>\n",
       "      <td>1.629273e+09</td>\n",
       "      <td>23.165040</td>\n",
       "      <td>956.77530</td>\n",
       "      <td>42.528866</td>\n",
       "      <td>0013A20041A94FA3</td>\n",
       "      <td>H205</td>\n",
       "      <td>9</td>\n",
       "      <td>-0.707107</td>\n",
       "      <td>0.707107</td>\n",
       "    </tr>\n",
       "    <tr>\n",
       "      <th>3</th>\n",
       "      <td>3</td>\n",
       "      <td>0013A20041A94FA3</td>\n",
       "      <td>2021-08-18 09:55:48+00:00</td>\n",
       "      <td>1.629273e+09</td>\n",
       "      <td>23.165040</td>\n",
       "      <td>956.77530</td>\n",
       "      <td>42.512318</td>\n",
       "      <td>0013A20041A94FA3</td>\n",
       "      <td>H205</td>\n",
       "      <td>9</td>\n",
       "      <td>-0.707107</td>\n",
       "      <td>0.707107</td>\n",
       "    </tr>\n",
       "    <tr>\n",
       "      <th>4</th>\n",
       "      <td>4</td>\n",
       "      <td>0013A20041A94FA3</td>\n",
       "      <td>2021-08-18 10:00:52+00:00</td>\n",
       "      <td>1.629274e+09</td>\n",
       "      <td>23.180664</td>\n",
       "      <td>956.82770</td>\n",
       "      <td>42.291660</td>\n",
       "      <td>0013A20041A94FA3</td>\n",
       "      <td>H205</td>\n",
       "      <td>10</td>\n",
       "      <td>-0.866025</td>\n",
       "      <td>0.500000</td>\n",
       "    </tr>\n",
       "    <tr>\n",
       "      <th>...</th>\n",
       "      <td>...</td>\n",
       "      <td>...</td>\n",
       "      <td>...</td>\n",
       "      <td>...</td>\n",
       "      <td>...</td>\n",
       "      <td>...</td>\n",
       "      <td>...</td>\n",
       "      <td>...</td>\n",
       "      <td>...</td>\n",
       "      <td>...</td>\n",
       "      <td>...</td>\n",
       "      <td>...</td>\n",
       "    </tr>\n",
       "    <tr>\n",
       "      <th>130882</th>\n",
       "      <td>130882</td>\n",
       "      <td>0013A20041A94BE7</td>\n",
       "      <td>2021-08-26 01:37:53+00:00</td>\n",
       "      <td>1.629935e+09</td>\n",
       "      <td>24.253515</td>\n",
       "      <td>954.70685</td>\n",
       "      <td>42.350620</td>\n",
       "      <td>0013A20041A94BE7</td>\n",
       "      <td>H203</td>\n",
       "      <td>1</td>\n",
       "      <td>0.965926</td>\n",
       "      <td>0.258819</td>\n",
       "    </tr>\n",
       "    <tr>\n",
       "      <th>130883</th>\n",
       "      <td>130883</td>\n",
       "      <td>0013A20041A94BE7</td>\n",
       "      <td>2021-08-26 01:42:56+00:00</td>\n",
       "      <td>1.629935e+09</td>\n",
       "      <td>24.243555</td>\n",
       "      <td>954.60223</td>\n",
       "      <td>42.545727</td>\n",
       "      <td>0013A20041A94BE7</td>\n",
       "      <td>H203</td>\n",
       "      <td>1</td>\n",
       "      <td>0.965926</td>\n",
       "      <td>0.258819</td>\n",
       "    </tr>\n",
       "    <tr>\n",
       "      <th>130884</th>\n",
       "      <td>130884</td>\n",
       "      <td>0013A20041A94BE7</td>\n",
       "      <td>2021-08-26 01:47:59+00:00</td>\n",
       "      <td>1.629935e+09</td>\n",
       "      <td>24.243555</td>\n",
       "      <td>954.52374</td>\n",
       "      <td>42.634914</td>\n",
       "      <td>0013A20041A94BE7</td>\n",
       "      <td>H203</td>\n",
       "      <td>1</td>\n",
       "      <td>0.965926</td>\n",
       "      <td>0.258819</td>\n",
       "    </tr>\n",
       "    <tr>\n",
       "      <th>130885</th>\n",
       "      <td>130885</td>\n",
       "      <td>0013A20041A94BE7</td>\n",
       "      <td>2021-08-26 01:53:02+00:00</td>\n",
       "      <td>1.629936e+09</td>\n",
       "      <td>24.238476</td>\n",
       "      <td>954.49760</td>\n",
       "      <td>42.166650</td>\n",
       "      <td>0013A20041A94BE7</td>\n",
       "      <td>H203</td>\n",
       "      <td>1</td>\n",
       "      <td>0.965926</td>\n",
       "      <td>0.258819</td>\n",
       "    </tr>\n",
       "    <tr>\n",
       "      <th>130886</th>\n",
       "      <td>130886</td>\n",
       "      <td>0013A20041A94BE7</td>\n",
       "      <td>2021-08-26 01:58:05+00:00</td>\n",
       "      <td>1.629936e+09</td>\n",
       "      <td>24.233398</td>\n",
       "      <td>954.31450</td>\n",
       "      <td>42.757545</td>\n",
       "      <td>0013A20041A94BE7</td>\n",
       "      <td>H203</td>\n",
       "      <td>1</td>\n",
       "      <td>0.965926</td>\n",
       "      <td>0.258819</td>\n",
       "    </tr>\n",
       "  </tbody>\n",
       "</table>\n",
       "<p>130887 rows × 12 columns</p>\n",
       "</div>"
      ],
      "text/plain": [
       "        Unnamed: 0            source                  datetime            id   \n",
       "0                0  0013A20041A94FA3 2021-08-18 09:40:38+00:00  1.629272e+09  \\\n",
       "1                1  0013A20041A94FA3 2021-08-18 09:45:42+00:00  1.629273e+09   \n",
       "2                2  0013A20041A94FA3 2021-08-18 09:50:45+00:00  1.629273e+09   \n",
       "3                3  0013A20041A94FA3 2021-08-18 09:55:48+00:00  1.629273e+09   \n",
       "4                4  0013A20041A94FA3 2021-08-18 10:00:52+00:00  1.629274e+09   \n",
       "...            ...               ...                       ...           ...   \n",
       "130882      130882  0013A20041A94BE7 2021-08-26 01:37:53+00:00  1.629935e+09   \n",
       "130883      130883  0013A20041A94BE7 2021-08-26 01:42:56+00:00  1.629935e+09   \n",
       "130884      130884  0013A20041A94BE7 2021-08-26 01:47:59+00:00  1.629935e+09   \n",
       "130885      130885  0013A20041A94BE7 2021-08-26 01:53:02+00:00  1.629936e+09   \n",
       "130886      130886  0013A20041A94BE7 2021-08-26 01:58:05+00:00  1.629936e+09   \n",
       "\n",
       "          celsius   pressure   humidity            sensor  room  HOD   \n",
       "0       23.144531  956.74910  42.368893  0013A20041A94FA3  H205    9  \\\n",
       "1       23.154882  956.80150  42.059960  0013A20041A94FA3  H205    9   \n",
       "2       23.165040  956.77530  42.528866  0013A20041A94FA3  H205    9   \n",
       "3       23.165040  956.77530  42.512318  0013A20041A94FA3  H205    9   \n",
       "4       23.180664  956.82770  42.291660  0013A20041A94FA3  H205   10   \n",
       "...           ...        ...        ...               ...   ...  ...   \n",
       "130882  24.253515  954.70685  42.350620  0013A20041A94BE7  H203    1   \n",
       "130883  24.243555  954.60223  42.545727  0013A20041A94BE7  H203    1   \n",
       "130884  24.243555  954.52374  42.634914  0013A20041A94BE7  H203    1   \n",
       "130885  24.238476  954.49760  42.166650  0013A20041A94BE7  H203    1   \n",
       "130886  24.233398  954.31450  42.757545  0013A20041A94BE7  H203    1   \n",
       "\n",
       "         HOD_sin   HOD_cos  \n",
       "0      -0.707107  0.707107  \n",
       "1      -0.707107  0.707107  \n",
       "2      -0.707107  0.707107  \n",
       "3      -0.707107  0.707107  \n",
       "4      -0.866025  0.500000  \n",
       "...          ...       ...  \n",
       "130882  0.965926  0.258819  \n",
       "130883  0.965926  0.258819  \n",
       "130884  0.965926  0.258819  \n",
       "130885  0.965926  0.258819  \n",
       "130886  0.965926  0.258819  \n",
       "\n",
       "[130887 rows x 12 columns]"
      ]
     },
     "execution_count": 12,
     "metadata": {},
     "output_type": "execute_result"
    }
   ],
   "source": [
    "data"
   ]
  },
  {
   "cell_type": "code",
   "execution_count": 13,
   "id": "9decee03-e1ed-41c9-9308-f7dc5a50626f",
   "metadata": {},
   "outputs": [
    {
     "data": {
      "text/plain": [
       "6.123233995736766e-17"
      ]
     },
     "metadata": {},
     "output_type": "display_data"
    },
    {
     "data": {
      "text/plain": [
       "1.0"
      ]
     },
     "metadata": {},
     "output_type": "display_data"
    }
   ],
   "source": [
    "display(abs(data[\"HOD_sin\"]).min(), abs(data[\"HOD_sin\"]).max())"
   ]
  },
  {
   "cell_type": "markdown",
   "id": "7e5f3ff4-5df6-4484-ad16-64487de89e89",
   "metadata": {},
   "source": [
    "## 4. Check the results"
   ]
  },
  {
   "cell_type": "code",
   "execution_count": 15,
   "id": "8ebce06f-cf39-4ffa-a8f5-a6a5fe985250",
   "metadata": {},
   "outputs": [
    {
     "data": {
      "text/plain": [
       "<Axes: xlabel='HOD_sin', ylabel='HOD_cos'>"
      ]
     },
     "execution_count": 15,
     "metadata": {},
     "output_type": "execute_result"
    },
    {
     "data": {
      "image/png": "[encoded data removed]",
      "text/plain": [
       "<Figure size 600x600 with 1 Axes>"
      ]
     },
     "metadata": {},
     "output_type": "display_data"
    }
   ],
   "source": [
    "import matplotlib.pyplot as plt\n",
    "\n",
    "data.plot.scatter(x = \"HOD_sin\", y = \"HOD_cos\", figsize=(6, 6))"
   ]
  },
  {
   "cell_type": "code",
   "execution_count": 11,
   "id": "51fc6216-1672-4040-bc36-1ef8167143d5",
   "metadata": {},
   "outputs": [
    {
     "name": "stdout",
     "output_type": "stream",
     "text": [
      "CPU times: total: 547 ms\n",
      "Wall time: 491 ms\n"
     ]
    }
   ],
   "source": [
    "## 5. Optional: Save the resulting dataframe\n",
    "resFilename = r\"./bimsim_conv.parquet\"\n",
    "%time data.to_parquet(resFilename, compression=\"gzip\")"
   ]
  },
  {
   "cell_type": "markdown",
   "id": "cf1f3c9e-e661-4105-9c6a-76e3046d58fa",
   "metadata": {},
   "source": [
    "## 5 Encode day of week as one-hot encoding"
   ]
  },
  {
   "cell_type": "code",
   "execution_count": 16,
   "id": "9285f41f-7ac4-48a6-990f-e219a75af847",
   "metadata": {},
   "outputs": [
    {
     "name": "stdout",
     "output_type": "stream",
     "text": [
      "CPU times: total: 31.2 ms\n",
      "Wall time: 37.1 ms\n"
     ]
    }
   ],
   "source": [
    "%time data = data.join(pd.get_dummies(data[\"datetime\"].dt.weekday))"
   ]
  },
  {
   "cell_type": "code",
   "execution_count": 17,
   "id": "6cebfa39-d0ac-4a85-9cc6-1619f5e4d730",
   "metadata": {},
   "outputs": [],
   "source": [
    "data = data.rename(columns= {0:\"Mon\", 1:\"Tue\", 2:\"Wed\", 3:\"Thu\", 4:\"Fri\", 5:\"Sat\", 6:\"Sun\"} )"
   ]
  },
  {
   "cell_type": "code",
   "execution_count": 18,
   "id": "035596d2-d48b-46bb-af6a-2de661c52183",
   "metadata": {},
   "outputs": [
    {
     "data": {
      "text/html": [
       "<div>\n",
       "<style scoped>\n",
       "    .dataframe tbody tr th:only-of-type {\n",
       "        vertical-align: middle;\n",
       "    }\n",
       "\n",
       "    .dataframe tbody tr th {\n",
       "        vertical-align: top;\n",
       "    }\n",
       "\n",
       "    .dataframe thead th {\n",
       "        text-align: right;\n",
       "    }\n",
       "</style>\n",
       "<table border=\"1\" class=\"dataframe\">\n",
       "  <thead>\n",
       "    <tr style=\"text-align: right;\">\n",
       "      <th></th>\n",
       "      <th>Unnamed: 0</th>\n",
       "      <th>source</th>\n",
       "      <th>datetime</th>\n",
       "      <th>id</th>\n",
       "      <th>celsius</th>\n",
       "      <th>pressure</th>\n",
       "      <th>humidity</th>\n",
       "      <th>sensor</th>\n",
       "      <th>room</th>\n",
       "      <th>HOD</th>\n",
       "      <th>HOD_sin</th>\n",
       "      <th>HOD_cos</th>\n",
       "      <th>Mon</th>\n",
       "      <th>Tue</th>\n",
       "      <th>Wed</th>\n",
       "      <th>Thu</th>\n",
       "      <th>Fri</th>\n",
       "      <th>Sat</th>\n",
       "      <th>Sun</th>\n",
       "    </tr>\n",
       "  </thead>\n",
       "  <tbody>\n",
       "    <tr>\n",
       "      <th>0</th>\n",
       "      <td>0</td>\n",
       "      <td>0013A20041A94FA3</td>\n",
       "      <td>2021-08-18 09:40:38+00:00</td>\n",
       "      <td>1.629272e+09</td>\n",
       "      <td>23.144531</td>\n",
       "      <td>956.74910</td>\n",
       "      <td>42.368893</td>\n",
       "      <td>0013A20041A94FA3</td>\n",
       "      <td>H205</td>\n",
       "      <td>9</td>\n",
       "      <td>-0.707107</td>\n",
       "      <td>0.707107</td>\n",
       "      <td>False</td>\n",
       "      <td>False</td>\n",
       "      <td>True</td>\n",
       "      <td>False</td>\n",
       "      <td>False</td>\n",
       "      <td>False</td>\n",
       "      <td>False</td>\n",
       "    </tr>\n",
       "    <tr>\n",
       "      <th>1</th>\n",
       "      <td>1</td>\n",
       "      <td>0013A20041A94FA3</td>\n",
       "      <td>2021-08-18 09:45:42+00:00</td>\n",
       "      <td>1.629273e+09</td>\n",
       "      <td>23.154882</td>\n",
       "      <td>956.80150</td>\n",
       "      <td>42.059960</td>\n",
       "      <td>0013A20041A94FA3</td>\n",
       "      <td>H205</td>\n",
       "      <td>9</td>\n",
       "      <td>-0.707107</td>\n",
       "      <td>0.707107</td>\n",
       "      <td>False</td>\n",
       "      <td>False</td>\n",
       "      <td>True</td>\n",
       "      <td>False</td>\n",
       "      <td>False</td>\n",
       "      <td>False</td>\n",
       "      <td>False</td>\n",
       "    </tr>\n",
       "    <tr>\n",
       "      <th>2</th>\n",
       "      <td>2</td>\n",
       "      <td>0013A20041A94FA3</td>\n",
       "      <td>2021-08-18 09:50:45+00:00</td>\n",
       "      <td>1.629273e+09</td>\n",
       "      <td>23.165040</td>\n",
       "      <td>956.77530</td>\n",
       "      <td>42.528866</td>\n",
       "      <td>0013A20041A94FA3</td>\n",
       "      <td>H205</td>\n",
       "      <td>9</td>\n",
       "      <td>-0.707107</td>\n",
       "      <td>0.707107</td>\n",
       "      <td>False</td>\n",
       "      <td>False</td>\n",
       "      <td>True</td>\n",
       "      <td>False</td>\n",
       "      <td>False</td>\n",
       "      <td>False</td>\n",
       "      <td>False</td>\n",
       "    </tr>\n",
       "    <tr>\n",
       "      <th>3</th>\n",
       "      <td>3</td>\n",
       "      <td>0013A20041A94FA3</td>\n",
       "      <td>2021-08-18 09:55:48+00:00</td>\n",
       "      <td>1.629273e+09</td>\n",
       "      <td>23.165040</td>\n",
       "      <td>956.77530</td>\n",
       "      <td>42.512318</td>\n",
       "      <td>0013A20041A94FA3</td>\n",
       "      <td>H205</td>\n",
       "      <td>9</td>\n",
       "      <td>-0.707107</td>\n",
       "      <td>0.707107</td>\n",
       "      <td>False</td>\n",
       "      <td>False</td>\n",
       "      <td>True</td>\n",
       "      <td>False</td>\n",
       "      <td>False</td>\n",
       "      <td>False</td>\n",
       "      <td>False</td>\n",
       "    </tr>\n",
       "    <tr>\n",
       "      <th>4</th>\n",
       "      <td>4</td>\n",
       "      <td>0013A20041A94FA3</td>\n",
       "      <td>2021-08-18 10:00:52+00:00</td>\n",
       "      <td>1.629274e+09</td>\n",
       "      <td>23.180664</td>\n",
       "      <td>956.82770</td>\n",
       "      <td>42.291660</td>\n",
       "      <td>0013A20041A94FA3</td>\n",
       "      <td>H205</td>\n",
       "      <td>10</td>\n",
       "      <td>-0.866025</td>\n",
       "      <td>0.500000</td>\n",
       "      <td>False</td>\n",
       "      <td>False</td>\n",
       "      <td>True</td>\n",
       "      <td>False</td>\n",
       "      <td>False</td>\n",
       "      <td>False</td>\n",
       "      <td>False</td>\n",
       "    </tr>\n",
       "    <tr>\n",
       "      <th>5</th>\n",
       "      <td>5</td>\n",
       "      <td>0013A20041A94FA3</td>\n",
       "      <td>2021-08-18 10:05:55+00:00</td>\n",
       "      <td>1.629274e+09</td>\n",
       "      <td>23.190820</td>\n",
       "      <td>956.80150</td>\n",
       "      <td>42.688830</td>\n",
       "      <td>0013A20041A94FA3</td>\n",
       "      <td>H205</td>\n",
       "      <td>10</td>\n",
       "      <td>-0.866025</td>\n",
       "      <td>0.500000</td>\n",
       "      <td>False</td>\n",
       "      <td>False</td>\n",
       "      <td>True</td>\n",
       "      <td>False</td>\n",
       "      <td>False</td>\n",
       "      <td>False</td>\n",
       "      <td>False</td>\n",
       "    </tr>\n",
       "    <tr>\n",
       "      <th>6</th>\n",
       "      <td>6</td>\n",
       "      <td>0013A20041A94FA3</td>\n",
       "      <td>2021-08-18 10:10:59+00:00</td>\n",
       "      <td>1.629274e+09</td>\n",
       "      <td>23.190820</td>\n",
       "      <td>956.80150</td>\n",
       "      <td>42.892914</td>\n",
       "      <td>0013A20041A94FA3</td>\n",
       "      <td>H205</td>\n",
       "      <td>10</td>\n",
       "      <td>-0.866025</td>\n",
       "      <td>0.500000</td>\n",
       "      <td>False</td>\n",
       "      <td>False</td>\n",
       "      <td>True</td>\n",
       "      <td>False</td>\n",
       "      <td>False</td>\n",
       "      <td>False</td>\n",
       "      <td>False</td>\n",
       "    </tr>\n",
       "    <tr>\n",
       "      <th>7</th>\n",
       "      <td>7</td>\n",
       "      <td>0013A20041A94FA3</td>\n",
       "      <td>2021-08-18 10:16:02+00:00</td>\n",
       "      <td>1.629275e+09</td>\n",
       "      <td>23.180664</td>\n",
       "      <td>956.93250</td>\n",
       "      <td>42.650220</td>\n",
       "      <td>0013A20041A94FA3</td>\n",
       "      <td>H205</td>\n",
       "      <td>10</td>\n",
       "      <td>-0.866025</td>\n",
       "      <td>0.500000</td>\n",
       "      <td>False</td>\n",
       "      <td>False</td>\n",
       "      <td>True</td>\n",
       "      <td>False</td>\n",
       "      <td>False</td>\n",
       "      <td>False</td>\n",
       "      <td>False</td>\n",
       "    </tr>\n",
       "    <tr>\n",
       "      <th>8</th>\n",
       "      <td>8</td>\n",
       "      <td>0013A20041A94FA3</td>\n",
       "      <td>2021-08-18 10:21:06+00:00</td>\n",
       "      <td>1.629275e+09</td>\n",
       "      <td>23.180664</td>\n",
       "      <td>956.98490</td>\n",
       "      <td>42.490253</td>\n",
       "      <td>0013A20041A94FA3</td>\n",
       "      <td>H205</td>\n",
       "      <td>10</td>\n",
       "      <td>-0.866025</td>\n",
       "      <td>0.500000</td>\n",
       "      <td>False</td>\n",
       "      <td>False</td>\n",
       "      <td>True</td>\n",
       "      <td>False</td>\n",
       "      <td>False</td>\n",
       "      <td>False</td>\n",
       "      <td>False</td>\n",
       "    </tr>\n",
       "    <tr>\n",
       "      <th>9</th>\n",
       "      <td>9</td>\n",
       "      <td>0013A20041A94FA3</td>\n",
       "      <td>2021-08-18 10:26:09+00:00</td>\n",
       "      <td>1.629275e+09</td>\n",
       "      <td>23.190820</td>\n",
       "      <td>956.95874</td>\n",
       "      <td>42.738472</td>\n",
       "      <td>0013A20041A94FA3</td>\n",
       "      <td>H205</td>\n",
       "      <td>10</td>\n",
       "      <td>-0.866025</td>\n",
       "      <td>0.500000</td>\n",
       "      <td>False</td>\n",
       "      <td>False</td>\n",
       "      <td>True</td>\n",
       "      <td>False</td>\n",
       "      <td>False</td>\n",
       "      <td>False</td>\n",
       "      <td>False</td>\n",
       "    </tr>\n",
       "  </tbody>\n",
       "</table>\n",
       "</div>"
      ],
      "text/plain": [
       "   Unnamed: 0            source                  datetime            id   \n",
       "0           0  0013A20041A94FA3 2021-08-18 09:40:38+00:00  1.629272e+09  \\\n",
       "1           1  0013A20041A94FA3 2021-08-18 09:45:42+00:00  1.629273e+09   \n",
       "2           2  0013A20041A94FA3 2021-08-18 09:50:45+00:00  1.629273e+09   \n",
       "3           3  0013A20041A94FA3 2021-08-18 09:55:48+00:00  1.629273e+09   \n",
       "4           4  0013A20041A94FA3 2021-08-18 10:00:52+00:00  1.629274e+09   \n",
       "5           5  0013A20041A94FA3 2021-08-18 10:05:55+00:00  1.629274e+09   \n",
       "6           6  0013A20041A94FA3 2021-08-18 10:10:59+00:00  1.629274e+09   \n",
       "7           7  0013A20041A94FA3 2021-08-18 10:16:02+00:00  1.629275e+09   \n",
       "8           8  0013A20041A94FA3 2021-08-18 10:21:06+00:00  1.629275e+09   \n",
       "9           9  0013A20041A94FA3 2021-08-18 10:26:09+00:00  1.629275e+09   \n",
       "\n",
       "     celsius   pressure   humidity            sensor  room  HOD   HOD_sin   \n",
       "0  23.144531  956.74910  42.368893  0013A20041A94FA3  H205    9 -0.707107  \\\n",
       "1  23.154882  956.80150  42.059960  0013A20041A94FA3  H205    9 -0.707107   \n",
       "2  23.165040  956.77530  42.528866  0013A20041A94FA3  H205    9 -0.707107   \n",
       "3  23.165040  956.77530  42.512318  0013A20041A94FA3  H205    9 -0.707107   \n",
       "4  23.180664  956.82770  42.291660  0013A20041A94FA3  H205   10 -0.866025   \n",
       "5  23.190820  956.80150  42.688830  0013A20041A94FA3  H205   10 -0.866025   \n",
       "6  23.190820  956.80150  42.892914  0013A20041A94FA3  H205   10 -0.866025   \n",
       "7  23.180664  956.93250  42.650220  0013A20041A94FA3  H205   10 -0.866025   \n",
       "8  23.180664  956.98490  42.490253  0013A20041A94FA3  H205   10 -0.866025   \n",
       "9  23.190820  956.95874  42.738472  0013A20041A94FA3  H205   10 -0.866025   \n",
       "\n",
       "    HOD_cos    Mon    Tue   Wed    Thu    Fri    Sat    Sun  \n",
       "0  0.707107  False  False  True  False  False  False  False  \n",
       "1  0.707107  False  False  True  False  False  False  False  \n",
       "2  0.707107  False  False  True  False  False  False  False  \n",
       "3  0.707107  False  False  True  False  False  False  False  \n",
       "4  0.500000  False  False  True  False  False  False  False  \n",
       "5  0.500000  False  False  True  False  False  False  False  \n",
       "6  0.500000  False  False  True  False  False  False  False  \n",
       "7  0.500000  False  False  True  False  False  False  False  \n",
       "8  0.500000  False  False  True  False  False  False  False  \n",
       "9  0.500000  False  False  True  False  False  False  False  "
      ]
     },
     "execution_count": 18,
     "metadata": {},
     "output_type": "execute_result"
    }
   ],
   "source": [
    "data.head(10)"
   ]
  },
  {
   "cell_type": "markdown",
   "id": "98ffc2f2-dd4c-4578-af76-fc43b365cd70",
   "metadata": {},
   "source": [
    "# A Appendix\n",
    "## A.1 When sin (or cos) alone is enough (just one feature)"
   ]
  },
  {
   "cell_type": "markdown",
   "id": "4a32fb90-678b-4d33-b331-2212ebf14a22",
   "metadata": {},
   "source": [
    "### Unambgiousness of a single feature\n",
    "If you have a cyclic variable with an odd number of values (e.g. day of week) a sin (or cos) will encode in a way that the encodings are not ambigous.\n",
    "\n",
    "Still, distance can become much smaller compared to a sin/cos encoding."
   ]
  },
  {
   "cell_type": "code",
   "execution_count": 22,
   "id": "45c0fee4-669d-473e-8038-352b36111043",
   "metadata": {},
   "outputs": [],
   "source": [
    "appendix = pd.DataFrame(data[[\"datetime\", \"celsius\"]])"
   ]
  },
  {
   "cell_type": "code",
   "execution_count": 23,
   "id": "95818efc-5abd-4730-b977-778929ab339b",
   "metadata": {},
   "outputs": [],
   "source": [
    "appendix[\"DOW\"] = data[\"datetime\"].dt.day_of_week\n",
    "appendix[\"DOW_sin\"] = data[\"datetime\"].dt.day_of_week.map(lambda x : sin(2.0*pi*x/7))"
   ]
  },
  {
   "cell_type": "code",
   "execution_count": 24,
   "id": "1f57b420-69c0-438a-8c6b-1f104b4a6d3d",
   "metadata": {},
   "outputs": [
    {
     "data": {
      "text/plain": [
       "<Axes: xlabel='DOW', ylabel='DOW_sin'>"
      ]
     },
     "execution_count": 24,
     "metadata": {},
     "output_type": "execute_result"
    },
    {
     "data": {
      "image/png": "[encoded data removed]",
      "text/plain": [
       "<Figure size 500x500 with 1 Axes>"
      ]
     },
     "metadata": {},
     "output_type": "display_data"
    }
   ],
   "source": [
    "appendix.plot.scatter(x = \"DOW\", y = \"DOW_sin\", figsize=(5, 5))"
   ]
  },
  {
   "cell_type": "markdown",
   "id": "c56c4742-ed8f-4f38-b7f2-995c44fc8857",
   "metadata": {},
   "source": [
    "### This does not work for even values\n",
    "\n",
    "If the cycle of the feature is evenly quantized, we get the ambiguous results:"
   ]
  },
  {
   "cell_type": "code",
   "execution_count": 25,
   "id": "a39e2b1f-ef44-470c-af6d-333293d76932",
   "metadata": {},
   "outputs": [],
   "source": [
    "appendix[\"HOD\"] = data[\"datetime\"].dt.hour\n",
    "appendix[\"HOD_sin\"] = data[\"datetime\"].dt.hour.map(lambda x : sin(2.0*pi*x/24))"
   ]
  },
  {
   "cell_type": "code",
   "execution_count": 27,
   "id": "406e7175-dd60-43f1-a21c-410ec523f90d",
   "metadata": {},
   "outputs": [
    {
     "data": {
      "text/plain": [
       "<Axes: xlabel='HOD', ylabel='HOD_sin'>"
      ]
     },
     "execution_count": 27,
     "metadata": {},
     "output_type": "execute_result"
    },
    {
     "data": {
      "image/png": "[encoded data removed]",
      "text/plain": [
       "<Figure size 500x500 with 1 Axes>"
      ]
     },
     "metadata": {},
     "output_type": "display_data"
    }
   ],
   "source": [
    "appendix.plot.scatter(x = \"HOD\", y = \"HOD_sin\", figsize=(5, 5))"
   ]
  },
  {
   "cell_type": "markdown",
   "id": "5d54282d-27d1-4931-8186-5abcc8964013",
   "metadata": {},
   "source": [
    "## A.2 Comparing Advantages and Disadvantages of sin/cos encoding \n",
    "In cases, where this is applicable, a half period of the sin or cos are also sufficient. Keep in mind, that for the full wave encoding, we already have a zero mean feature"
   ]
  },
  {
   "cell_type": "markdown",
   "id": "b8c75e2d-8db1-48b2-844d-0aea6d829014",
   "metadata": {},
   "source": [
    "### A.2.1 Sin/Cos Encoding creates two distinct features from one"
   ]
  },
  {
   "cell_type": "markdown",
   "id": "37c59681-abb2-4a80-a16d-61f556495fde",
   "metadata": {},
   "source": [
    "As the original feature, e.g. day of the week, is only a single element in the feature vector the sin/cos encoding creates two distinct features. \n",
    "\n",
    "This is disadvantageous for algorithms that create linear decision boundaries on a feature by feature evaluation, e.g. decision trees and its relatives. In those cases a simple numerical encoding as ordinal value is sufficient as these algorithms can properly evaluate these encodings. Background is, that a decision tree (random forest, ...) is not computing a distance measure but makes \"if-else\" decisions on a per-feature level."
   ]
  },
  {
   "cell_type": "markdown",
   "id": "0a1fef63-7308-4ccd-bdcb-7367318f3c10",
   "metadata": {},
   "source": [
    "### A.2.2 Sin/Cos Encoding makes cyclic features computable in distance calculations\n",
    "\n",
    "Although the dimension of the feature vector is increased by one, the advantage of the Sin/Cos Encoding is, that the encoded cyclic feature can be used in distance calculations."
   ]
  },
  {
   "cell_type": "markdown",
   "id": "056d7fe4-b2be-475b-81f2-41cdfa35df11",
   "metadata": {},
   "source": [
    "This makes the encoding useful for all types of algorithms that rely on some type of distance metric or related computations, e.g. k-NN, SVC, ANN"
   ]
  },
  {
   "cell_type": "markdown",
   "id": "de0a0981-69e0-4ae7-a9a3-9046f0850d77",
   "metadata": {},
   "source": [
    "Still, the distance calculation is not 100% perfect, as the derivative of the encoding is not constant, i.e. <br>\n",
    "$g(x) = (\\sin(x), \\cos(x) )$<br>\n",
    "$\\frac{dg}{dx} = (\\cos(x), -\\sin(x) )$\n",
    "Hence, the distance between points are not linear, when the argument is linearly increasing."
   ]
  },
  {
   "cell_type": "code",
   "execution_count": 28,
   "id": "67ee3e2b-7fb1-4332-a4cd-ef37d9e4e221",
   "metadata": {},
   "outputs": [],
   "source": [
    "import math as m\n",
    "x = [i for i in range(0, 23)]\n",
    "# distance between increasing elemtents and the start of the sequence\n",
    "y = [m.sqrt((m.sin(0)-m.sin(x))**2 + (m.cos(0)-m.cos(x))**2) for x in x] "
   ]
  },
  {
   "cell_type": "code",
   "execution_count": 29,
   "id": "a94c55b6-05ff-4773-b0d2-486104a0cc90",
   "metadata": {},
   "outputs": [
    {
     "data": {
      "text/plain": [
       "[<matplotlib.lines.Line2D at 0x2428321d690>]"
      ]
     },
     "execution_count": 29,
     "metadata": {},
     "output_type": "execute_result"
    },
    {
     "data": {
      "image/png": "[encoded data removed]",
      "text/plain": [
       "<Figure size 640x480 with 1 Axes>"
      ]
     },
     "metadata": {},
     "output_type": "display_data"
    }
   ],
   "source": [
    "plt.plot(x, y)"
   ]
  },
  {
   "cell_type": "markdown",
   "id": "5ab50df7-d806-47fe-8bed-a7f868b74baf",
   "metadata": {},
   "source": [
    "The distance between the points would be optimally increasing linearly and decrease linearly again. But this would be impossible if we want to realize the cyclic property."
   ]
  },
  {
   "cell_type": "code",
   "execution_count": 22,
   "id": "903a864e-0edd-4e2d-a346-e8406233ffdc",
   "metadata": {},
   "outputs": [],
   "source": [
    "yd = [y[i]-y[i-1] for i in range(1,12)]"
   ]
  },
  {
   "cell_type": "code",
   "execution_count": 23,
   "id": "12df12d8-c122-4c27-abee-4c18cb393400",
   "metadata": {},
   "outputs": [
    {
     "data": {
      "text/plain": [
       "[(0.0, 0.9588510772084059),\n",
       " (0.9588510772084059, 0.7240908924073871),\n",
       " (1.682941969615793, 0.31204800359231566),\n",
       " (1.9949899732081087, -0.17639511955674525),\n",
       " (1.8185948536513634, -0.6216505654434503),\n",
       " (1.196944288207913, -0.9147042720881786),\n",
       " (0.2822400161197344, 0.41932643925950525),\n",
       " (0.7015664553792397, 0.8120385352366167),\n",
       " (1.5136049906158564, 0.44145524471433784),\n",
       " (1.9550602353301942, -0.03721168600391733),\n",
       " (1.917848549326277, -0.5067678981854931)]"
      ]
     },
     "metadata": {},
     "output_type": "display_data"
    }
   ],
   "source": [
    "display(list(zip(y, yd)))"
   ]
  },
  {
   "cell_type": "markdown",
   "id": "6be800e2-9330-4eb9-a48f-0cdbe4b73abe",
   "metadata": {},
   "source": [
    "### A 2.3 Choice of the proper scaling factor"
   ]
  },
  {
   "cell_type": "markdown",
   "id": "459b6b5d-8f49-46a4-a4d3-1836cf6a6717",
   "metadata": {},
   "source": [
    "For the coding to work, the proper scaling factor must be chosen to reflect the total steps of the cycle of the feature. E.g. the days in a week cylcle has a value of 7 (starting with day 0, ending with day 6). The hours of a day cycle has a value of 24 (starting at hour 0 and ending with hour 23).\n",
    "\n",
    "The scaling must then be done in a way that reflects the cycle and avoids ambiguous values, e.g. hours of day:<br>\n",
    "$f(x) = (\\sin(\\frac{2\\cdot\\pi\\cdot x}{\\operatorname{card}(x)}), \\cos(\\frac{2\\cdot\\pi\\cdot x}{\\operatorname{card}(x)}))$\n",
    "\n",
    "Note, that sometimes the value of $ \\operatorname{card}(x) - 1 $ could be found. But this would lead to a double encoding of the last and first element of the cycle.\n",
    "\n",
    "If the enumeration is starting at a different value than zero, then the coding must reflect that offset $h$ from zero<br>\n",
    "$f(h) = (\\sin(\\frac{2\\cdot\\pi\\cdot (x-h)}{\\operatorname{card}(x)}), \\cos(\\frac{2\\cdot\\pi\\cdot (x-h)}{\\operatorname{card}(x)}))$"
   ]
  },
  {
   "cell_type": "code",
   "execution_count": null,
   "id": "2c6d92f5-3cad-4d9e-861f-121c8e054ce0",
   "metadata": {},
   "outputs": [],
   "source": []
  }
 ],
 "metadata": {
  "kernelspec": {
   "display_name": "Python 3 (ipykernel)",
   "language": "python",
   "name": "python3"
  },
  "language_info": {
   "codemirror_mode": {
    "name": "ipython",
    "version": 3
   },
   "file_extension": ".py",
   "mimetype": "text/x-python",
   "name": "python",
   "nbconvert_exporter": "python",
   "pygments_lexer": "ipython3",
   "version": "3.11.5"
  }
 },
 "nbformat": 4,
 "nbformat_minor": 5
}
