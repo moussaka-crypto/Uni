{
 "cells": [
  {
   "cell_type": "markdown",
   "id": "9397e098-b742-44d0-b256-9b0209fbda36",
   "metadata": {},
   "source": [
    "# Very simple text processing example"
   ]
  },
  {
   "cell_type": "code",
   "execution_count": 1,
   "id": "1a16efeb-dda9-4433-8864-db84690f84ce",
   "metadata": {},
   "outputs": [],
   "source": [
    "import numpy as np\n",
    "import pandas as pd\n",
    "from sklearn.feature_extraction.text import CountVectorizer"
   ]
  },
  {
   "cell_type": "markdown",
   "id": "764eb841-1455-4a25-b4fb-0bfdcc3b3ac0",
   "metadata": {},
   "source": [
    "### Instantiate a CountVectorizer object that processes a corpus from memory (default setting)"
   ]
  },
  {
   "cell_type": "code",
   "execution_count": 17,
   "id": "59ac23f6-08f7-4d01-9e3b-3d5fa9c48aea",
   "metadata": {},
   "outputs": [],
   "source": [
    "vectorizer = CountVectorizer(stop_words=\"english\") "
   ]
  },
  {
   "cell_type": "markdown",
   "id": "e3e1347d-46e2-4ada-b24a-a0a1050345a4",
   "metadata": {},
   "source": [
    "### Provide a corpus and fit_transform the data"
   ]
  },
  {
   "cell_type": "code",
   "execution_count": 18,
   "id": "2c6bb32e-a9e9-4548-b175-5471a169acab",
   "metadata": {},
   "outputs": [],
   "source": [
    "corpus = [\n",
    "     'This is the first document. Second sentence.',\n",
    "     'The second document looks different from the first.  Second sentence.',\n",
    " ]"
   ]
  },
  {
   "cell_type": "code",
   "execution_count": 19,
   "id": "b88b4ff1-29c8-4fdc-80bf-85f85ebf89fa",
   "metadata": {},
   "outputs": [
    {
     "data": {
      "text/plain": [
       "array([[0, 1, 0, 1, 1],\n",
       "       [1, 1, 1, 2, 1]], dtype=int64)"
      ]
     },
     "execution_count": 19,
     "metadata": {},
     "output_type": "execute_result"
    }
   ],
   "source": [
    "X = vectorizer.fit_transform(corpus).toarray()\n",
    "X"
   ]
  },
  {
   "cell_type": "markdown",
   "id": "bf9ae031-9d23-4eff-967a-f2e732f9a94c",
   "metadata": {},
   "source": [
    "### Create a DataFrame for simpler processing of data"
   ]
  },
  {
   "cell_type": "code",
   "execution_count": 20,
   "id": "57668a90-1b68-4ef8-ad7a-8f52675ddece",
   "metadata": {},
   "outputs": [
    {
     "data": {
      "text/html": [
       "<div>\n",
       "<style scoped>\n",
       "    .dataframe tbody tr th:only-of-type {\n",
       "        vertical-align: middle;\n",
       "    }\n",
       "\n",
       "    .dataframe tbody tr th {\n",
       "        vertical-align: top;\n",
       "    }\n",
       "\n",
       "    .dataframe thead th {\n",
       "        text-align: right;\n",
       "    }\n",
       "</style>\n",
       "<table border=\"1\" class=\"dataframe\">\n",
       "  <thead>\n",
       "    <tr style=\"text-align: right;\">\n",
       "      <th></th>\n",
       "      <th>different</th>\n",
       "      <th>document</th>\n",
       "      <th>looks</th>\n",
       "      <th>second</th>\n",
       "      <th>sentence</th>\n",
       "    </tr>\n",
       "  </thead>\n",
       "  <tbody>\n",
       "    <tr>\n",
       "      <th>0</th>\n",
       "      <td>0</td>\n",
       "      <td>1</td>\n",
       "      <td>0</td>\n",
       "      <td>1</td>\n",
       "      <td>1</td>\n",
       "    </tr>\n",
       "    <tr>\n",
       "      <th>1</th>\n",
       "      <td>1</td>\n",
       "      <td>1</td>\n",
       "      <td>1</td>\n",
       "      <td>2</td>\n",
       "      <td>1</td>\n",
       "    </tr>\n",
       "  </tbody>\n",
       "</table>\n",
       "</div>"
      ],
      "text/plain": [
       "   different  document  looks  second  sentence\n",
       "0          0         1      0       1         1\n",
       "1          1         1      1       2         1"
      ]
     },
     "execution_count": 20,
     "metadata": {},
     "output_type": "execute_result"
    }
   ],
   "source": [
    "df = pd.DataFrame(X, columns=vectorizer.get_feature_names_out())\n",
    "df"
   ]
  },
  {
   "cell_type": "markdown",
   "id": "76e36aca-7660-459f-bd0d-707bf81d2a5c",
   "metadata": {},
   "source": [
    "### Display Word frequencies"
   ]
  },
  {
   "cell_type": "code",
   "execution_count": 21,
   "id": "26c493d1-d7c5-4166-9d83-4bb05c3191be",
   "metadata": {},
   "outputs": [
    {
     "data": {
      "text/plain": [
       "'Total: 9'"
      ]
     },
     "metadata": {},
     "output_type": "display_data"
    },
    {
     "data": {
      "text/plain": [
       "'Per Word'"
      ]
     },
     "metadata": {},
     "output_type": "display_data"
    },
    {
     "data": {
      "text/plain": [
       "different    1\n",
       "document     2\n",
       "looks        1\n",
       "second       3\n",
       "sentence     2\n",
       "dtype: int64"
      ]
     },
     "metadata": {},
     "output_type": "display_data"
    },
    {
     "data": {
      "text/plain": [
       "'Per Doc'"
      ]
     },
     "metadata": {},
     "output_type": "display_data"
    },
    {
     "data": {
      "text/plain": [
       "0    3\n",
       "1    6\n",
       "dtype: int64"
      ]
     },
     "metadata": {},
     "output_type": "display_data"
    }
   ],
   "source": [
    "numWordsTotal = df.sum().sum()\n",
    "numOccurencesPerWord = df.sum(axis=0)\n",
    "numWordsPerDoc = df.sum(axis=1)\n",
    "display(\"Total: \" + str(numWordsTotal), \"Per Word\", numOccurencesPerWord, \"Per Doc\", numWordsPerDoc)"
   ]
  },
  {
   "cell_type": "markdown",
   "id": "27746411-cf00-4302-95fc-14143fb3e3ba",
   "metadata": {},
   "source": [
    "### Find Highest Occurences"
   ]
  },
  {
   "cell_type": "code",
   "execution_count": 22,
   "id": "718c503d-dadc-406e-b2fa-5fa7230a04f7",
   "metadata": {},
   "outputs": [
    {
     "data": {
      "text/plain": [
       "Index(['second'], dtype='object')"
      ]
     },
     "execution_count": 22,
     "metadata": {},
     "output_type": "execute_result"
    }
   ],
   "source": [
    "# This give us all words where the wordcount is the same like the max value\n",
    "numOccurencesPerWord[numOccurencesPerWord == numOccurencesPerWord.max()].index"
   ]
  },
  {
   "cell_type": "markdown",
   "id": "2b4fccc7-50b6-4cbf-9c51-ebc78e81d3a6",
   "metadata": {},
   "source": [
    "## Using a tf-idf Vectorizer"
   ]
  },
  {
   "cell_type": "code",
   "execution_count": 23,
   "id": "e7156891-4ec7-449b-b7ca-a5755383ba42",
   "metadata": {},
   "outputs": [],
   "source": [
    "from sklearn.feature_extraction.text import TfidfVectorizer\n",
    "\n",
    "tfidf_vect = TfidfVectorizer(ngram_range = (1, 2), min_df=1, stop_words=\"english\", max_df=1)\n",
    "X_tfidf = pd.DataFrame(tfidf_vect.fit_transform(corpus).toarray(), columns=tfidf_vect.get_feature_names_out())"
   ]
  },
  {
   "cell_type": "markdown",
   "id": "5d16e355-0f4a-4805-a5d1-e12657b3169a",
   "metadata": {},
   "source": [
    "In the dataframe we can see, that removing the stop words is done before calculating the ngrams"
   ]
  },
  {
   "cell_type": "code",
   "execution_count": 24,
   "id": "99dcffb8-5202-4cc8-adcc-00655922bbf5",
   "metadata": {},
   "outputs": [
    {
     "data": {
      "text/html": [
       "<div>\n",
       "<style scoped>\n",
       "    .dataframe tbody tr th:only-of-type {\n",
       "        vertical-align: middle;\n",
       "    }\n",
       "\n",
       "    .dataframe tbody tr th {\n",
       "        vertical-align: top;\n",
       "    }\n",
       "\n",
       "    .dataframe thead th {\n",
       "        text-align: right;\n",
       "    }\n",
       "</style>\n",
       "<table border=\"1\" class=\"dataframe\">\n",
       "  <thead>\n",
       "    <tr style=\"text-align: right;\">\n",
       "      <th></th>\n",
       "      <th>different</th>\n",
       "      <th>different second</th>\n",
       "      <th>document looks</th>\n",
       "      <th>document second</th>\n",
       "      <th>looks</th>\n",
       "      <th>looks different</th>\n",
       "      <th>second document</th>\n",
       "    </tr>\n",
       "  </thead>\n",
       "  <tbody>\n",
       "    <tr>\n",
       "      <th>0</th>\n",
       "      <td>0.000000</td>\n",
       "      <td>0.000000</td>\n",
       "      <td>0.000000</td>\n",
       "      <td>1.0</td>\n",
       "      <td>0.000000</td>\n",
       "      <td>0.000000</td>\n",
       "      <td>0.000000</td>\n",
       "    </tr>\n",
       "    <tr>\n",
       "      <th>1</th>\n",
       "      <td>0.408248</td>\n",
       "      <td>0.408248</td>\n",
       "      <td>0.408248</td>\n",
       "      <td>0.0</td>\n",
       "      <td>0.408248</td>\n",
       "      <td>0.408248</td>\n",
       "      <td>0.408248</td>\n",
       "    </tr>\n",
       "  </tbody>\n",
       "</table>\n",
       "</div>"
      ],
      "text/plain": [
       "   different  different second  document looks  document second     looks   \n",
       "0   0.000000          0.000000        0.000000              1.0  0.000000  \\\n",
       "1   0.408248          0.408248        0.408248              0.0  0.408248   \n",
       "\n",
       "   looks different  second document  \n",
       "0         0.000000         0.000000  \n",
       "1         0.408248         0.408248  "
      ]
     },
     "execution_count": 24,
     "metadata": {},
     "output_type": "execute_result"
    }
   ],
   "source": [
    "X_tfidf"
   ]
  },
  {
   "cell_type": "markdown",
   "id": "dd645c1e-d30c-4d04-a68a-170f969ce269",
   "metadata": {},
   "source": [
    "#### Show the vector-wise normalization"
   ]
  },
  {
   "cell_type": "code",
   "execution_count": 25,
   "id": "30cf17ff-8a69-4d33-8ab6-6152af9287ce",
   "metadata": {},
   "outputs": [
    {
     "name": "stdout",
     "output_type": "stream",
     "text": [
      "1.0\n",
      "0.9999999999999999\n"
     ]
    }
   ],
   "source": [
    "from math import sqrt\n",
    "for i in range(X_tfidf.shape[0]):\n",
    "    print(sqrt(X_tfidf.iloc[i,:].map(lambda x: x*x).sum()))"
   ]
  },
  {
   "cell_type": "code",
   "execution_count": null,
   "id": "35055409-9d5b-4eca-961c-9e89f2c7cd6e",
   "metadata": {},
   "outputs": [],
   "source": []
  }
 ],
 "metadata": {
  "kernelspec": {
   "display_name": "Python 3 (ipykernel)",
   "language": "python",
   "name": "python3"
  },
  "language_info": {
   "codemirror_mode": {
    "name": "ipython",
    "version": 3
   },
   "file_extension": ".py",
   "mimetype": "text/x-python",
   "name": "python",
   "nbconvert_exporter": "python",
   "pygments_lexer": "ipython3",
   "version": "3.10.10"
  }
 },
 "nbformat": 4,
 "nbformat_minor": 5
}
