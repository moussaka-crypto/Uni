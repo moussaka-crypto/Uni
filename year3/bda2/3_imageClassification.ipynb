{
 "cells": [
  {
   "cell_type": "markdown",
   "id": "39c734fc-e0bc-4da3-a91b-927fe392fe15",
   "metadata": {},
   "source": [
    "# Lab Work 3: Classification of Image Data"
   ]
  },
  {
   "cell_type": "markdown",
   "id": "31ba5bcb-3670-4ca8-be00-acf760ae285d",
   "metadata": {},
   "source": [
    "## 1 Load the MNIST Data-Set\n",
    "* get the data using code below\n",
    "* assemble information on number of images, size of images, distribution among different classes"
   ]
  },
  {
   "cell_type": "code",
   "execution_count": 1,
   "id": "541b262e-d518-4f9c-8ab3-b0829fe9d186",
   "metadata": {},
   "outputs": [],
   "source": [
    "from sklearn.datasets import fetch_openml\n",
    "from math import sqrt"
   ]
  },
  {
   "cell_type": "code",
   "execution_count": null,
   "id": "051176c0-1b4e-4882-9a66-37cc779bf01e",
   "metadata": {},
   "outputs": [],
   "source": [
    "X, y = fetch_openml(\"mnist_784\", version=1, return_X_y=True)"
   ]
  },
  {
   "cell_type": "markdown",
   "id": "b07af9ae-6cf8-4cfb-9c77-4ddc3731cff8",
   "metadata": {},
   "source": [
    "## 2 Visualize the input data\n",
    "* Display at least two images for each class in the dataset\n",
    "* Show the class identity per image"
   ]
  },
  {
   "cell_type": "markdown",
   "id": "859db410-5ed0-4ae4-a9bb-8a8662dd0bb6",
   "metadata": {},
   "source": [
    "## 3 Train a k-NN Classifier and Check the Performance"
   ]
  },
  {
   "cell_type": "markdown",
   "id": "410d8bf5-6376-4737-a668-72163af28227",
   "metadata": {},
   "source": [
    "### 3.1 Import the required modules for classifier and performance measurement"
   ]
  },
  {
   "cell_type": "code",
   "execution_count": null,
   "id": "40169b8f-810f-44d1-bd72-7547db453ae5",
   "metadata": {},
   "outputs": [],
   "source": [
    "from sklearn.neighbors import KNeighborsClassifier"
   ]
  },
  {
   "cell_type": "code",
   "execution_count": null,
   "id": "10268f94-e8f5-4ed1-a720-0beb63e792e9",
   "metadata": {},
   "outputs": [],
   "source": [
    "from sklearn.model_selection import train_test_split\n",
    "from sklearn.model_selection import cross_validate"
   ]
  },
  {
   "cell_type": "markdown",
   "id": "455b2439-ddeb-4f6d-8683-c4d2e8ddd1ba",
   "metadata": {},
   "source": [
    "### 3.2 Train the classifier using 3-fold cross_validation \n",
    "* create a training and testing set\n",
    "* train the classifer with cross_validate, check the documentation: What does cross_validate return?"
   ]
  },
  {
   "cell_type": "markdown",
   "id": "497fd4c9-faaa-496f-a55d-af766f2421a7",
   "metadata": {},
   "source": [
    "### 3.3 Use the best classifier from the previuous run and check with your test set \n",
    "* Generate a classification report\n",
    "* Generate a confusion matrix"
   ]
  },
  {
   "cell_type": "code",
   "execution_count": null,
   "id": "65c7c6e5-fa83-4546-ae56-b18efedff377",
   "metadata": {},
   "outputs": [],
   "source": [
    "from sklearn.metrics import classification_report, confusion_matrix"
   ]
  },
  {
   "cell_type": "markdown",
   "id": "04ed7cb5-0977-4e72-b69c-f991bf964f54",
   "metadata": {},
   "source": [
    "# 4 Train a Decision Tree Classifier and Check the Performance"
   ]
  },
  {
   "cell_type": "code",
   "execution_count": null,
   "id": "9d7ac9e9-3935-4bbf-bbb1-a270f6b20a79",
   "metadata": {},
   "outputs": [],
   "source": [
    "from sklearn.tree import DecisionTreeClassifier"
   ]
  },
  {
   "cell_type": "markdown",
   "id": "15c5e4bf-6f8b-4b67-a756-f63ed0a85ad5",
   "metadata": {},
   "source": [
    "### 4.1 Train the classifier using 3-fold cross_validation"
   ]
  },
  {
   "cell_type": "markdown",
   "id": "01b77e34-68a9-4488-b91c-5d22199cbe95",
   "metadata": {},
   "source": [
    "### 4.2 Check the performance with your test set"
   ]
  },
  {
   "cell_type": "markdown",
   "id": "410fd3bb-137c-4d24-942e-b950768945e1",
   "metadata": {},
   "source": [
    "## 5 Improve with random forests"
   ]
  },
  {
   "cell_type": "code",
   "execution_count": null,
   "id": "a96b7ade-17f6-4b1f-84ba-8f5d19716795",
   "metadata": {},
   "outputs": [],
   "source": [
    "from sklearn.ensemble import RandomForestClassifier"
   ]
  },
  {
   "cell_type": "markdown",
   "id": "a21f501f-ba02-4fd7-a4d4-3a29294a88dc",
   "metadata": {},
   "source": [
    "## 6 Further improvement: Gradient Boosting (Random Forests)"
   ]
  },
  {
   "cell_type": "code",
   "execution_count": null,
   "id": "9eb03c36-ca88-4d0c-97bc-27fd617c9e2e",
   "metadata": {},
   "outputs": [],
   "source": [
    "from sklearn.ensemble import GradientBoostingClassifier"
   ]
  }
 ],
 "metadata": {
  "kernelspec": {
   "display_name": "Python 3 (ipykernel)",
   "language": "python",
   "name": "python3"
  },
  "language_info": {
   "codemirror_mode": {
    "name": "ipython",
    "version": 3
   },
   "file_extension": ".py",
   "mimetype": "text/x-python",
   "name": "python",
   "nbconvert_exporter": "python",
   "pygments_lexer": "ipython3",
   "version": "3.9.12"
  }
 },
 "nbformat": 4,
 "nbformat_minor": 5
}
