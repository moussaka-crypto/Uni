{
 "cells": [
  {
   "cell_type": "markdown",
   "metadata": {
    "id": "WoVTNQP0gOWk"
   },
   "source": [
    "# Python Basics 2\n",
    "\n",
    "Dieses Notebook klärt folgende Fragen:\n",
    "- Wie kann ich Daten einlesen?\n",
    "- Wie kann ich die eingelesenen Daten anzeigen?\n",
    "- Wie kann ich die Datentypen der einzelnen Merkmale (Variablen) anzeigen?\n",
    "- Indexierung: Wie greife ich auf einzelne Elemente des Datensatzes zu?\n",
    "- Indexierung bei Zeitreihen: Wie kann ich auf elegante Art und Weise mit Zeitstempeln arbeiten?\n",
    "\n",
    "Hilfreich bei der Bearbeitung ist das Cheat Sheet, welches die wichtigsten grundlegenden Python Befehle zur Datenanalyse zusammenfasst. Sie finden das Cheat Sheet auf ILIAS."
   ]
  },
  {
   "cell_type": "markdown",
   "metadata": {
    "id": "WA34hXh6gOWw"
   },
   "source": [
    "## Benötigte Bibliothek pandas einbinden"
   ]
  },
  {
   "cell_type": "code",
   "execution_count": 1,
   "metadata": {
    "id": "7MSkBCVVgOWx"
   },
   "outputs": [],
   "source": [
    "# Importieren sie die Bibliothek pandas, vergeben Sie dazu das Kürzel pd\n",
    "# s. Cheat Sheet unter \"Dateien einlesen\n",
    "\n",
    "import pandas as pd"
   ]
  },
  {
   "cell_type": "markdown",
   "metadata": {
    "id": "_XATPdykgOW1"
   },
   "source": [
    "## Daten einlesen über Pandas Funktion pd.read_csv('Pfadname')"
   ]
  },
  {
   "cell_type": "code",
   "execution_count": 6,
   "metadata": {
    "colab": {
     "base_uri": "https://localhost:8080/"
    },
    "id": "GXzWBt0fgOW2",
    "outputId": "0a3261ab-d90f-4d0f-d570-1511b319437e"
   },
   "outputs": [
    {
     "ename": "ModuleNotFoundError",
     "evalue": "No module named 'google'",
     "output_type": "error",
     "traceback": [
      "\u001b[1;31m---------------------------------------------------------------------------\u001b[0m",
      "\u001b[1;31mModuleNotFoundError\u001b[0m                       Traceback (most recent call last)",
      "Cell \u001b[1;32mIn[6], line 4\u001b[0m\n\u001b[0;32m      1\u001b[0m \u001b[38;5;66;03m# Lesen Sie datensatz1.csv ein\u001b[39;00m\n\u001b[0;32m      2\u001b[0m \u001b[38;5;66;03m# s. Cheat Sheet unter \"Dateien einlesen\"\u001b[39;00m\n\u001b[1;32m----> 4\u001b[0m \u001b[38;5;28;01mfrom\u001b[39;00m \u001b[38;5;21;01mgoogle\u001b[39;00m\u001b[38;5;21;01m.\u001b[39;00m\u001b[38;5;21;01mcolab\u001b[39;00m \u001b[38;5;28;01mimport\u001b[39;00m drive\n\u001b[0;32m      5\u001b[0m drive\u001b[38;5;241m.\u001b[39mmount(\u001b[38;5;124m'\u001b[39m\u001b[38;5;124m/content/drive\u001b[39m\u001b[38;5;124m'\u001b[39m)\n\u001b[0;32m      7\u001b[0m \u001b[38;5;66;03m#neu\u001b[39;00m\n",
      "\u001b[1;31mModuleNotFoundError\u001b[0m: No module named 'google'"
     ]
    }
   ],
   "source": [
    "# Lesen Sie datensatz1.csv ein\n",
    "# s. Cheat Sheet unter \"Dateien einlesen\"\n",
    "\n",
    "from google.colab import drive\n",
    "drive.mount('/content/drive')\n",
    "\n",
    "#neu\n",
    "raw_data = pd.read_csv('/content/drive/My Drive/datensatz1.csv')"
   ]
  },
  {
   "cell_type": "code",
   "execution_count": 7,
   "metadata": {
    "id": "jX1v92E9w_CC"
   },
   "outputs": [
    {
     "ename": "NameError",
     "evalue": "name 'pd' is not defined",
     "output_type": "error",
     "traceback": [
      "\u001b[1;31m---------------------------------------------------------------------------\u001b[0m",
      "\u001b[1;31mNameError\u001b[0m                                 Traceback (most recent call last)",
      "Cell \u001b[1;32mIn[7], line 1\u001b[0m\n\u001b[1;32m----> 1\u001b[0m raw_data \u001b[38;5;241m=\u001b[39m \u001b[43mpd\u001b[49m\u001b[38;5;241m.\u001b[39mread_csv(\u001b[38;5;124m'\u001b[39m\u001b[38;5;124m/content/drive/My Drive/datensatz1.csv\u001b[39m\u001b[38;5;124m'\u001b[39m)\n",
      "\u001b[1;31mNameError\u001b[0m: name 'pd' is not defined"
     ]
    }
   ],
   "source": [
    "raw_data = pd.read_csv('/content/drive/My Drive/datensatz1.csv')\n",
    "\n",
    "# Die Daten sind nun in einem pandas data frame gespeichert. \n",
    "# Die Anzahl der Zeilen und Spalten des data frames kann über das Attribut shape ausgegeben werden: \n",
    "# (bitte im Folgenden immer vervollständigen)\n"
   ]
  },
  {
   "cell_type": "code",
   "execution_count": 5,
   "metadata": {
    "id": "7aJxnPaTgOW4"
   },
   "outputs": [],
   "source": [
    "# die Datentypen der einzelnen Spalten können mit dtypes angezeigt werden (bitte vervollständigen):\n",
    "raw_data.dtypes"
   ]
  },
  {
   "cell_type": "code",
   "execution_count": 6,
   "metadata": {
    "id": "4HP8-5kKgOW5"
   },
   "outputs": [],
   "source": [
    "# ersten paar Zeilen anzeigen mit head():\n",
    "raw_data.head(3)"
   ]
  },
  {
   "cell_type": "code",
   "execution_count": 7,
   "metadata": {
    "id": "axd8EwcugOW7"
   },
   "outputs": [],
   "source": [
    "# letzten paar Zeilen anzeigen mit tail():\n",
    "raw_data.tail(3)"
   ]
  },
  {
   "cell_type": "code",
   "execution_count": 8,
   "metadata": {
    "id": "982PFxxYgOW-"
   },
   "outputs": [],
   "source": [
    "# 7 zufällige Zeilen ausgeben:\n",
    "raw_data.sample(7)"
   ]
  },
  {
   "cell_type": "markdown",
   "metadata": {
    "id": "o2zTGJ-dgOXB"
   },
   "source": [
    "## Indexierung mit Zeilen- und Spaltennummer\n",
    "- Funktioniert mit data.iloc[Zeilenindex, Spaltenindex]"
   ]
  },
  {
   "cell_type": "code",
   "execution_count": null,
   "metadata": {
    "id": "nOMthreZgOXD"
   },
   "outputs": [],
   "source": [
    "# Wert in Zeile 1, Spalte 3 ausgeben\n",
    "raw_data.iloc[0, 2]"
   ]
  },
  {
   "cell_type": "code",
   "execution_count": null,
   "metadata": {
    "id": "-LJUuPfTgOXD"
   },
   "outputs": [],
   "source": [
    "# Wert in letzter Zeile, Spalte 3 ausgeben\n",
    "raw_data.iloc[-1, 2]"
   ]
  },
  {
   "cell_type": "code",
   "execution_count": null,
   "metadata": {
    "id": "hXHc9JSCgOXE"
   },
   "outputs": [],
   "source": [
    "# zur Kontrolle tail()\n",
    "raw_data.tail()"
   ]
  },
  {
   "cell_type": "code",
   "execution_count": 1,
   "metadata": {
    "id": "AHwof7YMgOXF"
   },
   "outputs": [
    {
     "name": "stdout",
     "output_type": "stream",
     "text": [
      "Erste Zeile des DataFrames:\n"
     ]
    },
    {
     "ename": "NameError",
     "evalue": "name 'raw_data' is not defined",
     "output_type": "error",
     "traceback": [
      "\u001b[1;31m---------------------------------------------------------------------------\u001b[0m",
      "\u001b[1;31mNameError\u001b[0m                                 Traceback (most recent call last)",
      "Cell \u001b[1;32mIn[1], line 3\u001b[0m\n\u001b[0;32m      1\u001b[0m \u001b[38;5;66;03m# 1. Zeile ausgeben\u001b[39;00m\n\u001b[0;32m      2\u001b[0m \u001b[38;5;28mprint\u001b[39m(\u001b[38;5;124m\"\u001b[39m\u001b[38;5;124mErste Zeile des DataFrames:\u001b[39m\u001b[38;5;124m\"\u001b[39m)\n\u001b[1;32m----> 3\u001b[0m \u001b[38;5;28mprint\u001b[39m(\u001b[43mraw_data\u001b[49m\u001b[38;5;241m.\u001b[39miloc[\u001b[38;5;241m0\u001b[39m])\n",
      "\u001b[1;31mNameError\u001b[0m: name 'raw_data' is not defined"
     ]
    }
   ],
   "source": [
    "# 1. Zeile ausgeben\n",
    "raw_data.iloc[0]"
   ]
  },
  {
   "cell_type": "code",
   "execution_count": null,
   "metadata": {
    "id": "SuipXSaYgOXG"
   },
   "outputs": [],
   "source": [
    "# 2. Spalte ausgeben\n",
    "raw_data.iloc[:, 1]"
   ]
  },
  {
   "cell_type": "code",
   "execution_count": null,
   "metadata": {
    "id": "BQitg0xygOXG"
   },
   "outputs": [],
   "source": [
    "# zur Kontrolle head()\n",
    "raw_data.head()"
   ]
  },
  {
   "cell_type": "code",
   "execution_count": null,
   "metadata": {
    "id": "0wPwbRuLgOXH"
   },
   "outputs": [],
   "source": [
    "# Zeilen mit den Indizes 5 bis 15 ausgeben\n",
    "raw_data.iloc[5:16]"
   ]
  },
  {
   "cell_type": "code",
   "execution_count": null,
   "metadata": {
    "id": "Xvv-BlMogOXH"
   },
   "outputs": [],
   "source": [
    "# Zeilen 5 bis 15 von Spalten 1 bis 3 ausgeben\n",
    "raw_data.iloc[5:16, 0:3]"
   ]
  },
  {
   "cell_type": "markdown",
   "metadata": {
    "id": "JfK7KP0ngOXI"
   },
   "source": [
    "## Zeitstempel als Index setzen\n",
    "Da eine Indexierung über Zeilen- und Spaltennummer bei dem Datensatz eher umständlich ist, wollen wir lieber über das Datum und den Spaltennamen gehen. \n",
    "Dazu setzen wir den Zeitstempel als Index und verwenden später diesen anstatt der Zeilennummer"
   ]
  },
  {
   "cell_type": "code",
   "execution_count": null,
   "metadata": {
    "id": "WajIzwhFgOXI"
   },
   "outputs": [],
   "source": [
    "# 1. Schritt (optional): Erzeuge ein neues Data Frame mit einer Kopie der Rohdaten. Das neue data frame wird data genannt.\n",
    "data = raw_data.copy()\n",
    "\n",
    "# 2. Schritt: Ändere im neuen data frame das Format der Spalte 'Date' zu datetimes. \n",
    "# s. Cheat sheet unter \"Mit dem Zeitstempel indizieren\"\n",
    "data['Date'] = pd.to_datetime(data['Date'])"
   ]
  },
  {
   "cell_type": "code",
   "execution_count": null,
   "metadata": {
    "id": "cmmLJ4WTgOXJ"
   },
   "outputs": [],
   "source": [
    "# Überprüfe, ob die Umwandlung geklappt hat\n",
    "print('Rohdatensatz:')\n",
    "print(raw_data['Date'].head(), '\\n')\n",
    "\n",
    "print('Neuer Datensatz:')\n",
    "print(data['Date'].head(),'\\n')\n",
    "\n",
    "print('Alle Datentypen des Datensatzes:')\n",
    "print(data.dtypes)"
   ]
  },
  {
   "cell_type": "code",
   "execution_count": null,
   "metadata": {
    "id": "e_toiFKZgOXK"
   },
   "outputs": [],
   "source": [
    "# 3. Schritt: Setze die Spalte 'Date' als neuen Index, siehe Cheat sheet:\n",
    "data.set_index('Date', inplace=True)\n",
    "# Überprüfen durch Ausgabe der ersten Spalten des data frames:\n",
    "data.iloc[:,1:3]"
   ]
  },
  {
   "cell_type": "markdown",
   "metadata": {
    "id": "Z0cvLKMZgOXK"
   },
   "source": [
    "## Mit Zeitstempel indexieren"
   ]
  },
  {
   "cell_type": "code",
   "execution_count": null,
   "metadata": {
    "id": "nAivl_WygOXL"
   },
   "outputs": [],
   "source": [
    "# Alle Daten aus dem Jahr 2013:\n",
    "data['2013']"
   ]
  },
  {
   "cell_type": "code",
   "execution_count": null,
   "metadata": {
    "id": "ebfmwFWugOXM"
   },
   "outputs": [],
   "source": [
    "# Überprüfen mit sample():\n",
    "data.sample(363)"
   ]
  },
  {
   "cell_type": "code",
   "execution_count": null,
   "metadata": {
    "id": "hHq_P37agOXN"
   },
   "outputs": [],
   "source": [
    "# alle Daten aus dem März 2014:\n",
    "data['03-2014']"
   ]
  },
  {
   "cell_type": "code",
   "execution_count": null,
   "metadata": {
    "id": "qRuINSdsgOXO"
   },
   "outputs": [],
   "source": [
    "# Überprüfen mit head und tail:\n",
    "data.head()\n",
    "data.tail()"
   ]
  },
  {
   "cell_type": "code",
   "execution_count": null,
   "metadata": {
    "id": "Bod5ZP0JgOXP"
   },
   "outputs": [],
   "source": [
    "# alle Daten von März 2014 bis Februar 2015:\n",
    "data['03-2014':'02-2015']"
   ]
  },
  {
   "cell_type": "code",
   "execution_count": null,
   "metadata": {
    "id": "1_11aohMgOXP"
   },
   "outputs": [],
   "source": [
    "# Überprüfen mit head und tail:\n",
    "data.head()\n",
    "data.tail()"
   ]
  },
  {
   "cell_type": "markdown",
   "metadata": {
    "id": "MsBg98vigOXQ"
   },
   "source": [
    "## Mit Zeitstempel und Spaltenname indexieren"
   ]
  },
  {
   "cell_type": "code",
   "execution_count": null,
   "metadata": {
    "id": "ca8vLIdvgOXQ"
   },
   "outputs": [],
   "source": [
    "# Der Energieverbrauch (Consumption) in den Jahren 2014 bis 2015:\n",
    "data['Consumption'].loc['2014':'2015']"
   ]
  },
  {
   "cell_type": "code",
   "execution_count": 10,
   "metadata": {
    "id": "0cRJVn0UgOXQ"
   },
   "outputs": [],
   "source": [
    "# Spalten \"Solar\" und \"Wind\" am 01.12.2013:\n",
    "data[['Solar' , 'Wind']].loc['01-12-2013']"
   ]
  }
 ],
 "metadata": {
  "colab": {
   "name": "HandsOnPython_02_DatenEinlesen_Indexieren.ipynb",
   "provenance": []
  },
  "kernelspec": {
   "display_name": "Python 3 (ipykernel)",
   "language": "python",
   "name": "python3"
  },
  "language_info": {
   "codemirror_mode": {
    "name": "ipython",
    "version": 3
   },
   "file_extension": ".py",
   "mimetype": "text/x-python",
   "name": "python",
   "nbconvert_exporter": "python",
   "pygments_lexer": "ipython3",
   "version": "3.10.9"
  }
 },
 "nbformat": 4,
 "nbformat_minor": 1
}
