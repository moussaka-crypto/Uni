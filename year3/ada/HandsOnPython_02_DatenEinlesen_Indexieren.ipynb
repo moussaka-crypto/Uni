{
  "nbformat": 4,
  "nbformat_minor": 0,
  "metadata": {
    "kernelspec": {
      "display_name": "Python 3",
      "language": "python",
      "name": "python3"
    },
    "language_info": {
      "codemirror_mode": {
        "name": "ipython",
        "version": 3
      },
      "file_extension": ".py",
      "mimetype": "text/x-python",
      "name": "python",
      "nbconvert_exporter": "python",
      "pygments_lexer": "ipython3",
      "version": "3.7.0"
    },
    "colab": {
      "name": "HandsOnPython_02_DatenEinlesen_Indexieren.ipynb",
      "provenance": []
    }
  },
  "cells": [
    {
      "cell_type": "markdown",
      "metadata": {
        "id": "WoVTNQP0gOWk"
      },
      "source": [
        "# Python Basics 2\n",
        "\n",
        "Dieses Notebook klärt folgende Fragen:\n",
        "- Wie kann ich Daten einlesen?\n",
        "- Wie kann ich die eingelesenen Daten anzeigen?\n",
        "- Wie kann ich die Datentypen der einzelnen Merkmale (Variablen) anzeigen?\n",
        "- Indexierung: Wie greife ich auf einzelne Elemente des Datensatzes zu?\n",
        "- Indexierung bei Zeitreihen: Wie kann ich auf elegante Art und Weise mit Zeitstempeln arbeiten?\n",
        "\n",
        "Hilfreich bei der Bearbeitung ist das Cheat Sheet, welches die wichtigsten grundlegenden Python Befehle zur Datenanalyse zusammenfasst. Sie finden das Cheat Sheet auf ILIAS."
      ]
    },
    {
      "cell_type": "markdown",
      "metadata": {
        "id": "WA34hXh6gOWw"
      },
      "source": [
        "## Benötigte Bibliothek pandas einbinden"
      ]
    },
    {
      "cell_type": "code",
      "metadata": {
        "id": "7MSkBCVVgOWx"
      },
      "source": [
        "# Importieren sie die Bibliothek pandas, vergeben Sie dazu das Kürzel pd\n",
        "# s. Cheat Sheet unter \"Dateien einlesen\n",
        "import pandas as pd"
      ],
      "execution_count": 3,
      "outputs": []
    },
    {
      "cell_type": "markdown",
      "metadata": {
        "id": "_XATPdykgOW1"
      },
      "source": [
        "## Daten einlesen über Pandas Funktion pd.read_csv('Pfadname')"
      ]
    },
    {
      "cell_type": "code",
      "metadata": {
        "id": "GXzWBt0fgOW2",
        "colab": {
          "base_uri": "https://localhost:8080/"
        },
        "outputId": "0a3261ab-d90f-4d0f-d570-1511b319437e"
      },
      "source": [
        "# Lesen Sie datensatz1.csv ein\n",
        "# s. Cheat Sheet unter \"Dateien einlesen\"\n",
        "\n",
        "from google.colab import drive\n",
        "drive.mount('/content/drive')\n",
        "\n",
        "\n"
      ],
      "execution_count": 1,
      "outputs": [
        {
          "output_type": "stream",
          "name": "stdout",
          "text": [
            "Mounted at /content/drive\n"
          ]
        }
      ]
    },
    {
      "cell_type": "code",
      "metadata": {
        "id": "jX1v92E9w_CC"
      },
      "source": [
        "raw_data = pd.read_csv('/content/drive/My Drive/datensatz1.csv')\n",
        "\n",
        "# Die Daten sind nun in einem pandas data frame gespeichert. \n",
        "# Die Anzahl der Zeilen und Spalten des data frames kann über das Attribut shape ausgegeben werden: \n",
        "# (bitte im Folgenden immer vervollständigen)\n",
        "\n"
      ],
      "execution_count": 9,
      "outputs": []
    },
    {
      "cell_type": "code",
      "metadata": {
        "id": "7aJxnPaTgOW4"
      },
      "source": [
        "# die Datentypen der einzelnen Spalten können mit dtypes angezeigt werden (bitte vervollständigen):\n"
      ],
      "execution_count": 5,
      "outputs": []
    },
    {
      "cell_type": "code",
      "metadata": {
        "id": "4HP8-5kKgOW5"
      },
      "source": [
        "# ersten paar Zeilen anzeigen mit head():"
      ],
      "execution_count": 6,
      "outputs": []
    },
    {
      "cell_type": "code",
      "metadata": {
        "id": "axd8EwcugOW7"
      },
      "source": [
        "# letzten paar Zeilen anzeigen mit tail():"
      ],
      "execution_count": 7,
      "outputs": []
    },
    {
      "cell_type": "code",
      "metadata": {
        "id": "982PFxxYgOW-"
      },
      "source": [
        "# 7 zufällige Zeilen ausgeben:"
      ],
      "execution_count": 8,
      "outputs": []
    },
    {
      "cell_type": "markdown",
      "metadata": {
        "id": "o2zTGJ-dgOXB"
      },
      "source": [
        "## Indexierung mit Zeilen- und Spaltennummer\n",
        "- Funktioniert mit data.iloc[Zeilenindex, Spaltenindex]"
      ]
    },
    {
      "cell_type": "code",
      "metadata": {
        "id": "nOMthreZgOXD"
      },
      "source": [
        "# Wert in Zeile 1, Spalte 3 ausgeben\n"
      ],
      "execution_count": null,
      "outputs": []
    },
    {
      "cell_type": "code",
      "metadata": {
        "id": "-LJUuPfTgOXD"
      },
      "source": [
        "# Wert in letzter Zeile, Spalte 3 ausgeben\n"
      ],
      "execution_count": null,
      "outputs": []
    },
    {
      "cell_type": "code",
      "metadata": {
        "id": "hXHc9JSCgOXE"
      },
      "source": [
        "# zur Kontrolle tail()\n"
      ],
      "execution_count": null,
      "outputs": []
    },
    {
      "cell_type": "code",
      "metadata": {
        "id": "AHwof7YMgOXF"
      },
      "source": [
        "# 1. Zeile ausgeben\n"
      ],
      "execution_count": null,
      "outputs": []
    },
    {
      "cell_type": "code",
      "metadata": {
        "id": "SuipXSaYgOXG"
      },
      "source": [
        "# 2. Spalte ausgeben\n"
      ],
      "execution_count": null,
      "outputs": []
    },
    {
      "cell_type": "code",
      "metadata": {
        "id": "BQitg0xygOXG"
      },
      "source": [
        "# zur Kontrolle head()\n"
      ],
      "execution_count": null,
      "outputs": []
    },
    {
      "cell_type": "code",
      "metadata": {
        "id": "0wPwbRuLgOXH"
      },
      "source": [
        "# Zeilen mit den Indizes 5 bis 15 ausgeben\n"
      ],
      "execution_count": null,
      "outputs": []
    },
    {
      "cell_type": "code",
      "metadata": {
        "id": "Xvv-BlMogOXH"
      },
      "source": [
        "# Zeilen 5 bis 15 von Spalten 1 bis 3 ausgeben\n"
      ],
      "execution_count": null,
      "outputs": []
    },
    {
      "cell_type": "markdown",
      "metadata": {
        "id": "JfK7KP0ngOXI"
      },
      "source": [
        "## Zeitstempel als Index setzen\n",
        "Da eine Indexierung über Zeilen- und Spaltennummer bei dem Datensatz eher umständlich ist, wollen wir lieber über das Datum und den Spaltennamen gehen. \n",
        "Dazu setzen wir den Zeitstempel als Index und verwenden später diesen anstatt der Zeilennummer"
      ]
    },
    {
      "cell_type": "code",
      "metadata": {
        "id": "WajIzwhFgOXI"
      },
      "source": [
        "# 1. Schritt (optional): Erzeuge ein neues Data Frame mit einer Kopie der Rohdaten. Das neue data frame wird data genannt.\n",
        "data = raw_data.copy()\n",
        "\n",
        "# 2. Schritt: Ändere im neuen data frame das Format der Spalte 'Date' zu datetimes. \n",
        "# s. Cheat sheet unter \"Mit dem Zeitstempel indizieren\"\n"
      ],
      "execution_count": null,
      "outputs": []
    },
    {
      "cell_type": "code",
      "metadata": {
        "id": "cmmLJ4WTgOXJ"
      },
      "source": [
        "# Überprüfe, ob die Umwandlung geklappt hat\n",
        "print('Rohdatensatz:')\n",
        "print(raw_data['Date'].head(), '\\n')\n",
        "\n",
        "print('Neuer Datensatz:')\n",
        "print(data['Date'].head(),'\\n')\n",
        "\n",
        "print('Alle Datentypen des Datensatzes:')\n",
        "print(data.dtypes)"
      ],
      "execution_count": null,
      "outputs": []
    },
    {
      "cell_type": "code",
      "metadata": {
        "id": "e_toiFKZgOXK"
      },
      "source": [
        "# 3. Schritt: Setze die Spalte 'Date' als neuen Index, siehe Cheat sheet:\n",
        "\n",
        "# Überprüfen durch Ausgabe der ersten Spalten des data frames:\n"
      ],
      "execution_count": null,
      "outputs": []
    },
    {
      "cell_type": "markdown",
      "metadata": {
        "id": "Z0cvLKMZgOXK"
      },
      "source": [
        "## Mit Zeitstempel indexieren"
      ]
    },
    {
      "cell_type": "code",
      "metadata": {
        "id": "nAivl_WygOXL"
      },
      "source": [
        "# Alle Daten aus dem Jahr 2013:\n"
      ],
      "execution_count": null,
      "outputs": []
    },
    {
      "cell_type": "code",
      "metadata": {
        "id": "ebfmwFWugOXM"
      },
      "source": [
        "# Überprüfen mit sample():\n"
      ],
      "execution_count": null,
      "outputs": []
    },
    {
      "cell_type": "code",
      "metadata": {
        "id": "hHq_P37agOXN"
      },
      "source": [
        "# alle Daten aus dem März 2014:\n"
      ],
      "execution_count": null,
      "outputs": []
    },
    {
      "cell_type": "code",
      "metadata": {
        "id": "qRuINSdsgOXO"
      },
      "source": [
        "# Überprüfen mit head und tail:\n"
      ],
      "execution_count": null,
      "outputs": []
    },
    {
      "cell_type": "code",
      "metadata": {
        "id": "Bod5ZP0JgOXP"
      },
      "source": [
        "# alle Daten von März 2014 bis Februar 2015:\n"
      ],
      "execution_count": null,
      "outputs": []
    },
    {
      "cell_type": "code",
      "metadata": {
        "id": "1_11aohMgOXP"
      },
      "source": [
        "# Überprüfen mit head und tail:\n"
      ],
      "execution_count": null,
      "outputs": []
    },
    {
      "cell_type": "markdown",
      "metadata": {
        "id": "MsBg98vigOXQ"
      },
      "source": [
        "## Mit Zeitstempel und Spaltenname indexieren"
      ]
    },
    {
      "cell_type": "code",
      "metadata": {
        "id": "ca8vLIdvgOXQ"
      },
      "source": [
        "# Der Energieverbrauch (Consumption) in den Jahren 2014 bis 2015:\n"
      ],
      "execution_count": null,
      "outputs": []
    },
    {
      "cell_type": "code",
      "metadata": {
        "id": "0cRJVn0UgOXQ"
      },
      "source": [
        "# Spalten \"Solar\" und \"Wind\" am 01.12.2013:\n"
      ],
      "execution_count": 10,
      "outputs": []
    }
  ]
}