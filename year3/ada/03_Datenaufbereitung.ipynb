{
  "cells": [
    {
      "cell_type": "markdown",
      "metadata": {
        "id": "ayulqe04IVWd"
      },
      "source": [
        "# 3. Data Preparation\n",
        "Dieses Notebook zeigt wie\n",
        "- man Daten aus zwei csv Dateien zu einem Datensatz zusammenfügen kann\n",
        "- wie man mit nicht existenten Werten (NaN - Not a Number) umgeht\n",
        "- wie man Zeitreihen mit unterschiedlichen Frequenzen auf eine gemeinsame Frequenz bringen kann"
      ]
    },
    {
      "cell_type": "markdown",
      "metadata": {
        "id": "APrNMW-1IVWf"
      },
      "source": [
        "## Notwendige Bibliotheken importieren"
      ]
    },
    {
      "cell_type": "code",
      "execution_count": 1,
      "metadata": {
        "colab": {
          "base_uri": "https://localhost:8080/"
        },
        "id": "HlOFkwRNIVWg",
        "outputId": "d59e2676-361d-4e28-cca4-c3624bb54018"
      },
      "outputs": [],
      "source": [
        "# notwendige Bibliotheken importieren\n",
        "import pandas as pd\n",
        "import matplotlib.pyplot as plt"
      ]
    },
    {
      "cell_type": "markdown",
      "metadata": {
        "id": "Okq6PkpWIVWh"
      },
      "source": [
        "## Daten einlesen"
      ]
    },
    {
      "cell_type": "code",
      "execution_count": 2,
      "metadata": {
        "id": "hp_SM78yIVWi"
      },
      "outputs": [],
      "source": [
        "# Daten der 1. Quelle\n",
        "rawData1 = pd.read_csv('./data/source1.csv')\n",
        "\n",
        "# Lesen Sie die Daten der 2. Quelle ein\n",
        "rawData2 = pd.read_csv('./data/source2.csv')"
      ]
    },
    {
      "cell_type": "code",
      "execution_count": 3,
      "metadata": {
        "id": "uvPZ5Zy5IVWi"
      },
      "outputs": [
        {
          "name": "stdout",
          "output_type": "stream",
          "text": [
            "Datensatz 1: \n",
            "135 Zeilen und 5 Spalten\n",
            "\n",
            "Datensatz 2: \n",
            "45 Zeilen und 2 Spalten\n"
          ]
        }
      ],
      "source": [
        "# Anzahl der Zeilen und Spalten ausgeben \n",
        "\n",
        "# Geben Sie Zeilen und Spalten des 1. Datensatzes von Quelle 1 aus\n",
        "print(\"Datensatz 1: \")\n",
        "print(f\"{rawData1.shape[0]} Zeilen und {rawData1.shape[1]} Spalten\\n\")\n",
        "\n",
        "# Geben Sie Zeilen und Spalten des 2. Datensatzes von Quelle 2 aus\n",
        "print(\"Datensatz 2: \")\n",
        "print(f\"{rawData2.shape[0]} Zeilen und {rawData2.shape[1]} Spalten\")\n"
      ]
    },
    {
      "cell_type": "code",
      "execution_count": 4,
      "metadata": {
        "id": "3szOqgUMIVWj"
      },
      "outputs": [
        {
          "data": {
            "text/html": [
              "<div>\n",
              "<style scoped>\n",
              "    .dataframe tbody tr th:only-of-type {\n",
              "        vertical-align: middle;\n",
              "    }\n",
              "\n",
              "    .dataframe tbody tr th {\n",
              "        vertical-align: top;\n",
              "    }\n",
              "\n",
              "    .dataframe thead th {\n",
              "        text-align: right;\n",
              "    }\n",
              "</style>\n",
              "<table border=\"1\" class=\"dataframe\">\n",
              "  <thead>\n",
              "    <tr style=\"text-align: right;\">\n",
              "      <th></th>\n",
              "      <th>Date</th>\n",
              "      <th>Energy</th>\n",
              "      <th>Light</th>\n",
              "      <th>CO2</th>\n",
              "      <th>Occupancy</th>\n",
              "    </tr>\n",
              "  </thead>\n",
              "  <tbody>\n",
              "    <tr>\n",
              "      <th>0</th>\n",
              "      <td>2015-02-02 14:15:00</td>\n",
              "      <td>26.285636</td>\n",
              "      <td>527.283333</td>\n",
              "      <td>785.951515</td>\n",
              "      <td>1.0</td>\n",
              "    </tr>\n",
              "    <tr>\n",
              "      <th>1</th>\n",
              "      <td>2015-02-02 14:30:00</td>\n",
              "      <td>27.016313</td>\n",
              "      <td>481.697917</td>\n",
              "      <td>894.539583</td>\n",
              "      <td>1.0</td>\n",
              "    </tr>\n",
              "    <tr>\n",
              "      <th>2</th>\n",
              "      <td>2015-02-02 14:45:00</td>\n",
              "      <td>27.612107</td>\n",
              "      <td>499.415646</td>\n",
              "      <td>992.291327</td>\n",
              "      <td>1.0</td>\n",
              "    </tr>\n",
              "    <tr>\n",
              "      <th>3</th>\n",
              "      <td>2015-02-02 15:00:00</td>\n",
              "      <td>28.006019</td>\n",
              "      <td>456.436190</td>\n",
              "      <td>1051.151905</td>\n",
              "      <td>1.0</td>\n",
              "    </tr>\n",
              "    <tr>\n",
              "      <th>4</th>\n",
              "      <td>2015-02-02 15:15:00</td>\n",
              "      <td>28.489948</td>\n",
              "      <td>464.760417</td>\n",
              "      <td>1101.779167</td>\n",
              "      <td>1.0</td>\n",
              "    </tr>\n",
              "  </tbody>\n",
              "</table>\n",
              "</div>"
            ],
            "text/plain": [
              "                  Date     Energy       Light          CO2  Occupancy\n",
              "0  2015-02-02 14:15:00  26.285636  527.283333   785.951515        1.0\n",
              "1  2015-02-02 14:30:00  27.016313  481.697917   894.539583        1.0\n",
              "2  2015-02-02 14:45:00  27.612107  499.415646   992.291327        1.0\n",
              "3  2015-02-02 15:00:00  28.006019  456.436190  1051.151905        1.0\n",
              "4  2015-02-02 15:15:00  28.489948  464.760417  1101.779167        1.0"
            ]
          },
          "execution_count": 4,
          "metadata": {},
          "output_type": "execute_result"
        }
      ],
      "source": [
        "# Geben Sie die ersten Zeilen von Quelle 1 aus:\n",
        "rawData1.head()"
      ]
    },
    {
      "cell_type": "code",
      "execution_count": 5,
      "metadata": {
        "id": "x5Bp-vuNIVWj"
      },
      "outputs": [
        {
          "data": {
            "text/html": [
              "<div>\n",
              "<style scoped>\n",
              "    .dataframe tbody tr th:only-of-type {\n",
              "        vertical-align: middle;\n",
              "    }\n",
              "\n",
              "    .dataframe tbody tr th {\n",
              "        vertical-align: top;\n",
              "    }\n",
              "\n",
              "    .dataframe thead th {\n",
              "        text-align: right;\n",
              "    }\n",
              "</style>\n",
              "<table border=\"1\" class=\"dataframe\">\n",
              "  <thead>\n",
              "    <tr style=\"text-align: right;\">\n",
              "      <th></th>\n",
              "      <th>Date</th>\n",
              "      <th>Temperature</th>\n",
              "    </tr>\n",
              "  </thead>\n",
              "  <tbody>\n",
              "    <tr>\n",
              "      <th>0</th>\n",
              "      <td>2015-02-02 14:00:00</td>\n",
              "      <td>23.657118</td>\n",
              "    </tr>\n",
              "    <tr>\n",
              "      <th>1</th>\n",
              "      <td>2015-02-02 15:00:00</td>\n",
              "      <td>23.293950</td>\n",
              "    </tr>\n",
              "    <tr>\n",
              "      <th>2</th>\n",
              "      <td>2015-02-02 16:00:00</td>\n",
              "      <td>22.773142</td>\n",
              "    </tr>\n",
              "    <tr>\n",
              "      <th>3</th>\n",
              "      <td>2015-02-02 17:00:00</td>\n",
              "      <td>22.534520</td>\n",
              "    </tr>\n",
              "    <tr>\n",
              "      <th>4</th>\n",
              "      <td>2015-02-02 18:00:00</td>\n",
              "      <td>21.993372</td>\n",
              "    </tr>\n",
              "  </tbody>\n",
              "</table>\n",
              "</div>"
            ],
            "text/plain": [
              "                  Date  Temperature\n",
              "0  2015-02-02 14:00:00    23.657118\n",
              "1  2015-02-02 15:00:00    23.293950\n",
              "2  2015-02-02 16:00:00    22.773142\n",
              "3  2015-02-02 17:00:00    22.534520\n",
              "4  2015-02-02 18:00:00    21.993372"
            ]
          },
          "execution_count": 5,
          "metadata": {},
          "output_type": "execute_result"
        }
      ],
      "source": [
        "# Geben Sie die ersten Zeilen von Quelle 2 aus:\n",
        "rawData2.head()"
      ]
    },
    {
      "cell_type": "code",
      "execution_count": 6,
      "metadata": {
        "id": "GPRBiH-7IVWk"
      },
      "outputs": [
        {
          "data": {
            "text/html": [
              "<div>\n",
              "<style scoped>\n",
              "    .dataframe tbody tr th:only-of-type {\n",
              "        vertical-align: middle;\n",
              "    }\n",
              "\n",
              "    .dataframe tbody tr th {\n",
              "        vertical-align: top;\n",
              "    }\n",
              "\n",
              "    .dataframe thead th {\n",
              "        text-align: right;\n",
              "    }\n",
              "</style>\n",
              "<table border=\"1\" class=\"dataframe\">\n",
              "  <thead>\n",
              "    <tr style=\"text-align: right;\">\n",
              "      <th></th>\n",
              "      <th>Date</th>\n",
              "      <th>Energy</th>\n",
              "      <th>Light</th>\n",
              "      <th>CO2</th>\n",
              "      <th>Occupancy</th>\n",
              "    </tr>\n",
              "  </thead>\n",
              "  <tbody>\n",
              "    <tr>\n",
              "      <th>130</th>\n",
              "      <td>2015-02-03 22:45:00</td>\n",
              "      <td>25.365469</td>\n",
              "      <td>0.0</td>\n",
              "      <td>570.291667</td>\n",
              "      <td>0.0</td>\n",
              "    </tr>\n",
              "    <tr>\n",
              "      <th>131</th>\n",
              "      <td>2015-02-03 23:00:00</td>\n",
              "      <td>25.242750</td>\n",
              "      <td>0.0</td>\n",
              "      <td>563.398810</td>\n",
              "      <td>0.0</td>\n",
              "    </tr>\n",
              "    <tr>\n",
              "      <th>132</th>\n",
              "      <td>2015-02-03 23:15:00</td>\n",
              "      <td>25.146556</td>\n",
              "      <td>0.0</td>\n",
              "      <td>559.753333</td>\n",
              "      <td>0.0</td>\n",
              "    </tr>\n",
              "    <tr>\n",
              "      <th>133</th>\n",
              "      <td>2015-02-03 23:30:00</td>\n",
              "      <td>25.029479</td>\n",
              "      <td>0.0</td>\n",
              "      <td>555.600000</td>\n",
              "      <td>0.0</td>\n",
              "    </tr>\n",
              "    <tr>\n",
              "      <th>134</th>\n",
              "      <td>2015-02-03 23:45:00</td>\n",
              "      <td>24.941250</td>\n",
              "      <td>0.0</td>\n",
              "      <td>553.130952</td>\n",
              "      <td>0.0</td>\n",
              "    </tr>\n",
              "  </tbody>\n",
              "</table>\n",
              "</div>"
            ],
            "text/plain": [
              "                    Date     Energy  Light         CO2  Occupancy\n",
              "130  2015-02-03 22:45:00  25.365469    0.0  570.291667        0.0\n",
              "131  2015-02-03 23:00:00  25.242750    0.0  563.398810        0.0\n",
              "132  2015-02-03 23:15:00  25.146556    0.0  559.753333        0.0\n",
              "133  2015-02-03 23:30:00  25.029479    0.0  555.600000        0.0\n",
              "134  2015-02-03 23:45:00  24.941250    0.0  553.130952        0.0"
            ]
          },
          "execution_count": 6,
          "metadata": {},
          "output_type": "execute_result"
        }
      ],
      "source": [
        "# Geben Sie die letzten Zeilen von Quelle 1 aus:\n",
        "rawData1.tail()"
      ]
    },
    {
      "cell_type": "code",
      "execution_count": 7,
      "metadata": {
        "id": "KHPvNXNBIVWk"
      },
      "outputs": [
        {
          "data": {
            "text/html": [
              "<div>\n",
              "<style scoped>\n",
              "    .dataframe tbody tr th:only-of-type {\n",
              "        vertical-align: middle;\n",
              "    }\n",
              "\n",
              "    .dataframe tbody tr th {\n",
              "        vertical-align: top;\n",
              "    }\n",
              "\n",
              "    .dataframe thead th {\n",
              "        text-align: right;\n",
              "    }\n",
              "</style>\n",
              "<table border=\"1\" class=\"dataframe\">\n",
              "  <thead>\n",
              "    <tr style=\"text-align: right;\">\n",
              "      <th></th>\n",
              "      <th>Date</th>\n",
              "      <th>Temperature</th>\n",
              "    </tr>\n",
              "  </thead>\n",
              "  <tbody>\n",
              "    <tr>\n",
              "      <th>40</th>\n",
              "      <td>2015-02-04 06:00:00</td>\n",
              "      <td>20.576972</td>\n",
              "    </tr>\n",
              "    <tr>\n",
              "      <th>41</th>\n",
              "      <td>2015-02-04 07:00:00</td>\n",
              "      <td>20.509123</td>\n",
              "    </tr>\n",
              "    <tr>\n",
              "      <th>42</th>\n",
              "      <td>2015-02-04 08:00:00</td>\n",
              "      <td>20.957842</td>\n",
              "    </tr>\n",
              "    <tr>\n",
              "      <th>43</th>\n",
              "      <td>2015-02-04 09:00:00</td>\n",
              "      <td>22.234915</td>\n",
              "    </tr>\n",
              "    <tr>\n",
              "      <th>44</th>\n",
              "      <td>2015-02-04 10:00:00</td>\n",
              "      <td>23.946885</td>\n",
              "    </tr>\n",
              "  </tbody>\n",
              "</table>\n",
              "</div>"
            ],
            "text/plain": [
              "                   Date  Temperature\n",
              "40  2015-02-04 06:00:00    20.576972\n",
              "41  2015-02-04 07:00:00    20.509123\n",
              "42  2015-02-04 08:00:00    20.957842\n",
              "43  2015-02-04 09:00:00    22.234915\n",
              "44  2015-02-04 10:00:00    23.946885"
            ]
          },
          "execution_count": 7,
          "metadata": {},
          "output_type": "execute_result"
        }
      ],
      "source": [
        "# Geben Sie die letzten Zeilen von Quelle 2 aus\n",
        "rawData2.tail()"
      ]
    },
    {
      "cell_type": "markdown",
      "metadata": {
        "id": "wabmQ66lIVWk"
      },
      "source": [
        "## Daten auf fehlende Werte hin überprüfen"
      ]
    },
    {
      "cell_type": "code",
      "execution_count": 8,
      "metadata": {
        "id": "Q65ZNKE1IVWl"
      },
      "outputs": [
        {
          "data": {
            "text/plain": [
              "Date           0\n",
              "Temperature    0\n",
              "dtype: int64"
            ]
          },
          "execution_count": 8,
          "metadata": {},
          "output_type": "execute_result"
        }
      ],
      "source": [
        "# Geben Sie sich die Anzahl der NaNs in den Spalten von Quelle 2 aus:\n",
        "rawData2.isna().sum()"
      ]
    },
    {
      "cell_type": "code",
      "execution_count": 9,
      "metadata": {
        "id": "HNS0_W7PIVWl"
      },
      "outputs": [
        {
          "data": {
            "text/html": [
              "<div>\n",
              "<style scoped>\n",
              "    .dataframe tbody tr th:only-of-type {\n",
              "        vertical-align: middle;\n",
              "    }\n",
              "\n",
              "    .dataframe tbody tr th {\n",
              "        vertical-align: top;\n",
              "    }\n",
              "\n",
              "    .dataframe thead th {\n",
              "        text-align: right;\n",
              "    }\n",
              "</style>\n",
              "<table border=\"1\" class=\"dataframe\">\n",
              "  <thead>\n",
              "    <tr style=\"text-align: right;\">\n",
              "      <th></th>\n",
              "      <th>Date</th>\n",
              "      <th>Temperature</th>\n",
              "    </tr>\n",
              "  </thead>\n",
              "  <tbody>\n",
              "    <tr>\n",
              "      <th>0</th>\n",
              "      <td>2015-02-02 14:00:00</td>\n",
              "      <td>23.657118</td>\n",
              "    </tr>\n",
              "    <tr>\n",
              "      <th>1</th>\n",
              "      <td>2015-02-02 15:00:00</td>\n",
              "      <td>23.293950</td>\n",
              "    </tr>\n",
              "    <tr>\n",
              "      <th>2</th>\n",
              "      <td>2015-02-02 16:00:00</td>\n",
              "      <td>22.773142</td>\n",
              "    </tr>\n",
              "    <tr>\n",
              "      <th>3</th>\n",
              "      <td>2015-02-02 17:00:00</td>\n",
              "      <td>22.534520</td>\n",
              "    </tr>\n",
              "    <tr>\n",
              "      <th>4</th>\n",
              "      <td>2015-02-02 18:00:00</td>\n",
              "      <td>21.993372</td>\n",
              "    </tr>\n",
              "  </tbody>\n",
              "</table>\n",
              "</div>"
            ],
            "text/plain": [
              "                  Date  Temperature\n",
              "0  2015-02-02 14:00:00    23.657118\n",
              "1  2015-02-02 15:00:00    23.293950\n",
              "2  2015-02-02 16:00:00    22.773142\n",
              "3  2015-02-02 17:00:00    22.534520\n",
              "4  2015-02-02 18:00:00    21.993372"
            ]
          },
          "execution_count": 9,
          "metadata": {},
          "output_type": "execute_result"
        }
      ],
      "source": [
        "# Sofern der Datensatz keine NaNs erhält --> Kopie der Rohdaten namens data2 erstellen und damit direkt weiterarbeiten:\n",
        "data2 = rawData2.copy() if rawData2.isna().sum().sum() == 0 else None\n",
        "data2.head()"
      ]
    },
    {
      "cell_type": "code",
      "execution_count": 10,
      "metadata": {
        "id": "tebtv3pFIVWl"
      },
      "outputs": [
        {
          "data": {
            "text/plain": [
              "Date          0\n",
              "Energy        0\n",
              "Light        10\n",
              "CO2           0\n",
              "Occupancy     0\n",
              "dtype: int64"
            ]
          },
          "execution_count": 10,
          "metadata": {},
          "output_type": "execute_result"
        }
      ],
      "source": [
        "# Wie sieht es bei rawData1 aus? Geben Sie für rawData1 die Anzahl der NaNs in den Spalten aus\n",
        "rawData1.isna().sum()"
      ]
    },
    {
      "cell_type": "markdown",
      "metadata": {
        "id": "L6TZB-5cIVWm"
      },
      "source": [
        "## Mit NaNs umgehen"
      ]
    },
    {
      "cell_type": "markdown",
      "metadata": {
        "id": "bI_Gr0wzIVWm"
      },
      "source": [
        "### Möglichkeit 1: alle Zeilen, in denen mindestens 1x NaN vorkommt, löschen"
      ]
    },
    {
      "cell_type": "code",
      "execution_count": 11,
      "metadata": {
        "colab": {
          "base_uri": "https://localhost:8080/"
        },
        "id": "O3RaFZ-OIVWm",
        "outputId": "d28c9197-e696-47d0-bfb8-f7f9a5dd02d0"
      },
      "outputs": [
        {
          "data": {
            "text/plain": [
              "Date         0\n",
              "Energy       0\n",
              "Light        0\n",
              "CO2          0\n",
              "Occupancy    0\n",
              "dtype: int64"
            ]
          },
          "execution_count": 11,
          "metadata": {},
          "output_type": "execute_result"
        }
      ],
      "source": [
        "# Kopie der Rohdaten anlegen\n",
        "data1_del = rawData1.copy() \n",
        "\n",
        "# Zeilen mit mind. 1x NaN löschen (d.h. in irgendeiner Spalte kommt ein NaN vor --> Zeile wird gelöscht)\n",
        "data1_del.dropna(inplace=True)\n",
        "\n",
        "# Überprüfen\n",
        "data1_del.isna().sum()"
      ]
    },
    {
      "cell_type": "markdown",
      "metadata": {
        "id": "9gM69txwIVWm"
      },
      "source": [
        "### Möglichkeit 2: Fehlende Werte durch interpolierte Werte ersetzen"
      ]
    },
    {
      "cell_type": "markdown",
      "metadata": {
        "id": "d16mQyUNIVWn"
      },
      "source": [
        "### Linear Interpolieren"
      ]
    },
    {
      "cell_type": "code",
      "execution_count": 12,
      "metadata": {
        "id": "n5EB2DDrIVWn"
      },
      "outputs": [
        {
          "data": {
            "text/plain": [
              "Date         0\n",
              "Energy       0\n",
              "Light        0\n",
              "CO2          0\n",
              "Occupancy    0\n",
              "dtype: int64"
            ]
          },
          "execution_count": 12,
          "metadata": {},
          "output_type": "execute_result"
        }
      ],
      "source": [
        "# Führen Sie eine lineare Interpolation durch. Erstellen Sie sich dazu zunächst data1_ip als Kopie von rawData1\n",
        "data1_ip = rawData1.copy()\n",
        "data1_ip.interpolate(method='linear', inplace=True)\n",
        "\n",
        "# Geben Sie sich die Anzahl an NaN in den Spalten nach der Interpolation aus:\n",
        "data1_ip.isna().sum()"
      ]
    },
    {
      "cell_type": "code",
      "execution_count": 13,
      "metadata": {
        "id": "5oZIYaFkIVWo",
        "scrolled": true
      },
      "outputs": [
        {
          "data": {
            "text/plain": [
              "<Axes: >"
            ]
          },
          "execution_count": 13,
          "metadata": {},
          "output_type": "execute_result"
        },
        {
          "data": {
            "image/png": "[encoded data removed]",
            "text/plain": [
              "<Figure size 1800x600 with 1 Axes>"
            ]
          },
          "metadata": {},
          "output_type": "display_data"
        }
      ],
      "source": [
        "# Plotten der alten Zeitreihe\n",
        "plt.figure(figsize=(18, 6))\n",
        "rawData1['Light'].plot(marker='s', color='red', markersize=4)"
      ]
    },
    {
      "cell_type": "code",
      "execution_count": 14,
      "metadata": {
        "id": "PqC9XVPlIVWo"
      },
      "outputs": [
        {
          "data": {
            "text/plain": [
              "<Axes: >"
            ]
          },
          "execution_count": 14,
          "metadata": {},
          "output_type": "execute_result"
        },
        {
          "data": {
            "image/png": "[encoded data removed]",
            "text/plain": [
              "<Figure size 1800x600 with 1 Axes>"
            ]
          },
          "metadata": {},
          "output_type": "display_data"
        }
      ],
      "source": [
        "# Neue Zeitreihe mit interpolierten Werten plotten\n",
        "plt.figure(figsize=(18, 6))\n",
        "data1_ip['Light'].plot(marker='o', color='green', markersize=4)  "
      ]
    },
    {
      "cell_type": "markdown",
      "metadata": {
        "id": "04agxgU_rB29"
      },
      "source": [
        "### Wie zufrieden sind Sie mit der Interpolation?\n",
        "\n",
        "*Sehr.*"
      ]
    },
    {
      "cell_type": "code",
      "execution_count": 15,
      "metadata": {
        "colab": {
          "base_uri": "https://localhost:8080/"
        },
        "id": "fuVjLp_qIVWp",
        "outputId": "b12801bb-c0ae-409b-f215-971759f97d50"
      },
      "outputs": [
        {
          "data": {
            "text/plain": [
              "Date         0\n",
              "Energy       0\n",
              "Light        0\n",
              "CO2          0\n",
              "Occupancy    0\n",
              "dtype: int64"
            ]
          },
          "execution_count": 15,
          "metadata": {},
          "output_type": "execute_result"
        }
      ],
      "source": [
        "# Grundsätzlich ist auch möglich mit Polynomfunktionen zu interpolieren.\n",
        "# Interpolieren Sie quadratisch (method='polynomial', order=2)\n",
        "data1_ip2 = rawData1.copy()\n",
        "data1_ip2.interpolate(method='polynomial', order=2, inplace=True)\n",
        "\n",
        "# Anzahl an NaN in Spalten ausgeben\n",
        "data1_ip2.isna().sum()"
      ]
    },
    {
      "cell_type": "code",
      "execution_count": 16,
      "metadata": {
        "id": "G-_eL_trIVWp"
      },
      "outputs": [
        {
          "data": {
            "text/plain": [
              "<Axes: >"
            ]
          },
          "execution_count": 16,
          "metadata": {},
          "output_type": "execute_result"
        },
        {
          "data": {
            "image/png": "[encoded data removed]",
            "text/plain": [
              "<Figure size 1800x600 with 1 Axes>"
            ]
          },
          "metadata": {},
          "output_type": "display_data"
        }
      ],
      "source": [
        "# Plotten Sie zum Vergleich wieder die alte und die neue Zeitreihe \n",
        "# Plot der alten Zeitreihe:\n",
        "plt.figure(figsize=(18, 6))\n",
        "rawData1['Light'].plot(marker='s', color='red', markersize=4)"
      ]
    },
    {
      "cell_type": "code",
      "execution_count": 17,
      "metadata": {},
      "outputs": [
        {
          "data": {
            "text/plain": [
              "<Axes: >"
            ]
          },
          "execution_count": 17,
          "metadata": {},
          "output_type": "execute_result"
        },
        {
          "data": {
            "image/png": "[encoded data removed]",
            "text/plain": [
              "<Figure size 1800x600 with 1 Axes>"
            ]
          },
          "metadata": {},
          "output_type": "display_data"
        }
      ],
      "source": [
        "# Plot der Zeitreihe mit linearer Interpolation:\n",
        "plt.figure(figsize=(18, 6))\n",
        "data1_ip['Light'].plot(marker='o', color='green', markersize=4)  "
      ]
    },
    {
      "cell_type": "code",
      "execution_count": 23,
      "metadata": {
        "id": "AH0ggExVIVWq"
      },
      "outputs": [
        {
          "data": {
            "text/plain": [
              "<Axes: >"
            ]
          },
          "execution_count": 23,
          "metadata": {},
          "output_type": "execute_result"
        },
        {
          "data": {
            "image/png": "[encoded data removed]",
            "text/plain": [
              "<Figure size 1800x600 with 1 Axes>"
            ]
          },
          "metadata": {},
          "output_type": "display_data"
        }
      ],
      "source": [
        "# Plot der neuen Zeitreihe mit quadratischer Interpolation:\n",
        "plt.figure(figsize=(18, 6))\n",
        "data1_ip2['Light'].plot(marker='o', color='blue', markersize=4) "
      ]
    },
    {
      "cell_type": "markdown",
      "metadata": {
        "id": "dFmSNMQPrWQK"
      },
      "source": [
        "### Hat sich die quadratische Interpolation im Vergleich zur linearen gelohnt? Welches der beiden Interpolationsverfahren würden Sie wählen?\n",
        "\n",
        "*Die quadratische Interpolation hat genauere Ergebnisse geliefert, da die Werte einen nichtllinearen Zusammenhang miteinander haben. In einem Datensatz wo die Werte linear zusammenhängen, sollte auch linear interpoliert werden. Ansonsten bietet sich an, [andere Interpolationsmethoden](https://pandas.pydata.org/docs/reference/api/pandas.DataFrame.interpolate.html) wie polinomial zu benutzen.*"
      ]
    },
    {
      "cell_type": "markdown",
      "metadata": {
        "id": "bEL2BvJFIVWq"
      },
      "source": [
        "## Zeitstempel als Index setzen\n",
        "- Momentan sind die Zeilenindizes einfach durchnummeriert: 0,1,2,...\n",
        "- Wenn der Zeitstempel als Index gesetzt wird, kann man einfacher arbeiten\n",
        "- Dafür muss der Zeitstempel als erstes in das Format datetime gebracht werden, damit Python ihn als Zeitstempel erkennt"
      ]
    },
    {
      "cell_type": "code",
      "execution_count": 19,
      "metadata": {
        "colab": {
          "base_uri": "https://localhost:8080/"
        },
        "id": "TLtd5BPyIVWq",
        "outputId": "0deefdcb-f4fa-4b19-8e8d-ca6bd7d33b0e"
      },
      "outputs": [
        {
          "data": {
            "text/plain": [
              "Date          object\n",
              "Energy       float64\n",
              "Light        float64\n",
              "CO2          float64\n",
              "Occupancy    float64\n",
              "dtype: object"
            ]
          },
          "execution_count": 19,
          "metadata": {},
          "output_type": "execute_result"
        }
      ],
      "source": [
        "# die Spalte Date ist noch nicht im datetime Format\n",
        "data1_ip.dtypes"
      ]
    },
    {
      "cell_type": "code",
      "execution_count": 24,
      "metadata": {
        "id": "vIvZgHXsIVWr"
      },
      "outputs": [
        {
          "ename": "KeyError",
          "evalue": "'Date'",
          "output_type": "error",
          "traceback": [
            "\u001b[0;31m---------------------------------------------------------------------------\u001b[0m",
            "\u001b[0;31mKeyError\u001b[0m                                  Traceback (most recent call last)",
            "File \u001b[0;32m~/WS2324/bda2/Anaconda/lib/python3.11/site-packages/pandas/core/indexes/base.py:3653\u001b[0m, in \u001b[0;36mIndex.get_loc\u001b[0;34m(self, key)\u001b[0m\n\u001b[1;32m   3652\u001b[0m \u001b[39mtry\u001b[39;00m:\n\u001b[0;32m-> 3653\u001b[0m     \u001b[39mreturn\u001b[39;00m \u001b[39mself\u001b[39m\u001b[39m.\u001b[39m_engine\u001b[39m.\u001b[39mget_loc(casted_key)\n\u001b[1;32m   3654\u001b[0m \u001b[39mexcept\u001b[39;00m \u001b[39mKeyError\u001b[39;00m \u001b[39mas\u001b[39;00m err:\n",
            "File \u001b[0;32m~/WS2324/bda2/Anaconda/lib/python3.11/site-packages/pandas/_libs/index.pyx:147\u001b[0m, in \u001b[0;36mpandas._libs.index.IndexEngine.get_loc\u001b[0;34m()\u001b[0m\n",
            "File \u001b[0;32m~/WS2324/bda2/Anaconda/lib/python3.11/site-packages/pandas/_libs/index.pyx:176\u001b[0m, in \u001b[0;36mpandas._libs.index.IndexEngine.get_loc\u001b[0;34m()\u001b[0m\n",
            "File \u001b[0;32mpandas/_libs/hashtable_class_helper.pxi:7080\u001b[0m, in \u001b[0;36mpandas._libs.hashtable.PyObjectHashTable.get_item\u001b[0;34m()\u001b[0m\n",
            "File \u001b[0;32mpandas/_libs/hashtable_class_helper.pxi:7088\u001b[0m, in \u001b[0;36mpandas._libs.hashtable.PyObjectHashTable.get_item\u001b[0;34m()\u001b[0m\n",
            "\u001b[0;31mKeyError\u001b[0m: 'Date'",
            "\nThe above exception was the direct cause of the following exception:\n",
            "\u001b[0;31mKeyError\u001b[0m                                  Traceback (most recent call last)",
            "\u001b[1;32m/home/chris/uni/Uni/year3/ada/03_GrundlagenDatenaufbereitung.ipynb Cell 31\u001b[0m line \u001b[0;36m2\n\u001b[1;32m      <a href='vscode-notebook-cell:/home/chris/uni/Uni/year3/ada/03_GrundlagenDatenaufbereitung.ipynb#X42sZmlsZQ%3D%3D?line=0'>1</a>\u001b[0m \u001b[39m# Bringen Sie die Spalte Date ins datetime Format \u001b[39;00m\n\u001b[0;32m----> <a href='vscode-notebook-cell:/home/chris/uni/Uni/year3/ada/03_GrundlagenDatenaufbereitung.ipynb#X42sZmlsZQ%3D%3D?line=1'>2</a>\u001b[0m data1_ip[\u001b[39m'\u001b[39m\u001b[39mDate\u001b[39m\u001b[39m'\u001b[39m] \u001b[39m=\u001b[39m pd\u001b[39m.\u001b[39mto_datetime(data1_ip[\u001b[39m'\u001b[39m\u001b[39mDate\u001b[39m\u001b[39m'\u001b[39m])\n",
            "File \u001b[0;32m~/WS2324/bda2/Anaconda/lib/python3.11/site-packages/pandas/core/frame.py:3761\u001b[0m, in \u001b[0;36mDataFrame.__getitem__\u001b[0;34m(self, key)\u001b[0m\n\u001b[1;32m   3759\u001b[0m \u001b[39mif\u001b[39;00m \u001b[39mself\u001b[39m\u001b[39m.\u001b[39mcolumns\u001b[39m.\u001b[39mnlevels \u001b[39m>\u001b[39m \u001b[39m1\u001b[39m:\n\u001b[1;32m   3760\u001b[0m     \u001b[39mreturn\u001b[39;00m \u001b[39mself\u001b[39m\u001b[39m.\u001b[39m_getitem_multilevel(key)\n\u001b[0;32m-> 3761\u001b[0m indexer \u001b[39m=\u001b[39m \u001b[39mself\u001b[39m\u001b[39m.\u001b[39mcolumns\u001b[39m.\u001b[39mget_loc(key)\n\u001b[1;32m   3762\u001b[0m \u001b[39mif\u001b[39;00m is_integer(indexer):\n\u001b[1;32m   3763\u001b[0m     indexer \u001b[39m=\u001b[39m [indexer]\n",
            "File \u001b[0;32m~/WS2324/bda2/Anaconda/lib/python3.11/site-packages/pandas/core/indexes/base.py:3655\u001b[0m, in \u001b[0;36mIndex.get_loc\u001b[0;34m(self, key)\u001b[0m\n\u001b[1;32m   3653\u001b[0m     \u001b[39mreturn\u001b[39;00m \u001b[39mself\u001b[39m\u001b[39m.\u001b[39m_engine\u001b[39m.\u001b[39mget_loc(casted_key)\n\u001b[1;32m   3654\u001b[0m \u001b[39mexcept\u001b[39;00m \u001b[39mKeyError\u001b[39;00m \u001b[39mas\u001b[39;00m err:\n\u001b[0;32m-> 3655\u001b[0m     \u001b[39mraise\u001b[39;00m \u001b[39mKeyError\u001b[39;00m(key) \u001b[39mfrom\u001b[39;00m \u001b[39merr\u001b[39;00m\n\u001b[1;32m   3656\u001b[0m \u001b[39mexcept\u001b[39;00m \u001b[39mTypeError\u001b[39;00m:\n\u001b[1;32m   3657\u001b[0m     \u001b[39m# If we have a listlike key, _check_indexing_error will raise\u001b[39;00m\n\u001b[1;32m   3658\u001b[0m     \u001b[39m#  InvalidIndexError. Otherwise we fall through and re-raise\u001b[39;00m\n\u001b[1;32m   3659\u001b[0m     \u001b[39m#  the TypeError.\u001b[39;00m\n\u001b[1;32m   3660\u001b[0m     \u001b[39mself\u001b[39m\u001b[39m.\u001b[39m_check_indexing_error(key)\n",
            "\u001b[0;31mKeyError\u001b[0m: 'Date'"
          ]
        }
      ],
      "source": [
        "# Bringen Sie die Spalte Date ins datetime Format \n",
        "data1_ip['Date'] = pd.to_datetime(data1_ip['Date'])"
      ]
    },
    {
      "cell_type": "code",
      "execution_count": 21,
      "metadata": {
        "id": "8Ft6Y1nNIVWr"
      },
      "outputs": [
        {
          "data": {
            "text/html": [
              "<div>\n",
              "<style scoped>\n",
              "    .dataframe tbody tr th:only-of-type {\n",
              "        vertical-align: middle;\n",
              "    }\n",
              "\n",
              "    .dataframe tbody tr th {\n",
              "        vertical-align: top;\n",
              "    }\n",
              "\n",
              "    .dataframe thead th {\n",
              "        text-align: right;\n",
              "    }\n",
              "</style>\n",
              "<table border=\"1\" class=\"dataframe\">\n",
              "  <thead>\n",
              "    <tr style=\"text-align: right;\">\n",
              "      <th></th>\n",
              "      <th>Energy</th>\n",
              "      <th>Light</th>\n",
              "      <th>CO2</th>\n",
              "      <th>Occupancy</th>\n",
              "    </tr>\n",
              "    <tr>\n",
              "      <th>Date</th>\n",
              "      <th></th>\n",
              "      <th></th>\n",
              "      <th></th>\n",
              "      <th></th>\n",
              "    </tr>\n",
              "  </thead>\n",
              "  <tbody>\n",
              "    <tr>\n",
              "      <th>2015-02-02 14:15:00</th>\n",
              "      <td>26.285636</td>\n",
              "      <td>527.283333</td>\n",
              "      <td>785.951515</td>\n",
              "      <td>1.0</td>\n",
              "    </tr>\n",
              "    <tr>\n",
              "      <th>2015-02-02 14:30:00</th>\n",
              "      <td>27.016313</td>\n",
              "      <td>481.697917</td>\n",
              "      <td>894.539583</td>\n",
              "      <td>1.0</td>\n",
              "    </tr>\n",
              "    <tr>\n",
              "      <th>2015-02-02 14:45:00</th>\n",
              "      <td>27.612107</td>\n",
              "      <td>499.415646</td>\n",
              "      <td>992.291327</td>\n",
              "      <td>1.0</td>\n",
              "    </tr>\n",
              "    <tr>\n",
              "      <th>2015-02-02 15:00:00</th>\n",
              "      <td>28.006019</td>\n",
              "      <td>456.436190</td>\n",
              "      <td>1051.151905</td>\n",
              "      <td>1.0</td>\n",
              "    </tr>\n",
              "    <tr>\n",
              "      <th>2015-02-02 15:15:00</th>\n",
              "      <td>28.489948</td>\n",
              "      <td>464.760417</td>\n",
              "      <td>1101.779167</td>\n",
              "      <td>1.0</td>\n",
              "    </tr>\n",
              "  </tbody>\n",
              "</table>\n",
              "</div>"
            ],
            "text/plain": [
              "                        Energy       Light          CO2  Occupancy\n",
              "Date                                                              \n",
              "2015-02-02 14:15:00  26.285636  527.283333   785.951515        1.0\n",
              "2015-02-02 14:30:00  27.016313  481.697917   894.539583        1.0\n",
              "2015-02-02 14:45:00  27.612107  499.415646   992.291327        1.0\n",
              "2015-02-02 15:00:00  28.006019  456.436190  1051.151905        1.0\n",
              "2015-02-02 15:15:00  28.489948  464.760417  1101.779167        1.0"
            ]
          },
          "execution_count": 21,
          "metadata": {},
          "output_type": "execute_result"
        }
      ],
      "source": [
        "# Indizieren Sie mit der Zeitstempel-Spalte \n",
        "if data1_ip.index.name != 'Date':\n",
        "    data1_ip.set_index('Date', inplace=True)\n",
        "\n",
        "# Kontrollieren Sie das durch Ausgabe der ersten Zeilen des Datensatzes. \n",
        "data1_ip.head()"
      ]
    },
    {
      "cell_type": "markdown",
      "metadata": {
        "id": "O25wCPosryDD"
      },
      "source": [
        "### Wird bei wiederholtem Ausführen obiger Zelle ein Fehler geworfen? Müssen Sie etwas am Code korrigieren?\n",
        "\n",
        "*Ein Fehler tritt auf, weil der Index `Date` bereits gesetzt ist. Das liegt daran, dass `set_index` versucht, den Index erneut zu setzen, obwohl er bereits auf `Date` gesetzt ist. Dies kann zu einem Konflikt führen.*\n",
        "\n",
        "*Um diesen Fehler zu vermeiden, sollte man vor dem erneuten Ausführen von `set_index`  überprüfen, ob der Index bereits auf `Date` gesetzt ist.*"
      ]
    },
    {
      "cell_type": "code",
      "execution_count": null,
      "metadata": {
        "id": "SgELhwmFIVWr"
      },
      "outputs": [],
      "source": [
        "# Indizieren Sie auch data2 mit dessen Zeitstempel\n",
        "data2['Date'] = pd.to_datetime(data2['Date'])"
      ]
    },
    {
      "cell_type": "code",
      "execution_count": null,
      "metadata": {
        "id": "LVWKPNsFIVWr"
      },
      "outputs": [
        {
          "data": {
            "text/html": [
              "<div>\n",
              "<style scoped>\n",
              "    .dataframe tbody tr th:only-of-type {\n",
              "        vertical-align: middle;\n",
              "    }\n",
              "\n",
              "    .dataframe tbody tr th {\n",
              "        vertical-align: top;\n",
              "    }\n",
              "\n",
              "    .dataframe thead th {\n",
              "        text-align: right;\n",
              "    }\n",
              "</style>\n",
              "<table border=\"1\" class=\"dataframe\">\n",
              "  <thead>\n",
              "    <tr style=\"text-align: right;\">\n",
              "      <th></th>\n",
              "      <th>Temperature</th>\n",
              "    </tr>\n",
              "    <tr>\n",
              "      <th>Date</th>\n",
              "      <th></th>\n",
              "    </tr>\n",
              "  </thead>\n",
              "  <tbody>\n",
              "    <tr>\n",
              "      <th>2015-02-02 14:00:00</th>\n",
              "      <td>23.657118</td>\n",
              "    </tr>\n",
              "    <tr>\n",
              "      <th>2015-02-02 15:00:00</th>\n",
              "      <td>23.293950</td>\n",
              "    </tr>\n",
              "    <tr>\n",
              "      <th>2015-02-02 16:00:00</th>\n",
              "      <td>22.773142</td>\n",
              "    </tr>\n",
              "    <tr>\n",
              "      <th>2015-02-02 17:00:00</th>\n",
              "      <td>22.534520</td>\n",
              "    </tr>\n",
              "    <tr>\n",
              "      <th>2015-02-02 18:00:00</th>\n",
              "      <td>21.993372</td>\n",
              "    </tr>\n",
              "  </tbody>\n",
              "</table>\n",
              "</div>"
            ],
            "text/plain": [
              "                     Temperature\n",
              "Date                            \n",
              "2015-02-02 14:00:00    23.657118\n",
              "2015-02-02 15:00:00    23.293950\n",
              "2015-02-02 16:00:00    22.773142\n",
              "2015-02-02 17:00:00    22.534520\n",
              "2015-02-02 18:00:00    21.993372"
            ]
          },
          "execution_count": 217,
          "metadata": {},
          "output_type": "execute_result"
        }
      ],
      "source": [
        "if data2.index.name != 'Date':\n",
        "    data2.set_index('Date', inplace=True)\n",
        "\n",
        "data2.head()"
      ]
    },
    {
      "cell_type": "markdown",
      "metadata": {
        "id": "ddZVxF1aIVWs"
      },
      "source": [
        "## Datensätze zu einem Zusammenfügen\n",
        "- Problem: Die Datensätze haben unterschiedliche Frequenzen: Datensatz 1: 15min, Datensatz 2: stündlich (60 min)\n",
        "- Möglichkeit 1: Nur die Indizes nehmen, die sowohl in Datensatz 1, als auch in Datensatz 2 sind, also jede volle Stunde\n",
        "- Möglichkeit 2: Den Datensatz mit der höheren Frequenz (Datensatz 1) runtersamplen, z.B. indem der stündliche Mittelwert oder die Summe über je eine Stunde gebildet wird"
      ]
    },
    {
      "cell_type": "markdown",
      "metadata": {
        "id": "LMPjks0xIVWs"
      },
      "source": [
        "### Worauf muss man aufpassen, wenn man Möglichkeit 2 wählt?\n",
        "- *Ergebnisse können unkonsistent sein* \n",
        "- *Zeitstempel auf die Stunden aufrunden*\n",
        "- *Datensatzqualität kann damit leiden*"
      ]
    },
    {
      "cell_type": "markdown",
      "metadata": {
        "id": "Lu9e7PuJIVWs"
      },
      "source": [
        "### Möglichkeit 1: Nur die Indizes nehmen, die sowohl in Datensatz 1, als auch in Datensatz 2 sind"
      ]
    },
    {
      "cell_type": "code",
      "execution_count": null,
      "metadata": {
        "colab": {
          "base_uri": "https://localhost:8080/",
          "height": 237
        },
        "id": "bYOde3ExIVWs",
        "outputId": "d2d687ac-e25b-4960-8ba7-e9171c3693b0"
      },
      "outputs": [
        {
          "data": {
            "text/html": [
              "<div>\n",
              "<style scoped>\n",
              "    .dataframe tbody tr th:only-of-type {\n",
              "        vertical-align: middle;\n",
              "    }\n",
              "\n",
              "    .dataframe tbody tr th {\n",
              "        vertical-align: top;\n",
              "    }\n",
              "\n",
              "    .dataframe thead th {\n",
              "        text-align: right;\n",
              "    }\n",
              "</style>\n",
              "<table border=\"1\" class=\"dataframe\">\n",
              "  <thead>\n",
              "    <tr style=\"text-align: right;\">\n",
              "      <th></th>\n",
              "      <th>Energy</th>\n",
              "      <th>Light</th>\n",
              "      <th>CO2</th>\n",
              "      <th>Occupancy</th>\n",
              "      <th>Temperature</th>\n",
              "    </tr>\n",
              "    <tr>\n",
              "      <th>Date</th>\n",
              "      <th></th>\n",
              "      <th></th>\n",
              "      <th></th>\n",
              "      <th></th>\n",
              "      <th></th>\n",
              "    </tr>\n",
              "  </thead>\n",
              "  <tbody>\n",
              "    <tr>\n",
              "      <th>2015-02-02 14:00:00</th>\n",
              "      <td>NaN</td>\n",
              "      <td>NaN</td>\n",
              "      <td>NaN</td>\n",
              "      <td>NaN</td>\n",
              "      <td>23.657118</td>\n",
              "    </tr>\n",
              "    <tr>\n",
              "      <th>2015-02-02 14:15:00</th>\n",
              "      <td>26.285636</td>\n",
              "      <td>527.283333</td>\n",
              "      <td>785.951515</td>\n",
              "      <td>1.0</td>\n",
              "      <td>NaN</td>\n",
              "    </tr>\n",
              "    <tr>\n",
              "      <th>2015-02-02 14:30:00</th>\n",
              "      <td>27.016313</td>\n",
              "      <td>481.697917</td>\n",
              "      <td>894.539583</td>\n",
              "      <td>1.0</td>\n",
              "      <td>NaN</td>\n",
              "    </tr>\n",
              "    <tr>\n",
              "      <th>2015-02-02 14:45:00</th>\n",
              "      <td>27.612107</td>\n",
              "      <td>499.415646</td>\n",
              "      <td>992.291327</td>\n",
              "      <td>1.0</td>\n",
              "      <td>NaN</td>\n",
              "    </tr>\n",
              "    <tr>\n",
              "      <th>2015-02-02 15:00:00</th>\n",
              "      <td>28.006019</td>\n",
              "      <td>456.436190</td>\n",
              "      <td>1051.151905</td>\n",
              "      <td>1.0</td>\n",
              "      <td>23.293950</td>\n",
              "    </tr>\n",
              "  </tbody>\n",
              "</table>\n",
              "</div>"
            ],
            "text/plain": [
              "                        Energy       Light          CO2  Occupancy  \\\n",
              "Date                                                                 \n",
              "2015-02-02 14:00:00        NaN         NaN          NaN        NaN   \n",
              "2015-02-02 14:15:00  26.285636  527.283333   785.951515        1.0   \n",
              "2015-02-02 14:30:00  27.016313  481.697917   894.539583        1.0   \n",
              "2015-02-02 14:45:00  27.612107  499.415646   992.291327        1.0   \n",
              "2015-02-02 15:00:00  28.006019  456.436190  1051.151905        1.0   \n",
              "\n",
              "                     Temperature  \n",
              "Date                              \n",
              "2015-02-02 14:00:00    23.657118  \n",
              "2015-02-02 14:15:00          NaN  \n",
              "2015-02-02 14:30:00          NaN  \n",
              "2015-02-02 14:45:00          NaN  \n",
              "2015-02-02 15:00:00    23.293950  "
            ]
          },
          "execution_count": 218,
          "metadata": {},
          "output_type": "execute_result"
        }
      ],
      "source": [
        "# Neuen Datensatz definieren, der aus Datensatz 2 von rechts angehängt an Datensatz 1 besteht\n",
        "data = pd.concat([data1_ip, data2], axis=1)\n",
        "\n",
        "# Dort wo keine Werte für den jeweiligen Zeitstempel vorhanden sind, werden NaN eingefügt\n",
        "data.head()"
      ]
    },
    {
      "cell_type": "code",
      "execution_count": null,
      "metadata": {
        "id": "RnHb4P4nIVWt"
      },
      "outputs": [
        {
          "data": {
            "text/html": [
              "<div>\n",
              "<style scoped>\n",
              "    .dataframe tbody tr th:only-of-type {\n",
              "        vertical-align: middle;\n",
              "    }\n",
              "\n",
              "    .dataframe tbody tr th {\n",
              "        vertical-align: top;\n",
              "    }\n",
              "\n",
              "    .dataframe thead th {\n",
              "        text-align: right;\n",
              "    }\n",
              "</style>\n",
              "<table border=\"1\" class=\"dataframe\">\n",
              "  <thead>\n",
              "    <tr style=\"text-align: right;\">\n",
              "      <th></th>\n",
              "      <th>Energy</th>\n",
              "      <th>Light</th>\n",
              "      <th>CO2</th>\n",
              "      <th>Occupancy</th>\n",
              "      <th>Temperature</th>\n",
              "    </tr>\n",
              "    <tr>\n",
              "      <th>Date</th>\n",
              "      <th></th>\n",
              "      <th></th>\n",
              "      <th></th>\n",
              "      <th></th>\n",
              "      <th></th>\n",
              "    </tr>\n",
              "  </thead>\n",
              "  <tbody>\n",
              "    <tr>\n",
              "      <th>2015-02-02 15:00:00</th>\n",
              "      <td>28.006019</td>\n",
              "      <td>456.436190</td>\n",
              "      <td>1051.151905</td>\n",
              "      <td>1.0</td>\n",
              "      <td>23.293950</td>\n",
              "    </tr>\n",
              "    <tr>\n",
              "      <th>2015-02-02 16:00:00</th>\n",
              "      <td>28.074896</td>\n",
              "      <td>429.187500</td>\n",
              "      <td>1078.897917</td>\n",
              "      <td>1.0</td>\n",
              "      <td>22.773142</td>\n",
              "    </tr>\n",
              "    <tr>\n",
              "      <th>2015-02-02 17:00:00</th>\n",
              "      <td>25.045857</td>\n",
              "      <td>431.085714</td>\n",
              "      <td>828.878571</td>\n",
              "      <td>1.0</td>\n",
              "      <td>22.534520</td>\n",
              "    </tr>\n",
              "    <tr>\n",
              "      <th>2015-02-02 18:00:00</th>\n",
              "      <td>24.919900</td>\n",
              "      <td>131.936667</td>\n",
              "      <td>782.071111</td>\n",
              "      <td>0.0</td>\n",
              "      <td>21.993372</td>\n",
              "    </tr>\n",
              "    <tr>\n",
              "      <th>2015-02-02 19:00:00</th>\n",
              "      <td>24.088542</td>\n",
              "      <td>0.000000</td>\n",
              "      <td>621.942708</td>\n",
              "      <td>0.0</td>\n",
              "      <td>21.276331</td>\n",
              "    </tr>\n",
              "  </tbody>\n",
              "</table>\n",
              "</div>"
            ],
            "text/plain": [
              "                        Energy       Light          CO2  Occupancy  \\\n",
              "Date                                                                 \n",
              "2015-02-02 15:00:00  28.006019  456.436190  1051.151905        1.0   \n",
              "2015-02-02 16:00:00  28.074896  429.187500  1078.897917        1.0   \n",
              "2015-02-02 17:00:00  25.045857  431.085714   828.878571        1.0   \n",
              "2015-02-02 18:00:00  24.919900  131.936667   782.071111        0.0   \n",
              "2015-02-02 19:00:00  24.088542    0.000000   621.942708        0.0   \n",
              "\n",
              "                     Temperature  \n",
              "Date                              \n",
              "2015-02-02 15:00:00    23.293950  \n",
              "2015-02-02 16:00:00    22.773142  \n",
              "2015-02-02 17:00:00    22.534520  \n",
              "2015-02-02 18:00:00    21.993372  \n",
              "2015-02-02 19:00:00    21.276331  "
            ]
          },
          "execution_count": 219,
          "metadata": {},
          "output_type": "execute_result"
        }
      ],
      "source": [
        "# Löschen Sie nun noch die Zeilen in denen mindestens 1x NaN vorkommt:\n",
        "data.dropna(inplace=True)\n",
        "\n",
        "# Ausgabe der ersten Zeilen von data zur Kontrolle:\n",
        "data.head()"
      ]
    },
    {
      "cell_type": "markdown",
      "metadata": {
        "id": "gV8uMR8tIVWt"
      },
      "source": [
        "## Möglichkeit 2: \n",
        "- Datensatz 1 soll von 15minüten auf stündliche Werte runtergesampelt werden\n",
        "- Für die Spalten Light und CO2 soll dazu der stündliche Mittelwert genommen werden\n",
        "- Für die Spalte Energy soll dazu jeweils die Summe über die 4 Werte in einer Stunde gebildet werden\n",
        "- Für die Spalte Occupancy soll einfach der Wert zur vollen Stunde genommen werden"
      ]
    },
    {
      "cell_type": "code",
      "execution_count": null,
      "metadata": {
        "colab": {
          "base_uri": "https://localhost:8080/",
          "height": 186
        },
        "id": "vmMYDS3JIVWt",
        "outputId": "5d6e1c27-3e3c-441c-fa8c-a5fd400974c8"
      },
      "outputs": [
        {
          "data": {
            "text/html": [
              "<div>\n",
              "<style scoped>\n",
              "    .dataframe tbody tr th:only-of-type {\n",
              "        vertical-align: middle;\n",
              "    }\n",
              "\n",
              "    .dataframe tbody tr th {\n",
              "        vertical-align: top;\n",
              "    }\n",
              "\n",
              "    .dataframe thead th {\n",
              "        text-align: right;\n",
              "    }\n",
              "</style>\n",
              "<table border=\"1\" class=\"dataframe\">\n",
              "  <thead>\n",
              "    <tr style=\"text-align: right;\">\n",
              "      <th></th>\n",
              "      <th>Energy</th>\n",
              "      <th>Light</th>\n",
              "      <th>CO2</th>\n",
              "      <th>Occupancy</th>\n",
              "    </tr>\n",
              "    <tr>\n",
              "      <th>Date</th>\n",
              "      <th></th>\n",
              "      <th></th>\n",
              "      <th></th>\n",
              "      <th></th>\n",
              "    </tr>\n",
              "  </thead>\n",
              "  <tbody>\n",
              "    <tr>\n",
              "      <th>2015-02-02 14:15:00</th>\n",
              "      <td>26.285636</td>\n",
              "      <td>527.283333</td>\n",
              "      <td>785.951515</td>\n",
              "      <td>1.0</td>\n",
              "    </tr>\n",
              "    <tr>\n",
              "      <th>2015-02-02 14:30:00</th>\n",
              "      <td>27.016313</td>\n",
              "      <td>481.697917</td>\n",
              "      <td>894.539583</td>\n",
              "      <td>1.0</td>\n",
              "    </tr>\n",
              "    <tr>\n",
              "      <th>2015-02-02 14:45:00</th>\n",
              "      <td>27.612107</td>\n",
              "      <td>499.415646</td>\n",
              "      <td>992.291327</td>\n",
              "      <td>1.0</td>\n",
              "    </tr>\n",
              "    <tr>\n",
              "      <th>2015-02-02 15:00:00</th>\n",
              "      <td>28.006019</td>\n",
              "      <td>456.436190</td>\n",
              "      <td>1051.151905</td>\n",
              "      <td>1.0</td>\n",
              "    </tr>\n",
              "    <tr>\n",
              "      <th>2015-02-02 15:15:00</th>\n",
              "      <td>28.489948</td>\n",
              "      <td>464.760417</td>\n",
              "      <td>1101.779167</td>\n",
              "      <td>1.0</td>\n",
              "    </tr>\n",
              "  </tbody>\n",
              "</table>\n",
              "</div>"
            ],
            "text/plain": [
              "                        Energy       Light          CO2  Occupancy\n",
              "Date                                                              \n",
              "2015-02-02 14:15:00  26.285636  527.283333   785.951515        1.0\n",
              "2015-02-02 14:30:00  27.016313  481.697917   894.539583        1.0\n",
              "2015-02-02 14:45:00  27.612107  499.415646   992.291327        1.0\n",
              "2015-02-02 15:00:00  28.006019  456.436190  1051.151905        1.0\n",
              "2015-02-02 15:15:00  28.489948  464.760417  1101.779167        1.0"
            ]
          },
          "execution_count": 220,
          "metadata": {},
          "output_type": "execute_result"
        }
      ],
      "source": [
        "# Ursprünglicher Datensatz\n",
        "data1_ip.head()"
      ]
    },
    {
      "cell_type": "code",
      "execution_count": null,
      "metadata": {
        "colab": {
          "base_uri": "https://localhost:8080/",
          "height": 237
        },
        "id": "KWkSg200IVWt",
        "outputId": "13f0e088-de16-494a-81b9-520ef7e7369f"
      },
      "outputs": [
        {
          "data": {
            "text/html": [
              "<div>\n",
              "<style scoped>\n",
              "    .dataframe tbody tr th:only-of-type {\n",
              "        vertical-align: middle;\n",
              "    }\n",
              "\n",
              "    .dataframe tbody tr th {\n",
              "        vertical-align: top;\n",
              "    }\n",
              "\n",
              "    .dataframe thead th {\n",
              "        text-align: right;\n",
              "    }\n",
              "</style>\n",
              "<table border=\"1\" class=\"dataframe\">\n",
              "  <thead>\n",
              "    <tr style=\"text-align: right;\">\n",
              "      <th></th>\n",
              "      <th>Light</th>\n",
              "      <th>CO2</th>\n",
              "    </tr>\n",
              "    <tr>\n",
              "      <th>Date</th>\n",
              "      <th></th>\n",
              "      <th></th>\n",
              "    </tr>\n",
              "  </thead>\n",
              "  <tbody>\n",
              "    <tr>\n",
              "      <th>2015-02-02 14:15:00</th>\n",
              "      <td>527.283333</td>\n",
              "      <td>785.951515</td>\n",
              "    </tr>\n",
              "    <tr>\n",
              "      <th>2015-02-02 14:30:00</th>\n",
              "      <td>481.697917</td>\n",
              "      <td>894.539583</td>\n",
              "    </tr>\n",
              "    <tr>\n",
              "      <th>2015-02-02 14:45:00</th>\n",
              "      <td>499.415646</td>\n",
              "      <td>992.291327</td>\n",
              "    </tr>\n",
              "    <tr>\n",
              "      <th>2015-02-02 15:00:00</th>\n",
              "      <td>456.436190</td>\n",
              "      <td>1051.151905</td>\n",
              "    </tr>\n",
              "    <tr>\n",
              "      <th>2015-02-02 15:15:00</th>\n",
              "      <td>464.760417</td>\n",
              "      <td>1101.779167</td>\n",
              "    </tr>\n",
              "  </tbody>\n",
              "</table>\n",
              "</div>"
            ],
            "text/plain": [
              "                          Light          CO2\n",
              "Date                                        \n",
              "2015-02-02 14:15:00  527.283333   785.951515\n",
              "2015-02-02 14:30:00  481.697917   894.539583\n",
              "2015-02-02 14:45:00  499.415646   992.291327\n",
              "2015-02-02 15:00:00  456.436190  1051.151905\n",
              "2015-02-02 15:15:00  464.760417  1101.779167"
            ]
          },
          "execution_count": 221,
          "metadata": {},
          "output_type": "execute_result"
        }
      ],
      "source": [
        "# Ursprünglichen Datensatz aufteilen\n",
        "\n",
        "# nur die Spalten, die gemittelt werden sollen \n",
        "data1_mean = data1_ip.copy()\n",
        "data1_mean.drop(['Energy', 'Occupancy'], axis=1, inplace=True)\n",
        "data1_mean.head()"
      ]
    },
    {
      "cell_type": "code",
      "execution_count": null,
      "metadata": {
        "id": "XgE2LujPIVWt"
      },
      "outputs": [
        {
          "data": {
            "text/html": [
              "<div>\n",
              "<style scoped>\n",
              "    .dataframe tbody tr th:only-of-type {\n",
              "        vertical-align: middle;\n",
              "    }\n",
              "\n",
              "    .dataframe tbody tr th {\n",
              "        vertical-align: top;\n",
              "    }\n",
              "\n",
              "    .dataframe thead th {\n",
              "        text-align: right;\n",
              "    }\n",
              "</style>\n",
              "<table border=\"1\" class=\"dataframe\">\n",
              "  <thead>\n",
              "    <tr style=\"text-align: right;\">\n",
              "      <th></th>\n",
              "      <th>Energy</th>\n",
              "    </tr>\n",
              "    <tr>\n",
              "      <th>Date</th>\n",
              "      <th></th>\n",
              "    </tr>\n",
              "  </thead>\n",
              "  <tbody>\n",
              "    <tr>\n",
              "      <th>2015-02-02 14:15:00</th>\n",
              "      <td>26.285636</td>\n",
              "    </tr>\n",
              "    <tr>\n",
              "      <th>2015-02-02 14:30:00</th>\n",
              "      <td>27.016313</td>\n",
              "    </tr>\n",
              "    <tr>\n",
              "      <th>2015-02-02 14:45:00</th>\n",
              "      <td>27.612107</td>\n",
              "    </tr>\n",
              "    <tr>\n",
              "      <th>2015-02-02 15:00:00</th>\n",
              "      <td>28.006019</td>\n",
              "    </tr>\n",
              "    <tr>\n",
              "      <th>2015-02-02 15:15:00</th>\n",
              "      <td>28.489948</td>\n",
              "    </tr>\n",
              "  </tbody>\n",
              "</table>\n",
              "</div>"
            ],
            "text/plain": [
              "                        Energy\n",
              "Date                          \n",
              "2015-02-02 14:15:00  26.285636\n",
              "2015-02-02 14:30:00  27.016313\n",
              "2015-02-02 14:45:00  27.612107\n",
              "2015-02-02 15:00:00  28.006019\n",
              "2015-02-02 15:15:00  28.489948"
            ]
          },
          "execution_count": 223,
          "metadata": {},
          "output_type": "execute_result"
        }
      ],
      "source": [
        "# Generieren Sie einen Datensatz data1_sum, der nur die Spalten enthält, die summiert werden sollen\n",
        "data1_sum = data1_ip[['Energy']]\n",
        "data1_sum.head() # nur Energy muss summiert werden"
      ]
    },
    {
      "cell_type": "code",
      "execution_count": null,
      "metadata": {
        "id": "1Vmf8xERIVWu"
      },
      "outputs": [],
      "source": [
        "# Generieren Sie einen Datensatz data1_binary, der nur die Spalten enthält, die weder gemittelt noch aufsummiert werden sollen\n",
        "data1_binary = data1_ip[['Occupancy']]"
      ]
    },
    {
      "cell_type": "code",
      "execution_count": null,
      "metadata": {
        "id": "IxEBdUbcIVWu"
      },
      "outputs": [
        {
          "data": {
            "text/html": [
              "<div>\n",
              "<style scoped>\n",
              "    .dataframe tbody tr th:only-of-type {\n",
              "        vertical-align: middle;\n",
              "    }\n",
              "\n",
              "    .dataframe tbody tr th {\n",
              "        vertical-align: top;\n",
              "    }\n",
              "\n",
              "    .dataframe thead th {\n",
              "        text-align: right;\n",
              "    }\n",
              "</style>\n",
              "<table border=\"1\" class=\"dataframe\">\n",
              "  <thead>\n",
              "    <tr style=\"text-align: right;\">\n",
              "      <th></th>\n",
              "      <th>Light</th>\n",
              "      <th>CO2</th>\n",
              "    </tr>\n",
              "    <tr>\n",
              "      <th>Date</th>\n",
              "      <th></th>\n",
              "      <th></th>\n",
              "    </tr>\n",
              "  </thead>\n",
              "  <tbody>\n",
              "    <tr>\n",
              "      <th>2015-02-02 14:00:00</th>\n",
              "      <td>502.798965</td>\n",
              "      <td>890.927475</td>\n",
              "    </tr>\n",
              "    <tr>\n",
              "      <th>2015-02-02 15:00:00</th>\n",
              "      <td>456.677902</td>\n",
              "      <td>1103.590327</td>\n",
              "    </tr>\n",
              "    <tr>\n",
              "      <th>2015-02-02 16:00:00</th>\n",
              "      <td>434.929193</td>\n",
              "      <td>980.338952</td>\n",
              "    </tr>\n",
              "    <tr>\n",
              "      <th>2015-02-02 17:00:00</th>\n",
              "      <td>426.717991</td>\n",
              "      <td>821.892560</td>\n",
              "    </tr>\n",
              "    <tr>\n",
              "      <th>2015-02-02 18:00:00</th>\n",
              "      <td>32.984167</td>\n",
              "      <td>719.712031</td>\n",
              "    </tr>\n",
              "  </tbody>\n",
              "</table>\n",
              "</div>"
            ],
            "text/plain": [
              "                          Light          CO2\n",
              "Date                                        \n",
              "2015-02-02 14:00:00  502.798965   890.927475\n",
              "2015-02-02 15:00:00  456.677902  1103.590327\n",
              "2015-02-02 16:00:00  434.929193   980.338952\n",
              "2015-02-02 17:00:00  426.717991   821.892560\n",
              "2015-02-02 18:00:00   32.984167   719.712031"
            ]
          },
          "execution_count": 230,
          "metadata": {},
          "output_type": "execute_result"
        }
      ],
      "source": [
        "# Bringen Sie den Datensatz data1_mean durch Mittelwertbildung auf eine höhere Frequenz (stündlich):\n",
        "data1_mean_hourly = data1_mean.resample(rule = '1H').mean()\n",
        "\n",
        "# Lassen Sie sich zur Kontrolle die ersten Zeilen ausgeben:\n",
        "data1_mean_hourly.head()"
      ]
    },
    {
      "cell_type": "code",
      "execution_count": null,
      "metadata": {
        "id": "dWHYTwA0IVWv"
      },
      "outputs": [
        {
          "data": {
            "text/html": [
              "<div>\n",
              "<style scoped>\n",
              "    .dataframe tbody tr th:only-of-type {\n",
              "        vertical-align: middle;\n",
              "    }\n",
              "\n",
              "    .dataframe tbody tr th {\n",
              "        vertical-align: top;\n",
              "    }\n",
              "\n",
              "    .dataframe thead th {\n",
              "        text-align: right;\n",
              "    }\n",
              "</style>\n",
              "<table border=\"1\" class=\"dataframe\">\n",
              "  <thead>\n",
              "    <tr style=\"text-align: right;\">\n",
              "      <th></th>\n",
              "      <th>Energy</th>\n",
              "    </tr>\n",
              "    <tr>\n",
              "      <th>Date</th>\n",
              "      <th></th>\n",
              "    </tr>\n",
              "  </thead>\n",
              "  <tbody>\n",
              "    <tr>\n",
              "      <th>2015-02-02 14:00:00</th>\n",
              "      <td>80.914056</td>\n",
              "    </tr>\n",
              "    <tr>\n",
              "      <th>2015-02-02 15:00:00</th>\n",
              "      <td>113.657907</td>\n",
              "    </tr>\n",
              "    <tr>\n",
              "      <th>2015-02-02 16:00:00</th>\n",
              "      <td>106.986065</td>\n",
              "    </tr>\n",
              "    <tr>\n",
              "      <th>2015-02-02 17:00:00</th>\n",
              "      <td>99.873477</td>\n",
              "    </tr>\n",
              "    <tr>\n",
              "      <th>2015-02-02 18:00:00</th>\n",
              "      <td>98.368227</td>\n",
              "    </tr>\n",
              "  </tbody>\n",
              "</table>\n",
              "</div>"
            ],
            "text/plain": [
              "                         Energy\n",
              "Date                           \n",
              "2015-02-02 14:00:00   80.914056\n",
              "2015-02-02 15:00:00  113.657907\n",
              "2015-02-02 16:00:00  106.986065\n",
              "2015-02-02 17:00:00   99.873477\n",
              "2015-02-02 18:00:00   98.368227"
            ]
          },
          "execution_count": 231,
          "metadata": {},
          "output_type": "execute_result"
        }
      ],
      "source": [
        "# Bringen Sie data1_sum durch Summenbildung auf eine höhere Frequenz (stündlich). (statt .mean() verwenden Sie .sum())\n",
        "data1_sum_hourly = data1_sum.resample(rule = '1H').sum()\n",
        "\n",
        "# Ausgabe der ersten Zeilen zur Kontrolle:\n",
        "data1_sum_hourly.head()"
      ]
    },
    {
      "cell_type": "code",
      "execution_count": null,
      "metadata": {},
      "outputs": [
        {
          "data": {
            "text/html": [
              "<div>\n",
              "<style scoped>\n",
              "    .dataframe tbody tr th:only-of-type {\n",
              "        vertical-align: middle;\n",
              "    }\n",
              "\n",
              "    .dataframe tbody tr th {\n",
              "        vertical-align: top;\n",
              "    }\n",
              "\n",
              "    .dataframe thead th {\n",
              "        text-align: right;\n",
              "    }\n",
              "</style>\n",
              "<table border=\"1\" class=\"dataframe\">\n",
              "  <thead>\n",
              "    <tr style=\"text-align: right;\">\n",
              "      <th></th>\n",
              "      <th>Occupancy</th>\n",
              "    </tr>\n",
              "    <tr>\n",
              "      <th>Date</th>\n",
              "      <th></th>\n",
              "    </tr>\n",
              "  </thead>\n",
              "  <tbody>\n",
              "    <tr>\n",
              "      <th>2015-02-02 14:00:00</th>\n",
              "      <td>1.0</td>\n",
              "    </tr>\n",
              "    <tr>\n",
              "      <th>2015-02-02 15:00:00</th>\n",
              "      <td>1.0</td>\n",
              "    </tr>\n",
              "    <tr>\n",
              "      <th>2015-02-02 16:00:00</th>\n",
              "      <td>1.0</td>\n",
              "    </tr>\n",
              "    <tr>\n",
              "      <th>2015-02-02 17:00:00</th>\n",
              "      <td>1.0</td>\n",
              "    </tr>\n",
              "    <tr>\n",
              "      <th>2015-02-02 18:00:00</th>\n",
              "      <td>0.0</td>\n",
              "    </tr>\n",
              "  </tbody>\n",
              "</table>\n",
              "</div>"
            ],
            "text/plain": [
              "                     Occupancy\n",
              "Date                          \n",
              "2015-02-02 14:00:00        1.0\n",
              "2015-02-02 15:00:00        1.0\n",
              "2015-02-02 16:00:00        1.0\n",
              "2015-02-02 17:00:00        1.0\n",
              "2015-02-02 18:00:00        0.0"
            ]
          },
          "execution_count": 234,
          "metadata": {},
          "output_type": "execute_result"
        }
      ],
      "source": [
        "# Bringen Sie den Datensatz data1_binary auf eine höhere Frequenz (stündlich). \n",
        "# Dafür soll immer der Wert des Merkmals Occupancy zu vollen Stunde genommen werden, die anderen Werte sollen verworfen werden. \n",
        "data1_binary_hourly = data1_binary.resample(rule = '1H').first()\n",
        "\n",
        "# Ausgabe der ersten Zeilen zur Kontrolle:\n",
        "data1_binary_hourly.head()"
      ]
    },
    {
      "cell_type": "code",
      "execution_count": null,
      "metadata": {
        "colab": {
          "base_uri": "https://localhost:8080/",
          "height": 237
        },
        "id": "tUr7_65mIVWw",
        "outputId": "f4e2c0eb-7ab6-41d8-9542-02711e05a3fc"
      },
      "outputs": [
        {
          "data": {
            "text/html": [
              "<div>\n",
              "<style scoped>\n",
              "    .dataframe tbody tr th:only-of-type {\n",
              "        vertical-align: middle;\n",
              "    }\n",
              "\n",
              "    .dataframe tbody tr th {\n",
              "        vertical-align: top;\n",
              "    }\n",
              "\n",
              "    .dataframe thead th {\n",
              "        text-align: right;\n",
              "    }\n",
              "</style>\n",
              "<table border=\"1\" class=\"dataframe\">\n",
              "  <thead>\n",
              "    <tr style=\"text-align: right;\">\n",
              "      <th></th>\n",
              "      <th>Temperature</th>\n",
              "      <th>Energy</th>\n",
              "      <th>Light</th>\n",
              "      <th>CO2</th>\n",
              "      <th>Occupancy</th>\n",
              "    </tr>\n",
              "    <tr>\n",
              "      <th>Date</th>\n",
              "      <th></th>\n",
              "      <th></th>\n",
              "      <th></th>\n",
              "      <th></th>\n",
              "      <th></th>\n",
              "    </tr>\n",
              "  </thead>\n",
              "  <tbody>\n",
              "    <tr>\n",
              "      <th>2015-02-02 14:00:00</th>\n",
              "      <td>23.657118</td>\n",
              "      <td>80.914056</td>\n",
              "      <td>502.798965</td>\n",
              "      <td>890.927475</td>\n",
              "      <td>1.0</td>\n",
              "    </tr>\n",
              "    <tr>\n",
              "      <th>2015-02-02 15:00:00</th>\n",
              "      <td>23.293950</td>\n",
              "      <td>113.657907</td>\n",
              "      <td>456.677902</td>\n",
              "      <td>1103.590327</td>\n",
              "      <td>1.0</td>\n",
              "    </tr>\n",
              "    <tr>\n",
              "      <th>2015-02-02 16:00:00</th>\n",
              "      <td>22.773142</td>\n",
              "      <td>106.986065</td>\n",
              "      <td>434.929193</td>\n",
              "      <td>980.338952</td>\n",
              "      <td>1.0</td>\n",
              "    </tr>\n",
              "    <tr>\n",
              "      <th>2015-02-02 17:00:00</th>\n",
              "      <td>22.534520</td>\n",
              "      <td>99.873477</td>\n",
              "      <td>426.717991</td>\n",
              "      <td>821.892560</td>\n",
              "      <td>1.0</td>\n",
              "    </tr>\n",
              "    <tr>\n",
              "      <th>2015-02-02 18:00:00</th>\n",
              "      <td>21.993372</td>\n",
              "      <td>98.368227</td>\n",
              "      <td>32.984167</td>\n",
              "      <td>719.712031</td>\n",
              "      <td>0.0</td>\n",
              "    </tr>\n",
              "  </tbody>\n",
              "</table>\n",
              "</div>"
            ],
            "text/plain": [
              "                     Temperature      Energy       Light          CO2  \\\n",
              "Date                                                                    \n",
              "2015-02-02 14:00:00    23.657118   80.914056  502.798965   890.927475   \n",
              "2015-02-02 15:00:00    23.293950  113.657907  456.677902  1103.590327   \n",
              "2015-02-02 16:00:00    22.773142  106.986065  434.929193   980.338952   \n",
              "2015-02-02 17:00:00    22.534520   99.873477  426.717991   821.892560   \n",
              "2015-02-02 18:00:00    21.993372   98.368227   32.984167   719.712031   \n",
              "\n",
              "                     Occupancy  \n",
              "Date                            \n",
              "2015-02-02 14:00:00        1.0  \n",
              "2015-02-02 15:00:00        1.0  \n",
              "2015-02-02 16:00:00        1.0  \n",
              "2015-02-02 17:00:00        1.0  \n",
              "2015-02-02 18:00:00        0.0  "
            ]
          },
          "execution_count": 235,
          "metadata": {},
          "output_type": "execute_result"
        }
      ],
      "source": [
        "# Daten zusammenfügen\n",
        "data = pd.concat([data2, data1_sum_hourly, data1_mean_hourly, data1_binary_hourly], axis=1)\n",
        "data.head()"
      ]
    },
    {
      "cell_type": "code",
      "execution_count": null,
      "metadata": {
        "id": "fhXf3j4TIVWw"
      },
      "outputs": [],
      "source": [
        "# Entfernen von Zeilen mit mind. 1x NaN falls vorhanden:\n",
        "data.dropna(inplace=True)"
      ]
    },
    {
      "cell_type": "code",
      "execution_count": null,
      "metadata": {
        "colab": {
          "base_uri": "https://localhost:8080/",
          "height": 237
        },
        "id": "9XOd0ZFXIVWw",
        "outputId": "a0471306-3557-40b4-aa9f-8dd18549a15c"
      },
      "outputs": [
        {
          "data": {
            "text/html": [
              "<div>\n",
              "<style scoped>\n",
              "    .dataframe tbody tr th:only-of-type {\n",
              "        vertical-align: middle;\n",
              "    }\n",
              "\n",
              "    .dataframe tbody tr th {\n",
              "        vertical-align: top;\n",
              "    }\n",
              "\n",
              "    .dataframe thead th {\n",
              "        text-align: right;\n",
              "    }\n",
              "</style>\n",
              "<table border=\"1\" class=\"dataframe\">\n",
              "  <thead>\n",
              "    <tr style=\"text-align: right;\">\n",
              "      <th></th>\n",
              "      <th>Temperature</th>\n",
              "      <th>Energy</th>\n",
              "      <th>Light</th>\n",
              "      <th>CO2</th>\n",
              "      <th>Occupancy</th>\n",
              "    </tr>\n",
              "    <tr>\n",
              "      <th>Date</th>\n",
              "      <th></th>\n",
              "      <th></th>\n",
              "      <th></th>\n",
              "      <th></th>\n",
              "      <th></th>\n",
              "    </tr>\n",
              "  </thead>\n",
              "  <tbody>\n",
              "    <tr>\n",
              "      <th>2015-02-02 14:00:00</th>\n",
              "      <td>23.657118</td>\n",
              "      <td>80.914056</td>\n",
              "      <td>502.798965</td>\n",
              "      <td>890.927475</td>\n",
              "      <td>1.0</td>\n",
              "    </tr>\n",
              "    <tr>\n",
              "      <th>2015-02-02 15:00:00</th>\n",
              "      <td>23.293950</td>\n",
              "      <td>113.657907</td>\n",
              "      <td>456.677902</td>\n",
              "      <td>1103.590327</td>\n",
              "      <td>1.0</td>\n",
              "    </tr>\n",
              "    <tr>\n",
              "      <th>2015-02-02 16:00:00</th>\n",
              "      <td>22.773142</td>\n",
              "      <td>106.986065</td>\n",
              "      <td>434.929193</td>\n",
              "      <td>980.338952</td>\n",
              "      <td>1.0</td>\n",
              "    </tr>\n",
              "    <tr>\n",
              "      <th>2015-02-02 17:00:00</th>\n",
              "      <td>22.534520</td>\n",
              "      <td>99.873477</td>\n",
              "      <td>426.717991</td>\n",
              "      <td>821.892560</td>\n",
              "      <td>1.0</td>\n",
              "    </tr>\n",
              "    <tr>\n",
              "      <th>2015-02-02 18:00:00</th>\n",
              "      <td>21.993372</td>\n",
              "      <td>98.368227</td>\n",
              "      <td>32.984167</td>\n",
              "      <td>719.712031</td>\n",
              "      <td>0.0</td>\n",
              "    </tr>\n",
              "  </tbody>\n",
              "</table>\n",
              "</div>"
            ],
            "text/plain": [
              "                     Temperature      Energy       Light          CO2  \\\n",
              "Date                                                                    \n",
              "2015-02-02 14:00:00    23.657118   80.914056  502.798965   890.927475   \n",
              "2015-02-02 15:00:00    23.293950  113.657907  456.677902  1103.590327   \n",
              "2015-02-02 16:00:00    22.773142  106.986065  434.929193   980.338952   \n",
              "2015-02-02 17:00:00    22.534520   99.873477  426.717991   821.892560   \n",
              "2015-02-02 18:00:00    21.993372   98.368227   32.984167   719.712031   \n",
              "\n",
              "                     Occupancy  \n",
              "Date                            \n",
              "2015-02-02 14:00:00        1.0  \n",
              "2015-02-02 15:00:00        1.0  \n",
              "2015-02-02 16:00:00        1.0  \n",
              "2015-02-02 17:00:00        1.0  \n",
              "2015-02-02 18:00:00        0.0  "
            ]
          },
          "execution_count": 237,
          "metadata": {},
          "output_type": "execute_result"
        }
      ],
      "source": [
        "# Ausgabe der ersten Zeilen von data\n",
        "data.head()"
      ]
    },
    {
      "cell_type": "code",
      "execution_count": null,
      "metadata": {
        "colab": {
          "base_uri": "https://localhost:8080/"
        },
        "id": "iwufel7hIVWw",
        "outputId": "994e9b5e-cdf6-4d16-da6c-564066d58463"
      },
      "outputs": [
        {
          "data": {
            "text/plain": [
              "Temperature    0\n",
              "Energy         0\n",
              "Light          0\n",
              "CO2            0\n",
              "Occupancy      0\n",
              "dtype: int64"
            ]
          },
          "execution_count": 238,
          "metadata": {},
          "output_type": "execute_result"
        }
      ],
      "source": [
        "# Ausgabe der Anzahl NaN in den jeweiligen Spalten\n",
        "data.isna().sum()"
      ]
    }
  ],
  "metadata": {
    "colab": {
      "collapsed_sections": [
        "9gM69txwIVWm"
      ],
      "name": "HandsOnPython_03_GrundlagenDatenaufbereitung.ipynb",
      "provenance": []
    },
    "kernelspec": {
      "display_name": "Python 3",
      "language": "python",
      "name": "python3"
    },
    "language_info": {
      "codemirror_mode": {
        "name": "ipython",
        "version": 3
      },
      "file_extension": ".py",
      "mimetype": "text/x-python",
      "name": "python",
      "nbconvert_exporter": "python",
      "pygments_lexer": "ipython3",
      "version": "3.11.5"
    }
  },
  "nbformat": 4,
  "nbformat_minor": 0
}
