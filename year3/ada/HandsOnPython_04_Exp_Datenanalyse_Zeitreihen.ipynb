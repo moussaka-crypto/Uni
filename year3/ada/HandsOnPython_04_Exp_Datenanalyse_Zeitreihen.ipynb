{
  "nbformat": 4,
  "nbformat_minor": 0,
  "metadata": {
    "kernelspec": {
      "display_name": "Python 3",
      "language": "python",
      "name": "python3"
    },
    "language_info": {
      "codemirror_mode": {
        "name": "ipython",
        "version": 3
      },
      "file_extension": ".py",
      "mimetype": "text/x-python",
      "name": "python",
      "nbconvert_exporter": "python",
      "pygments_lexer": "ipython3",
      "version": "3.7.0"
    },
    "colab": {
      "provenance": [],
      "collapsed_sections": [
        "hIwJKkXmP0Hi",
        "hF88iGR1P0Hj",
        "eSLjyiEmP0Hj"
      ]
    }
  },
  "cells": [
    {
      "cell_type": "markdown",
      "metadata": {
        "id": "Z7VeU0_KP0HC"
      },
      "source": [
        "# Zeitreihenanalyse am Beispiel von Stromverbrauchs- und Produktionsdaten"
      ]
    },
    {
      "cell_type": "markdown",
      "metadata": {
        "id": "1b9PZrxtP0HG"
      },
      "source": [
        "## Ziele dieser Übung\n",
        "- Wie kann ich mir schnell einen Überblick über den Datensatz verschaffen?\n",
        "- Wie kann ich mir die Korrelation zwischen den Variablen ausgeben lassen?\n",
        "- Wie kann ich in Python Zeitreihen plotten? \n",
        "- Wie kann ich saisonale Einflüsse untersuchen und in Plots darstellen?\n",
        "- Wie kann ich die Plots exportieren?"
      ]
    },
    {
      "cell_type": "code",
      "metadata": {
        "id": "-KZr--gcP0HI"
      },
      "source": [
        "# Paket pandas einbinden\n",
        "import pandas as pd\n",
        "\n",
        "# Google Drive mounten\n",
        "from google.colab import drive\n",
        "drive.mount('/content/drive', force_remount=True)"
      ],
      "execution_count": null,
      "outputs": []
    },
    {
      "cell_type": "markdown",
      "metadata": {
        "id": "oSfgvnxFP0HK"
      },
      "source": [
        "## Daten einlesen und vorbereiten"
      ]
    },
    {
      "cell_type": "code",
      "metadata": {
        "id": "c_y1KOESP0HK"
      },
      "source": [
        "# Daten einlesen über pandas Funktion read_csv()\n",
        "raw_data = pd.read_csv('/content/drive/My Drive/germany_daily.csv')\n",
        "\n",
        "\n",
        "# Die Daten sind nun in einem pandas data frame gespeichert. \n",
        "# Geben Sie sich die Anzahl der Zeilen und Spalten des data frames aus\n"
      ],
      "execution_count": null,
      "outputs": []
    },
    {
      "cell_type": "code",
      "metadata": {
        "id": "N_U3jMM4P0HN"
      },
      "source": [
        "# Lassen Sie sich die ersten 8 Zeilen der Rohdaten ausgeben\n"
      ],
      "execution_count": null,
      "outputs": []
    },
    {
      "cell_type": "code",
      "metadata": {
        "id": "7YDOiOpZP0HO"
      },
      "source": [
        "# Lassen Sie sich die letzten 5 Zeilen der Rohdaten ausgeben\n"
      ],
      "execution_count": null,
      "outputs": []
    },
    {
      "cell_type": "code",
      "metadata": {
        "id": "GPYfORX9P0HQ"
      },
      "source": [
        "# Lassen Sie sich die Datentypen der Spalten ausgeben\n"
      ],
      "execution_count": null,
      "outputs": []
    },
    {
      "cell_type": "code",
      "metadata": {
        "id": "rKEJuoUtP0HR"
      },
      "source": [
        "# Ersten Überblick über den Datensatz verschaffen, funktioniert mit der Funktion describe()\n"
      ],
      "execution_count": null,
      "outputs": []
    },
    {
      "cell_type": "code",
      "metadata": {
        "id": "Sf9pjNheP0HS"
      },
      "source": [
        "# Überprüfen Sie den Datensatz auf NaN - Wie viele NaN sind in den einzelnen Spalten enthalten?\n"
      ],
      "execution_count": null,
      "outputs": []
    },
    {
      "cell_type": "code",
      "metadata": {
        "id": "_QboyqlIP0HU"
      },
      "source": [
        "# Zeilen mit mindestens 1x NaN verwerfen. Hierfür vorher eine Kopie der Rohdaten mit copy() anlegen. \n",
        "# Zeilen mit mindestens 1x NaN verwerfen funktioniert mit dropna, dabei auf die Angabe von inplace achten.\n"
      ],
      "execution_count": null,
      "outputs": []
    },
    {
      "cell_type": "code",
      "source": [
        "# Überprüfen durch erneute Ausgabe der NaNs in den Spalten\n"
      ],
      "metadata": {
        "id": "LbcuE4KzIQ_P"
      },
      "execution_count": null,
      "outputs": []
    },
    {
      "cell_type": "code",
      "metadata": {
        "id": "lMdK49oSP0HV"
      },
      "source": [
        "# Datumsspalte ist noch nicht im richtigen Format. \n",
        "# Soll als Zeitstempel erkannt werden. \n",
        "# Das funktioniert über die pandas Funktion to_datetime()\n",
        "# Dafür die passende Spalte aus dem Dataframe auswählen und anschließend die to_datetime() auf die Spalte anwenden\n",
        "\n",
        "\n",
        "# Überprüfung der Datentypen\n",
        "\n"
      ],
      "execution_count": null,
      "outputs": []
    },
    {
      "cell_type": "code",
      "metadata": {
        "id": "tvX8Aio3P0HV"
      },
      "source": [
        "# Der Zeitstempel soll nun als Index des data frames gesetzt werden\n"
      ],
      "execution_count": null,
      "outputs": []
    },
    {
      "cell_type": "code",
      "metadata": {
        "id": "o-DVsbx-P0HW"
      },
      "source": [
        "# Wir können auf einfache Art weitere Spalten mit dem Jahr, Monat oder Tag hinzufügen\n",
        "# Hierzu greifen wir auf die entsprechenden Attribute des datetime index zu \n",
        "data['Year'] = data.index.year\n",
        "data.head()"
      ],
      "execution_count": null,
      "outputs": []
    },
    {
      "cell_type": "code",
      "metadata": {
        "id": "OtkEayEwP0HX"
      },
      "source": [
        "# Fügen Sie weitere Spalten mit dem Wochentag und Monat hinzu.\n",
        "# Der Wochentag entspricht dem Attribut weekday des index, der Monat dem Attribut month\n",
        "\n",
        "# Wochentag durchnummeriert von 0-6 (Mo-So)\n",
        "\n",
        "\n",
        "# Monat durchnummeriert von 1-12\n",
        "\n",
        "\n",
        "# Ausgabe der ersten Zeilen\n"
      ],
      "execution_count": null,
      "outputs": []
    },
    {
      "cell_type": "code",
      "source": [
        "# Wochenenden\n",
        "data['Weekend'] = data['Weekday'] > 5\n",
        "\n",
        "# Name des Wochentags (Monday, Tuesday, ...)\n",
        "# Achtung, hier ist day_name() eine Funktion, die den Namen zurückgibt \n",
        "# und nicht wie oben ein Attribut von index\n",
        "data['Weekday Name'] = data.index.day_name()\n",
        "\n",
        "# Monatsname (January, February, ...)\n",
        "# Achtung, hier ist month_name() eine Funktion, die den Monatsnamen zurückgibt \n",
        "# und nicht wie oben ein Attribut von index\n",
        "data['Month Name'] = data.index.month_name() \n",
        "\n",
        "data.head()"
      ],
      "metadata": {
        "id": "Rr_syuLvI5nG"
      },
      "execution_count": null,
      "outputs": []
    },
    {
      "cell_type": "code",
      "metadata": {
        "id": "jMPeDG6BP0HZ"
      },
      "source": [
        "# Korrelationsmatrix ausgeben\n",
        "data.corr()\n",
        "\n",
        "# Was fällt auf? Welche Merkmale korrelieren positiv, welche negativ?\n",
        "# Würden Sie Merkmale aus der weiteren Analyse ausschließen?\n"
      ],
      "execution_count": null,
      "outputs": []
    },
    {
      "cell_type": "code",
      "metadata": {
        "id": "rzPSS6MlP0HZ"
      },
      "source": [
        "# Anschaulichere Darstellung\n",
        "\n",
        "import seaborn as sns\n",
        "sns.heatmap(data.corr(), annot=True, fmt='.2f', vmin=-1, vmax=1)\n",
        "\n",
        "\n",
        "# Erkenntnisse? \n"
      ],
      "execution_count": null,
      "outputs": []
    },
    {
      "cell_type": "code",
      "metadata": {
        "id": "RzMPOJ2PP0Ha"
      },
      "source": [
        "# Spalten wieder löschen funktioniert über die Funktion df.drop(columns=['Name1', 'Name2'], inplace=True)\n",
        "# Löschen Sie die Spalten 'Month', 'Year', 'Weekday Name', 'Weekday'\n",
        "\n",
        "\n",
        "# Ausgabe der ersten Zeilen\n"
      ],
      "execution_count": null,
      "outputs": []
    },
    {
      "cell_type": "code",
      "metadata": {
        "id": "clqYjJibP0Ha"
      },
      "source": [
        "# Durch das Indizieren mit dem Zeitstempel kann man wie wir im letzten Notebook gesehen haben auf einfache Art und Weise auf Einträge eines bestimmten Datums zugreifen.\n",
        "# Das funktioniert mit der Methode loc['Datum']\n",
        "# Greifen Sie auf die Werte des Datums '2016-03-15' zu und erzeugen Sie eine Ausgabe\n"
      ],
      "execution_count": null,
      "outputs": []
    },
    {
      "cell_type": "code",
      "metadata": {
        "id": "81EsTz1PP0Hb"
      },
      "source": [
        "# Man kann mit loc auch eine Zeitspanne auswählen. Greifen Sie auf den Zeitraum von '2016-03-15' bis 2016-03-20' zu.\n"
      ],
      "execution_count": null,
      "outputs": []
    },
    {
      "cell_type": "code",
      "metadata": {
        "id": "ke1CW41mP0Hc"
      },
      "source": [
        "# Ein weiteres praktisches Feature ist partial indexing. \n",
        "# Was passiert bei data.loc['2016-03']?\n",
        "\n"
      ],
      "execution_count": null,
      "outputs": []
    },
    {
      "cell_type": "markdown",
      "metadata": {
        "id": "_zmJFP6fP0Hc"
      },
      "source": [
        "## Visualisierung"
      ]
    },
    {
      "cell_type": "code",
      "metadata": {
        "id": "lnH0OdzUP0Hd"
      },
      "source": [
        "# Bibliothek matplotlib für die Visualisierung einbinden\n",
        "import matplotlib.pyplot as plt # zum plotten\n",
        "\n",
        "# weitere Bibliothek für schönere Plots\n",
        "import seaborn as sns\n",
        "\n",
        "# Einstellungen um die Standardgröße von Plots, sowie die Schriftgrößen in den Plots zu bestimmen\n",
        "sns.set(rc={'figure.figsize':(30, 10)})\n",
        "plt.rc('xtick', labelsize=22) \n",
        "plt.rc('ytick', labelsize=22) \n",
        "plt.rc('font', size=22)\n",
        "plt.rc('axes', titlesize=28, labelsize=24)\n",
        "plt.rc('legend', fontsize=28) "
      ],
      "execution_count": null,
      "outputs": []
    },
    {
      "cell_type": "code",
      "metadata": {
        "id": "mTGqXgvCP0Hd"
      },
      "source": [
        "# Plot für den Stromverbrauch\n",
        "\n",
        "# Linienplot\n",
        "consumption_plot = data['Consumption'].plot(linewidth=1, title='Consumption in GWh');"
      ],
      "execution_count": null,
      "outputs": []
    },
    {
      "cell_type": "code",
      "metadata": {
        "id": "BP6Vr815P0Hd"
      },
      "source": [
        "# Plot exportieren funktioniert mit Plotname.figure.savefig()\n",
        "\n",
        "# Zeile einmalig ausführen\n",
        "from google.colab import files\n",
        "\n",
        "# Speichern der Plots\n",
        "consumption_plot.figure.savefig('/content/drive/My Drive/mein_plot.pdf')\n",
        "consumption_plot.figure.savefig('/content/drive/My Drive/mein_plot.png', dpi=consumption_plot.figure.dpi)\n",
        "\n",
        "files.download(\"mein_plot.pdf\") "
      ],
      "execution_count": null,
      "outputs": []
    },
    {
      "cell_type": "code",
      "metadata": {
        "id": "RzOo5uVjP0He"
      },
      "source": [
        "# Linienplot mit speziell definiertem Marker\n",
        "consumption_plot = data['Consumption'].plot(linewidth=1, marker='.');  \n",
        "plt.show()\n",
        "\n",
        "# Was passiert wenn Sie marker='o' oder marker='x' setzen?\n",
        "\n"
      ],
      "execution_count": null,
      "outputs": []
    },
    {
      "cell_type": "markdown",
      "metadata": {
        "id": "gvnUU9TPP0He"
      },
      "source": [
        "Eine Übersicht weiterer Marker gibt es hier:\n",
        "https://matplotlib.org/3.1.1/api/markers_api.html "
      ]
    },
    {
      "cell_type": "code",
      "metadata": {
        "id": "6f_o4hYzP0He"
      },
      "source": [
        "# Plot mit Marker ohne Linie\n",
        "data['Consumption'].plot(linestyle='', marker='.');  # oder z.B. marker='x', marker='o'"
      ],
      "execution_count": null,
      "outputs": []
    },
    {
      "cell_type": "code",
      "metadata": {
        "id": "hiN0-a7bP0He"
      },
      "source": [
        "# Achsenbeschriftung des Plots einstellen\n",
        "\n",
        "ax = data['Consumption'].plot(linewidth=1, marker='.');\n",
        "ax.set_ylabel('Daily Consumption (GWh)');"
      ],
      "execution_count": null,
      "outputs": []
    },
    {
      "cell_type": "code",
      "metadata": {
        "id": "HffwyR0uP0Hf"
      },
      "source": [
        "# Aufgabe: Erstellen Sie einen Linienplot des Stromverbrauchs im Jahr 2016\n",
        "# Fügen Sie eine geeignete Achsenbeschriftung für die y-Achse hinzu\n",
        "\n"
      ],
      "execution_count": null,
      "outputs": []
    },
    {
      "cell_type": "code",
      "metadata": {
        "id": "0AXtZVu5P0Hf"
      },
      "source": [
        "# Aufgabe: Plotten Sie die Stromproduktion aus Wind- und Solarenergie für das Jahr 2017 in einem Graphen\n",
        "\n"
      ],
      "execution_count": null,
      "outputs": []
    },
    {
      "cell_type": "code",
      "metadata": {
        "id": "0tfpa5MhP0Hg"
      },
      "source": [
        "# Wir wollen nun die Verläufe für Verbrauch, Produktion aus Sonne, Produktion aus Wind untereinander plotten. \n",
        "# Das funktioniert so:\n",
        "\n",
        "cols_plot = ['Consumption', 'Solar', 'Wind']\n",
        "axes = data[cols_plot].plot(alpha=0.5, linewidth=1, figsize=(30, 20), subplots=True)\n",
        "for ax in axes:\n",
        "    ax.set_ylabel('Daily Totals (GWh)')\n",
        "    ax.legend(loc=\"upper left\")\n",
        "    \n",
        "axes[2].set_ylabel('mein neues Label');"
      ],
      "execution_count": null,
      "outputs": []
    },
    {
      "cell_type": "code",
      "metadata": {
        "id": "EaWXmN4uP0Hg"
      },
      "source": [
        "# Achtung: ein Linienplot kann den Eindruck verfälschen!\n",
        "# Wir plotten nochmal mit Punkten als Marker und ohne Linie\n",
        "\n",
        "axes = data[cols_plot].plot(marker='.',alpha=0.5, linestyle='', figsize=(30, 20), subplots=True)\n",
        "for ax in axes:\n",
        "    ax.set_ylabel('Daily Totals (GWh)')\n",
        "    ax.legend(loc=\"upper left\")"
      ],
      "execution_count": null,
      "outputs": []
    },
    {
      "cell_type": "markdown",
      "metadata": {
        "id": "_jJFcgaTP0Hg"
      },
      "source": [
        "Welche interessanten Muster können wir hier schon jetzt erkennen?\n",
        "\n",
        "Antwort:\n",
        "....."
      ]
    },
    {
      "cell_type": "markdown",
      "metadata": {
        "id": "VP7tab7rP0Hh"
      },
      "source": [
        "## Saisonalität \n",
        "- Alle drei Zeitreihen weisen Periodizitäten auf, bei Zeitreihen auch Saisonalität genannt.\n",
        "- Saisonalität: Ein Muster wiederholt sich in regelmäßigen Zeitintervallen\n",
        "- Auf der jährlichen Zeitskala oszillieren Stromverbrauch, Solarenergie und Windenergie aufgrund der Jahreszeiten\n",
        "- Ist auch Saisonalität auf anderen Zeitskalen zu beobachten?\n",
        "- Wir untersuchen den Stromverbrauch hinsichtlich Saisonalität auf einer monatlichen Zeitskala"
      ]
    },
    {
      "cell_type": "code",
      "metadata": {
        "id": "jVk3peUYP0Hh"
      },
      "source": [
        "# Plotten Sie den Stromverbrauch für Januar und Februar 2017\n",
        "ax = data.loc['2017-01':'2017-02', 'Consumption'].plot(marker='o', linestyle='-')\n",
        "ax.set_ylabel('Daily Consumption (GWh)');"
      ],
      "execution_count": null,
      "outputs": []
    },
    {
      "cell_type": "markdown",
      "metadata": {
        "id": "hIwJKkXmP0Hi"
      },
      "source": [
        "### Auswertung\n",
        "- Montage sind der 02.01., 09.01, 16.01, ...\n",
        "- ......"
      ]
    },
    {
      "cell_type": "markdown",
      "metadata": {
        "id": "Hx6BN4gqP0Hi"
      },
      "source": [
        "## Saisonalität mit Boxplots untersuchen"
      ]
    },
    {
      "cell_type": "markdown",
      "metadata": {
        "id": "XkOPyXaVP0Hi"
      },
      "source": [
        "Ziel: Saisonalität näher untersuchen. Das funktioniert mit Boxplots."
      ]
    },
    {
      "cell_type": "code",
      "metadata": {
        "id": "F85iRCudP0Hi"
      },
      "source": [
        "# Als erstes fügen wir den Daten wieder eine Spalte mit dem Monat hinzu:\n",
        "data['Month'] = data.index.month\n",
        "data.head()"
      ],
      "execution_count": null,
      "outputs": []
    },
    {
      "cell_type": "code",
      "metadata": {
        "id": "657jjAGkP0Hi"
      },
      "source": [
        "# Ein Boxplot kann mit der boxplot() Funktion von seaborn erstellt werden.\n",
        "# wir gruppieren damit die Daten hinsichtlich unterschiedlicher Zeiträume \n",
        "# und lassen uns die Verteilungen für jede Gruppe anzeigen\n",
        "# zunächst gruppieren wir die Daten monatsweise, um die jährliche Saisonalität zu untersuchen\n",
        "\n",
        "mein_boxplot = sns.boxplot(data=data, x='Month', y='Consumption').set_title('Distribution of energy consumption over months, years 2012 - 2017')\n",
        "\n",
        "# Aufgabe: Speichern Sie sich den Graphen mit den Boxplots als pdf\n"
      ],
      "execution_count": null,
      "outputs": []
    },
    {
      "cell_type": "code",
      "metadata": {
        "id": "GwaoZHMwP0Hj"
      },
      "source": [
        "# Wir können auch mehrere Boxplots für die einzelnen Spalten untereinander anzeigen lassen.\n",
        "\n",
        "fig, axes = plt.subplots(3, 1, figsize=(30, 20), sharex=True)\n",
        "for name, ax in zip(['Consumption', 'Solar', 'Wind'], axes):\n",
        "    sns.boxplot(data=data, x='Month', y=name, ax=ax)\n",
        "    #ax.set(ylim=(0, 1800))\n",
        "    ax.set_ylabel('GWh', fontsize=24)\n",
        "    ax.set_title(name, fontsize=36)\n",
        "    ax.tick_params(labelsize=24) #Größe der Zahlenbeschriftungen der Achsen einstellen\n",
        "# Automatisch generiertes Label der x-Achse entfernen für alle Subplots außer dem untersten.\n",
        "    if ax != axes[-1]:\n",
        "        ax.set_xlabel('')\n",
        "        \n",
        "#Abstand zwischen den Subplots einstellen\n",
        "plt.subplots_adjust(hspace = 0.2)\n",
        "\n",
        "# Plot speichern\n",
        "fig.savefig('mehrere_boxplots.pdf')\n",
        "files.download(\"mehrere_boxplots.pdf\") \n"
      ],
      "execution_count": null,
      "outputs": []
    },
    {
      "cell_type": "markdown",
      "metadata": {
        "id": "hF88iGR1P0Hj"
      },
      "source": [
        "## Interpretation der Boxplots\n",
        "Welche Bestandteile hat ein Boxplot?\n",
        "- ....\n",
        "\n",
        "\n",
        "Welche Erkenntnisse lassen sich aus den Boxplots gewinnen?\n",
        "- ....\n",
        "\n"
      ]
    },
    {
      "cell_type": "markdown",
      "metadata": {
        "id": "eSLjyiEmP0Hj"
      },
      "source": [
        "## Grundlagen Boxplot\n",
        "Was wird hier überhaupt gemacht? \n",
        "- Von den vorhandenen Jahren 2012 bis 2017 werden jeweils für einen Monat die Tagesverbräuche analysiert. Wie war der Tagesverbrauch im Januar verteilt? Wie im Februar?\n",
        "- Die Box des Boxplots entspricht dem Bereich, in dem die mittleren 50 % der Daten liegen. D.h. 25% der Werte sind höher und 25% der Werte sind niedriger.\n",
        "- Die Länge der Box entspricht dem Interquartilsabstand (IQR). Dieser ist ein Maß für die Streuung der Daten. Z.B. streut die Produktion von Solarenergie im Winter weniger als im Sommer. \"Im Sommer gibt es gute und schlechte Tage, im Winter hauptsächlich schlechte\".\n",
        "- Der Median wird durch die gerade Linie in der Box dargestellt. Er teilt das Diagramm in zwei Bereiche: die unteren 50% der Werte und die oberen 50% der Werte.\n",
        "- Durch die Lage des Medians innerhalb der Box bekommt man einen Eindruck von der Schiefe der den Daten zugrunde liegenden Verteilung. Ist der Median im linken Teil der Box, so ist die Verteilung rechtsschief, und umgekehrt.\n",
        "- Die Antennen/Whisker stellen die außerhalb der Box liegenden Werte dar. Ihre Länge ist maximal 1.5 mal so lang wie die Länge der Box (IQR). \n",
        "- Punkte außerhalb der Whisker (Werte, die unter oder über 1.5 x IQR liegen) stellen Ausreißer dar."
      ]
    },
    {
      "cell_type": "markdown",
      "metadata": {
        "id": "-l-NZNlvP0Hk"
      },
      "source": [
        "## Analyseergebnisse Boxplots\n",
        "- ......"
      ]
    },
    {
      "cell_type": "code",
      "metadata": {
        "id": "OrC4eeSrP0Hk"
      },
      "source": [],
      "execution_count": null,
      "outputs": []
    }
  ]
}