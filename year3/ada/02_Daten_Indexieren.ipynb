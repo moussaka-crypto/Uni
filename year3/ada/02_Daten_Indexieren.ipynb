{
  "cells": [
    {
      "cell_type": "markdown",
      "metadata": {
        "id": "WoVTNQP0gOWk"
      },
      "source": [
        "# 2. Data Indexing\n",
        "\n",
        "Dieses Notebook klärt folgende Fragen:\n",
        "- Wie kann ich Daten einlesen?\n",
        "- Wie kann ich die eingelesenen Daten anzeigen?\n",
        "- Wie kann ich die Datentypen der einzelnen Merkmale (Variablen) anzeigen?\n",
        "- Indexierung: Wie greife ich auf einzelne Elemente des Datensatzes zu?\n",
        "- Indexierung bei Zeitreihen: Wie kann ich auf elegante Art und Weise mit Zeitstempeln arbeiten?\n",
        "\n",
        "Hilfreich bei der Bearbeitung ist das Cheat Sheet, welches die wichtigsten grundlegenden Python Befehle zur Datenanalyse zusammenfasst. Sie finden das Cheat Sheet auf ILIAS."
      ]
    },
    {
      "cell_type": "markdown",
      "metadata": {
        "id": "WA34hXh6gOWw"
      },
      "source": [
        "## Benötigte Bibliothek pandas einbinden"
      ]
    },
    {
      "cell_type": "code",
      "execution_count": 2,
      "metadata": {
        "id": "7MSkBCVVgOWx"
      },
      "outputs": [],
      "source": [
        "# Importieren sie die Bibliothek pandas, vergeben Sie dazu das Kürzel pd\n",
        "import pandas as pd"
      ]
    },
    {
      "cell_type": "markdown",
      "metadata": {
        "id": "_XATPdykgOW1"
      },
      "source": [
        "## Daten einlesen über Pandas Funktion pd.read_csv('Pfadname')"
      ]
    },
    {
      "cell_type": "code",
      "execution_count": 3,
      "metadata": {
        "colab": {
          "base_uri": "https://localhost:8080/"
        },
        "id": "GXzWBt0fgOW2",
        "outputId": "0a3261ab-d90f-4d0f-d570-1511b319437e"
      },
      "outputs": [],
      "source": [
        "# Lesen Sie datensatz1.csv ein\n",
        "df = pd.read_csv('./data/datensatz1.csv')"
      ]
    },
    {
      "cell_type": "code",
      "execution_count": 180,
      "metadata": {
        "id": "jX1v92E9w_CC"
      },
      "outputs": [
        {
          "data": {
            "text/plain": [
              "(2187, 4)"
            ]
          },
          "execution_count": 180,
          "metadata": {},
          "output_type": "execute_result"
        }
      ],
      "source": [
        "# Die Anzahl der Zeilen und Spalten des data frames kann über das Attribut shape ausgegeben werden: \n",
        "df.shape"
      ]
    },
    {
      "cell_type": "code",
      "execution_count": 181,
      "metadata": {
        "id": "7aJxnPaTgOW4"
      },
      "outputs": [
        {
          "data": {
            "text/plain": [
              "Date            object\n",
              "Consumption    float64\n",
              "Wind           float64\n",
              "Solar          float64\n",
              "dtype: object"
            ]
          },
          "execution_count": 181,
          "metadata": {},
          "output_type": "execute_result"
        }
      ],
      "source": [
        "# die Datentypen der einzelnen Spalten können mit dtypes angezeigt werden (bitte vervollständigen):\n",
        "df.dtypes"
      ]
    },
    {
      "cell_type": "code",
      "execution_count": 182,
      "metadata": {
        "id": "4HP8-5kKgOW5"
      },
      "outputs": [
        {
          "data": {
            "text/html": [
              "<div>\n",
              "<style scoped>\n",
              "    .dataframe tbody tr th:only-of-type {\n",
              "        vertical-align: middle;\n",
              "    }\n",
              "\n",
              "    .dataframe tbody tr th {\n",
              "        vertical-align: top;\n",
              "    }\n",
              "\n",
              "    .dataframe thead th {\n",
              "        text-align: right;\n",
              "    }\n",
              "</style>\n",
              "<table border=\"1\" class=\"dataframe\">\n",
              "  <thead>\n",
              "    <tr style=\"text-align: right;\">\n",
              "      <th></th>\n",
              "      <th>Date</th>\n",
              "      <th>Consumption</th>\n",
              "      <th>Wind</th>\n",
              "      <th>Solar</th>\n",
              "    </tr>\n",
              "  </thead>\n",
              "  <tbody>\n",
              "    <tr>\n",
              "      <th>0</th>\n",
              "      <td>2012-01-01</td>\n",
              "      <td>948.128</td>\n",
              "      <td>227.465</td>\n",
              "      <td>6.587</td>\n",
              "    </tr>\n",
              "    <tr>\n",
              "      <th>1</th>\n",
              "      <td>2012-01-02</td>\n",
              "      <td>1269.581</td>\n",
              "      <td>207.327</td>\n",
              "      <td>6.574</td>\n",
              "    </tr>\n",
              "    <tr>\n",
              "      <th>2</th>\n",
              "      <td>2012-01-03</td>\n",
              "      <td>1334.745</td>\n",
              "      <td>473.468</td>\n",
              "      <td>24.679</td>\n",
              "    </tr>\n",
              "    <tr>\n",
              "      <th>3</th>\n",
              "      <td>2012-01-04</td>\n",
              "      <td>1347.136</td>\n",
              "      <td>499.804</td>\n",
              "      <td>14.681</td>\n",
              "    </tr>\n",
              "    <tr>\n",
              "      <th>4</th>\n",
              "      <td>2012-01-05</td>\n",
              "      <td>1376.658</td>\n",
              "      <td>523.851</td>\n",
              "      <td>5.071</td>\n",
              "    </tr>\n",
              "  </tbody>\n",
              "</table>\n",
              "</div>"
            ],
            "text/plain": [
              "         Date  Consumption     Wind   Solar\n",
              "0  2012-01-01      948.128  227.465   6.587\n",
              "1  2012-01-02     1269.581  207.327   6.574\n",
              "2  2012-01-03     1334.745  473.468  24.679\n",
              "3  2012-01-04     1347.136  499.804  14.681\n",
              "4  2012-01-05     1376.658  523.851   5.071"
            ]
          },
          "execution_count": 182,
          "metadata": {},
          "output_type": "execute_result"
        }
      ],
      "source": [
        "# ersten paar Zeilen anzeigen mit head():\n",
        "df.head(5)"
      ]
    },
    {
      "cell_type": "code",
      "execution_count": 183,
      "metadata": {
        "id": "axd8EwcugOW7"
      },
      "outputs": [
        {
          "data": {
            "text/html": [
              "<div>\n",
              "<style scoped>\n",
              "    .dataframe tbody tr th:only-of-type {\n",
              "        vertical-align: middle;\n",
              "    }\n",
              "\n",
              "    .dataframe tbody tr th {\n",
              "        vertical-align: top;\n",
              "    }\n",
              "\n",
              "    .dataframe thead th {\n",
              "        text-align: right;\n",
              "    }\n",
              "</style>\n",
              "<table border=\"1\" class=\"dataframe\">\n",
              "  <thead>\n",
              "    <tr style=\"text-align: right;\">\n",
              "      <th></th>\n",
              "      <th>Date</th>\n",
              "      <th>Consumption</th>\n",
              "      <th>Wind</th>\n",
              "      <th>Solar</th>\n",
              "    </tr>\n",
              "  </thead>\n",
              "  <tbody>\n",
              "    <tr>\n",
              "      <th>2182</th>\n",
              "      <td>2017-12-27</td>\n",
              "      <td>1263.94091</td>\n",
              "      <td>394.507</td>\n",
              "      <td>16.530</td>\n",
              "    </tr>\n",
              "    <tr>\n",
              "      <th>2183</th>\n",
              "      <td>2017-12-28</td>\n",
              "      <td>1299.86398</td>\n",
              "      <td>506.424</td>\n",
              "      <td>14.162</td>\n",
              "    </tr>\n",
              "    <tr>\n",
              "      <th>2184</th>\n",
              "      <td>2017-12-29</td>\n",
              "      <td>1295.08753</td>\n",
              "      <td>584.277</td>\n",
              "      <td>29.854</td>\n",
              "    </tr>\n",
              "    <tr>\n",
              "      <th>2185</th>\n",
              "      <td>2017-12-30</td>\n",
              "      <td>1215.44897</td>\n",
              "      <td>721.247</td>\n",
              "      <td>7.467</td>\n",
              "    </tr>\n",
              "    <tr>\n",
              "      <th>2186</th>\n",
              "      <td>2017-12-31</td>\n",
              "      <td>1107.11488</td>\n",
              "      <td>721.176</td>\n",
              "      <td>19.980</td>\n",
              "    </tr>\n",
              "  </tbody>\n",
              "</table>\n",
              "</div>"
            ],
            "text/plain": [
              "            Date  Consumption     Wind   Solar\n",
              "2182  2017-12-27   1263.94091  394.507  16.530\n",
              "2183  2017-12-28   1299.86398  506.424  14.162\n",
              "2184  2017-12-29   1295.08753  584.277  29.854\n",
              "2185  2017-12-30   1215.44897  721.247   7.467\n",
              "2186  2017-12-31   1107.11488  721.176  19.980"
            ]
          },
          "execution_count": 183,
          "metadata": {},
          "output_type": "execute_result"
        }
      ],
      "source": [
        "# letzten paar Zeilen anzeigen mit tail():\n",
        "df.tail(5)"
      ]
    },
    {
      "cell_type": "code",
      "execution_count": 184,
      "metadata": {
        "id": "982PFxxYgOW-"
      },
      "outputs": [
        {
          "data": {
            "text/html": [
              "<div>\n",
              "<style scoped>\n",
              "    .dataframe tbody tr th:only-of-type {\n",
              "        vertical-align: middle;\n",
              "    }\n",
              "\n",
              "    .dataframe tbody tr th {\n",
              "        vertical-align: top;\n",
              "    }\n",
              "\n",
              "    .dataframe thead th {\n",
              "        text-align: right;\n",
              "    }\n",
              "</style>\n",
              "<table border=\"1\" class=\"dataframe\">\n",
              "  <thead>\n",
              "    <tr style=\"text-align: right;\">\n",
              "      <th></th>\n",
              "      <th>Date</th>\n",
              "      <th>Consumption</th>\n",
              "      <th>Wind</th>\n",
              "      <th>Solar</th>\n",
              "    </tr>\n",
              "  </thead>\n",
              "  <tbody>\n",
              "    <tr>\n",
              "      <th>2186</th>\n",
              "      <td>2017-12-31</td>\n",
              "      <td>1107.11488</td>\n",
              "      <td>721.176</td>\n",
              "      <td>19.980</td>\n",
              "    </tr>\n",
              "    <tr>\n",
              "      <th>1442</th>\n",
              "      <td>2015-12-18</td>\n",
              "      <td>1462.44300</td>\n",
              "      <td>328.025</td>\n",
              "      <td>13.020</td>\n",
              "    </tr>\n",
              "    <tr>\n",
              "      <th>286</th>\n",
              "      <td>2012-10-13</td>\n",
              "      <td>1121.49900</td>\n",
              "      <td>156.457</td>\n",
              "      <td>82.872</td>\n",
              "    </tr>\n",
              "    <tr>\n",
              "      <th>182</th>\n",
              "      <td>2012-07-01</td>\n",
              "      <td>980.69500</td>\n",
              "      <td>86.751</td>\n",
              "      <td>90.800</td>\n",
              "    </tr>\n",
              "    <tr>\n",
              "      <th>1742</th>\n",
              "      <td>2016-10-13</td>\n",
              "      <td>1503.57100</td>\n",
              "      <td>331.642</td>\n",
              "      <td>53.251</td>\n",
              "    </tr>\n",
              "    <tr>\n",
              "      <th>862</th>\n",
              "      <td>2014-05-17</td>\n",
              "      <td>1206.49900</td>\n",
              "      <td>68.244</td>\n",
              "      <td>135.701</td>\n",
              "    </tr>\n",
              "    <tr>\n",
              "      <th>1934</th>\n",
              "      <td>2017-04-23</td>\n",
              "      <td>1156.94600</td>\n",
              "      <td>393.913</td>\n",
              "      <td>130.111</td>\n",
              "    </tr>\n",
              "  </tbody>\n",
              "</table>\n",
              "</div>"
            ],
            "text/plain": [
              "            Date  Consumption     Wind    Solar\n",
              "2186  2017-12-31   1107.11488  721.176   19.980\n",
              "1442  2015-12-18   1462.44300  328.025   13.020\n",
              "286   2012-10-13   1121.49900  156.457   82.872\n",
              "182   2012-07-01    980.69500   86.751   90.800\n",
              "1742  2016-10-13   1503.57100  331.642   53.251\n",
              "862   2014-05-17   1206.49900   68.244  135.701\n",
              "1934  2017-04-23   1156.94600  393.913  130.111"
            ]
          },
          "execution_count": 184,
          "metadata": {},
          "output_type": "execute_result"
        }
      ],
      "source": [
        "# 7 zufällige Zeilen ausgeben:\n",
        "df.sample(7)"
      ]
    },
    {
      "cell_type": "markdown",
      "metadata": {
        "id": "o2zTGJ-dgOXB"
      },
      "source": [
        "## Indexierung mit Zeilen- und Spaltennummer\n",
        "- Funktioniert mit data.iloc[Zeilenindex, Spaltenindex]"
      ]
    },
    {
      "cell_type": "code",
      "execution_count": 185,
      "metadata": {
        "id": "nOMthreZgOXD"
      },
      "outputs": [
        {
          "data": {
            "text/plain": [
              "227.4650000000001"
            ]
          },
          "execution_count": 185,
          "metadata": {},
          "output_type": "execute_result"
        }
      ],
      "source": [
        "# Wert in Zeile 1, Spalte 3 ausgeben\n",
        "df.iloc[0, 2]"
      ]
    },
    {
      "cell_type": "code",
      "execution_count": 186,
      "metadata": {
        "id": "-LJUuPfTgOXD"
      },
      "outputs": [
        {
          "data": {
            "text/plain": [
              "721.1760000000003"
            ]
          },
          "execution_count": 186,
          "metadata": {},
          "output_type": "execute_result"
        }
      ],
      "source": [
        "# Wert in letzter Zeile, Spalte 3 ausgeben\n",
        "df.iloc[-1, 2]"
      ]
    },
    {
      "cell_type": "code",
      "execution_count": 187,
      "metadata": {
        "id": "hXHc9JSCgOXE"
      },
      "outputs": [
        {
          "data": {
            "text/html": [
              "<div>\n",
              "<style scoped>\n",
              "    .dataframe tbody tr th:only-of-type {\n",
              "        vertical-align: middle;\n",
              "    }\n",
              "\n",
              "    .dataframe tbody tr th {\n",
              "        vertical-align: top;\n",
              "    }\n",
              "\n",
              "    .dataframe thead th {\n",
              "        text-align: right;\n",
              "    }\n",
              "</style>\n",
              "<table border=\"1\" class=\"dataframe\">\n",
              "  <thead>\n",
              "    <tr style=\"text-align: right;\">\n",
              "      <th></th>\n",
              "      <th>Date</th>\n",
              "      <th>Consumption</th>\n",
              "      <th>Wind</th>\n",
              "      <th>Solar</th>\n",
              "    </tr>\n",
              "  </thead>\n",
              "  <tbody>\n",
              "    <tr>\n",
              "      <th>2182</th>\n",
              "      <td>2017-12-27</td>\n",
              "      <td>1263.94091</td>\n",
              "      <td>394.507</td>\n",
              "      <td>16.530</td>\n",
              "    </tr>\n",
              "    <tr>\n",
              "      <th>2183</th>\n",
              "      <td>2017-12-28</td>\n",
              "      <td>1299.86398</td>\n",
              "      <td>506.424</td>\n",
              "      <td>14.162</td>\n",
              "    </tr>\n",
              "    <tr>\n",
              "      <th>2184</th>\n",
              "      <td>2017-12-29</td>\n",
              "      <td>1295.08753</td>\n",
              "      <td>584.277</td>\n",
              "      <td>29.854</td>\n",
              "    </tr>\n",
              "    <tr>\n",
              "      <th>2185</th>\n",
              "      <td>2017-12-30</td>\n",
              "      <td>1215.44897</td>\n",
              "      <td>721.247</td>\n",
              "      <td>7.467</td>\n",
              "    </tr>\n",
              "    <tr>\n",
              "      <th>2186</th>\n",
              "      <td>2017-12-31</td>\n",
              "      <td>1107.11488</td>\n",
              "      <td>721.176</td>\n",
              "      <td>19.980</td>\n",
              "    </tr>\n",
              "  </tbody>\n",
              "</table>\n",
              "</div>"
            ],
            "text/plain": [
              "            Date  Consumption     Wind   Solar\n",
              "2182  2017-12-27   1263.94091  394.507  16.530\n",
              "2183  2017-12-28   1299.86398  506.424  14.162\n",
              "2184  2017-12-29   1295.08753  584.277  29.854\n",
              "2185  2017-12-30   1215.44897  721.247   7.467\n",
              "2186  2017-12-31   1107.11488  721.176  19.980"
            ]
          },
          "execution_count": 187,
          "metadata": {},
          "output_type": "execute_result"
        }
      ],
      "source": [
        "# zur Kontrolle tail()\n",
        "df.tail()"
      ]
    },
    {
      "cell_type": "code",
      "execution_count": 188,
      "metadata": {
        "id": "AHwof7YMgOXF"
      },
      "outputs": [
        {
          "data": {
            "text/plain": [
              "Date           2012-01-01\n",
              "Consumption       948.128\n",
              "Wind              227.465\n",
              "Solar               6.587\n",
              "Name: 0, dtype: object"
            ]
          },
          "execution_count": 188,
          "metadata": {},
          "output_type": "execute_result"
        }
      ],
      "source": [
        "# 1. Zeile ausgeben\n",
        "df.iloc[0]"
      ]
    },
    {
      "cell_type": "code",
      "execution_count": 189,
      "metadata": {
        "id": "SuipXSaYgOXG"
      },
      "outputs": [
        {
          "data": {
            "text/plain": [
              "0        948.12800\n",
              "1       1269.58100\n",
              "2       1334.74500\n",
              "3       1347.13600\n",
              "4       1376.65800\n",
              "           ...    \n",
              "2182    1263.94091\n",
              "2183    1299.86398\n",
              "2184    1295.08753\n",
              "2185    1215.44897\n",
              "2186    1107.11488\n",
              "Name: Consumption, Length: 2187, dtype: float64"
            ]
          },
          "execution_count": 189,
          "metadata": {},
          "output_type": "execute_result"
        }
      ],
      "source": [
        "# 2. Spalte ausgeben\n",
        "df.iloc[:, 1]"
      ]
    },
    {
      "cell_type": "code",
      "execution_count": 190,
      "metadata": {
        "id": "BQitg0xygOXG"
      },
      "outputs": [
        {
          "data": {
            "text/html": [
              "<div>\n",
              "<style scoped>\n",
              "    .dataframe tbody tr th:only-of-type {\n",
              "        vertical-align: middle;\n",
              "    }\n",
              "\n",
              "    .dataframe tbody tr th {\n",
              "        vertical-align: top;\n",
              "    }\n",
              "\n",
              "    .dataframe thead th {\n",
              "        text-align: right;\n",
              "    }\n",
              "</style>\n",
              "<table border=\"1\" class=\"dataframe\">\n",
              "  <thead>\n",
              "    <tr style=\"text-align: right;\">\n",
              "      <th></th>\n",
              "      <th>Date</th>\n",
              "      <th>Consumption</th>\n",
              "      <th>Wind</th>\n",
              "      <th>Solar</th>\n",
              "    </tr>\n",
              "  </thead>\n",
              "  <tbody>\n",
              "    <tr>\n",
              "      <th>0</th>\n",
              "      <td>2012-01-01</td>\n",
              "      <td>948.128</td>\n",
              "      <td>227.465</td>\n",
              "      <td>6.587</td>\n",
              "    </tr>\n",
              "    <tr>\n",
              "      <th>1</th>\n",
              "      <td>2012-01-02</td>\n",
              "      <td>1269.581</td>\n",
              "      <td>207.327</td>\n",
              "      <td>6.574</td>\n",
              "    </tr>\n",
              "    <tr>\n",
              "      <th>2</th>\n",
              "      <td>2012-01-03</td>\n",
              "      <td>1334.745</td>\n",
              "      <td>473.468</td>\n",
              "      <td>24.679</td>\n",
              "    </tr>\n",
              "    <tr>\n",
              "      <th>3</th>\n",
              "      <td>2012-01-04</td>\n",
              "      <td>1347.136</td>\n",
              "      <td>499.804</td>\n",
              "      <td>14.681</td>\n",
              "    </tr>\n",
              "    <tr>\n",
              "      <th>4</th>\n",
              "      <td>2012-01-05</td>\n",
              "      <td>1376.658</td>\n",
              "      <td>523.851</td>\n",
              "      <td>5.071</td>\n",
              "    </tr>\n",
              "  </tbody>\n",
              "</table>\n",
              "</div>"
            ],
            "text/plain": [
              "         Date  Consumption     Wind   Solar\n",
              "0  2012-01-01      948.128  227.465   6.587\n",
              "1  2012-01-02     1269.581  207.327   6.574\n",
              "2  2012-01-03     1334.745  473.468  24.679\n",
              "3  2012-01-04     1347.136  499.804  14.681\n",
              "4  2012-01-05     1376.658  523.851   5.071"
            ]
          },
          "execution_count": 190,
          "metadata": {},
          "output_type": "execute_result"
        }
      ],
      "source": [
        "# zur Kontrolle head()\n",
        "df.head()"
      ]
    },
    {
      "cell_type": "code",
      "execution_count": 191,
      "metadata": {
        "id": "0wPwbRuLgOXH"
      },
      "outputs": [
        {
          "data": {
            "text/html": [
              "<div>\n",
              "<style scoped>\n",
              "    .dataframe tbody tr th:only-of-type {\n",
              "        vertical-align: middle;\n",
              "    }\n",
              "\n",
              "    .dataframe tbody tr th {\n",
              "        vertical-align: top;\n",
              "    }\n",
              "\n",
              "    .dataframe thead th {\n",
              "        text-align: right;\n",
              "    }\n",
              "</style>\n",
              "<table border=\"1\" class=\"dataframe\">\n",
              "  <thead>\n",
              "    <tr style=\"text-align: right;\">\n",
              "      <th></th>\n",
              "      <th>Date</th>\n",
              "      <th>Consumption</th>\n",
              "      <th>Wind</th>\n",
              "      <th>Solar</th>\n",
              "    </tr>\n",
              "  </thead>\n",
              "  <tbody>\n",
              "    <tr>\n",
              "      <th>5</th>\n",
              "      <td>2012-01-06</td>\n",
              "      <td>1291.215</td>\n",
              "      <td>286.265</td>\n",
              "      <td>13.160</td>\n",
              "    </tr>\n",
              "    <tr>\n",
              "      <th>6</th>\n",
              "      <td>2012-01-07</td>\n",
              "      <td>1175.688</td>\n",
              "      <td>368.288</td>\n",
              "      <td>4.115</td>\n",
              "    </tr>\n",
              "    <tr>\n",
              "      <th>7</th>\n",
              "      <td>2012-01-08</td>\n",
              "      <td>1103.383</td>\n",
              "      <td>220.851</td>\n",
              "      <td>8.440</td>\n",
              "    </tr>\n",
              "    <tr>\n",
              "      <th>8</th>\n",
              "      <td>2012-01-09</td>\n",
              "      <td>1443.371</td>\n",
              "      <td>151.837</td>\n",
              "      <td>5.264</td>\n",
              "    </tr>\n",
              "    <tr>\n",
              "      <th>9</th>\n",
              "      <td>2012-01-10</td>\n",
              "      <td>1434.631</td>\n",
              "      <td>175.995</td>\n",
              "      <td>17.827</td>\n",
              "    </tr>\n",
              "    <tr>\n",
              "      <th>10</th>\n",
              "      <td>2012-01-11</td>\n",
              "      <td>1449.768</td>\n",
              "      <td>197.434</td>\n",
              "      <td>10.849</td>\n",
              "    </tr>\n",
              "    <tr>\n",
              "      <th>11</th>\n",
              "      <td>2012-01-12</td>\n",
              "      <td>1442.448</td>\n",
              "      <td>446.327</td>\n",
              "      <td>18.023</td>\n",
              "    </tr>\n",
              "    <tr>\n",
              "      <th>12</th>\n",
              "      <td>2012-01-13</td>\n",
              "      <td>1403.402</td>\n",
              "      <td>415.106</td>\n",
              "      <td>18.778</td>\n",
              "    </tr>\n",
              "    <tr>\n",
              "      <th>13</th>\n",
              "      <td>2012-01-14</td>\n",
              "      <td>1203.165</td>\n",
              "      <td>174.690</td>\n",
              "      <td>26.772</td>\n",
              "    </tr>\n",
              "    <tr>\n",
              "      <th>14</th>\n",
              "      <td>2012-01-15</td>\n",
              "      <td>1150.920</td>\n",
              "      <td>34.468</td>\n",
              "      <td>36.609</td>\n",
              "    </tr>\n",
              "    <tr>\n",
              "      <th>15</th>\n",
              "      <td>2012-01-16</td>\n",
              "      <td>1487.782</td>\n",
              "      <td>52.345</td>\n",
              "      <td>39.682</td>\n",
              "    </tr>\n",
              "  </tbody>\n",
              "</table>\n",
              "</div>"
            ],
            "text/plain": [
              "          Date  Consumption     Wind   Solar\n",
              "5   2012-01-06     1291.215  286.265  13.160\n",
              "6   2012-01-07     1175.688  368.288   4.115\n",
              "7   2012-01-08     1103.383  220.851   8.440\n",
              "8   2012-01-09     1443.371  151.837   5.264\n",
              "9   2012-01-10     1434.631  175.995  17.827\n",
              "10  2012-01-11     1449.768  197.434  10.849\n",
              "11  2012-01-12     1442.448  446.327  18.023\n",
              "12  2012-01-13     1403.402  415.106  18.778\n",
              "13  2012-01-14     1203.165  174.690  26.772\n",
              "14  2012-01-15     1150.920   34.468  36.609\n",
              "15  2012-01-16     1487.782   52.345  39.682"
            ]
          },
          "execution_count": 191,
          "metadata": {},
          "output_type": "execute_result"
        }
      ],
      "source": [
        "# Zeilen mit den Indizes 5 bis 15 ausgeben\n",
        "df.iloc[5:16]"
      ]
    },
    {
      "cell_type": "code",
      "execution_count": 192,
      "metadata": {
        "id": "Xvv-BlMogOXH"
      },
      "outputs": [
        {
          "data": {
            "text/html": [
              "<div>\n",
              "<style scoped>\n",
              "    .dataframe tbody tr th:only-of-type {\n",
              "        vertical-align: middle;\n",
              "    }\n",
              "\n",
              "    .dataframe tbody tr th {\n",
              "        vertical-align: top;\n",
              "    }\n",
              "\n",
              "    .dataframe thead th {\n",
              "        text-align: right;\n",
              "    }\n",
              "</style>\n",
              "<table border=\"1\" class=\"dataframe\">\n",
              "  <thead>\n",
              "    <tr style=\"text-align: right;\">\n",
              "      <th></th>\n",
              "      <th>Date</th>\n",
              "      <th>Consumption</th>\n",
              "      <th>Wind</th>\n",
              "    </tr>\n",
              "  </thead>\n",
              "  <tbody>\n",
              "    <tr>\n",
              "      <th>5</th>\n",
              "      <td>2012-01-06</td>\n",
              "      <td>1291.215</td>\n",
              "      <td>286.265</td>\n",
              "    </tr>\n",
              "    <tr>\n",
              "      <th>6</th>\n",
              "      <td>2012-01-07</td>\n",
              "      <td>1175.688</td>\n",
              "      <td>368.288</td>\n",
              "    </tr>\n",
              "    <tr>\n",
              "      <th>7</th>\n",
              "      <td>2012-01-08</td>\n",
              "      <td>1103.383</td>\n",
              "      <td>220.851</td>\n",
              "    </tr>\n",
              "    <tr>\n",
              "      <th>8</th>\n",
              "      <td>2012-01-09</td>\n",
              "      <td>1443.371</td>\n",
              "      <td>151.837</td>\n",
              "    </tr>\n",
              "    <tr>\n",
              "      <th>9</th>\n",
              "      <td>2012-01-10</td>\n",
              "      <td>1434.631</td>\n",
              "      <td>175.995</td>\n",
              "    </tr>\n",
              "    <tr>\n",
              "      <th>10</th>\n",
              "      <td>2012-01-11</td>\n",
              "      <td>1449.768</td>\n",
              "      <td>197.434</td>\n",
              "    </tr>\n",
              "    <tr>\n",
              "      <th>11</th>\n",
              "      <td>2012-01-12</td>\n",
              "      <td>1442.448</td>\n",
              "      <td>446.327</td>\n",
              "    </tr>\n",
              "    <tr>\n",
              "      <th>12</th>\n",
              "      <td>2012-01-13</td>\n",
              "      <td>1403.402</td>\n",
              "      <td>415.106</td>\n",
              "    </tr>\n",
              "    <tr>\n",
              "      <th>13</th>\n",
              "      <td>2012-01-14</td>\n",
              "      <td>1203.165</td>\n",
              "      <td>174.690</td>\n",
              "    </tr>\n",
              "    <tr>\n",
              "      <th>14</th>\n",
              "      <td>2012-01-15</td>\n",
              "      <td>1150.920</td>\n",
              "      <td>34.468</td>\n",
              "    </tr>\n",
              "    <tr>\n",
              "      <th>15</th>\n",
              "      <td>2012-01-16</td>\n",
              "      <td>1487.782</td>\n",
              "      <td>52.345</td>\n",
              "    </tr>\n",
              "  </tbody>\n",
              "</table>\n",
              "</div>"
            ],
            "text/plain": [
              "          Date  Consumption     Wind\n",
              "5   2012-01-06     1291.215  286.265\n",
              "6   2012-01-07     1175.688  368.288\n",
              "7   2012-01-08     1103.383  220.851\n",
              "8   2012-01-09     1443.371  151.837\n",
              "9   2012-01-10     1434.631  175.995\n",
              "10  2012-01-11     1449.768  197.434\n",
              "11  2012-01-12     1442.448  446.327\n",
              "12  2012-01-13     1403.402  415.106\n",
              "13  2012-01-14     1203.165  174.690\n",
              "14  2012-01-15     1150.920   34.468\n",
              "15  2012-01-16     1487.782   52.345"
            ]
          },
          "execution_count": 192,
          "metadata": {},
          "output_type": "execute_result"
        }
      ],
      "source": [
        "# Zeilen 5 bis 15 von Spalten 1 bis 3 ausgeben\n",
        "df.iloc[5:16, 0:3]"
      ]
    },
    {
      "cell_type": "markdown",
      "metadata": {
        "id": "JfK7KP0ngOXI"
      },
      "source": [
        "## Zeitstempel als Index setzen\n",
        "Da eine Indexierung über Zeilen- und Spaltennummer bei dem Datensatz eher umständlich ist, wollen wir lieber über das Datum und den Spaltennamen gehen. \n",
        "Dazu setzen wir den Zeitstempel als Index und verwenden später diesen anstatt der Zeilennummer"
      ]
    },
    {
      "cell_type": "code",
      "execution_count": 193,
      "metadata": {
        "id": "WajIzwhFgOXI"
      },
      "outputs": [],
      "source": [
        "# 1. Schritt (optional): Erzeuge ein neues Data Frame mit einer Kopie der Rohdaten. Das neue data frame wird data genannt.\n",
        "df_copy = df.copy()\n",
        "\n",
        "# 2. Schritt: Ändere im neuen data frame das Format der Spalte 'Date' zu datetimes.\n",
        "df_copy['Date'] = pd.to_datetime(df_copy['Date'])"
      ]
    },
    {
      "cell_type": "code",
      "execution_count": 194,
      "metadata": {
        "id": "cmmLJ4WTgOXJ"
      },
      "outputs": [
        {
          "name": "stdout",
          "output_type": "stream",
          "text": [
            "Rohdatensatz:\n",
            "0    2012-01-01\n",
            "1    2012-01-02\n",
            "2    2012-01-03\n",
            "3    2012-01-04\n",
            "4    2012-01-05\n",
            "Name: Date, dtype: object \n",
            "\n",
            "Neuer Datensatz:\n",
            "0   2012-01-01\n",
            "1   2012-01-02\n",
            "2   2012-01-03\n",
            "3   2012-01-04\n",
            "4   2012-01-05\n",
            "Name: Date, dtype: datetime64[ns] \n",
            "\n",
            "Alle Datentypen des Datensatzes:\n",
            "Date           datetime64[ns]\n",
            "Consumption           float64\n",
            "Wind                  float64\n",
            "Solar                 float64\n",
            "dtype: object\n"
          ]
        }
      ],
      "source": [
        "# Überprüfe, ob die Umwandlung geklappt hat\n",
        "print('Rohdatensatz:')\n",
        "print(df['Date'].head(), '\\n')\n",
        "\n",
        "print('Neuer Datensatz:')\n",
        "print(df_copy['Date'].head(),'\\n')\n",
        "\n",
        "print('Alle Datentypen des Datensatzes:')\n",
        "print(df_copy.dtypes)"
      ]
    },
    {
      "cell_type": "code",
      "execution_count": 195,
      "metadata": {
        "id": "e_toiFKZgOXK"
      },
      "outputs": [
        {
          "data": {
            "text/html": [
              "<div>\n",
              "<style scoped>\n",
              "    .dataframe tbody tr th:only-of-type {\n",
              "        vertical-align: middle;\n",
              "    }\n",
              "\n",
              "    .dataframe tbody tr th {\n",
              "        vertical-align: top;\n",
              "    }\n",
              "\n",
              "    .dataframe thead th {\n",
              "        text-align: right;\n",
              "    }\n",
              "</style>\n",
              "<table border=\"1\" class=\"dataframe\">\n",
              "  <thead>\n",
              "    <tr style=\"text-align: right;\">\n",
              "      <th></th>\n",
              "      <th>Consumption</th>\n",
              "      <th>Wind</th>\n",
              "    </tr>\n",
              "    <tr>\n",
              "      <th>Date</th>\n",
              "      <th></th>\n",
              "      <th></th>\n",
              "    </tr>\n",
              "  </thead>\n",
              "  <tbody>\n",
              "    <tr>\n",
              "      <th>2012-01-01</th>\n",
              "      <td>948.128</td>\n",
              "      <td>227.465</td>\n",
              "    </tr>\n",
              "    <tr>\n",
              "      <th>2012-01-02</th>\n",
              "      <td>1269.581</td>\n",
              "      <td>207.327</td>\n",
              "    </tr>\n",
              "    <tr>\n",
              "      <th>2012-01-03</th>\n",
              "      <td>1334.745</td>\n",
              "      <td>473.468</td>\n",
              "    </tr>\n",
              "    <tr>\n",
              "      <th>2012-01-04</th>\n",
              "      <td>1347.136</td>\n",
              "      <td>499.804</td>\n",
              "    </tr>\n",
              "    <tr>\n",
              "      <th>2012-01-05</th>\n",
              "      <td>1376.658</td>\n",
              "      <td>523.851</td>\n",
              "    </tr>\n",
              "  </tbody>\n",
              "</table>\n",
              "</div>"
            ],
            "text/plain": [
              "            Consumption     Wind\n",
              "Date                            \n",
              "2012-01-01      948.128  227.465\n",
              "2012-01-02     1269.581  207.327\n",
              "2012-01-03     1334.745  473.468\n",
              "2012-01-04     1347.136  499.804\n",
              "2012-01-05     1376.658  523.851"
            ]
          },
          "execution_count": 195,
          "metadata": {},
          "output_type": "execute_result"
        }
      ],
      "source": [
        "# 3. Schritt: Setze die Spalte 'Date' als neuen Index:\n",
        "df_copy.set_index('Date', inplace=True)\n",
        "\n",
        "# Überprüfen durch Ausgabe der ersten Spalten des data frames:\n",
        "df_copy.iloc[:, 0:2].head()"
      ]
    },
    {
      "cell_type": "markdown",
      "metadata": {
        "id": "Z0cvLKMZgOXK"
      },
      "source": [
        "## Mit Zeitstempel indexieren"
      ]
    },
    {
      "cell_type": "code",
      "execution_count": 208,
      "metadata": {
        "id": "nAivl_WygOXL"
      },
      "outputs": [
        {
          "data": {
            "text/html": [
              "<div>\n",
              "<style scoped>\n",
              "    .dataframe tbody tr th:only-of-type {\n",
              "        vertical-align: middle;\n",
              "    }\n",
              "\n",
              "    .dataframe tbody tr th {\n",
              "        vertical-align: top;\n",
              "    }\n",
              "\n",
              "    .dataframe thead th {\n",
              "        text-align: right;\n",
              "    }\n",
              "</style>\n",
              "<table border=\"1\" class=\"dataframe\">\n",
              "  <thead>\n",
              "    <tr style=\"text-align: right;\">\n",
              "      <th></th>\n",
              "      <th>Consumption</th>\n",
              "      <th>Wind</th>\n",
              "      <th>Solar</th>\n",
              "    </tr>\n",
              "    <tr>\n",
              "      <th>Date</th>\n",
              "      <th></th>\n",
              "      <th></th>\n",
              "      <th></th>\n",
              "    </tr>\n",
              "  </thead>\n",
              "  <tbody>\n",
              "    <tr>\n",
              "      <th>2013-01-01</th>\n",
              "      <td>906.910</td>\n",
              "      <td>262.438</td>\n",
              "      <td>14.218</td>\n",
              "    </tr>\n",
              "    <tr>\n",
              "      <th>2013-01-02</th>\n",
              "      <td>1160.174</td>\n",
              "      <td>224.867</td>\n",
              "      <td>26.010</td>\n",
              "    </tr>\n",
              "    <tr>\n",
              "      <th>2013-01-03</th>\n",
              "      <td>1199.565</td>\n",
              "      <td>387.143</td>\n",
              "      <td>6.058</td>\n",
              "    </tr>\n",
              "    <tr>\n",
              "      <th>2013-01-04</th>\n",
              "      <td>1198.952</td>\n",
              "      <td>342.443</td>\n",
              "      <td>4.976</td>\n",
              "    </tr>\n",
              "    <tr>\n",
              "      <th>2013-01-05</th>\n",
              "      <td>1108.271</td>\n",
              "      <td>140.410</td>\n",
              "      <td>4.970</td>\n",
              "    </tr>\n",
              "    <tr>\n",
              "      <th>...</th>\n",
              "      <td>...</td>\n",
              "      <td>...</td>\n",
              "      <td>...</td>\n",
              "    </tr>\n",
              "    <tr>\n",
              "      <th>2013-12-27</th>\n",
              "      <td>1166.552</td>\n",
              "      <td>395.736</td>\n",
              "      <td>41.011</td>\n",
              "    </tr>\n",
              "    <tr>\n",
              "      <th>2013-12-28</th>\n",
              "      <td>1089.790</td>\n",
              "      <td>208.514</td>\n",
              "      <td>21.028</td>\n",
              "    </tr>\n",
              "    <tr>\n",
              "      <th>2013-12-29</th>\n",
              "      <td>1031.149</td>\n",
              "      <td>213.978</td>\n",
              "      <td>20.933</td>\n",
              "    </tr>\n",
              "    <tr>\n",
              "      <th>2013-12-30</th>\n",
              "      <td>1149.097</td>\n",
              "      <td>254.119</td>\n",
              "      <td>47.097</td>\n",
              "    </tr>\n",
              "    <tr>\n",
              "      <th>2013-12-31</th>\n",
              "      <td>1068.429</td>\n",
              "      <td>174.670</td>\n",
              "      <td>43.219</td>\n",
              "    </tr>\n",
              "  </tbody>\n",
              "</table>\n",
              "<p>363 rows × 3 columns</p>\n",
              "</div>"
            ],
            "text/plain": [
              "            Consumption     Wind   Solar\n",
              "Date                                    \n",
              "2013-01-01      906.910  262.438  14.218\n",
              "2013-01-02     1160.174  224.867  26.010\n",
              "2013-01-03     1199.565  387.143   6.058\n",
              "2013-01-04     1198.952  342.443   4.976\n",
              "2013-01-05     1108.271  140.410   4.970\n",
              "...                 ...      ...     ...\n",
              "2013-12-27     1166.552  395.736  41.011\n",
              "2013-12-28     1089.790  208.514  21.028\n",
              "2013-12-29     1031.149  213.978  20.933\n",
              "2013-12-30     1149.097  254.119  47.097\n",
              "2013-12-31     1068.429  174.670  43.219\n",
              "\n",
              "[363 rows x 3 columns]"
            ]
          },
          "execution_count": 208,
          "metadata": {},
          "output_type": "execute_result"
        }
      ],
      "source": [
        "# Alle Daten aus dem Jahr 2013:\n",
        "df_copy.loc['2013']"
      ]
    },
    {
      "cell_type": "code",
      "execution_count": 232,
      "metadata": {
        "id": "ebfmwFWugOXM"
      },
      "outputs": [
        {
          "data": {
            "text/html": [
              "<div>\n",
              "<style scoped>\n",
              "    .dataframe tbody tr th:only-of-type {\n",
              "        vertical-align: middle;\n",
              "    }\n",
              "\n",
              "    .dataframe tbody tr th {\n",
              "        vertical-align: top;\n",
              "    }\n",
              "\n",
              "    .dataframe thead th {\n",
              "        text-align: right;\n",
              "    }\n",
              "</style>\n",
              "<table border=\"1\" class=\"dataframe\">\n",
              "  <thead>\n",
              "    <tr style=\"text-align: right;\">\n",
              "      <th></th>\n",
              "      <th>Consumption</th>\n",
              "      <th>Wind</th>\n",
              "      <th>Solar</th>\n",
              "    </tr>\n",
              "    <tr>\n",
              "      <th>Date</th>\n",
              "      <th></th>\n",
              "      <th></th>\n",
              "      <th></th>\n",
              "    </tr>\n",
              "  </thead>\n",
              "  <tbody>\n",
              "    <tr>\n",
              "      <th>2013-12-29</th>\n",
              "      <td>1031.149</td>\n",
              "      <td>213.978</td>\n",
              "      <td>20.933</td>\n",
              "    </tr>\n",
              "    <tr>\n",
              "      <th>2013-10-21</th>\n",
              "      <td>1365.215</td>\n",
              "      <td>166.227</td>\n",
              "      <td>59.546</td>\n",
              "    </tr>\n",
              "    <tr>\n",
              "      <th>2013-05-16</th>\n",
              "      <td>1305.024</td>\n",
              "      <td>104.930</td>\n",
              "      <td>114.320</td>\n",
              "    </tr>\n",
              "    <tr>\n",
              "      <th>2013-11-18</th>\n",
              "      <td>1422.174</td>\n",
              "      <td>53.486</td>\n",
              "      <td>21.503</td>\n",
              "    </tr>\n",
              "    <tr>\n",
              "      <th>2013-06-17</th>\n",
              "      <td>1296.348</td>\n",
              "      <td>45.483</td>\n",
              "      <td>195.625</td>\n",
              "    </tr>\n",
              "  </tbody>\n",
              "</table>\n",
              "</div>"
            ],
            "text/plain": [
              "            Consumption     Wind    Solar\n",
              "Date                                     \n",
              "2013-12-29     1031.149  213.978   20.933\n",
              "2013-10-21     1365.215  166.227   59.546\n",
              "2013-05-16     1305.024  104.930  114.320\n",
              "2013-11-18     1422.174   53.486   21.503\n",
              "2013-06-17     1296.348   45.483  195.625"
            ]
          },
          "execution_count": 232,
          "metadata": {},
          "output_type": "execute_result"
        }
      ],
      "source": [
        "# Überprüfen mit sample():\n",
        "df_copy.loc['2013'].sample(5)"
      ]
    },
    {
      "cell_type": "code",
      "execution_count": 233,
      "metadata": {
        "id": "hHq_P37agOXN"
      },
      "outputs": [
        {
          "data": {
            "text/html": [
              "<div>\n",
              "<style scoped>\n",
              "    .dataframe tbody tr th:only-of-type {\n",
              "        vertical-align: middle;\n",
              "    }\n",
              "\n",
              "    .dataframe tbody tr th {\n",
              "        vertical-align: top;\n",
              "    }\n",
              "\n",
              "    .dataframe thead th {\n",
              "        text-align: right;\n",
              "    }\n",
              "</style>\n",
              "<table border=\"1\" class=\"dataframe\">\n",
              "  <thead>\n",
              "    <tr style=\"text-align: right;\">\n",
              "      <th></th>\n",
              "      <th>Consumption</th>\n",
              "      <th>Wind</th>\n",
              "      <th>Solar</th>\n",
              "    </tr>\n",
              "    <tr>\n",
              "      <th>Date</th>\n",
              "      <th></th>\n",
              "      <th></th>\n",
              "      <th></th>\n",
              "    </tr>\n",
              "  </thead>\n",
              "  <tbody>\n",
              "    <tr>\n",
              "      <th>2014-03-01</th>\n",
              "      <td>1310.863</td>\n",
              "      <td>42.380</td>\n",
              "      <td>74.222</td>\n",
              "    </tr>\n",
              "    <tr>\n",
              "      <th>2014-03-02</th>\n",
              "      <td>1205.382</td>\n",
              "      <td>79.034</td>\n",
              "      <td>58.509</td>\n",
              "    </tr>\n",
              "    <tr>\n",
              "      <th>2014-03-03</th>\n",
              "      <td>1479.361</td>\n",
              "      <td>174.177</td>\n",
              "      <td>83.837</td>\n",
              "    </tr>\n",
              "    <tr>\n",
              "      <th>2014-03-04</th>\n",
              "      <td>1521.878</td>\n",
              "      <td>19.160</td>\n",
              "      <td>70.862</td>\n",
              "    </tr>\n",
              "    <tr>\n",
              "      <th>2014-03-05</th>\n",
              "      <td>1550.944</td>\n",
              "      <td>18.679</td>\n",
              "      <td>74.279</td>\n",
              "    </tr>\n",
              "    <tr>\n",
              "      <th>2014-03-06</th>\n",
              "      <td>1546.473</td>\n",
              "      <td>54.556</td>\n",
              "      <td>91.283</td>\n",
              "    </tr>\n",
              "    <tr>\n",
              "      <th>2014-03-07</th>\n",
              "      <td>1514.897</td>\n",
              "      <td>114.278</td>\n",
              "      <td>120.060</td>\n",
              "    </tr>\n",
              "    <tr>\n",
              "      <th>2014-03-08</th>\n",
              "      <td>1279.162</td>\n",
              "      <td>107.357</td>\n",
              "      <td>131.284</td>\n",
              "    </tr>\n",
              "    <tr>\n",
              "      <th>2014-03-09</th>\n",
              "      <td>1161.496</td>\n",
              "      <td>175.888</td>\n",
              "      <td>145.585</td>\n",
              "    </tr>\n",
              "    <tr>\n",
              "      <th>2014-03-10</th>\n",
              "      <td>1479.230</td>\n",
              "      <td>94.246</td>\n",
              "      <td>145.402</td>\n",
              "    </tr>\n",
              "    <tr>\n",
              "      <th>2014-03-11</th>\n",
              "      <td>1521.112</td>\n",
              "      <td>113.199</td>\n",
              "      <td>138.730</td>\n",
              "    </tr>\n",
              "    <tr>\n",
              "      <th>2014-03-13</th>\n",
              "      <td>1510.033</td>\n",
              "      <td>22.425</td>\n",
              "      <td>147.203</td>\n",
              "    </tr>\n",
              "    <tr>\n",
              "      <th>2014-03-14</th>\n",
              "      <td>1488.044</td>\n",
              "      <td>122.019</td>\n",
              "      <td>135.133</td>\n",
              "    </tr>\n",
              "    <tr>\n",
              "      <th>2014-03-15</th>\n",
              "      <td>1303.214</td>\n",
              "      <td>510.579</td>\n",
              "      <td>46.959</td>\n",
              "    </tr>\n",
              "    <tr>\n",
              "      <th>2014-03-16</th>\n",
              "      <td>1199.315</td>\n",
              "      <td>538.519</td>\n",
              "      <td>33.936</td>\n",
              "    </tr>\n",
              "    <tr>\n",
              "      <th>2014-03-17</th>\n",
              "      <td>1498.042</td>\n",
              "      <td>354.408</td>\n",
              "      <td>84.790</td>\n",
              "    </tr>\n",
              "    <tr>\n",
              "      <th>2014-03-18</th>\n",
              "      <td>1528.932</td>\n",
              "      <td>215.012</td>\n",
              "      <td>78.960</td>\n",
              "    </tr>\n",
              "    <tr>\n",
              "      <th>2014-03-19</th>\n",
              "      <td>1524.762</td>\n",
              "      <td>405.654</td>\n",
              "      <td>66.495</td>\n",
              "    </tr>\n",
              "    <tr>\n",
              "      <th>2014-03-20</th>\n",
              "      <td>1498.548</td>\n",
              "      <td>311.326</td>\n",
              "      <td>160.777</td>\n",
              "    </tr>\n",
              "    <tr>\n",
              "      <th>2014-03-21</th>\n",
              "      <td>1474.562</td>\n",
              "      <td>289.345</td>\n",
              "      <td>114.934</td>\n",
              "    </tr>\n",
              "    <tr>\n",
              "      <th>2014-03-22</th>\n",
              "      <td>1280.873</td>\n",
              "      <td>147.024</td>\n",
              "      <td>63.536</td>\n",
              "    </tr>\n",
              "    <tr>\n",
              "      <th>2014-03-23</th>\n",
              "      <td>1176.870</td>\n",
              "      <td>71.096</td>\n",
              "      <td>59.828</td>\n",
              "    </tr>\n",
              "    <tr>\n",
              "      <th>2014-03-24</th>\n",
              "      <td>1499.180</td>\n",
              "      <td>27.402</td>\n",
              "      <td>84.584</td>\n",
              "    </tr>\n",
              "    <tr>\n",
              "      <th>2014-03-25</th>\n",
              "      <td>1521.834</td>\n",
              "      <td>39.216</td>\n",
              "      <td>107.847</td>\n",
              "    </tr>\n",
              "    <tr>\n",
              "      <th>2014-03-26</th>\n",
              "      <td>1522.582</td>\n",
              "      <td>94.095</td>\n",
              "      <td>131.795</td>\n",
              "    </tr>\n",
              "    <tr>\n",
              "      <th>2014-03-27</th>\n",
              "      <td>1510.903</td>\n",
              "      <td>192.194</td>\n",
              "      <td>156.117</td>\n",
              "    </tr>\n",
              "    <tr>\n",
              "      <th>2014-03-28</th>\n",
              "      <td>1470.810</td>\n",
              "      <td>110.056</td>\n",
              "      <td>121.595</td>\n",
              "    </tr>\n",
              "    <tr>\n",
              "      <th>2014-03-31</th>\n",
              "      <td>1446.114</td>\n",
              "      <td>14.138</td>\n",
              "      <td>112.798</td>\n",
              "    </tr>\n",
              "  </tbody>\n",
              "</table>\n",
              "</div>"
            ],
            "text/plain": [
              "            Consumption     Wind    Solar\n",
              "Date                                     \n",
              "2014-03-01     1310.863   42.380   74.222\n",
              "2014-03-02     1205.382   79.034   58.509\n",
              "2014-03-03     1479.361  174.177   83.837\n",
              "2014-03-04     1521.878   19.160   70.862\n",
              "2014-03-05     1550.944   18.679   74.279\n",
              "2014-03-06     1546.473   54.556   91.283\n",
              "2014-03-07     1514.897  114.278  120.060\n",
              "2014-03-08     1279.162  107.357  131.284\n",
              "2014-03-09     1161.496  175.888  145.585\n",
              "2014-03-10     1479.230   94.246  145.402\n",
              "2014-03-11     1521.112  113.199  138.730\n",
              "2014-03-13     1510.033   22.425  147.203\n",
              "2014-03-14     1488.044  122.019  135.133\n",
              "2014-03-15     1303.214  510.579   46.959\n",
              "2014-03-16     1199.315  538.519   33.936\n",
              "2014-03-17     1498.042  354.408   84.790\n",
              "2014-03-18     1528.932  215.012   78.960\n",
              "2014-03-19     1524.762  405.654   66.495\n",
              "2014-03-20     1498.548  311.326  160.777\n",
              "2014-03-21     1474.562  289.345  114.934\n",
              "2014-03-22     1280.873  147.024   63.536\n",
              "2014-03-23     1176.870   71.096   59.828\n",
              "2014-03-24     1499.180   27.402   84.584\n",
              "2014-03-25     1521.834   39.216  107.847\n",
              "2014-03-26     1522.582   94.095  131.795\n",
              "2014-03-27     1510.903  192.194  156.117\n",
              "2014-03-28     1470.810  110.056  121.595\n",
              "2014-03-31     1446.114   14.138  112.798"
            ]
          },
          "execution_count": 233,
          "metadata": {},
          "output_type": "execute_result"
        }
      ],
      "source": [
        "# alle Daten aus dem März 2014:\n",
        "df_copy.loc['2014-03']"
      ]
    },
    {
      "cell_type": "code",
      "execution_count": 237,
      "metadata": {
        "id": "qRuINSdsgOXO"
      },
      "outputs": [
        {
          "data": {
            "text/html": [
              "<div>\n",
              "<style scoped>\n",
              "    .dataframe tbody tr th:only-of-type {\n",
              "        vertical-align: middle;\n",
              "    }\n",
              "\n",
              "    .dataframe tbody tr th {\n",
              "        vertical-align: top;\n",
              "    }\n",
              "\n",
              "    .dataframe thead th {\n",
              "        text-align: right;\n",
              "    }\n",
              "</style>\n",
              "<table border=\"1\" class=\"dataframe\">\n",
              "  <thead>\n",
              "    <tr style=\"text-align: right;\">\n",
              "      <th></th>\n",
              "      <th>Consumption</th>\n",
              "      <th>Wind</th>\n",
              "      <th>Solar</th>\n",
              "    </tr>\n",
              "    <tr>\n",
              "      <th>Date</th>\n",
              "      <th></th>\n",
              "      <th></th>\n",
              "      <th></th>\n",
              "    </tr>\n",
              "  </thead>\n",
              "  <tbody>\n",
              "    <tr>\n",
              "      <th>2014-03-01</th>\n",
              "      <td>1310.863</td>\n",
              "      <td>42.380</td>\n",
              "      <td>74.222</td>\n",
              "    </tr>\n",
              "    <tr>\n",
              "      <th>2014-03-02</th>\n",
              "      <td>1205.382</td>\n",
              "      <td>79.034</td>\n",
              "      <td>58.509</td>\n",
              "    </tr>\n",
              "    <tr>\n",
              "      <th>2014-03-03</th>\n",
              "      <td>1479.361</td>\n",
              "      <td>174.177</td>\n",
              "      <td>83.837</td>\n",
              "    </tr>\n",
              "    <tr>\n",
              "      <th>2014-03-04</th>\n",
              "      <td>1521.878</td>\n",
              "      <td>19.160</td>\n",
              "      <td>70.862</td>\n",
              "    </tr>\n",
              "    <tr>\n",
              "      <th>2014-03-05</th>\n",
              "      <td>1550.944</td>\n",
              "      <td>18.679</td>\n",
              "      <td>74.279</td>\n",
              "    </tr>\n",
              "  </tbody>\n",
              "</table>\n",
              "</div>"
            ],
            "text/plain": [
              "            Consumption     Wind   Solar\n",
              "Date                                    \n",
              "2014-03-01     1310.863   42.380  74.222\n",
              "2014-03-02     1205.382   79.034  58.509\n",
              "2014-03-03     1479.361  174.177  83.837\n",
              "2014-03-04     1521.878   19.160  70.862\n",
              "2014-03-05     1550.944   18.679  74.279"
            ]
          },
          "execution_count": 237,
          "metadata": {},
          "output_type": "execute_result"
        }
      ],
      "source": [
        "# Überprüfen mit head:\n",
        "df_copy.loc['2014-03'].head()"
      ]
    },
    {
      "cell_type": "code",
      "execution_count": 238,
      "metadata": {},
      "outputs": [
        {
          "data": {
            "text/html": [
              "<div>\n",
              "<style scoped>\n",
              "    .dataframe tbody tr th:only-of-type {\n",
              "        vertical-align: middle;\n",
              "    }\n",
              "\n",
              "    .dataframe tbody tr th {\n",
              "        vertical-align: top;\n",
              "    }\n",
              "\n",
              "    .dataframe thead th {\n",
              "        text-align: right;\n",
              "    }\n",
              "</style>\n",
              "<table border=\"1\" class=\"dataframe\">\n",
              "  <thead>\n",
              "    <tr style=\"text-align: right;\">\n",
              "      <th></th>\n",
              "      <th>Consumption</th>\n",
              "      <th>Wind</th>\n",
              "      <th>Solar</th>\n",
              "    </tr>\n",
              "    <tr>\n",
              "      <th>Date</th>\n",
              "      <th></th>\n",
              "      <th></th>\n",
              "      <th></th>\n",
              "    </tr>\n",
              "  </thead>\n",
              "  <tbody>\n",
              "    <tr>\n",
              "      <th>2014-03-25</th>\n",
              "      <td>1521.834</td>\n",
              "      <td>39.216</td>\n",
              "      <td>107.847</td>\n",
              "    </tr>\n",
              "    <tr>\n",
              "      <th>2014-03-26</th>\n",
              "      <td>1522.582</td>\n",
              "      <td>94.095</td>\n",
              "      <td>131.795</td>\n",
              "    </tr>\n",
              "    <tr>\n",
              "      <th>2014-03-27</th>\n",
              "      <td>1510.903</td>\n",
              "      <td>192.194</td>\n",
              "      <td>156.117</td>\n",
              "    </tr>\n",
              "    <tr>\n",
              "      <th>2014-03-28</th>\n",
              "      <td>1470.810</td>\n",
              "      <td>110.056</td>\n",
              "      <td>121.595</td>\n",
              "    </tr>\n",
              "    <tr>\n",
              "      <th>2014-03-31</th>\n",
              "      <td>1446.114</td>\n",
              "      <td>14.138</td>\n",
              "      <td>112.798</td>\n",
              "    </tr>\n",
              "  </tbody>\n",
              "</table>\n",
              "</div>"
            ],
            "text/plain": [
              "            Consumption     Wind    Solar\n",
              "Date                                     \n",
              "2014-03-25     1521.834   39.216  107.847\n",
              "2014-03-26     1522.582   94.095  131.795\n",
              "2014-03-27     1510.903  192.194  156.117\n",
              "2014-03-28     1470.810  110.056  121.595\n",
              "2014-03-31     1446.114   14.138  112.798"
            ]
          },
          "execution_count": 238,
          "metadata": {},
          "output_type": "execute_result"
        }
      ],
      "source": [
        "# Überprüfen mit tail:\n",
        "df_copy.loc['2014-03'].tail()"
      ]
    },
    {
      "cell_type": "code",
      "execution_count": 239,
      "metadata": {
        "id": "Bod5ZP0JgOXP"
      },
      "outputs": [
        {
          "data": {
            "text/html": [
              "<div>\n",
              "<style scoped>\n",
              "    .dataframe tbody tr th:only-of-type {\n",
              "        vertical-align: middle;\n",
              "    }\n",
              "\n",
              "    .dataframe tbody tr th {\n",
              "        vertical-align: top;\n",
              "    }\n",
              "\n",
              "    .dataframe thead th {\n",
              "        text-align: right;\n",
              "    }\n",
              "</style>\n",
              "<table border=\"1\" class=\"dataframe\">\n",
              "  <thead>\n",
              "    <tr style=\"text-align: right;\">\n",
              "      <th></th>\n",
              "      <th>Consumption</th>\n",
              "      <th>Wind</th>\n",
              "      <th>Solar</th>\n",
              "    </tr>\n",
              "    <tr>\n",
              "      <th>Date</th>\n",
              "      <th></th>\n",
              "      <th></th>\n",
              "      <th></th>\n",
              "    </tr>\n",
              "  </thead>\n",
              "  <tbody>\n",
              "    <tr>\n",
              "      <th>2014-03-01</th>\n",
              "      <td>1310.863</td>\n",
              "      <td>42.380</td>\n",
              "      <td>74.222</td>\n",
              "    </tr>\n",
              "    <tr>\n",
              "      <th>2014-03-02</th>\n",
              "      <td>1205.382</td>\n",
              "      <td>79.034</td>\n",
              "      <td>58.509</td>\n",
              "    </tr>\n",
              "    <tr>\n",
              "      <th>2014-03-03</th>\n",
              "      <td>1479.361</td>\n",
              "      <td>174.177</td>\n",
              "      <td>83.837</td>\n",
              "    </tr>\n",
              "    <tr>\n",
              "      <th>2014-03-04</th>\n",
              "      <td>1521.878</td>\n",
              "      <td>19.160</td>\n",
              "      <td>70.862</td>\n",
              "    </tr>\n",
              "    <tr>\n",
              "      <th>2014-03-05</th>\n",
              "      <td>1550.944</td>\n",
              "      <td>18.679</td>\n",
              "      <td>74.279</td>\n",
              "    </tr>\n",
              "    <tr>\n",
              "      <th>...</th>\n",
              "      <td>...</td>\n",
              "      <td>...</td>\n",
              "      <td>...</td>\n",
              "    </tr>\n",
              "    <tr>\n",
              "      <th>2015-02-24</th>\n",
              "      <td>1604.991</td>\n",
              "      <td>317.556</td>\n",
              "      <td>50.806</td>\n",
              "    </tr>\n",
              "    <tr>\n",
              "      <th>2015-02-25</th>\n",
              "      <td>1585.249</td>\n",
              "      <td>107.047</td>\n",
              "      <td>72.248</td>\n",
              "    </tr>\n",
              "    <tr>\n",
              "      <th>2015-02-26</th>\n",
              "      <td>1579.350</td>\n",
              "      <td>177.505</td>\n",
              "      <td>106.263</td>\n",
              "    </tr>\n",
              "    <tr>\n",
              "      <th>2015-02-27</th>\n",
              "      <td>1569.187</td>\n",
              "      <td>136.122</td>\n",
              "      <td>65.845</td>\n",
              "    </tr>\n",
              "    <tr>\n",
              "      <th>2015-02-28</th>\n",
              "      <td>1340.489</td>\n",
              "      <td>207.350</td>\n",
              "      <td>82.594</td>\n",
              "    </tr>\n",
              "  </tbody>\n",
              "</table>\n",
              "<p>362 rows × 3 columns</p>\n",
              "</div>"
            ],
            "text/plain": [
              "            Consumption     Wind    Solar\n",
              "Date                                     \n",
              "2014-03-01     1310.863   42.380   74.222\n",
              "2014-03-02     1205.382   79.034   58.509\n",
              "2014-03-03     1479.361  174.177   83.837\n",
              "2014-03-04     1521.878   19.160   70.862\n",
              "2014-03-05     1550.944   18.679   74.279\n",
              "...                 ...      ...      ...\n",
              "2015-02-24     1604.991  317.556   50.806\n",
              "2015-02-25     1585.249  107.047   72.248\n",
              "2015-02-26     1579.350  177.505  106.263\n",
              "2015-02-27     1569.187  136.122   65.845\n",
              "2015-02-28     1340.489  207.350   82.594\n",
              "\n",
              "[362 rows x 3 columns]"
            ]
          },
          "execution_count": 239,
          "metadata": {},
          "output_type": "execute_result"
        }
      ],
      "source": [
        "# alle Daten von März 2014 bis Februar 2015:\n",
        "df_copy.loc['2014-03':'2015-02']"
      ]
    },
    {
      "cell_type": "code",
      "execution_count": 240,
      "metadata": {
        "id": "1_11aohMgOXP"
      },
      "outputs": [
        {
          "data": {
            "text/html": [
              "<div>\n",
              "<style scoped>\n",
              "    .dataframe tbody tr th:only-of-type {\n",
              "        vertical-align: middle;\n",
              "    }\n",
              "\n",
              "    .dataframe tbody tr th {\n",
              "        vertical-align: top;\n",
              "    }\n",
              "\n",
              "    .dataframe thead th {\n",
              "        text-align: right;\n",
              "    }\n",
              "</style>\n",
              "<table border=\"1\" class=\"dataframe\">\n",
              "  <thead>\n",
              "    <tr style=\"text-align: right;\">\n",
              "      <th></th>\n",
              "      <th>Consumption</th>\n",
              "      <th>Wind</th>\n",
              "      <th>Solar</th>\n",
              "    </tr>\n",
              "    <tr>\n",
              "      <th>Date</th>\n",
              "      <th></th>\n",
              "      <th></th>\n",
              "      <th></th>\n",
              "    </tr>\n",
              "  </thead>\n",
              "  <tbody>\n",
              "    <tr>\n",
              "      <th>2014-03-01</th>\n",
              "      <td>1310.863</td>\n",
              "      <td>42.380</td>\n",
              "      <td>74.222</td>\n",
              "    </tr>\n",
              "    <tr>\n",
              "      <th>2014-03-02</th>\n",
              "      <td>1205.382</td>\n",
              "      <td>79.034</td>\n",
              "      <td>58.509</td>\n",
              "    </tr>\n",
              "    <tr>\n",
              "      <th>2014-03-03</th>\n",
              "      <td>1479.361</td>\n",
              "      <td>174.177</td>\n",
              "      <td>83.837</td>\n",
              "    </tr>\n",
              "    <tr>\n",
              "      <th>2014-03-04</th>\n",
              "      <td>1521.878</td>\n",
              "      <td>19.160</td>\n",
              "      <td>70.862</td>\n",
              "    </tr>\n",
              "    <tr>\n",
              "      <th>2014-03-05</th>\n",
              "      <td>1550.944</td>\n",
              "      <td>18.679</td>\n",
              "      <td>74.279</td>\n",
              "    </tr>\n",
              "  </tbody>\n",
              "</table>\n",
              "</div>"
            ],
            "text/plain": [
              "            Consumption     Wind   Solar\n",
              "Date                                    \n",
              "2014-03-01     1310.863   42.380  74.222\n",
              "2014-03-02     1205.382   79.034  58.509\n",
              "2014-03-03     1479.361  174.177  83.837\n",
              "2014-03-04     1521.878   19.160  70.862\n",
              "2014-03-05     1550.944   18.679  74.279"
            ]
          },
          "execution_count": 240,
          "metadata": {},
          "output_type": "execute_result"
        }
      ],
      "source": [
        "# Überprüfen mit head:\n",
        "df_copy.loc['2014-03':'2015-02'].head()"
      ]
    },
    {
      "cell_type": "code",
      "execution_count": 241,
      "metadata": {},
      "outputs": [
        {
          "data": {
            "text/html": [
              "<div>\n",
              "<style scoped>\n",
              "    .dataframe tbody tr th:only-of-type {\n",
              "        vertical-align: middle;\n",
              "    }\n",
              "\n",
              "    .dataframe tbody tr th {\n",
              "        vertical-align: top;\n",
              "    }\n",
              "\n",
              "    .dataframe thead th {\n",
              "        text-align: right;\n",
              "    }\n",
              "</style>\n",
              "<table border=\"1\" class=\"dataframe\">\n",
              "  <thead>\n",
              "    <tr style=\"text-align: right;\">\n",
              "      <th></th>\n",
              "      <th>Consumption</th>\n",
              "      <th>Wind</th>\n",
              "      <th>Solar</th>\n",
              "    </tr>\n",
              "    <tr>\n",
              "      <th>Date</th>\n",
              "      <th></th>\n",
              "      <th></th>\n",
              "      <th></th>\n",
              "    </tr>\n",
              "  </thead>\n",
              "  <tbody>\n",
              "    <tr>\n",
              "      <th>2015-02-24</th>\n",
              "      <td>1604.991</td>\n",
              "      <td>317.556</td>\n",
              "      <td>50.806</td>\n",
              "    </tr>\n",
              "    <tr>\n",
              "      <th>2015-02-25</th>\n",
              "      <td>1585.249</td>\n",
              "      <td>107.047</td>\n",
              "      <td>72.248</td>\n",
              "    </tr>\n",
              "    <tr>\n",
              "      <th>2015-02-26</th>\n",
              "      <td>1579.350</td>\n",
              "      <td>177.505</td>\n",
              "      <td>106.263</td>\n",
              "    </tr>\n",
              "    <tr>\n",
              "      <th>2015-02-27</th>\n",
              "      <td>1569.187</td>\n",
              "      <td>136.122</td>\n",
              "      <td>65.845</td>\n",
              "    </tr>\n",
              "    <tr>\n",
              "      <th>2015-02-28</th>\n",
              "      <td>1340.489</td>\n",
              "      <td>207.350</td>\n",
              "      <td>82.594</td>\n",
              "    </tr>\n",
              "  </tbody>\n",
              "</table>\n",
              "</div>"
            ],
            "text/plain": [
              "            Consumption     Wind    Solar\n",
              "Date                                     \n",
              "2015-02-24     1604.991  317.556   50.806\n",
              "2015-02-25     1585.249  107.047   72.248\n",
              "2015-02-26     1579.350  177.505  106.263\n",
              "2015-02-27     1569.187  136.122   65.845\n",
              "2015-02-28     1340.489  207.350   82.594"
            ]
          },
          "execution_count": 241,
          "metadata": {},
          "output_type": "execute_result"
        }
      ],
      "source": [
        "# Überprüfen mit tail:\n",
        "df_copy.loc['2014-03':'2015-02'].tail()"
      ]
    },
    {
      "cell_type": "markdown",
      "metadata": {
        "id": "MsBg98vigOXQ"
      },
      "source": [
        "## Mit Zeitstempel und Spaltenname indexieren"
      ]
    },
    {
      "cell_type": "code",
      "execution_count": 245,
      "metadata": {
        "id": "ca8vLIdvgOXQ"
      },
      "outputs": [
        {
          "data": {
            "text/plain": [
              "Date\n",
              "2014-01-01    1080.080\n",
              "2014-01-02    1343.101\n",
              "2014-01-03    1379.776\n",
              "2014-01-04    1271.029\n",
              "2014-01-05    1182.416\n",
              "                ...   \n",
              "2015-12-27    1068.214\n",
              "2015-12-28    1219.075\n",
              "2015-12-29    1233.660\n",
              "2015-12-30    1238.863\n",
              "2015-12-31    1158.103\n",
              "Name: Consumption, Length: 727, dtype: float64"
            ]
          },
          "execution_count": 245,
          "metadata": {},
          "output_type": "execute_result"
        }
      ],
      "source": [
        "# Der Energieverbrauch (Consumption) in den Jahren 2014 bis 2015:\n",
        "df_copy['Consumption'].loc['2014':'2015']"
      ]
    },
    {
      "cell_type": "code",
      "execution_count": 246,
      "metadata": {
        "id": "0cRJVn0UgOXQ"
      },
      "outputs": [
        {
          "data": {
            "text/plain": [
              "Solar     24.464\n",
              "Wind     211.319\n",
              "Name: 2013-12-01 00:00:00, dtype: float64"
            ]
          },
          "execution_count": 246,
          "metadata": {},
          "output_type": "execute_result"
        }
      ],
      "source": [
        "# Spalten \"Solar\" und \"Wind\" am 01.12.2013:\n",
        "df_copy[['Solar', 'Wind']].loc['2013-12-01']"
      ]
    }
  ],
  "metadata": {
    "colab": {
      "name": "HandsOnPython_02_DatenEinlesen_Indexieren.ipynb",
      "provenance": []
    },
    "kernelspec": {
      "display_name": "Python 3",
      "language": "python",
      "name": "python3"
    },
    "language_info": {
      "codemirror_mode": {
        "name": "ipython",
        "version": 3
      },
      "file_extension": ".py",
      "mimetype": "text/x-python",
      "name": "python",
      "nbconvert_exporter": "python",
      "pygments_lexer": "ipython3",
      "version": "3.11.5"
    }
  },
  "nbformat": 4,
  "nbformat_minor": 0
}
