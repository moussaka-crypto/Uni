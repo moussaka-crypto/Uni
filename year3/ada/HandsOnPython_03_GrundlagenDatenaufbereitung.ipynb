{
  "nbformat": 4,
  "nbformat_minor": 0,
  "metadata": {
    "kernelspec": {
      "display_name": "Python 3",
      "language": "python",
      "name": "python3"
    },
    "language_info": {
      "codemirror_mode": {
        "name": "ipython",
        "version": 3
      },
      "file_extension": ".py",
      "mimetype": "text/x-python",
      "name": "python",
      "nbconvert_exporter": "python",
      "pygments_lexer": "ipython3",
      "version": "3.7.0"
    },
    "colab": {
      "name": "HandsOnPython_03_GrundlagenDatenaufbereitung.ipynb",
      "provenance": [],
      "collapsed_sections": [
        "9gM69txwIVWm"
      ]
    }
  },
  "cells": [
    {
      "cell_type": "markdown",
      "metadata": {
        "id": "ayulqe04IVWd"
      },
      "source": [
        "# Hands On Python 3 - Datenaufbereitung\n",
        "Dieses Notebook zeigt wie\n",
        "- man Daten aus zwei csv Dateien zu einem Datensatz zusammenfügen kann\n",
        "- wie man mit nicht existenten Werten (NaN - Not a Number) umgeht\n",
        "- wie man Zeitreihen mit unterschiedlichen Frequenzen auf eine gemeinsame Frequenz bringen kann"
      ]
    },
    {
      "cell_type": "markdown",
      "metadata": {
        "id": "APrNMW-1IVWf"
      },
      "source": [
        "## Notwendige Bibliotheken importieren"
      ]
    },
    {
      "cell_type": "code",
      "metadata": {
        "colab": {
          "base_uri": "https://localhost:8080/"
        },
        "id": "HlOFkwRNIVWg",
        "outputId": "d59e2676-361d-4e28-cca4-c3624bb54018"
      },
      "source": [
        "# notwendige Bibliotheken importieren\n",
        "import pandas as pd\n",
        "import numpy as np\n",
        "import matplotlib.pyplot as plt\n",
        "import seaborn as sns\n",
        "from google.colab import drive\n",
        "drive.mount('/content/drive', force_remount=True)"
      ],
      "execution_count": null,
      "outputs": [
        {
          "output_type": "stream",
          "name": "stdout",
          "text": [
            "Mounted at /content/drive\n"
          ]
        }
      ]
    },
    {
      "cell_type": "markdown",
      "metadata": {
        "id": "Okq6PkpWIVWh"
      },
      "source": [
        "## Daten einlesen"
      ]
    },
    {
      "cell_type": "code",
      "metadata": {
        "id": "hp_SM78yIVWi"
      },
      "source": [
        "# Daten einlesen\n",
        "\n",
        "# Daten der 1. Quelle\n",
        "rawData1 = pd.read_csv('/content/drive/My Drive/source1.csv')\n",
        "\n",
        "# Lesen Sie die Daten der 2. Quelle ein\n",
        "rawData2 = pd.read_csv('/content/drive/My Drive/source2.csv')"
      ],
      "execution_count": null,
      "outputs": []
    },
    {
      "cell_type": "code",
      "metadata": {
        "id": "uvPZ5Zy5IVWi"
      },
      "source": [
        "# Anzahl der Zeilen und Spalten ausgeben \n",
        "\n",
        "# Geben Sie Zeilen und Spalten des 1. Datensatzes von Quelle 1 aus\n",
        "\n",
        "# Geben Sie Zeilen und Spalten des 2. Datensatzes von Quelle 2 aus\n"
      ],
      "execution_count": 1,
      "outputs": []
    },
    {
      "cell_type": "code",
      "metadata": {
        "id": "3szOqgUMIVWj"
      },
      "source": [
        "# Geben Sie die ersten Zeilen von Quelle 1 aus:\n"
      ],
      "execution_count": 2,
      "outputs": []
    },
    {
      "cell_type": "code",
      "metadata": {
        "id": "x5Bp-vuNIVWj"
      },
      "source": [
        "# Geben Sie die ersten Zeilen von Quelle 2 aus:\n"
      ],
      "execution_count": 3,
      "outputs": []
    },
    {
      "cell_type": "code",
      "metadata": {
        "id": "GPRBiH-7IVWk"
      },
      "source": [
        "# Geben Sie die letzten Zeilen von Quelle 1 aus:\n"
      ],
      "execution_count": 4,
      "outputs": []
    },
    {
      "cell_type": "code",
      "metadata": {
        "id": "KHPvNXNBIVWk"
      },
      "source": [
        "# Geben Sie die letzten Zeilen von Quelle 2 aus\n"
      ],
      "execution_count": 5,
      "outputs": []
    },
    {
      "cell_type": "markdown",
      "metadata": {
        "id": "wabmQ66lIVWk"
      },
      "source": [
        "## Daten auf fehlende Werte hin überprüfen"
      ]
    },
    {
      "cell_type": "code",
      "metadata": {
        "id": "Q65ZNKE1IVWl"
      },
      "source": [
        "# Geben Sie sich die Anzahl der NaNs in den Spalten von Quelle 2 aus:\n"
      ],
      "execution_count": 6,
      "outputs": []
    },
    {
      "cell_type": "code",
      "metadata": {
        "id": "HNS0_W7PIVWl"
      },
      "source": [
        "# Sofern der Datensatz keine NaNs erhält --> Kopie der Rohdaten namens data2 erstellen und damit direkt weiterarbeiten:\n"
      ],
      "execution_count": 7,
      "outputs": []
    },
    {
      "cell_type": "code",
      "metadata": {
        "id": "tebtv3pFIVWl"
      },
      "source": [
        "# Wie sieht es bei rawData1 aus? Geben Sie für rawData1 die Anzahl der NaNs in den Spalten aus\n"
      ],
      "execution_count": 8,
      "outputs": []
    },
    {
      "cell_type": "markdown",
      "metadata": {
        "id": "L6TZB-5cIVWm"
      },
      "source": [
        "## Mit NaNs umgehen"
      ]
    },
    {
      "cell_type": "markdown",
      "metadata": {
        "id": "bI_Gr0wzIVWm"
      },
      "source": [
        "### Möglichkeit 1: alle Zeilen, in denen mindestens 1x NaN vorkommt, löschen"
      ]
    },
    {
      "cell_type": "code",
      "metadata": {
        "colab": {
          "base_uri": "https://localhost:8080/"
        },
        "id": "O3RaFZ-OIVWm",
        "outputId": "d28c9197-e696-47d0-bfb8-f7f9a5dd02d0"
      },
      "source": [
        "# Kopie der Rohdaten anlegen\n",
        "data1_del = rawData1.copy() \n",
        "\n",
        "# Zeilen mit mind. 1x NaN löschen (d.h. in irgendeiner Spalte kommt ein NaN vor --> Zeile wird gelöscht)\n",
        "data1_del.dropna(inplace=True)\n",
        "\n",
        "# Überprüfen\n",
        "data1_del.isna().sum()"
      ],
      "execution_count": null,
      "outputs": [
        {
          "output_type": "execute_result",
          "data": {
            "text/plain": [
              "Date         0\n",
              "Energy       0\n",
              "Light        0\n",
              "CO2          0\n",
              "Occupancy    0\n",
              "dtype: int64"
            ]
          },
          "metadata": {},
          "execution_count": 10
        }
      ]
    },
    {
      "cell_type": "markdown",
      "metadata": {
        "id": "9gM69txwIVWm"
      },
      "source": [
        "### Möglichkeit 2: Fehlende Werte durch interpolierte Werte ersetzen"
      ]
    },
    {
      "cell_type": "markdown",
      "metadata": {
        "id": "d16mQyUNIVWn"
      },
      "source": [
        "### Linear Interpolieren"
      ]
    },
    {
      "cell_type": "code",
      "metadata": {
        "id": "n5EB2DDrIVWn"
      },
      "source": [
        "# Führen Sie eine lineare Interpolation durch. Erstellen Sie sich dazu zunächst data1_ip als Kopie von rawData1\n",
        "\n",
        "\n",
        "# Geben Sie sich die Anzahl an NaN in den Spalten nach der Interpolation aus:\n"
      ],
      "execution_count": 9,
      "outputs": []
    },
    {
      "cell_type": "code",
      "metadata": {
        "scrolled": true,
        "id": "5oZIYaFkIVWo"
      },
      "source": [
        "# Plotten der alten Zeitreihe\n",
        "plt.figure(figsize=(18, 4))\n",
        "rawData1['Light'].plot(marker='o')   "
      ],
      "execution_count": 12,
      "outputs": []
    },
    {
      "cell_type": "code",
      "metadata": {
        "id": "PqC9XVPlIVWo"
      },
      "source": [
        "#neue Zeitreihe mit interpolierten Werten plotten\n"
      ],
      "execution_count": 11,
      "outputs": []
    },
    {
      "cell_type": "markdown",
      "source": [
        "Wie zufrieden sind Sie mit der Interpolation?\n",
        "\n",
        "\n",
        "...."
      ],
      "metadata": {
        "id": "04agxgU_rB29"
      }
    },
    {
      "cell_type": "code",
      "metadata": {
        "colab": {
          "base_uri": "https://localhost:8080/"
        },
        "id": "fuVjLp_qIVWp",
        "outputId": "b12801bb-c0ae-409b-f215-971759f97d50"
      },
      "source": [
        "# Grundsätzlich ist auch möglich mit Polynomfunktionen zu interpolieren.\n",
        "# Interpolieren Sie quadratisch (method='polynomial', order=2)\n",
        "\n",
        "\n",
        "\n",
        "# Anzahl an NaN in Spalten ausgeben\n",
        "\n"
      ],
      "execution_count": null,
      "outputs": [
        {
          "output_type": "execute_result",
          "data": {
            "text/plain": [
              "Date         0\n",
              "Energy       0\n",
              "Light        0\n",
              "CO2          0\n",
              "Occupancy    0\n",
              "dtype: int64"
            ]
          },
          "metadata": {},
          "execution_count": 15
        }
      ]
    },
    {
      "cell_type": "code",
      "metadata": {
        "id": "G-_eL_trIVWp"
      },
      "source": [
        "# Plotten Sie zum Vergleich wieder die alte und die neue Zeitreihe \n",
        "# Plot der alten Zeitreihe:\n",
        "\n"
      ],
      "execution_count": 14,
      "outputs": []
    },
    {
      "cell_type": "code",
      "metadata": {
        "id": "AH0ggExVIVWq"
      },
      "source": [
        "# Plot der neuen Zeitreihe:"
      ],
      "execution_count": 15,
      "outputs": []
    },
    {
      "cell_type": "markdown",
      "source": [
        "Hat sich die quadratische Interpolation im Vergleich zur linearen gelohnt? Welches der beiden Interpolationsverfahren würden Sie wählen?\n",
        "\n",
        "......."
      ],
      "metadata": {
        "id": "dFmSNMQPrWQK"
      }
    },
    {
      "cell_type": "markdown",
      "metadata": {
        "id": "bEL2BvJFIVWq"
      },
      "source": [
        "## Zeitstempel als Index setzen\n",
        "- Momentan sind die Zeilenindizes einfach durchnummeriert: 0,1,2,...\n",
        "- Wenn der Zeitstempel als Index gesetzt wird, kann man einfacher arbeiten\n",
        "- Dafür muss der Zeitstempel als erstes in das Format datetime gebracht werden, damit Python ihn als Zeitstempel erkennt"
      ]
    },
    {
      "cell_type": "code",
      "metadata": {
        "colab": {
          "base_uri": "https://localhost:8080/"
        },
        "id": "TLtd5BPyIVWq",
        "outputId": "0deefdcb-f4fa-4b19-8e8d-ca6bd7d33b0e"
      },
      "source": [
        "# die Spalte Date ist noch nicht im datetime Format\n",
        "data1_ip.dtypes"
      ],
      "execution_count": null,
      "outputs": [
        {
          "output_type": "execute_result",
          "data": {
            "text/plain": [
              "Date          object\n",
              "Energy       float64\n",
              "Light        float64\n",
              "CO2          float64\n",
              "Occupancy    float64\n",
              "dtype: object"
            ]
          },
          "metadata": {},
          "execution_count": 18
        }
      ]
    },
    {
      "cell_type": "code",
      "metadata": {
        "id": "vIvZgHXsIVWr"
      },
      "source": [
        "# Bringen Sie die Spalte Date ins datetime Format \n"
      ],
      "execution_count": 16,
      "outputs": []
    },
    {
      "cell_type": "code",
      "metadata": {
        "id": "8Ft6Y1nNIVWr"
      },
      "source": [
        "# Indizieren Sie mit der Zeitstempel-Spalte \n",
        "\n",
        "\n",
        "# Kontrollieren Sie das durch Ausgabe der ersten Zeilen des Datensatzes. \n"
      ],
      "execution_count": 17,
      "outputs": []
    },
    {
      "cell_type": "markdown",
      "source": [
        "Wieso wird bei wiederholtem Ausführen obiger Zelle ein Fehler geworfen? Müssen Sie etwas am Code korrigieren?\n",
        "\n",
        "...."
      ],
      "metadata": {
        "id": "O25wCPosryDD"
      }
    },
    {
      "cell_type": "code",
      "metadata": {
        "id": "SgELhwmFIVWr"
      },
      "source": [
        "# Indizieren Sie auch data2 mit dessen Zeitstempel\n"
      ],
      "execution_count": 18,
      "outputs": []
    },
    {
      "cell_type": "code",
      "metadata": {
        "id": "LVWKPNsFIVWr"
      },
      "source": [
        ""
      ],
      "execution_count": 18,
      "outputs": []
    },
    {
      "cell_type": "code",
      "metadata": {
        "id": "6w-cvAqFIVWr"
      },
      "source": [
        ""
      ],
      "execution_count": 18,
      "outputs": []
    },
    {
      "cell_type": "code",
      "metadata": {
        "id": "NSO071nrIVWs"
      },
      "source": [
        ""
      ],
      "execution_count": 18,
      "outputs": []
    },
    {
      "cell_type": "markdown",
      "metadata": {
        "id": "ddZVxF1aIVWs"
      },
      "source": [
        "## Datensätze zu einem Zusammenfügen\n",
        "- Problem: Die Datensätze haben unterschiedliche Frequenzen: Datensatz 1: 15min, Datensatz 2: stündlich\n",
        "- Möglichkeit 1: Nur die Indizes nehmen, die sowohl in Datensatz 1, als auch in Datensatz 2 sind, also jede volle Stunde\n",
        "- Möglichkeit 2: Den Datensatz mit der höheren Frequenz (Datensatz 1) runtersamplen, z.B. indem der stündliche Mittelwert oder die Summe über je eine Stunde gebildet wird"
      ]
    },
    {
      "cell_type": "markdown",
      "metadata": {
        "id": "LMPjks0xIVWs"
      },
      "source": [
        "Frage: Worauf muss man aufpassen, wenn man Möglichkeit 2 wählt?"
      ]
    },
    {
      "cell_type": "markdown",
      "metadata": {
        "id": "hC6QDGoTIVWs"
      },
      "source": [
        "Antwort: \n",
        "...."
      ]
    },
    {
      "cell_type": "markdown",
      "metadata": {
        "id": "Lu9e7PuJIVWs"
      },
      "source": [
        "### Möglichkeit 1: Nur die Indizes nehmen, die sowohl in Datensatz 1, als auch in Datensatz 2 sind"
      ]
    },
    {
      "cell_type": "code",
      "metadata": {
        "colab": {
          "base_uri": "https://localhost:8080/",
          "height": 237
        },
        "id": "bYOde3ExIVWs",
        "outputId": "d2d687ac-e25b-4960-8ba7-e9171c3693b0"
      },
      "source": [
        "# Neuen Datensatz definieren, der aus Datensatz 2 von rechts angehängt an Datensatz 1 besteht\n",
        "data = pd.concat([data1_ip, data2], axis=1)\n",
        "\n",
        "# Dort wo keine Werte für den jeweiligen Zeitstempel vorhanden sind, werden NaN eingefügt\n",
        "data.head()"
      ],
      "execution_count": null,
      "outputs": [
        {
          "output_type": "execute_result",
          "data": {
            "text/html": [
              "<div>\n",
              "<style scoped>\n",
              "    .dataframe tbody tr th:only-of-type {\n",
              "        vertical-align: middle;\n",
              "    }\n",
              "\n",
              "    .dataframe tbody tr th {\n",
              "        vertical-align: top;\n",
              "    }\n",
              "\n",
              "    .dataframe thead th {\n",
              "        text-align: right;\n",
              "    }\n",
              "</style>\n",
              "<table border=\"1\" class=\"dataframe\">\n",
              "  <thead>\n",
              "    <tr style=\"text-align: right;\">\n",
              "      <th></th>\n",
              "      <th>Energy</th>\n",
              "      <th>Light</th>\n",
              "      <th>CO2</th>\n",
              "      <th>Occupancy</th>\n",
              "      <th>Temperature</th>\n",
              "    </tr>\n",
              "    <tr>\n",
              "      <th>Date</th>\n",
              "      <th></th>\n",
              "      <th></th>\n",
              "      <th></th>\n",
              "      <th></th>\n",
              "      <th></th>\n",
              "    </tr>\n",
              "  </thead>\n",
              "  <tbody>\n",
              "    <tr>\n",
              "      <th>2015-02-02 14:00:00</th>\n",
              "      <td>NaN</td>\n",
              "      <td>NaN</td>\n",
              "      <td>NaN</td>\n",
              "      <td>NaN</td>\n",
              "      <td>23.657118</td>\n",
              "    </tr>\n",
              "    <tr>\n",
              "      <th>2015-02-02 14:15:00</th>\n",
              "      <td>26.285636</td>\n",
              "      <td>527.283333</td>\n",
              "      <td>785.951515</td>\n",
              "      <td>1.0</td>\n",
              "      <td>NaN</td>\n",
              "    </tr>\n",
              "    <tr>\n",
              "      <th>2015-02-02 14:30:00</th>\n",
              "      <td>27.016313</td>\n",
              "      <td>481.697917</td>\n",
              "      <td>894.539583</td>\n",
              "      <td>1.0</td>\n",
              "      <td>NaN</td>\n",
              "    </tr>\n",
              "    <tr>\n",
              "      <th>2015-02-02 14:45:00</th>\n",
              "      <td>27.612107</td>\n",
              "      <td>499.415646</td>\n",
              "      <td>992.291327</td>\n",
              "      <td>1.0</td>\n",
              "      <td>NaN</td>\n",
              "    </tr>\n",
              "    <tr>\n",
              "      <th>2015-02-02 15:00:00</th>\n",
              "      <td>28.006019</td>\n",
              "      <td>456.436190</td>\n",
              "      <td>1051.151905</td>\n",
              "      <td>1.0</td>\n",
              "      <td>23.293950</td>\n",
              "    </tr>\n",
              "  </tbody>\n",
              "</table>\n",
              "</div>"
            ],
            "text/plain": [
              "                        Energy       Light          CO2  Occupancy  Temperature\n",
              "Date                                                                           \n",
              "2015-02-02 14:00:00        NaN         NaN          NaN        NaN    23.657118\n",
              "2015-02-02 14:15:00  26.285636  527.283333   785.951515        1.0          NaN\n",
              "2015-02-02 14:30:00  27.016313  481.697917   894.539583        1.0          NaN\n",
              "2015-02-02 14:45:00  27.612107  499.415646   992.291327        1.0          NaN\n",
              "2015-02-02 15:00:00  28.006019  456.436190  1051.151905        1.0    23.293950"
            ]
          },
          "metadata": {},
          "execution_count": 27
        }
      ]
    },
    {
      "cell_type": "code",
      "metadata": {
        "id": "RnHb4P4nIVWt"
      },
      "source": [
        "# Löschen Sie nun noch die Zeilen in denen mindestens 1x NaN vorkommt:\n",
        "\n",
        "\n",
        "# Ausgabe der ersten Zeilen von data zur Kontrolle:\n"
      ],
      "execution_count": 20,
      "outputs": []
    },
    {
      "cell_type": "markdown",
      "metadata": {
        "id": "gV8uMR8tIVWt"
      },
      "source": [
        "## Möglichkeit 2: \n",
        "- Datensatz 1 soll von 15minüten auf stündliche Werte runtergesampelt werden\n",
        "- Für die Spalten Light und CO2 soll dazu der stündliche Mittelwert genommen werden\n",
        "- Für die Spalte Energy soll dazu jeweils die Summe über die 4 Werte in einer Stunde gebildet werden\n",
        "- Für die Spalte Occupancy soll einfach der Wert zur vollen Stunde genommen werden"
      ]
    },
    {
      "cell_type": "code",
      "metadata": {
        "colab": {
          "base_uri": "https://localhost:8080/",
          "height": 186
        },
        "id": "vmMYDS3JIVWt",
        "outputId": "5d6e1c27-3e3c-441c-fa8c-a5fd400974c8"
      },
      "source": [
        "# Ursprünglicher Datensatz\n",
        "data1_ip.head()"
      ],
      "execution_count": 21,
      "outputs": [
        {
          "output_type": "error",
          "ename": "NameError",
          "evalue": "ignored",
          "traceback": [
            "\u001b[0;31m---------------------------------------------------------------------------\u001b[0m",
            "\u001b[0;31mNameError\u001b[0m                                 Traceback (most recent call last)",
            "\u001b[0;32m<ipython-input-21-06a382b872cf>\u001b[0m in \u001b[0;36m<module>\u001b[0;34m()\u001b[0m\n\u001b[1;32m      1\u001b[0m \u001b[0;31m# Ursprünglicher Datensatz\u001b[0m\u001b[0;34m\u001b[0m\u001b[0;34m\u001b[0m\u001b[0;34m\u001b[0m\u001b[0m\n\u001b[0;32m----> 2\u001b[0;31m \u001b[0mdata1_ip\u001b[0m\u001b[0;34m.\u001b[0m\u001b[0mhead\u001b[0m\u001b[0;34m(\u001b[0m\u001b[0;34m)\u001b[0m\u001b[0;34m\u001b[0m\u001b[0;34m\u001b[0m\u001b[0m\n\u001b[0m",
            "\u001b[0;31mNameError\u001b[0m: name 'data1_ip' is not defined"
          ]
        }
      ]
    },
    {
      "cell_type": "code",
      "metadata": {
        "colab": {
          "base_uri": "https://localhost:8080/",
          "height": 237
        },
        "id": "KWkSg200IVWt",
        "outputId": "13f0e088-de16-494a-81b9-520ef7e7369f"
      },
      "source": [
        "# Ursprünglichen Datensatz aufteilen\n",
        "\n",
        "# nur die Spalten, die gemittelt werden sollen \n",
        "data1_mean = data1_ip.copy()\n",
        "data1_mean.drop(['Energy', 'Occupancy'], axis=1, inplace=True)\n",
        "data1_mean.head()"
      ],
      "execution_count": null,
      "outputs": [
        {
          "output_type": "execute_result",
          "data": {
            "text/plain": [
              "                          Light          CO2\n",
              "Date                                        \n",
              "2015-02-02 14:15:00  527.283333   785.951515\n",
              "2015-02-02 14:30:00  481.697917   894.539583\n",
              "2015-02-02 14:45:00  499.415646   992.291327\n",
              "2015-02-02 15:00:00  456.436190  1051.151905\n",
              "2015-02-02 15:15:00  464.760417  1101.779167"
            ],
            "text/html": [
              "\n",
              "  <div id=\"df-d4162dad-0954-4856-9934-309e69d92326\">\n",
              "    <div class=\"colab-df-container\">\n",
              "      <div>\n",
              "<style scoped>\n",
              "    .dataframe tbody tr th:only-of-type {\n",
              "        vertical-align: middle;\n",
              "    }\n",
              "\n",
              "    .dataframe tbody tr th {\n",
              "        vertical-align: top;\n",
              "    }\n",
              "\n",
              "    .dataframe thead th {\n",
              "        text-align: right;\n",
              "    }\n",
              "</style>\n",
              "<table border=\"1\" class=\"dataframe\">\n",
              "  <thead>\n",
              "    <tr style=\"text-align: right;\">\n",
              "      <th></th>\n",
              "      <th>Light</th>\n",
              "      <th>CO2</th>\n",
              "    </tr>\n",
              "    <tr>\n",
              "      <th>Date</th>\n",
              "      <th></th>\n",
              "      <th></th>\n",
              "    </tr>\n",
              "  </thead>\n",
              "  <tbody>\n",
              "    <tr>\n",
              "      <th>2015-02-02 14:15:00</th>\n",
              "      <td>527.283333</td>\n",
              "      <td>785.951515</td>\n",
              "    </tr>\n",
              "    <tr>\n",
              "      <th>2015-02-02 14:30:00</th>\n",
              "      <td>481.697917</td>\n",
              "      <td>894.539583</td>\n",
              "    </tr>\n",
              "    <tr>\n",
              "      <th>2015-02-02 14:45:00</th>\n",
              "      <td>499.415646</td>\n",
              "      <td>992.291327</td>\n",
              "    </tr>\n",
              "    <tr>\n",
              "      <th>2015-02-02 15:00:00</th>\n",
              "      <td>456.436190</td>\n",
              "      <td>1051.151905</td>\n",
              "    </tr>\n",
              "    <tr>\n",
              "      <th>2015-02-02 15:15:00</th>\n",
              "      <td>464.760417</td>\n",
              "      <td>1101.779167</td>\n",
              "    </tr>\n",
              "  </tbody>\n",
              "</table>\n",
              "</div>\n",
              "      <button class=\"colab-df-convert\" onclick=\"convertToInteractive('df-d4162dad-0954-4856-9934-309e69d92326')\"\n",
              "              title=\"Convert this dataframe to an interactive table.\"\n",
              "              style=\"display:none;\">\n",
              "        \n",
              "  <svg xmlns=\"http://www.w3.org/2000/svg\" height=\"24px\"viewBox=\"0 0 24 24\"\n",
              "       width=\"24px\">\n",
              "    <path d=\"M0 0h24v24H0V0z\" fill=\"none\"/>\n",
              "    <path d=\"M18.56 5.44l.94 2.06.94-2.06 2.06-.94-2.06-.94-.94-2.06-.94 2.06-2.06.94zm-11 1L8.5 8.5l.94-2.06 2.06-.94-2.06-.94L8.5 2.5l-.94 2.06-2.06.94zm10 10l.94 2.06.94-2.06 2.06-.94-2.06-.94-.94-2.06-.94 2.06-2.06.94z\"/><path d=\"M17.41 7.96l-1.37-1.37c-.4-.4-.92-.59-1.43-.59-.52 0-1.04.2-1.43.59L10.3 9.45l-7.72 7.72c-.78.78-.78 2.05 0 2.83L4 21.41c.39.39.9.59 1.41.59.51 0 1.02-.2 1.41-.59l7.78-7.78 2.81-2.81c.8-.78.8-2.07 0-2.86zM5.41 20L4 18.59l7.72-7.72 1.47 1.35L5.41 20z\"/>\n",
              "  </svg>\n",
              "      </button>\n",
              "      \n",
              "  <style>\n",
              "    .colab-df-container {\n",
              "      display:flex;\n",
              "      flex-wrap:wrap;\n",
              "      gap: 12px;\n",
              "    }\n",
              "\n",
              "    .colab-df-convert {\n",
              "      background-color: #E8F0FE;\n",
              "      border: none;\n",
              "      border-radius: 50%;\n",
              "      cursor: pointer;\n",
              "      display: none;\n",
              "      fill: #1967D2;\n",
              "      height: 32px;\n",
              "      padding: 0 0 0 0;\n",
              "      width: 32px;\n",
              "    }\n",
              "\n",
              "    .colab-df-convert:hover {\n",
              "      background-color: #E2EBFA;\n",
              "      box-shadow: 0px 1px 2px rgba(60, 64, 67, 0.3), 0px 1px 3px 1px rgba(60, 64, 67, 0.15);\n",
              "      fill: #174EA6;\n",
              "    }\n",
              "\n",
              "    [theme=dark] .colab-df-convert {\n",
              "      background-color: #3B4455;\n",
              "      fill: #D2E3FC;\n",
              "    }\n",
              "\n",
              "    [theme=dark] .colab-df-convert:hover {\n",
              "      background-color: #434B5C;\n",
              "      box-shadow: 0px 1px 3px 1px rgba(0, 0, 0, 0.15);\n",
              "      filter: drop-shadow(0px 1px 2px rgba(0, 0, 0, 0.3));\n",
              "      fill: #FFFFFF;\n",
              "    }\n",
              "  </style>\n",
              "\n",
              "      <script>\n",
              "        const buttonEl =\n",
              "          document.querySelector('#df-d4162dad-0954-4856-9934-309e69d92326 button.colab-df-convert');\n",
              "        buttonEl.style.display =\n",
              "          google.colab.kernel.accessAllowed ? 'block' : 'none';\n",
              "\n",
              "        async function convertToInteractive(key) {\n",
              "          const element = document.querySelector('#df-d4162dad-0954-4856-9934-309e69d92326');\n",
              "          const dataTable =\n",
              "            await google.colab.kernel.invokeFunction('convertToInteractive',\n",
              "                                                     [key], {});\n",
              "          if (!dataTable) return;\n",
              "\n",
              "          const docLinkHtml = 'Like what you see? Visit the ' +\n",
              "            '<a target=\"_blank\" href=https://colab.research.google.com/notebooks/data_table.ipynb>data table notebook</a>'\n",
              "            + ' to learn more about interactive tables.';\n",
              "          element.innerHTML = '';\n",
              "          dataTable['output_type'] = 'display_data';\n",
              "          await google.colab.output.renderOutput(dataTable, element);\n",
              "          const docLink = document.createElement('div');\n",
              "          docLink.innerHTML = docLinkHtml;\n",
              "          element.appendChild(docLink);\n",
              "        }\n",
              "      </script>\n",
              "    </div>\n",
              "  </div>\n",
              "  "
            ]
          },
          "metadata": {},
          "execution_count": 27
        }
      ]
    },
    {
      "cell_type": "code",
      "metadata": {
        "id": "XgE2LujPIVWt"
      },
      "source": [
        "# Generieren Sie einen Datensatz data1_sum, der nur die Spalten enthält, die summiert werden sollen\n"
      ],
      "execution_count": 22,
      "outputs": []
    },
    {
      "cell_type": "code",
      "metadata": {
        "id": "1Vmf8xERIVWu"
      },
      "source": [
        "# Generieren Sie einen Datensatz data1_binary, der nur die Spalten enthält, die weder gemittelt noch aufsummiert werden sollen\n"
      ],
      "execution_count": 23,
      "outputs": []
    },
    {
      "cell_type": "code",
      "metadata": {
        "id": "IxEBdUbcIVWu"
      },
      "source": [
        "# Bringen Sie den Datensatz data1_mean durch Mittelwertbildung auf eine höhere Frequenz (stündlich):\n",
        "\n",
        "\n",
        "# Lassen Sie sich zur Kontrolle die ersten Zeilen ausgeben:\n"
      ],
      "execution_count": 24,
      "outputs": []
    },
    {
      "cell_type": "code",
      "metadata": {
        "id": "dWHYTwA0IVWv"
      },
      "source": [
        "# Bringen Sie data1_sum durch Summenbildung auf eine höhere Frequenz (stündlich). (statt .mean() verwenden Sie .sum())\n",
        "\n",
        "# Ausgabe der ersten Zeilen zur Kontrolle:\n"
      ],
      "execution_count": 25,
      "outputs": []
    },
    {
      "cell_type": "code",
      "metadata": {
        "id": "QYSOso6jIVWv"
      },
      "source": [
        "# Bringen Sie den Datensatz data1_binary auf eine höhere Frequenz (stündlich). \n",
        "# Dafür soll immer der Wert des Merkmals Occupancy zu vollen Stunde genommen werden, die anderen Werte sollen verworfen werden. \n",
        "\n",
        "\n",
        "# Ausgabe der ersten Zeilen zur Kontrolle:\n"
      ],
      "execution_count": 26,
      "outputs": []
    },
    {
      "cell_type": "code",
      "metadata": {
        "colab": {
          "base_uri": "https://localhost:8080/",
          "height": 237
        },
        "id": "tUr7_65mIVWw",
        "outputId": "f4e2c0eb-7ab6-41d8-9542-02711e05a3fc"
      },
      "source": [
        "# Daten zusammenfügen\n",
        "data = pd.concat([data2, data1_resampled_sum, data1_resampled_mean, data1_resampled_binary], axis=1)\n",
        "\n",
        "data.head()"
      ],
      "execution_count": null,
      "outputs": [
        {
          "output_type": "execute_result",
          "data": {
            "text/plain": [
              "                     Temperature      Energy       Light          CO2  \\\n",
              "Date                                                                    \n",
              "2015-02-02 14:00:00    23.657118         NaN  502.798965   890.927475   \n",
              "2015-02-02 15:00:00    23.293950   80.914056  456.677902  1103.590327   \n",
              "2015-02-02 16:00:00    22.773142  113.657907  434.929193   980.338952   \n",
              "2015-02-02 17:00:00    22.534520  106.986065  426.717991   821.892560   \n",
              "2015-02-02 18:00:00    21.993372   99.873477   32.984167   719.712031   \n",
              "\n",
              "                     Occupancy  \n",
              "Date                            \n",
              "2015-02-02 14:00:00        1.0  \n",
              "2015-02-02 15:00:00        1.0  \n",
              "2015-02-02 16:00:00        1.0  \n",
              "2015-02-02 17:00:00        1.0  \n",
              "2015-02-02 18:00:00        0.0  "
            ],
            "text/html": [
              "\n",
              "  <div id=\"df-9a747060-a9d2-4292-8875-d96f53a435a3\">\n",
              "    <div class=\"colab-df-container\">\n",
              "      <div>\n",
              "<style scoped>\n",
              "    .dataframe tbody tr th:only-of-type {\n",
              "        vertical-align: middle;\n",
              "    }\n",
              "\n",
              "    .dataframe tbody tr th {\n",
              "        vertical-align: top;\n",
              "    }\n",
              "\n",
              "    .dataframe thead th {\n",
              "        text-align: right;\n",
              "    }\n",
              "</style>\n",
              "<table border=\"1\" class=\"dataframe\">\n",
              "  <thead>\n",
              "    <tr style=\"text-align: right;\">\n",
              "      <th></th>\n",
              "      <th>Temperature</th>\n",
              "      <th>Energy</th>\n",
              "      <th>Light</th>\n",
              "      <th>CO2</th>\n",
              "      <th>Occupancy</th>\n",
              "    </tr>\n",
              "    <tr>\n",
              "      <th>Date</th>\n",
              "      <th></th>\n",
              "      <th></th>\n",
              "      <th></th>\n",
              "      <th></th>\n",
              "      <th></th>\n",
              "    </tr>\n",
              "  </thead>\n",
              "  <tbody>\n",
              "    <tr>\n",
              "      <th>2015-02-02 14:00:00</th>\n",
              "      <td>23.657118</td>\n",
              "      <td>NaN</td>\n",
              "      <td>502.798965</td>\n",
              "      <td>890.927475</td>\n",
              "      <td>1.0</td>\n",
              "    </tr>\n",
              "    <tr>\n",
              "      <th>2015-02-02 15:00:00</th>\n",
              "      <td>23.293950</td>\n",
              "      <td>80.914056</td>\n",
              "      <td>456.677902</td>\n",
              "      <td>1103.590327</td>\n",
              "      <td>1.0</td>\n",
              "    </tr>\n",
              "    <tr>\n",
              "      <th>2015-02-02 16:00:00</th>\n",
              "      <td>22.773142</td>\n",
              "      <td>113.657907</td>\n",
              "      <td>434.929193</td>\n",
              "      <td>980.338952</td>\n",
              "      <td>1.0</td>\n",
              "    </tr>\n",
              "    <tr>\n",
              "      <th>2015-02-02 17:00:00</th>\n",
              "      <td>22.534520</td>\n",
              "      <td>106.986065</td>\n",
              "      <td>426.717991</td>\n",
              "      <td>821.892560</td>\n",
              "      <td>1.0</td>\n",
              "    </tr>\n",
              "    <tr>\n",
              "      <th>2015-02-02 18:00:00</th>\n",
              "      <td>21.993372</td>\n",
              "      <td>99.873477</td>\n",
              "      <td>32.984167</td>\n",
              "      <td>719.712031</td>\n",
              "      <td>0.0</td>\n",
              "    </tr>\n",
              "  </tbody>\n",
              "</table>\n",
              "</div>\n",
              "      <button class=\"colab-df-convert\" onclick=\"convertToInteractive('df-9a747060-a9d2-4292-8875-d96f53a435a3')\"\n",
              "              title=\"Convert this dataframe to an interactive table.\"\n",
              "              style=\"display:none;\">\n",
              "        \n",
              "  <svg xmlns=\"http://www.w3.org/2000/svg\" height=\"24px\"viewBox=\"0 0 24 24\"\n",
              "       width=\"24px\">\n",
              "    <path d=\"M0 0h24v24H0V0z\" fill=\"none\"/>\n",
              "    <path d=\"M18.56 5.44l.94 2.06.94-2.06 2.06-.94-2.06-.94-.94-2.06-.94 2.06-2.06.94zm-11 1L8.5 8.5l.94-2.06 2.06-.94-2.06-.94L8.5 2.5l-.94 2.06-2.06.94zm10 10l.94 2.06.94-2.06 2.06-.94-2.06-.94-.94-2.06-.94 2.06-2.06.94z\"/><path d=\"M17.41 7.96l-1.37-1.37c-.4-.4-.92-.59-1.43-.59-.52 0-1.04.2-1.43.59L10.3 9.45l-7.72 7.72c-.78.78-.78 2.05 0 2.83L4 21.41c.39.39.9.59 1.41.59.51 0 1.02-.2 1.41-.59l7.78-7.78 2.81-2.81c.8-.78.8-2.07 0-2.86zM5.41 20L4 18.59l7.72-7.72 1.47 1.35L5.41 20z\"/>\n",
              "  </svg>\n",
              "      </button>\n",
              "      \n",
              "  <style>\n",
              "    .colab-df-container {\n",
              "      display:flex;\n",
              "      flex-wrap:wrap;\n",
              "      gap: 12px;\n",
              "    }\n",
              "\n",
              "    .colab-df-convert {\n",
              "      background-color: #E8F0FE;\n",
              "      border: none;\n",
              "      border-radius: 50%;\n",
              "      cursor: pointer;\n",
              "      display: none;\n",
              "      fill: #1967D2;\n",
              "      height: 32px;\n",
              "      padding: 0 0 0 0;\n",
              "      width: 32px;\n",
              "    }\n",
              "\n",
              "    .colab-df-convert:hover {\n",
              "      background-color: #E2EBFA;\n",
              "      box-shadow: 0px 1px 2px rgba(60, 64, 67, 0.3), 0px 1px 3px 1px rgba(60, 64, 67, 0.15);\n",
              "      fill: #174EA6;\n",
              "    }\n",
              "\n",
              "    [theme=dark] .colab-df-convert {\n",
              "      background-color: #3B4455;\n",
              "      fill: #D2E3FC;\n",
              "    }\n",
              "\n",
              "    [theme=dark] .colab-df-convert:hover {\n",
              "      background-color: #434B5C;\n",
              "      box-shadow: 0px 1px 3px 1px rgba(0, 0, 0, 0.15);\n",
              "      filter: drop-shadow(0px 1px 2px rgba(0, 0, 0, 0.3));\n",
              "      fill: #FFFFFF;\n",
              "    }\n",
              "  </style>\n",
              "\n",
              "      <script>\n",
              "        const buttonEl =\n",
              "          document.querySelector('#df-9a747060-a9d2-4292-8875-d96f53a435a3 button.colab-df-convert');\n",
              "        buttonEl.style.display =\n",
              "          google.colab.kernel.accessAllowed ? 'block' : 'none';\n",
              "\n",
              "        async function convertToInteractive(key) {\n",
              "          const element = document.querySelector('#df-9a747060-a9d2-4292-8875-d96f53a435a3');\n",
              "          const dataTable =\n",
              "            await google.colab.kernel.invokeFunction('convertToInteractive',\n",
              "                                                     [key], {});\n",
              "          if (!dataTable) return;\n",
              "\n",
              "          const docLinkHtml = 'Like what you see? Visit the ' +\n",
              "            '<a target=\"_blank\" href=https://colab.research.google.com/notebooks/data_table.ipynb>data table notebook</a>'\n",
              "            + ' to learn more about interactive tables.';\n",
              "          element.innerHTML = '';\n",
              "          dataTable['output_type'] = 'display_data';\n",
              "          await google.colab.output.renderOutput(dataTable, element);\n",
              "          const docLink = document.createElement('div');\n",
              "          docLink.innerHTML = docLinkHtml;\n",
              "          element.appendChild(docLink);\n",
              "        }\n",
              "      </script>\n",
              "    </div>\n",
              "  </div>\n",
              "  "
            ]
          },
          "metadata": {},
          "execution_count": 37
        }
      ]
    },
    {
      "cell_type": "code",
      "metadata": {
        "id": "fhXf3j4TIVWw"
      },
      "source": [
        "# Entfernen von Zeilen mit mind. 1x NaN falls vorhanden:\n",
        "data.dropna(inplace=True)"
      ],
      "execution_count": null,
      "outputs": []
    },
    {
      "cell_type": "code",
      "metadata": {
        "colab": {
          "base_uri": "https://localhost:8080/",
          "height": 237
        },
        "id": "9XOd0ZFXIVWw",
        "outputId": "a0471306-3557-40b4-aa9f-8dd18549a15c"
      },
      "source": [
        "# Ausgabe der ersten Zeilen von data\n",
        "data.head()"
      ],
      "execution_count": null,
      "outputs": [
        {
          "output_type": "execute_result",
          "data": {
            "text/plain": [
              "                     Temperature      Energy       Light          CO2  \\\n",
              "Date                                                                    \n",
              "2015-02-02 15:00:00    23.293950   80.914056  456.677902  1103.590327   \n",
              "2015-02-02 16:00:00    22.773142  113.657907  434.929193   980.338952   \n",
              "2015-02-02 17:00:00    22.534520  106.986065  426.717991   821.892560   \n",
              "2015-02-02 18:00:00    21.993372   99.873477   32.984167   719.712031   \n",
              "2015-02-02 19:00:00    21.276331   98.368227    0.000000   585.110384   \n",
              "\n",
              "                     Occupancy  \n",
              "Date                            \n",
              "2015-02-02 15:00:00        1.0  \n",
              "2015-02-02 16:00:00        1.0  \n",
              "2015-02-02 17:00:00        1.0  \n",
              "2015-02-02 18:00:00        0.0  \n",
              "2015-02-02 19:00:00        0.0  "
            ],
            "text/html": [
              "\n",
              "  <div id=\"df-176160c4-7a2b-441a-8762-c853ccdf192b\">\n",
              "    <div class=\"colab-df-container\">\n",
              "      <div>\n",
              "<style scoped>\n",
              "    .dataframe tbody tr th:only-of-type {\n",
              "        vertical-align: middle;\n",
              "    }\n",
              "\n",
              "    .dataframe tbody tr th {\n",
              "        vertical-align: top;\n",
              "    }\n",
              "\n",
              "    .dataframe thead th {\n",
              "        text-align: right;\n",
              "    }\n",
              "</style>\n",
              "<table border=\"1\" class=\"dataframe\">\n",
              "  <thead>\n",
              "    <tr style=\"text-align: right;\">\n",
              "      <th></th>\n",
              "      <th>Temperature</th>\n",
              "      <th>Energy</th>\n",
              "      <th>Light</th>\n",
              "      <th>CO2</th>\n",
              "      <th>Occupancy</th>\n",
              "    </tr>\n",
              "    <tr>\n",
              "      <th>Date</th>\n",
              "      <th></th>\n",
              "      <th></th>\n",
              "      <th></th>\n",
              "      <th></th>\n",
              "      <th></th>\n",
              "    </tr>\n",
              "  </thead>\n",
              "  <tbody>\n",
              "    <tr>\n",
              "      <th>2015-02-02 15:00:00</th>\n",
              "      <td>23.293950</td>\n",
              "      <td>80.914056</td>\n",
              "      <td>456.677902</td>\n",
              "      <td>1103.590327</td>\n",
              "      <td>1.0</td>\n",
              "    </tr>\n",
              "    <tr>\n",
              "      <th>2015-02-02 16:00:00</th>\n",
              "      <td>22.773142</td>\n",
              "      <td>113.657907</td>\n",
              "      <td>434.929193</td>\n",
              "      <td>980.338952</td>\n",
              "      <td>1.0</td>\n",
              "    </tr>\n",
              "    <tr>\n",
              "      <th>2015-02-02 17:00:00</th>\n",
              "      <td>22.534520</td>\n",
              "      <td>106.986065</td>\n",
              "      <td>426.717991</td>\n",
              "      <td>821.892560</td>\n",
              "      <td>1.0</td>\n",
              "    </tr>\n",
              "    <tr>\n",
              "      <th>2015-02-02 18:00:00</th>\n",
              "      <td>21.993372</td>\n",
              "      <td>99.873477</td>\n",
              "      <td>32.984167</td>\n",
              "      <td>719.712031</td>\n",
              "      <td>0.0</td>\n",
              "    </tr>\n",
              "    <tr>\n",
              "      <th>2015-02-02 19:00:00</th>\n",
              "      <td>21.276331</td>\n",
              "      <td>98.368227</td>\n",
              "      <td>0.000000</td>\n",
              "      <td>585.110384</td>\n",
              "      <td>0.0</td>\n",
              "    </tr>\n",
              "  </tbody>\n",
              "</table>\n",
              "</div>\n",
              "      <button class=\"colab-df-convert\" onclick=\"convertToInteractive('df-176160c4-7a2b-441a-8762-c853ccdf192b')\"\n",
              "              title=\"Convert this dataframe to an interactive table.\"\n",
              "              style=\"display:none;\">\n",
              "        \n",
              "  <svg xmlns=\"http://www.w3.org/2000/svg\" height=\"24px\"viewBox=\"0 0 24 24\"\n",
              "       width=\"24px\">\n",
              "    <path d=\"M0 0h24v24H0V0z\" fill=\"none\"/>\n",
              "    <path d=\"M18.56 5.44l.94 2.06.94-2.06 2.06-.94-2.06-.94-.94-2.06-.94 2.06-2.06.94zm-11 1L8.5 8.5l.94-2.06 2.06-.94-2.06-.94L8.5 2.5l-.94 2.06-2.06.94zm10 10l.94 2.06.94-2.06 2.06-.94-2.06-.94-.94-2.06-.94 2.06-2.06.94z\"/><path d=\"M17.41 7.96l-1.37-1.37c-.4-.4-.92-.59-1.43-.59-.52 0-1.04.2-1.43.59L10.3 9.45l-7.72 7.72c-.78.78-.78 2.05 0 2.83L4 21.41c.39.39.9.59 1.41.59.51 0 1.02-.2 1.41-.59l7.78-7.78 2.81-2.81c.8-.78.8-2.07 0-2.86zM5.41 20L4 18.59l7.72-7.72 1.47 1.35L5.41 20z\"/>\n",
              "  </svg>\n",
              "      </button>\n",
              "      \n",
              "  <style>\n",
              "    .colab-df-container {\n",
              "      display:flex;\n",
              "      flex-wrap:wrap;\n",
              "      gap: 12px;\n",
              "    }\n",
              "\n",
              "    .colab-df-convert {\n",
              "      background-color: #E8F0FE;\n",
              "      border: none;\n",
              "      border-radius: 50%;\n",
              "      cursor: pointer;\n",
              "      display: none;\n",
              "      fill: #1967D2;\n",
              "      height: 32px;\n",
              "      padding: 0 0 0 0;\n",
              "      width: 32px;\n",
              "    }\n",
              "\n",
              "    .colab-df-convert:hover {\n",
              "      background-color: #E2EBFA;\n",
              "      box-shadow: 0px 1px 2px rgba(60, 64, 67, 0.3), 0px 1px 3px 1px rgba(60, 64, 67, 0.15);\n",
              "      fill: #174EA6;\n",
              "    }\n",
              "\n",
              "    [theme=dark] .colab-df-convert {\n",
              "      background-color: #3B4455;\n",
              "      fill: #D2E3FC;\n",
              "    }\n",
              "\n",
              "    [theme=dark] .colab-df-convert:hover {\n",
              "      background-color: #434B5C;\n",
              "      box-shadow: 0px 1px 3px 1px rgba(0, 0, 0, 0.15);\n",
              "      filter: drop-shadow(0px 1px 2px rgba(0, 0, 0, 0.3));\n",
              "      fill: #FFFFFF;\n",
              "    }\n",
              "  </style>\n",
              "\n",
              "      <script>\n",
              "        const buttonEl =\n",
              "          document.querySelector('#df-176160c4-7a2b-441a-8762-c853ccdf192b button.colab-df-convert');\n",
              "        buttonEl.style.display =\n",
              "          google.colab.kernel.accessAllowed ? 'block' : 'none';\n",
              "\n",
              "        async function convertToInteractive(key) {\n",
              "          const element = document.querySelector('#df-176160c4-7a2b-441a-8762-c853ccdf192b');\n",
              "          const dataTable =\n",
              "            await google.colab.kernel.invokeFunction('convertToInteractive',\n",
              "                                                     [key], {});\n",
              "          if (!dataTable) return;\n",
              "\n",
              "          const docLinkHtml = 'Like what you see? Visit the ' +\n",
              "            '<a target=\"_blank\" href=https://colab.research.google.com/notebooks/data_table.ipynb>data table notebook</a>'\n",
              "            + ' to learn more about interactive tables.';\n",
              "          element.innerHTML = '';\n",
              "          dataTable['output_type'] = 'display_data';\n",
              "          await google.colab.output.renderOutput(dataTable, element);\n",
              "          const docLink = document.createElement('div');\n",
              "          docLink.innerHTML = docLinkHtml;\n",
              "          element.appendChild(docLink);\n",
              "        }\n",
              "      </script>\n",
              "    </div>\n",
              "  </div>\n",
              "  "
            ]
          },
          "metadata": {},
          "execution_count": 39
        }
      ]
    },
    {
      "cell_type": "code",
      "metadata": {
        "colab": {
          "base_uri": "https://localhost:8080/"
        },
        "id": "iwufel7hIVWw",
        "outputId": "994e9b5e-cdf6-4d16-da6c-564066d58463"
      },
      "source": [
        "# Ausgabe der Anzahl NaN in den jeweiligen Spalten\n",
        "\n",
        "data.isna().sum()"
      ],
      "execution_count": null,
      "outputs": [
        {
          "output_type": "execute_result",
          "data": {
            "text/plain": [
              "Temperature    0\n",
              "Energy         0\n",
              "Light          0\n",
              "CO2            0\n",
              "Occupancy      0\n",
              "dtype: int64"
            ]
          },
          "metadata": {},
          "execution_count": 41
        }
      ]
    },
    {
      "cell_type": "code",
      "metadata": {
        "id": "yJdvLn6bIVWw"
      },
      "source": [
        ""
      ],
      "execution_count": null,
      "outputs": []
    }
  ]
}